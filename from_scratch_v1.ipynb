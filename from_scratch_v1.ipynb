{
  "nbformat": 4,
  "nbformat_minor": 0,
  "metadata": {
    "colab": {
      "name": "from_scratch_v1.ipynb",
      "provenance": [],
      "collapsed_sections": [],
      "machine_shape": "hm",
      "include_colab_link": true
    },
    "kernelspec": {
      "name": "python3",
      "display_name": "Python 3"
    },
    "accelerator": "TPU"
  },
  "cells": [
    {
      "cell_type": "markdown",
      "metadata": {
        "id": "view-in-github",
        "colab_type": "text"
      },
      "source": [
        "<a href=\"https://colab.research.google.com/github/beifa/kaggle_ashrae/blob/master/from_scratch_v1.ipynb\" target=\"_parent\"><img src=\"https://colab.research.google.com/assets/colab-badge.svg\" alt=\"Open In Colab\"/></a>"
      ]
    },
    {
      "cell_type": "code",
      "metadata": {
        "id": "-IaYiXYLaAlA",
        "colab_type": "code",
        "colab": {}
      },
      "source": [
        "import gc\n",
        "import os\n",
        "import warnings\n",
        "import numpy as np\n",
        "import pandas as pd\n",
        "from tqdm import tqdm\n",
        "import seaborn as sns \n",
        "from lightgbm import LGBMRegressor\n",
        "from sklearn.base import BaseEstimator, RegressorMixin, clone\n",
        "from sklearn.metrics import mean_squared_log_error\n",
        "from IPython.display import HTML\n",
        "import matplotlib.pyplot as plt\n",
        "\n",
        "pd.set_option(\"max_columns\", 500)\n",
        "path = '/content/drive/My Drive/ASHRAE/data/'"
      ],
      "execution_count": 0,
      "outputs": []
    },
    {
      "cell_type": "markdown",
      "metadata": {
        "id": "iOKPNxfRCPaW",
        "colab_type": "text"
      },
      "source": [
        "#Data load"
      ]
    },
    {
      "cell_type": "code",
      "metadata": {
        "id": "l4L5EaUtZXk_",
        "colab_type": "code",
        "outputId": "6d7a93be-c4f8-4b9c-9446-3644aa6856b0",
        "colab": {
          "base_uri": "https://localhost:8080/",
          "height": 34
        }
      },
      "source": [
        "from google.colab import drive\n",
        "drive.mount('/content/drive')"
      ],
      "execution_count": 0,
      "outputs": [
        {
          "output_type": "stream",
          "text": [
            "Drive already mounted at /content/drive; to attempt to forcibly remount, call drive.mount(\"/content/drive\", force_remount=True).\n"
          ],
          "name": "stdout"
        }
      ]
    },
    {
      "cell_type": "code",
      "metadata": {
        "id": "Gp4tH-1fXrPE",
        "colab_type": "code",
        "colab": {}
      },
      "source": [
        "def input_file(file):\n",
        "    path = f\"/content/drive/My Drive/ASHRAE/data/{file}\"\n",
        "    if not os.path.exists(path): return path + \".gz\"\n",
        "    return path"
      ],
      "execution_count": 0,
      "outputs": []
    },
    {
      "cell_type": "code",
      "metadata": {
        "id": "W47VyUfHYI7M",
        "colab_type": "code",
        "outputId": "1edc16dc-3ded-42b4-e640-0ca30c9959f2",
        "colab": {
          "base_uri": "https://localhost:8080/",
          "height": 67
        }
      },
      "source": [
        "!ls '/content/drive/My Drive/ASHRAE/data/'"
      ],
      "execution_count": 0,
      "outputs": [
        {
          "output_type": "stream",
          "text": [
            "building_metadata.csv\t   sample_submission.csv  train_full_fill.pkl.gz\n",
            "data_test_before_fake.pkl  test.csv\t\t  weather_test.csv\n",
            "metadata_fillNAN.pkl.gz    train.csv\t\t  weather_train.csv\n"
          ],
          "name": "stdout"
        }
      ]
    },
    {
      "cell_type": "code",
      "metadata": {
        "id": "f6dJNPFsYOjf",
        "colab_type": "code",
        "colab": {}
      },
      "source": [
        "def compress_dataframe(df):\n",
        "  \"\"\"\n",
        "  не знаю надо будет попробывать, что такой подход проще чем указывать\n",
        "  и проверять данные для уменьшения размера(по памяти).\n",
        "  А тут пандас само это делает downcast: {\"целое число\", \"подписано\", \"без знака\", \"плавать\"}, начинает с мин и тд.\n",
        "  \n",
        "  train - mem used - 616 after compres -173\n",
        "  \"\"\"\n",
        "  result = df.copy()\n",
        "  for col in result.columns:\n",
        "    col_data = result[col]\n",
        "    dn = col_data.dtype.name    \n",
        "    if dn == \"object\":\n",
        "      \"\"\"\n",
        "      make category and return cat int      \n",
        "      \"\"\"\n",
        "      result[col] = pd.to_numeric(col_data.astype(\"category\").cat.codes, downcast=\"integer\")\n",
        "    elif dn == \"bool\":\n",
        "      result[col] = col_data.astype(\"int8\")\n",
        "    elif dn.startswith(\"int\") or (col_data.round() == col_data).all():\n",
        "      result[col] = pd.to_numeric(col_data, downcast=\"integer\")\n",
        "    else:\n",
        "      result[col] = pd.to_numeric(col_data, downcast='float')\n",
        "  return result"
      ],
      "execution_count": 0,
      "outputs": []
    },
    {
      "cell_type": "markdown",
      "metadata": {
        "id": "_kPEZR1HCLqO",
        "colab_type": "text"
      },
      "source": [
        "#Weather"
      ]
    },
    {
      "cell_type": "code",
      "metadata": {
        "id": "F7ERVNRaYfSU",
        "colab_type": "code",
        "colab": {}
      },
      "source": [
        "def fill_by_each_id(df):\n",
        "  \"\"\"\n",
        "  идею подглядел, можно время преобразовать в часы и сделать после смещение для выравнивания по зонам\n",
        "  но можно сделать и иначе просто сделать из времени категории(на выходе одно и тоже)\n",
        "  \"\"\"\n",
        "  offsets = [-5, 0, -7, -5, -8, 0, -5, -5, -5, -6, -7, -5, 0, -6, -5, -5]#на сколько время отклоняется для каждого сайта  \n",
        "  df.timestamp = df.timestamp.astype(\"datetime64[ns]\")\n",
        "  df.timestamp = (df.timestamp- pd.to_datetime('2016-01-01')).dt.total_seconds() // 3600\n",
        "  dict_offset = {site:offset for site, offset in enumerate(offsets)} #{0: -5, 1: 0,...}\n",
        "  df.timestamp = df.timestamp - df.site_id.map(dict_offset)\n",
        "  box = []\n",
        "  for iid in df.site_id.unique():\n",
        "    \"\"\"\n",
        "    макс 8784 нужно сделать для всех одинаково если не использовать реиндекс значения будут разные а нам нужно чтоб было одинаково\n",
        "    после этого у нас появляется  пропущенные значения site_id мы можем сразу заполнить\n",
        "    \"\"\"\n",
        "    site = df[df.site_id == iid].set_index(['timestamp']).reindex(range(8784))\n",
        "    site.site_id = iid #fill site id\n",
        "    for col in [c for c in site.columns if c  != 'site_id']: # all col without site_id\n",
        "      site[f'mark_not_fill_{col}'] = ~site[col].isna() # return not na\n",
        "      site[col] = site[col].interpolate(limit_direction='both', method='linear')\n",
        "      site[col] = site[col].fillna(df[col].median())\n",
        "    box.append(site)# after we concat site_id : 0, 1, 15 \n",
        "  df = pd.concat(box).reset_index()\n",
        "  return compress_dataframe(df).set_index([\"site_id\", \"timestamp\"])"
      ],
      "execution_count": 0,
      "outputs": []
    },
    {
      "cell_type": "code",
      "metadata": {
        "id": "aHg9xJkSGAsy",
        "colab_type": "code",
        "outputId": "8f8a93da-04d1-4220-8311-5a1fed2c8f67",
        "colab": {
          "base_uri": "https://localhost:8080/",
          "height": 269
        }
      },
      "source": [
        "weather_test.isnull().sum()"
      ],
      "execution_count": 0,
      "outputs": [
        {
          "output_type": "execute_result",
          "data": {
            "text/plain": [
              "air_temperature                     0\n",
              "cloud_coverage                      0\n",
              "dew_temperature                     0\n",
              "precip_depth_1_hr                   0\n",
              "sea_level_pressure                  0\n",
              "wind_direction                      0\n",
              "wind_speed                          0\n",
              "mark_not_fill_air_temperature       0\n",
              "mark_not_fill_cloud_coverage        0\n",
              "mark_not_fill_dew_temperature       0\n",
              "mark_not_fill_precip_depth_1_hr     0\n",
              "mark_not_fill_sea_level_pressure    0\n",
              "mark_not_fill_wind_direction        0\n",
              "mark_not_fill_wind_speed            0\n",
              "dtype: int64"
            ]
          },
          "metadata": {
            "tags": []
          },
          "execution_count": 94
        }
      ]
    },
    {
      "cell_type": "code",
      "metadata": {
        "id": "sAtbbNZY6468",
        "colab_type": "code",
        "colab": {}
      },
      "source": [
        "def fill_by_each_id_test(df):\n",
        "  \"\"\"\n",
        "  df = weather\n",
        "\n",
        "  df == 1 year train but test split for bool by two years\n",
        "\n",
        "  year = '2016-01-01'(train), count = 8784\n",
        "  year = '2017-01-01'(test), count = 8599\n",
        "  year = '2018-01-01'(test), count = 3079 not all year\n",
        "  ======================ps\n",
        "  карочь не хватает памяти дропается, + много дубликатов но и вот дропнуть их не могу по памяти не получается такой подход и вот\n",
        "  темным вечерком пришла мысля такая timestamp - 2016 на тесте начинается с 8789 и кончается 26308 и вот оно решение\n",
        "  ======================\n",
        "\n",
        "  идею подглядел, можно время преобразовать в часы и сделать после смещение для выравнивания по зонам\n",
        "  но можно сделать и иначе просто сделать из времени категории(на выходе одно и тоже)\n",
        "  \"\"\"\n",
        "  offsets = [-5, 0, -7, -5, -8, 0, -5, -5, -5, -6, -7, -5, 0, -6, -5, -5]#на сколько время отклоняется для каждого сайта  \n",
        "  df.timestamp = df.timestamp.astype(\"datetime64[ns]\")\n",
        "  df.timestamp = (df.timestamp- pd.to_datetime('2016-01-01')).dt.total_seconds() // 3600\n",
        "  dict_offset = {site:offset for site, offset in enumerate(offsets)} #{0: -5, 1: 0,...}\n",
        "  df.timestamp = df.timestamp - df.site_id.map(dict_offset)\n",
        "  #return df \n",
        "  box = []\n",
        "  for iid in df.site_id.unique():\n",
        "    site = df[df.site_id == iid].set_index(['timestamp']).reindex(range(8789, 26308))\n",
        "    site.site_id = iid #fill site id\n",
        "    for col in [c for c in site.columns if c  != 'site_id']: # all col without site_id\n",
        "      site[f'mark_not_fill_{col}'] = ~site[col].isna() # return not na\n",
        "      site[col] = site[col].interpolate(limit_direction='both', method='linear')\n",
        "      site[col] = site[col].fillna(df[col].median())\n",
        "    box.append(site)# after we concat site_id : 0, 1, 15 \n",
        "  df = pd.concat(box).reset_index()\n",
        "  return compress_dataframe(df).set_index([\"site_id\", \"timestamp\"])"
      ],
      "execution_count": 0,
      "outputs": []
    },
    {
      "cell_type": "markdown",
      "metadata": {
        "id": "29udemXtCIim",
        "colab_type": "text"
      },
      "source": [
        "#Bad data\n",
        "\n",
        "Read as {0: electricity, 1: chilledwater, 2: steam, 3: hotwater}. Not every building has all meter types."
      ]
    },
    {
      "cell_type": "code",
      "metadata": {
        "id": "GOCawvMsBnLS",
        "colab_type": "code",
        "colab": {}
      },
      "source": [
        "def drop_0(df):\n",
        "  \"\"\"идея тут проста электричество не может быть 0, для комерческих построек\n",
        "   там полюбому доже если никто не работает или ночь или хз что тратится энергия,\n",
        "   от общего числа данных эти значения составляют 0,02%.\n",
        "   Альтернатива добавить сюда другие счетчики дабы исключить все\"\"\"\n",
        "  df = df.reindex(df[(df.meter_reading > 0) & (df.meter >= 0)].index) #0.9073027933181969 \n",
        "  return  df\n",
        "\n",
        "#train = compress_dataframe(pd.read_csv(input_file('train.csv')))\n",
        "#а надо ди дропав тесте вот плин\n",
        "#train_new = drop_0(train)"
      ],
      "execution_count": 0,
      "outputs": []
    },
    {
      "cell_type": "code",
      "metadata": {
        "id": "wMyxJE43I9rU",
        "colab_type": "code",
        "outputId": "3845d6fd-210c-434e-c348-520fc67bb3f0",
        "colab": {
          "base_uri": "https://localhost:8080/",
          "height": 101
        }
      },
      "source": [
        "mask = train_new.meter == 1\n",
        "train_new.loc[mask,'meter_reading'].quantile([.1, .3, .7, .9])"
      ],
      "execution_count": 0,
      "outputs": [
        {
          "output_type": "execute_result",
          "data": {
            "text/plain": [
              "0.1       0.000000\n",
              "0.3      23.949699\n",
              "0.7     359.351990\n",
              "0.9    1277.459961\n",
              "Name: meter_reading, dtype: float64"
            ]
          },
          "metadata": {
            "tags": []
          },
          "execution_count": 11
        }
      ]
    },
    {
      "cell_type": "code",
      "metadata": {
        "id": "OL6rqHbFVaaF",
        "colab_type": "code",
        "outputId": "d142bed1-2190-4e43-8396-79553788fcd8",
        "colab": {
          "base_uri": "https://localhost:8080/",
          "height": 331
        }
      },
      "source": [
        "plt.figure(figsize=(20, 5))\n",
        "for n in range(4):\n",
        "  num = n+1\n",
        "  plt.subplot(140 + num)\n",
        "  mask = train_new.meter == (num -1)\n",
        "  plt.scatter(x = train_new.loc[mask, 'building_id'], y = train_new.loc[mask, 'meter_reading'])"
      ],
      "execution_count": 0,
      "outputs": [
        {
          "output_type": "display_data",
          "data": {
            "image/png": "[encoded data removed]",
            "text/plain": [
              "<Figure size 1440x360 with 4 Axes>"
            ]
          },
          "metadata": {
            "tags": []
          }
        }
      ]
    },
    {
      "cell_type": "code",
      "metadata": {
        "id": "urKv9sXZlxbq",
        "colab_type": "code",
        "outputId": "3782d97c-cd2b-4313-fb99-9d1ec365ad14",
        "colab": {
          "base_uri": "https://localhost:8080/",
          "height": 320
        }
      },
      "source": [
        "plt.figure(figsize=(20, 5))\n",
        "for n in range(4):\n",
        "  num = n+1\n",
        "  plt.subplot(140 + num)\n",
        "  mask = train_new.meter == (num -1)\n",
        "  y = np.log1p(train_new.loc[mask, 'meter_reading'].values)\n",
        "  plt.scatter(x = train_new.loc[mask, 'building_id'], y = y)"
      ],
      "execution_count": 0,
      "outputs": [
        {
          "output_type": "display_data",
          "data": {
            "image/png": "[encoded data removed]",
            "text/plain": [
              "<Figure size 1440x360 with 4 Axes>"
            ]
          },
          "metadata": {
            "tags": []
          }
        }
      ]
    },
    {
      "cell_type": "code",
      "metadata": {
        "id": "d68_MzwEeKOZ",
        "colab_type": "code",
        "colab": {}
      },
      "source": [
        "idx = train_new.loc[mask,'meter_reading'][(train_new.loc[mask,'meter_reading'] > 1300)].index"
      ],
      "execution_count": 0,
      "outputs": []
    },
    {
      "cell_type": "code",
      "metadata": {
        "id": "pKKStIcHxfOB",
        "colab_type": "code",
        "outputId": "06dd40b9-824b-4894-c3c2-1fd3d0612701",
        "colab": {
          "base_uri": "https://localhost:8080/",
          "height": 297
        }
      },
      "source": [
        "sns.distplot(train_new[(train_new.building_id > 500) & (train_new.building_id < 1200)].building_id)"
      ],
      "execution_count": 0,
      "outputs": [
        {
          "output_type": "execute_result",
          "data": {
            "text/plain": [
              "<matplotlib.axes._subplots.AxesSubplot at 0x7fea7340e358>"
            ]
          },
          "metadata": {
            "tags": []
          },
          "execution_count": 155
        },
        {
          "output_type": "display_data",
          "data": {
            "image/png": "[encoded data removed]",
            "text/plain": [
              "<Figure size 432x288 with 1 Axes>"
            ]
          },
          "metadata": {
            "tags": []
          }
        }
      ]
    },
    {
      "cell_type": "code",
      "metadata": {
        "id": "rueMTpya4zoz",
        "colab_type": "code",
        "outputId": "2d6ff99c-25f8-4bec-c13e-0d42fd515188",
        "colab": {
          "base_uri": "https://localhost:8080/",
          "height": 297
        }
      },
      "source": [
        "sns.distplot(np.log1p(train_new.meter_reading))"
      ],
      "execution_count": 0,
      "outputs": [
        {
          "output_type": "execute_result",
          "data": {
            "text/plain": [
              "<matplotlib.axes._subplots.AxesSubplot at 0x7fc580cbc160>"
            ]
          },
          "metadata": {
            "tags": []
          },
          "execution_count": 27
        },
        {
          "output_type": "display_data",
          "data": {
            "image/png": "[encoded data removed]",
            "text/plain": [
              "<Figure size 432x288 with 1 Axes>"
            ]
          },
          "metadata": {
            "tags": []
          }
        }
      ]
    },
    {
      "cell_type": "code",
      "metadata": {
        "id": "1VfDDyUD43CC",
        "colab_type": "code",
        "outputId": "b938215d-a79d-4f97-dc94-1489ef94fcc2",
        "colab": {
          "base_uri": "https://localhost:8080/",
          "height": 34
        }
      },
      "source": [
        "np.log1p(train_new.meter_reading).skew(), np.log1p(train_new.meter_reading).kurt()"
      ],
      "execution_count": 0,
      "outputs": [
        {
          "output_type": "execute_result",
          "data": {
            "text/plain": [
              "(-0.26242822, 0.03970269)"
            ]
          },
          "metadata": {
            "tags": []
          },
          "execution_count": 31
        }
      ]
    },
    {
      "cell_type": "code",
      "metadata": {
        "id": "SciT7Z3EB7tB",
        "colab_type": "code",
        "outputId": "2c5a5611-23e4-4618-bd28-a4f3f6cddda6",
        "colab": {
          "base_uri": "https://localhost:8080/",
          "height": 775
        }
      },
      "source": [
        "#sns.pairplot(train_new, size = 2.5)"
      ],
      "execution_count": 0,
      "outputs": [
        {
          "output_type": "stream",
          "text": [
            "/usr/local/lib/python3.6/dist-packages/seaborn/axisgrid.py:2065: UserWarning: The `size` parameter has been renamed to `height`; pleaes update your code.\n",
            "  warnings.warn(msg, UserWarning)\n"
          ],
          "name": "stderr"
        },
        {
          "output_type": "execute_result",
          "data": {
            "text/plain": [
              "<seaborn.axisgrid.PairGrid at 0x7fc5857330b8>"
            ]
          },
          "metadata": {
            "tags": []
          },
          "execution_count": 33
        },
        {
          "output_type": "display_data",
          "data": {
            "image/png": "[encoded data removed]",
            "text/plain": [
              "<Figure size 720x720 with 20 Axes>"
            ]
          },
          "metadata": {
            "tags": []
          }
        }
      ]
    },
    {
      "cell_type": "code",
      "metadata": {
        "id": "T7RxCl4WbrDh",
        "colab_type": "code",
        "colab": {}
      },
      "source": [
        "def rand_sample(df, f = 0.25):\n",
        "  #вернет выборку рандомную, f - коеф. размера выборки\n",
        "  np.random.seed(0)\n",
        "  sample_idx = np.random.choice(df.index, int(df.index.shape[0] * f))\n",
        "  sample = df.loc[sample_idx]\n",
        "  return sample"
      ],
      "execution_count": 0,
      "outputs": []
    },
    {
      "cell_type": "code",
      "metadata": {
        "id": "IULELl1oaqt5",
        "colab_type": "code",
        "outputId": "ac76bc0d-01f7-474f-9df7-654347b36c37",
        "colab": {
          "base_uri": "https://localhost:8080/",
          "height": 402
        }
      },
      "source": [
        "new"
      ],
      "execution_count": 0,
      "outputs": [
        {
          "output_type": "execute_result",
          "data": {
            "text/html": [
              "<div>\n",
              "<style scoped>\n",
              "    .dataframe tbody tr th:only-of-type {\n",
              "        vertical-align: middle;\n",
              "    }\n",
              "\n",
              "    .dataframe tbody tr th {\n",
              "        vertical-align: top;\n",
              "    }\n",
              "\n",
              "    .dataframe thead th {\n",
              "        text-align: right;\n",
              "    }\n",
              "</style>\n",
              "<table border=\"1\" class=\"dataframe\">\n",
              "  <thead>\n",
              "    <tr style=\"text-align: right;\">\n",
              "      <th></th>\n",
              "      <th>building_id</th>\n",
              "      <th>meter</th>\n",
              "      <th>timestamp</th>\n",
              "      <th>meter_reading</th>\n",
              "      <th>target</th>\n",
              "    </tr>\n",
              "  </thead>\n",
              "  <tbody>\n",
              "    <tr>\n",
              "      <th>45</th>\n",
              "      <td>46</td>\n",
              "      <td>0</td>\n",
              "      <td>0</td>\n",
              "      <td>3.993413</td>\n",
              "      <td>53.239700</td>\n",
              "    </tr>\n",
              "    <tr>\n",
              "      <th>72</th>\n",
              "      <td>74</td>\n",
              "      <td>0</td>\n",
              "      <td>0</td>\n",
              "      <td>3.784219</td>\n",
              "      <td>43.001301</td>\n",
              "    </tr>\n",
              "    <tr>\n",
              "      <th>91</th>\n",
              "      <td>93</td>\n",
              "      <td>0</td>\n",
              "      <td>0</td>\n",
              "      <td>3.978196</td>\n",
              "      <td>52.420601</td>\n",
              "    </tr>\n",
              "    <tr>\n",
              "      <th>103</th>\n",
              "      <td>105</td>\n",
              "      <td>0</td>\n",
              "      <td>0</td>\n",
              "      <td>3.190624</td>\n",
              "      <td>23.303600</td>\n",
              "    </tr>\n",
              "    <tr>\n",
              "      <th>104</th>\n",
              "      <td>106</td>\n",
              "      <td>0</td>\n",
              "      <td>0</td>\n",
              "      <td>0.318163</td>\n",
              "      <td>0.374600</td>\n",
              "    </tr>\n",
              "    <tr>\n",
              "      <th>...</th>\n",
              "      <td>...</td>\n",
              "      <td>...</td>\n",
              "      <td>...</td>\n",
              "      <td>...</td>\n",
              "      <td>...</td>\n",
              "    </tr>\n",
              "    <tr>\n",
              "      <th>20216094</th>\n",
              "      <td>1443</td>\n",
              "      <td>0</td>\n",
              "      <td>8783</td>\n",
              "      <td>4.188897</td>\n",
              "      <td>64.949997</td>\n",
              "    </tr>\n",
              "    <tr>\n",
              "      <th>20216095</th>\n",
              "      <td>1444</td>\n",
              "      <td>0</td>\n",
              "      <td>8783</td>\n",
              "      <td>2.277267</td>\n",
              "      <td>8.750000</td>\n",
              "    </tr>\n",
              "    <tr>\n",
              "      <th>20216096</th>\n",
              "      <td>1445</td>\n",
              "      <td>0</td>\n",
              "      <td>8783</td>\n",
              "      <td>1.762159</td>\n",
              "      <td>4.825000</td>\n",
              "    </tr>\n",
              "    <tr>\n",
              "      <th>20216098</th>\n",
              "      <td>1447</td>\n",
              "      <td>0</td>\n",
              "      <td>8783</td>\n",
              "      <td>5.078761</td>\n",
              "      <td>159.574997</td>\n",
              "    </tr>\n",
              "    <tr>\n",
              "      <th>20216099</th>\n",
              "      <td>1448</td>\n",
              "      <td>0</td>\n",
              "      <td>8783</td>\n",
              "      <td>1.348073</td>\n",
              "      <td>2.850000</td>\n",
              "    </tr>\n",
              "  </tbody>\n",
              "</table>\n",
              "<p>18342124 rows × 5 columns</p>\n",
              "</div>"
            ],
            "text/plain": [
              "          building_id  meter  timestamp  meter_reading      target\n",
              "45                 46      0          0       3.993413   53.239700\n",
              "72                 74      0          0       3.784219   43.001301\n",
              "91                 93      0          0       3.978196   52.420601\n",
              "103               105      0          0       3.190624   23.303600\n",
              "104               106      0          0       0.318163    0.374600\n",
              "...               ...    ...        ...            ...         ...\n",
              "20216094         1443      0       8783       4.188897   64.949997\n",
              "20216095         1444      0       8783       2.277267    8.750000\n",
              "20216096         1445      0       8783       1.762159    4.825000\n",
              "20216098         1447      0       8783       5.078761  159.574997\n",
              "20216099         1448      0       8783       1.348073    2.850000\n",
              "\n",
              "[18342124 rows x 5 columns]"
            ]
          },
          "metadata": {
            "tags": []
          },
          "execution_count": 135
        }
      ]
    },
    {
      "cell_type": "code",
      "metadata": {
        "id": "Ap62jNPESL2q",
        "colab_type": "code",
        "colab": {}
      },
      "source": [
        "def add_divide_by10(data, div_log = True, boxcox = False):\n",
        "  #есть выброрсы как мы знаем, поробуем y / 10 if > mean\n",
        "  #на графика есть улучьшение\n",
        "  #но после лог еще лучше, нужно проверять\n",
        "  df = data.copy()\n",
        "  df['target'] = df.meter_reading\n",
        "  for m in range(4):\n",
        "    temp = df[df.meter == m]\n",
        "    mask = temp.meter_reading > temp.meter_reading.mean()      \n",
        "    df.loc[mask.index].meter_reading[mask] = temp.loc[mask, 'meter_reading'] / 10\n",
        "    df.loc[mask.index].meter_reading[~mask] = temp.loc[~mask, 'meter_reading']\n",
        "\n",
        "  if div_log:\n",
        "    print('log')\n",
        "    df['meter_reading'] = np.log1p(df['meter_reading'])\n",
        "    \n",
        "  if boxcox:\n",
        "    print('boxcox')\n",
        "    df['meter_reading'] = boxcox1p(df['meter_reading'], 0.05)    \n",
        "\n",
        "  #make return X, y\n",
        "  # X = df.drop('meter_reading', axis = 'columns')\n",
        "  # y = df['meter_reading']\n",
        "\n",
        "  return df "
      ],
      "execution_count": 0,
      "outputs": []
    },
    {
      "cell_type": "code",
      "metadata": {
        "id": "eXyHd6VoW-Lw",
        "colab_type": "code",
        "colab": {}
      },
      "source": [
        "new = add_divide_by10(train_new, div_log = False)"
      ],
      "execution_count": 0,
      "outputs": []
    },
    {
      "cell_type": "code",
      "metadata": {
        "id": "7Jr3HWF_Xp0e",
        "colab_type": "code",
        "outputId": "7e4a89b8-bfb8-43bb-ec3a-9468fe8e994a",
        "colab": {
          "base_uri": "https://localhost:8080/",
          "height": 118
        }
      },
      "source": [
        "new.isnull().sum()"
      ],
      "execution_count": 0,
      "outputs": [
        {
          "output_type": "execute_result",
          "data": {
            "text/plain": [
              "building_id      0\n",
              "meter            0\n",
              "timestamp        0\n",
              "meter_reading    0\n",
              "target           0\n",
              "dtype: int64"
            ]
          },
          "metadata": {
            "tags": []
          },
          "execution_count": 47
        }
      ]
    },
    {
      "cell_type": "code",
      "metadata": {
        "id": "EmSF3SaLXptG",
        "colab_type": "code",
        "outputId": "2733fc33-9faf-4b10-e9f3-2b6787461f64",
        "colab": {
          "base_uri": "https://localhost:8080/",
          "height": 300
        }
      },
      "source": [
        "sample = rand_sample(new, f = 0.25)\n",
        "sns.boxplot(sample['meter'], sample['meter_reading'])\n",
        "plt.ylim(0, 2000)"
      ],
      "execution_count": 0,
      "outputs": [
        {
          "output_type": "execute_result",
          "data": {
            "text/plain": [
              "(0, 2000)"
            ]
          },
          "metadata": {
            "tags": []
          },
          "execution_count": 49
        },
        {
          "output_type": "display_data",
          "data": {
            "image/png": "[encoded data removed]",
            "text/plain": [
              "<Figure size 432x288 with 1 Axes>"
            ]
          },
          "metadata": {
            "tags": []
          }
        }
      ]
    },
    {
      "cell_type": "code",
      "metadata": {
        "id": "S9A87TpwxD5Z",
        "colab_type": "code",
        "outputId": "5615e9f5-6841-46c4-9c1e-4b5ee1f7a7f7",
        "colab": {
          "base_uri": "https://localhost:8080/",
          "height": 297
        }
      },
      "source": [
        "sns.distplot(sample[sample.meter == 0].meter_reading)"
      ],
      "execution_count": 0,
      "outputs": [
        {
          "output_type": "execute_result",
          "data": {
            "text/plain": [
              "<matplotlib.axes._subplots.AxesSubplot at 0x7f7cd2d10c88>"
            ]
          },
          "metadata": {
            "tags": []
          },
          "execution_count": 134
        },
        {
          "output_type": "display_data",
          "data": {
            "image/png": "[encoded data removed]",
            "text/plain": [
              "<Figure size 432x288 with 1 Axes>"
            ]
          },
          "metadata": {
            "tags": []
          }
        }
      ]
    },
    {
      "cell_type": "code",
      "metadata": {
        "id": "Rp9ix1jGgw-1",
        "colab_type": "code",
        "colab": {}
      },
      "source": [
        ""
      ],
      "execution_count": 0,
      "outputs": []
    },
    {
      "cell_type": "code",
      "metadata": {
        "id": "IBPmE8cPxD05",
        "colab_type": "code",
        "outputId": "41458fe1-36d2-484d-ae94-ef2f00e45760",
        "colab": {
          "base_uri": "https://localhost:8080/",
          "height": 296
        }
      },
      "source": [
        "sns.scatterplot(x = sample.meter, y= sample.building_id)"
      ],
      "execution_count": 0,
      "outputs": [
        {
          "output_type": "execute_result",
          "data": {
            "text/plain": [
              "<matplotlib.axes._subplots.AxesSubplot at 0x7f7cd7baa630>"
            ]
          },
          "metadata": {
            "tags": []
          },
          "execution_count": 107
        },
        {
          "output_type": "display_data",
          "data": {
            "image/png": "[encoded data removed]",
            "text/plain": [
              "<Figure size 432x288 with 1 Axes>"
            ]
          },
          "metadata": {
            "tags": []
          }
        }
      ]
    },
    {
      "cell_type": "markdown",
      "metadata": {
        "id": "C7XZBXd7J_z5",
        "colab_type": "text"
      },
      "source": [
        "Read as {0: electricity, 1: chilledwater, 2: steam, 3: hotwater}. Not every building has all meter types.\n"
      ]
    },
    {
      "cell_type": "markdown",
      "metadata": {
        "id": "FtVQhoPVl0Rn",
        "colab_type": "text"
      },
      "source": [
        "#StandardScaler"
      ]
    },
    {
      "cell_type": "code",
      "metadata": {
        "id": "xKswvtN9l6I8",
        "colab_type": "code",
        "colab": {}
      },
      "source": [
        "from sklearn.preprocessing import StandardScaler\n",
        "#meter_scaled = StandardScaler().fit_transform(train_new['meter_reading']);"
      ],
      "execution_count": 0,
      "outputs": []
    },
    {
      "cell_type": "markdown",
      "metadata": {
        "id": "xtjHBr5NpLve",
        "colab_type": "text"
      },
      "source": [
        "# Statistics"
      ]
    },
    {
      "cell_type": "code",
      "metadata": {
        "id": "gemituUypPWV",
        "colab_type": "code",
        "colab": {}
      },
      "source": [
        "from scipy import stats\n",
        "from scipy.stats import norm, skew #for some statistics\n",
        "from scipy.special import boxcox1p"
      ],
      "execution_count": 0,
      "outputs": []
    },
    {
      "cell_type": "code",
      "metadata": {
        "id": "XnsL9Z6sjPxH",
        "colab_type": "code",
        "outputId": "0cb9fdbb-f929-4ef9-af07-195ae20110fd",
        "colab": {
          "base_uri": "https://localhost:8080/",
          "height": 67
        }
      },
      "source": [
        "(mu, sigma) = norm.fit(new.meter_reading)\n",
        "print( '\\n mu = {:.2f} and sigma = {:.2f}\\n'.format(mu, sigma))"
      ],
      "execution_count": 0,
      "outputs": [
        {
          "output_type": "stream",
          "text": [
            "\n",
            " mu = 2333.42 and sigma = 160871.72\n",
            "\n"
          ],
          "name": "stdout"
        }
      ]
    },
    {
      "cell_type": "code",
      "metadata": {
        "id": "6P9-rzVQiBYF",
        "colab_type": "code",
        "outputId": "365ed4bc-7fc9-46cf-eea8-c0d499157e9c",
        "colab": {
          "base_uri": "https://localhost:8080/",
          "height": 295
        }
      },
      "source": [
        "#Get also the QQ-plot\n",
        "fig = plt.figure()\n",
        "res = stats.probplot(new.meter_reading, plot=plt)\n",
        "plt.show()"
      ],
      "execution_count": 0,
      "outputs": [
        {
          "output_type": "display_data",
          "data": {
            "image/png": "[encoded data removed]",
            "text/plain": [
              "<Figure size 432x288 with 1 Axes>"
            ]
          },
          "metadata": {
            "tags": []
          }
        }
      ]
    },
    {
      "cell_type": "code",
      "metadata": {
        "id": "0E_GeRljiBVe",
        "colab_type": "code",
        "outputId": "8521b4e0-2aff-4e96-98ec-6706df0be415",
        "colab": {
          "base_uri": "https://localhost:8080/",
          "height": 312
        }
      },
      "source": [
        "#Get also the QQ-plot\n",
        "fig = plt.figure()\n",
        "new_log = add_divide_by10(train_new, div_log = True)\n",
        "res = stats.probplot(new_log.meter_reading, plot=plt)\n",
        "plt.show()"
      ],
      "execution_count": 0,
      "outputs": [
        {
          "output_type": "stream",
          "text": [
            "log\n"
          ],
          "name": "stdout"
        },
        {
          "output_type": "display_data",
          "data": {
            "image/png": "[encoded data removed]",
            "text/plain": [
              "<Figure size 432x288 with 1 Axes>"
            ]
          },
          "metadata": {
            "tags": []
          }
        }
      ]
    },
    {
      "cell_type": "code",
      "metadata": {
        "id": "hLUtCiI-3H9V",
        "colab_type": "code",
        "outputId": "ea572b8b-695e-47f3-9867-3f096474bbab",
        "colab": {
          "base_uri": "https://localhost:8080/",
          "height": 34
        }
      },
      "source": [
        "skew(new_log.target), skew(new_log.meter_reading)"
      ],
      "execution_count": 0,
      "outputs": [
        {
          "output_type": "execute_result",
          "data": {
            "text/plain": [
              "(99.83386993408203, 0.03800378739833832)"
            ]
          },
          "metadata": {
            "tags": []
          },
          "execution_count": 31
        }
      ]
    },
    {
      "cell_type": "code",
      "metadata": {
        "id": "0bCoITdS9qLm",
        "colab_type": "code",
        "outputId": "2666b185-4c7d-432e-d912-fc440c4cac48",
        "colab": {
          "base_uri": "https://localhost:8080/",
          "height": 295
        }
      },
      "source": [
        "res = stats.probplot(boxcox1p(new.meter_reading, 0.05), plot=plt)\n",
        "plt.show()"
      ],
      "execution_count": 0,
      "outputs": [
        {
          "output_type": "display_data",
          "data": {
            "image/png": "[encoded data removed]",
            "text/plain": [
              "<Figure size 432x288 with 1 Axes>"
            ]
          },
          "metadata": {
            "tags": []
          }
        }
      ]
    },
    {
      "cell_type": "code",
      "metadata": {
        "id": "nw03We-B-iKQ",
        "colab_type": "code",
        "colab": {}
      },
      "source": [
        ""
      ],
      "execution_count": 0,
      "outputs": []
    },
    {
      "cell_type": "markdown",
      "metadata": {
        "id": "IwdcbKlY-i4x",
        "colab_type": "text"
      },
      "source": [
        "#Fill metadata"
      ]
    },
    {
      "cell_type": "code",
      "metadata": {
        "id": "H6VBJpbH-iEa",
        "colab_type": "code",
        "colab": {}
      },
      "source": [
        "metadata = pd.read_csv(input_file(\"building_metadata.csv\"))"
      ],
      "execution_count": 0,
      "outputs": []
    },
    {
      "cell_type": "code",
      "metadata": {
        "id": "NErrIPM9A4Sm",
        "colab_type": "code",
        "outputId": "0bd234d4-1e40-47f9-cb16-5c680c771287",
        "colab": {
          "base_uri": "https://localhost:8080/"
        }
      },
      "source": [
        "metadata.isnull().sum()"
      ],
      "execution_count": 0,
      "outputs": [
        {
          "output_type": "execute_result",
          "data": {
            "text/plain": [
              "site_id           0\n",
              "building_id       0\n",
              "primary_use       0\n",
              "square_feet       0\n",
              "year_built      774\n",
              "floor_count    1094\n",
              "dtype: int64"
            ]
          },
          "metadata": {
            "tags": []
          },
          "execution_count": 16
        }
      ]
    },
    {
      "cell_type": "code",
      "metadata": {
        "id": "gm_vNLmaBeFL",
        "colab_type": "code",
        "outputId": "1b3d5b56-273d-42a0-bb5c-95079b7c8f3a",
        "colab": {
          "base_uri": "https://localhost:8080/"
        }
      },
      "source": [
        "metadata.groupby(['primary_use'])['floor_count'].size()"
      ],
      "execution_count": 0,
      "outputs": [
        {
          "output_type": "execute_result",
          "data": {
            "text/plain": [
              "primary_use\n",
              "Education                        549\n",
              "Entertainment/public assembly    184\n",
              "Food sales and service             5\n",
              "Healthcare                        23\n",
              "Lodging/residential              147\n",
              "Manufacturing/industrial          12\n",
              "Office                           279\n",
              "Other                             25\n",
              "Parking                           22\n",
              "Public services                  156\n",
              "Religious worship                  3\n",
              "Retail                            11\n",
              "Services                          10\n",
              "Technology/science                 6\n",
              "Utility                            4\n",
              "Warehouse/storage                 13\n",
              "Name: floor_count, dtype: int64"
            ]
          },
          "metadata": {
            "tags": []
          },
          "execution_count": 18
        }
      ]
    },
    {
      "cell_type": "markdown",
      "metadata": {
        "id": "x2L3QwRVa8ed",
        "colab_type": "text"
      },
      "source": [
        "Food sales and service (2005 - 2012 )\n",
        "- сюда входят рестораны, ночьные клубы, фастфуд, супермаркеты и тд.\n",
        "Я думаю что в большенстве своем это одноэтажные здания и мы установим значение на 2.\n",
        "\n",
        "Religious worship (< 1980)\n",
        "\n",
        "- церкви, храмы, мечети, синагоги, дома собраний или любые другие здания, которые в основном служат местом религиозного поклонения значение 1\n",
        "\n",
        "Services (2003-2007-2012)\n",
        "- Data Center, Personal Services (Health/Beauty, Dry Cleaning, etc),\n",
        "  Repair Services (Vehicle, Shoe, Locksmith, etc) значение 1.5\n",
        "\n",
        "Радует не большое количество зданий 5, 3, 10\n"
      ]
    },
    {
      "cell_type": "code",
      "metadata": {
        "id": "EEBOy-B6uxrK",
        "colab_type": "code",
        "colab": {}
      },
      "source": [
        "m = metadata.primary_use == 'Food sales and service'\n",
        "metadata.loc[m, 'year_built'] = [2012, np.nan, 2005, np.nan, 2009]\n",
        "metadata.loc[m, 'floor_count'] = [2, np.nan, 1, np.nan, 2]\n",
        "#\n",
        "m2 =  metadata.primary_use == 'Religious worship'\n",
        "metadata.loc[m2, 'year_built'] = [1970, 1980, 1930]\n",
        "metadata.loc[m2, 'floor_count'] = [1, 2, 2]\n",
        "#\n",
        "m3 =  metadata.primary_use == 'Services'\n",
        "metadata.loc[m3, 'year_built'] = [2003, 2007, np.nan, 2005, np.nan, 2012, np.nan, np.nan, 2009, np.nan]\n",
        "metadata.loc[m3, 'floor_count'] = [3, 1, np.nan, 2, np.nan, 1, np.nan, 3, 2, np.nan]"
      ],
      "execution_count": 0,
      "outputs": []
    },
    {
      "cell_type": "code",
      "metadata": {
        "id": "hgIQ_RhgBsro",
        "colab_type": "code",
        "colab": {}
      },
      "source": [
        "metadata['year_built'] = metadata['year_built'].interpolate()\n",
        "metadata['floor_count'] = metadata['floor_count'].interpolate(method = 'pad')"
      ],
      "execution_count": 0,
      "outputs": []
    },
    {
      "cell_type": "code",
      "metadata": {
        "id": "EL1OMwkZik8E",
        "colab_type": "code",
        "colab": {}
      },
      "source": [
        "#вначале много пропусков  мином заполним\n",
        "m = metadata['floor_count'].isnull()\n",
        "metadata.loc[m, 'floor_count'] = int(metadata['floor_count'].mean() )"
      ],
      "execution_count": 0,
      "outputs": []
    },
    {
      "cell_type": "code",
      "metadata": {
        "id": "awJPubh4-TL2",
        "colab_type": "code",
        "colab": {}
      },
      "source": [
        "metadata['year_built'] = metadata['year_built'].astype('int')"
      ],
      "execution_count": 0,
      "outputs": []
    },
    {
      "cell_type": "code",
      "metadata": {
        "id": "zU7BET-J-wwU",
        "colab_type": "code",
        "colab": {}
      },
      "source": [
        "#metadata.to_pickle(path + 'metadata_fillNAN.pkl.gz')"
      ],
      "execution_count": 0,
      "outputs": []
    },
    {
      "cell_type": "code",
      "metadata": {
        "id": "sLNvAepSuxnn",
        "colab_type": "code",
        "outputId": "18e95a98-c516-432f-e14d-86339d5cf032",
        "colab": {
          "base_uri": "https://localhost:8080/"
        }
      },
      "source": [
        "metadata.isnull().sum()"
      ],
      "execution_count": 0,
      "outputs": [
        {
          "output_type": "execute_result",
          "data": {
            "text/plain": [
              "site_id        0\n",
              "building_id    0\n",
              "primary_use    0\n",
              "square_feet    0\n",
              "year_built     0\n",
              "floor_count    0\n",
              "dtype: int64"
            ]
          },
          "metadata": {
            "tags": []
          },
          "execution_count": 24
        }
      ]
    },
    {
      "cell_type": "markdown",
      "metadata": {
        "id": "cPvPGyRdB41m",
        "colab_type": "text"
      },
      "source": [
        "#? need make by primary meter\n",
        "metadata.groupby(['primary_use'])['floor_count'].size()"
      ]
    },
    {
      "cell_type": "markdown",
      "metadata": {
        "id": "jifpTxPLpSGt",
        "colab_type": "text"
      },
      "source": [
        "#Merge data"
      ]
    },
    {
      "cell_type": "code",
      "metadata": {
        "id": "NAPhQk9pErIj",
        "colab_type": "code",
        "colab": {}
      },
      "source": [
        "def read_building_metadata():\n",
        "  return compress_dataframe(pd.read_pickle(\n",
        "        input_file(\"metadata_fillNAN.pkl.gz\")).set_index(\"building_id\"))"
      ],
      "execution_count": 0,
      "outputs": []
    },
    {
      "cell_type": "code",
      "metadata": {
        "id": "f3fc_31DWwHX",
        "colab_type": "code",
        "colab": {}
      },
      "source": [
        "def read_test():\n",
        "    df = pd.read_csv(input_file(\"test.csv\"), parse_dates=[\"timestamp\"])\n",
        "    df.timestamp = (df.timestamp - pd.to_datetime(\"2016-01-01\")).dt.total_seconds() // 3600\n",
        "    return compress_dataframe(df).set_index(\"row_id\")"
      ],
      "execution_count": 0,
      "outputs": []
    },
    {
      "cell_type": "code",
      "metadata": {
        "id": "mtsepeg-Eq-c",
        "colab_type": "code",
        "colab": {}
      },
      "source": [
        "def mergeall(name, weather, train = True, save = False):  \n",
        "  weather = pd.read_csv(input_file(weather))  \n",
        "  #train --> metadata-->weather\n",
        "  if train:\n",
        "    weather = fill_by_each_id(weather)\n",
        "    data = drop_0(compress_dataframe(pd.read_csv(input_file(name))))\n",
        "  else:\n",
        "    weather = fill_by_each_id_test(weather)\n",
        "    data = read_test()\n",
        "\n",
        "  df = data.join(read_building_metadata(), on=\"building_id\") \\\n",
        "              .join(weather, on=[\"site_id\", \"timestamp\"]).fillna(-9999)#.to_pickle(path + 'data_test_before_fake.pkl')\n",
        "  print('Ends')\n",
        "  del data\n",
        "  del weather\n",
        "  gc.collect()\n",
        "\n",
        "  # print(df.info())\n",
        "  # if save:\n",
        "  #   #Save but crush memory\n",
        "  #   df.to_pickle(path + 'data_test_before_fake.pkl')\n",
        "  #   return print('Saved not return df pls load instance')\n",
        "\n",
        "  return df"
      ],
      "execution_count": 0,
      "outputs": []
    },
    {
      "cell_type": "code",
      "metadata": {
        "id": "Ev-1jL7_aQiz",
        "colab_type": "code",
        "colab": {}
      },
      "source": [
        "#тут нужен другой трайн уже скоректированный, не забыть что тест надо корректировать\n",
        "#data_train = mergeall('train.csv', 'weather_train.csv')"
      ],
      "execution_count": 0,
      "outputs": []
    },
    {
      "cell_type": "code",
      "metadata": {
        "id": "E8KFgmmtYdoO",
        "colab_type": "code",
        "outputId": "2342ff7b-e65e-4a26-d3a8-0793b485141d",
        "colab": {
          "base_uri": "https://localhost:8080/",
          "height": 420
        }
      },
      "source": [
        "data_train.isnull().sum()"
      ],
      "execution_count": 0,
      "outputs": [
        {
          "output_type": "execute_result",
          "data": {
            "text/plain": [
              "building_id                         0\n",
              "meter                               0\n",
              "timestamp                           0\n",
              "meter_reading                       0\n",
              "site_id                             0\n",
              "primary_use                         0\n",
              "square_feet                         0\n",
              "year_built                          0\n",
              "floor_count                         0\n",
              "air_temperature                     0\n",
              "cloud_coverage                      0\n",
              "dew_temperature                     0\n",
              "precip_depth_1_hr                   0\n",
              "sea_level_pressure                  0\n",
              "wind_direction                      0\n",
              "wind_speed                          0\n",
              "mark_not_fill_air_temperature       0\n",
              "mark_not_fill_cloud_coverage        0\n",
              "mark_not_fill_dew_temperature       0\n",
              "mark_not_fill_precip_depth_1_hr     0\n",
              "mark_not_fill_sea_level_pressure    0\n",
              "mark_not_fill_wind_direction        0\n",
              "mark_not_fill_wind_speed            0\n",
              "dtype: int64"
            ]
          },
          "metadata": {
            "tags": []
          },
          "execution_count": 15
        }
      ]
    },
    {
      "cell_type": "code",
      "metadata": {
        "id": "C0e61EMtwDsR",
        "colab_type": "code",
        "colab": {}
      },
      "source": [
        "#data_train.to_pickle(path + 'data_train_before_fake.pkl.gz')#1g"
      ],
      "execution_count": 0,
      "outputs": []
    },
    {
      "cell_type": "code",
      "metadata": {
        "id": "oEQwKp2_xKoM",
        "colab_type": "code",
        "outputId": "94636be8-30f8-4888-fee4-089c361b4f1d",
        "colab": {
          "base_uri": "https://localhost:8080/",
          "height": 34
        }
      },
      "source": [
        "data_test = mergeall('in metod name file', 'weather_test.csv', train=False, save = True)"
      ],
      "execution_count": 0,
      "outputs": [
        {
          "output_type": "stream",
          "text": [
            "Ends\n"
          ],
          "name": "stdout"
        }
      ]
    },
    {
      "cell_type": "code",
      "metadata": {
        "id": "shxJYU1GU8tl",
        "colab_type": "code",
        "outputId": "052dfd45-0a0a-4101-be9c-1a80e2c00a21",
        "colab": {
          "base_uri": "https://localhost:8080/",
          "height": 403
        }
      },
      "source": [
        "data_test.isnull().sum()"
      ],
      "execution_count": 0,
      "outputs": [
        {
          "output_type": "execute_result",
          "data": {
            "text/plain": [
              "building_id                         0\n",
              "meter                               0\n",
              "timestamp                           0\n",
              "site_id                             0\n",
              "primary_use                         0\n",
              "square_feet                         0\n",
              "year_built                          0\n",
              "floor_count                         0\n",
              "air_temperature                     0\n",
              "cloud_coverage                      0\n",
              "dew_temperature                     0\n",
              "precip_depth_1_hr                   0\n",
              "sea_level_pressure                  0\n",
              "wind_direction                      0\n",
              "wind_speed                          0\n",
              "mark_not_fill_air_temperature       0\n",
              "mark_not_fill_cloud_coverage        0\n",
              "mark_not_fill_dew_temperature       0\n",
              "mark_not_fill_precip_depth_1_hr     0\n",
              "mark_not_fill_sea_level_pressure    0\n",
              "mark_not_fill_wind_direction        0\n",
              "mark_not_fill_wind_speed            0\n",
              "dtype: int64"
            ]
          },
          "metadata": {
            "tags": []
          },
          "execution_count": 16
        }
      ]
    },
    {
      "cell_type": "code",
      "metadata": {
        "id": "_GDESY59WwkT",
        "colab_type": "code",
        "colab": {}
      },
      "source": [
        "#save test\n",
        "#data_test.to_pickle(path + 'data_test.pkl.gz')"
      ],
      "execution_count": 0,
      "outputs": []
    },
    {
      "cell_type": "markdown",
      "metadata": {
        "id": "xzM5k41SZ4tP",
        "colab_type": "text"
      },
      "source": [
        "Wow correct fill offeset -1"
      ]
    },
    {
      "cell_type": "code",
      "metadata": {
        "id": "59h49MYuzpqf",
        "colab_type": "code",
        "outputId": "0598ea72-0838-40ce-ae07-793006e88398",
        "colab": {
          "base_uri": "https://localhost:8080/",
          "height": 34
        }
      },
      "source": [
        "data_test.shape"
      ],
      "execution_count": 0,
      "outputs": [
        {
          "output_type": "execute_result",
          "data": {
            "text/plain": [
              "(41697600, 22)"
            ]
          },
          "metadata": {
            "tags": []
          },
          "execution_count": 16
        }
      ]
    },
    {
      "cell_type": "code",
      "metadata": {
        "id": "fgl8o-T3l029",
        "colab_type": "code",
        "outputId": "d27fafe8-25ae-4c87-ac29-2d71d65afb19",
        "colab": {
          "base_uri": "https://localhost:8080/",
          "height": 470
        }
      },
      "source": [
        "data_test.info(memory_usage=True)"
      ],
      "execution_count": 0,
      "outputs": [
        {
          "output_type": "stream",
          "text": [
            "<class 'pandas.core.frame.DataFrame'>\n",
            "Int64Index: 41697600 entries, 0 to 41697599\n",
            "Data columns (total 22 columns):\n",
            "building_id                         int16\n",
            "meter                               int8\n",
            "timestamp                           int16\n",
            "site_id                             int8\n",
            "primary_use                         int8\n",
            "square_feet                         int32\n",
            "year_built                          int16\n",
            "floor_count                         int8\n",
            "air_temperature                     float32\n",
            "cloud_coverage                      float32\n",
            "dew_temperature                     float32\n",
            "precip_depth_1_hr                   float32\n",
            "sea_level_pressure                  float32\n",
            "wind_direction                      float32\n",
            "wind_speed                          float32\n",
            "mark_not_fill_air_temperature       float64\n",
            "mark_not_fill_cloud_coverage        float64\n",
            "mark_not_fill_dew_temperature       float64\n",
            "mark_not_fill_precip_depth_1_hr     float64\n",
            "mark_not_fill_sea_level_pressure    float64\n",
            "mark_not_fill_wind_direction        float64\n",
            "mark_not_fill_wind_speed            float64\n",
            "dtypes: float32(7), float64(7), int16(3), int32(1), int8(4)\n",
            "memory usage: 4.1 GB\n"
          ],
          "name": "stdout"
        }
      ]
    },
    {
      "cell_type": "code",
      "metadata": {
        "id": "PejS3rwtl7r1",
        "colab_type": "code",
        "colab": {}
      },
      "source": [
        "#data_test.to_csv(path + 'data_test_before_fake.csv')# bad 4g"
      ],
      "execution_count": 0,
      "outputs": []
    },
    {
      "cell_type": "markdown",
      "metadata": {
        "id": "DBcb5AJAwhIR",
        "colab_type": "text"
      },
      "source": [
        "#load saved merge"
      ]
    },
    {
      "cell_type": "code",
      "metadata": {
        "id": "UePLamgDwj-c",
        "colab_type": "code",
        "colab": {}
      },
      "source": [
        "#train = pd.read_pickle(path + 'data_train_before_fake.pkl.gz')\n",
        "test = pd.read_pickle(path + 'data_test.pkl.gz')"
      ],
      "execution_count": 0,
      "outputs": []
    },
    {
      "cell_type": "markdown",
      "metadata": {
        "id": "QS4olMVj5KXd",
        "colab_type": "text"
      },
      "source": [
        "#Fake"
      ]
    },
    {
      "cell_type": "code",
      "metadata": {
        "id": "QF_qDZdP5HlF",
        "colab_type": "code",
        "colab": {}
      },
      "source": [
        "def drop_fake_site(df):\n",
        "  #141days, after merge data\n",
        "  df = df[(df.timestamp >= 3378) | (df.site_id != 0) | (df.meter != 0)]\n",
        "  return df"
      ],
      "execution_count": 0,
      "outputs": []
    },
    {
      "cell_type": "code",
      "metadata": {
        "id": "39hew5_9yNLy",
        "colab_type": "code",
        "colab": {}
      },
      "source": [
        "train_new = drop_fake_site(train)"
      ],
      "execution_count": 0,
      "outputs": []
    },
    {
      "cell_type": "code",
      "metadata": {
        "id": "-4QZAyMcxHCr",
        "colab_type": "code",
        "outputId": "e3499311-3a25-40d9-b6cd-024b7e9884c4",
        "colab": {
          "base_uri": "https://localhost:8080/",
          "height": 34
        }
      },
      "source": [
        "#correct\n",
        "train.shape[0] - train_new.shape[0]"
      ],
      "execution_count": 0,
      "outputs": [
        {
          "output_type": "execute_result",
          "data": {
            "text/plain": [
              "3377"
            ]
          },
          "metadata": {
            "tags": []
          },
          "execution_count": 23
        }
      ]
    },
    {
      "cell_type": "markdown",
      "metadata": {
        "id": "SH782i2yy75o",
        "colab_type": "text"
      },
      "source": [
        "# Time features add"
      ]
    },
    {
      "cell_type": "code",
      "metadata": {
        "id": "pYDh6rrD93CK",
        "colab_type": "code",
        "outputId": "525fa12c-0fda-410f-c04b-808a4644d790",
        "colab": {
          "base_uri": "https://localhost:8080/",
          "height": 34
        }
      },
      "source": [
        "def make_time(idx, namefile, savename):\n",
        "  \"\"\"\n",
        "  поскольку компрес меняет тиме мне нужно его грузить отдельно и потом добавить ща посмотрим как  сделать это\n",
        "\n",
        "  name = file name to load\n",
        "  idx file train after drop 0 meter  \n",
        "  meybe saved ?\n",
        "  \"\"\"\n",
        "  temp = pd.read_csv(input_file(namefile))\n",
        "  time = temp.loc[idx.index].timestamp\n",
        "  del temp\n",
        "  gc.collect()\n",
        "\n",
        "  time = pd.to_datetime(time)\n",
        "  df = pd.DataFrame(time, columns=['timestamp'])\n",
        "  col = 'timestamp'\n",
        "\n",
        "  df['hour'] = df[col].dt.hour.astype(np.uint8)\n",
        "  df['month'] = df[col].dt.month.astype(np.uint8) - 1\n",
        "  df['weekday'] = df[col].dt.weekday.astype(np.uint8)\n",
        "  df['dayofyear'] = df[col].dt.dayofyear.astype(np.uint16) - 1\n",
        "  df['weekofyear'] = df[col].dt.weekofyear.astype(np.uint8) - 1\n",
        "  df['quarter'] = df[col].dt.quarter.astype(np.uint8) - 1\n",
        "  df['monthday'] = df[col].dt.day.astype(np.uint8) - 1\n",
        "\n",
        "  #holiday\n",
        "  from pandas.tseries.holiday import USFederalHolidayCalendar as calendar\n",
        "  dates_range = pd.date_range(start='2015-12-31', end='2019-01-01')\n",
        "  us_holidays = calendar().holidays(start=dates_range.min(), end=dates_range.max())\n",
        "  df['holiday'] = df[col].isin(us_holidays).astype(np.int8)\n",
        "\n",
        "\n",
        "  del time\n",
        "  gc.collect()\n",
        "  df.drop('timestamp', axis = 'columns', inplace=True) #нам не нужно время по умолчанию дропаем, только  признаки\n",
        "  #df.to_pickle(path + savename)\n",
        "  return df\n",
        "\n",
        "\"\"\"\n",
        "у нас теперь есть время отдельно от трайна\n",
        "\n",
        "\"\"\"\n",
        "#temp = make_time(train_new, 'train.csv', savename = 'time_train.pkl.gz')\n",
        "#temp  = make_time(data_test, 'test.csv', savename = 'time_test.pkl.gz') #saved"
      ],
      "execution_count": 0,
      "outputs": [
        {
          "output_type": "execute_result",
          "data": {
            "text/plain": [
              "'\\nу нас теперь есть время отдельно от трайна\\n\\n'"
            ]
          },
          "metadata": {
            "tags": []
          },
          "execution_count": 35
        }
      ]
    },
    {
      "cell_type": "code",
      "metadata": {
        "id": "cP5vUtjbPssq",
        "colab_type": "code",
        "outputId": "1d1b757a-db3b-4567-bc94-34734a3f632c",
        "colab": {
          "base_uri": "https://localhost:8080/",
          "height": 168
        }
      },
      "source": [
        "temp.isnull().sum()"
      ],
      "execution_count": 0,
      "outputs": [
        {
          "output_type": "execute_result",
          "data": {
            "text/plain": [
              "hour          0\n",
              "month         0\n",
              "weekday       0\n",
              "dayofyear     0\n",
              "weekofyear    0\n",
              "quarter       0\n",
              "monthday      0\n",
              "holiday       0\n",
              "dtype: int64"
            ]
          },
          "metadata": {
            "tags": []
          },
          "execution_count": 18
        }
      ]
    },
    {
      "cell_type": "code",
      "metadata": {
        "id": "GCqTg5RBQLzJ",
        "colab_type": "code",
        "outputId": "b743cea3-47c7-412c-c617-65e1185d18af",
        "colab": {
          "base_uri": "https://localhost:8080/",
          "height": 34
        }
      },
      "source": [
        "temp.shape"
      ],
      "execution_count": 0,
      "outputs": [
        {
          "output_type": "execute_result",
          "data": {
            "text/plain": [
              "(41697600, 8)"
            ]
          },
          "metadata": {
            "tags": []
          },
          "execution_count": 19
        }
      ]
    },
    {
      "cell_type": "code",
      "metadata": {
        "id": "divscjBoQOi3",
        "colab_type": "code",
        "colab": {}
      },
      "source": [
        "#save test\n",
        "#temp.to_pickle(path + 'test_addTime.pkl.gz')"
      ],
      "execution_count": 0,
      "outputs": []
    },
    {
      "cell_type": "code",
      "metadata": {
        "id": "S9teFQqP0Alb",
        "colab_type": "code",
        "outputId": "7d288519-9017-4832-9814-2a1daf56b853",
        "colab": {
          "base_uri": "https://localhost:8080/",
          "height": 34
        }
      },
      "source": [
        "#correct\n",
        "temp.shape[0] -train_new.shape[0]"
      ],
      "execution_count": 0,
      "outputs": [
        {
          "output_type": "execute_result",
          "data": {
            "text/plain": [
              "0"
            ]
          },
          "metadata": {
            "tags": []
          },
          "execution_count": 26
        }
      ]
    },
    {
      "cell_type": "code",
      "metadata": {
        "id": "6nndvRrRWJkl",
        "colab_type": "code",
        "colab": {}
      },
      "source": [
        "from pandas.tseries.holiday import USFederalHolidayCalendar as calendar\n",
        "\n",
        "dates_range = pd.date_range(start='2015-12-31', end='2019-01-01')\n",
        "us_holidays = calendar().holidays(start=dates_range.min(), end=dates_range.max())\n",
        "\n",
        "pd.DataFrame(time, columns=['timestamp']).timestamp.astype('datetime64').isin(us_holidays).astype(np.int8)"
      ],
      "execution_count": 0,
      "outputs": []
    },
    {
      "cell_type": "markdown",
      "metadata": {
        "id": "AhVH_cWWRWJi",
        "colab_type": "text"
      },
      "source": [
        "#add Roll"
      ]
    },
    {
      "cell_type": "code",
      "metadata": {
        "id": "BwCs3s5hRVcj",
        "colab_type": "code",
        "colab": {}
      },
      "source": [
        "def roll_features(df,savename, win = 24):\n",
        "  #after merge and add time\n",
        "  #df = datamerge\n",
        "  for col in ['air_temperature', 'dew_temperature']:\n",
        "    df['rolling_back_'+ col] = df.groupby(by='site_id')[col]\\\n",
        "          .rolling(window=win, min_periods=1).mean().interpolate().values.astype(np.int16)\n",
        "    # reversed rolling\n",
        "    df['rolling_forw_'+ col] = df.iloc[::-1].groupby(by='site_id')[col]\\\n",
        "          .rolling(window=win, min_periods=1).mean().interpolate().values.astype(np.int16)\n",
        "\n",
        "    # rolling mean for same hour of the day\n",
        "    df['rolling_back_h_'+ col] = df.groupby(by=['site_id', 'hour'])[col]\\\n",
        "          .rolling(window=3, min_periods=1).mean().interpolate().values.astype(np.int16)\n",
        "\n",
        "    df['rolling_back_h_f_' + col] = df.iloc[::-1].groupby(by=['site_id', 'hour'])[col]\\\n",
        "          .rolling(window=3, min_periods=1).mean().interpolate().values.astype(np.int16)\n",
        "  \n",
        "  #df.to_pickle(path + savename)\n",
        "  return df\n",
        "  \n",
        "# roll_features(,savename = 'roll_train.pkl.gz', win = 24)\n",
        "# roll_features(,savename = 'roll_test.pkl.gz', win = 24)"
      ],
      "execution_count": 0,
      "outputs": []
    },
    {
      "cell_type": "code",
      "metadata": {
        "id": "ejGoHuNC1VD-",
        "colab_type": "code",
        "colab": {}
      },
      "source": [
        "#correct\n",
        "temp_roll = roll_features(pd.concat([train_new, temp], axis = 'columns'),savename = 'roll_train.pkl.gz', win = 24)"
      ],
      "execution_count": 0,
      "outputs": []
    },
    {
      "cell_type": "code",
      "metadata": {
        "id": "_55OLQG3RhEX",
        "colab_type": "code",
        "colab": {}
      },
      "source": [
        "#test\n",
        "time_test = pd.read_pickle(path + 'test_addTime.pkl.gz')\n",
        "temp_roll_test = roll_features(pd.concat([test, time_test], axis = 'columns'),savename = 'roll_train.pkl.gz', win = 24)"
      ],
      "execution_count": 0,
      "outputs": []
    },
    {
      "cell_type": "code",
      "metadata": {
        "id": "-7SKbwUC49bg",
        "colab_type": "code",
        "outputId": "7bf477ce-afc8-44d9-bd66-16b8c4955649",
        "colab": {
          "base_uri": "https://localhost:8080/",
          "height": 34
        }
      },
      "source": [
        "del test\n",
        "del time_test\n",
        "gc.collect()"
      ],
      "execution_count": 0,
      "outputs": [
        {
          "output_type": "execute_result",
          "data": {
            "text/plain": [
              "177"
            ]
          },
          "metadata": {
            "tags": []
          },
          "execution_count": 38
        }
      ]
    },
    {
      "cell_type": "code",
      "metadata": {
        "id": "ssT1z2zxRg8I",
        "colab_type": "code",
        "outputId": "f6c6ef4c-a60f-40f7-dc9e-3496048bdf4e",
        "colab": {
          "base_uri": "https://localhost:8080/",
          "height": 672
        }
      },
      "source": [
        "temp_roll_test.isnull().sum()"
      ],
      "execution_count": 0,
      "outputs": [
        {
          "output_type": "execute_result",
          "data": {
            "text/plain": [
              "building_id                         0\n",
              "meter                               0\n",
              "timestamp                           0\n",
              "site_id                             0\n",
              "primary_use                         0\n",
              "square_feet                         0\n",
              "year_built                          0\n",
              "floor_count                         0\n",
              "air_temperature                     0\n",
              "cloud_coverage                      0\n",
              "dew_temperature                     0\n",
              "precip_depth_1_hr                   0\n",
              "sea_level_pressure                  0\n",
              "wind_direction                      0\n",
              "wind_speed                          0\n",
              "mark_not_fill_air_temperature       0\n",
              "mark_not_fill_cloud_coverage        0\n",
              "mark_not_fill_dew_temperature       0\n",
              "mark_not_fill_precip_depth_1_hr     0\n",
              "mark_not_fill_sea_level_pressure    0\n",
              "mark_not_fill_wind_direction        0\n",
              "mark_not_fill_wind_speed            0\n",
              "hour                                0\n",
              "month                               0\n",
              "weekday                             0\n",
              "dayofyear                           0\n",
              "weekofyear                          0\n",
              "quarter                             0\n",
              "monthday                            0\n",
              "holiday                             0\n",
              "rolling_back_air_temperature        0\n",
              "rolling_forw_air_temperature        0\n",
              "rolling_back_h_air_temperature      0\n",
              "rolling_back_h_f_air_temperature    0\n",
              "rolling_back_dew_temperature        0\n",
              "rolling_forw_dew_temperature        0\n",
              "rolling_back_h_dew_temperature      0\n",
              "rolling_back_h_f_dew_temperature    0\n",
              "dtype: int64"
            ]
          },
          "metadata": {
            "tags": []
          },
          "execution_count": 39
        }
      ]
    },
    {
      "cell_type": "code",
      "metadata": {
        "id": "UlbwJPqwRg5E",
        "colab_type": "code",
        "colab": {}
      },
      "source": [
        "t = compress_dataframe(temp_roll_test) #3.5g"
      ],
      "execution_count": 0,
      "outputs": []
    },
    {
      "cell_type": "markdown",
      "metadata": {
        "id": "qobnp2zRNc1-",
        "colab_type": "text"
      },
      "source": [
        "#Add wether features"
      ]
    },
    {
      "cell_type": "markdown",
      "metadata": {
        "id": "P7igUuBk7v1B",
        "colab_type": "text"
      },
      "source": [
        "## Humidity"
      ]
    },
    {
      "cell_type": "markdown",
      "metadata": {
        "id": "IpN1aMmKEM42",
        "colab_type": "text"
      },
      "source": [
        "**Calculate the saturated vapor pressure**\n",
        "\n",
        "$$e_s = 6.11 * 10 \\frac{7.5 * T}{237.3 + T}$$\n",
        "\n",
        "(e_s = standard vapor pressure and T = air temperature)\n",
        "\n",
        "**Calculate actual vapor pressure**\n",
        "\n",
        "$$e = 6.11 * 10 \\frac{7.5 * T_d}{237.3 + T_d}$$\n",
        "\n",
        "(e = actual vapor pressure and Td = dew point)\n",
        "\n",
        "**Calculate the relative humidity**\n",
        "\n",
        "$$rh =  \\frac{e}{e_n} * 100\\%$$\n",
        "\n",
        "(rh = relative humidity, e = actual vapor pressure, e_s = standard vapor)\n",
        "\n",
        "------\n",
        "(Фаренгейт — 32) : 1,8 = Цельсий \n",
        "\n",
        "Цельсий х 1,8 + 32 = Фаренгейт \n",
        "\n",
        "https://www.wikihow.com/Calculate-Humidity\n",
        "http://www.reahvac.com/tools/humidity-formulas/"
      ]
    },
    {
      "cell_type": "markdown",
      "metadata": {
        "id": "fzXQsJnz_W3O",
        "colab_type": "text"
      },
      "source": [
        "Это также высушит дыхательные пути. Администрация США по безопасности и гигиене труда рекомендует поддерживать температуру воздуха в помещении на уровне 20–24,5 ° C (68–76 ° F) с относительной влажностью 20–60%, что соответствует точке росы от –4,5 до 15,5 ° C (от 24 до 60). ° F)."
      ]
    },
    {
      "cell_type": "code",
      "metadata": {
        "id": "JXTxE4qViSIe",
        "colab_type": "code",
        "colab": {}
      },
      "source": [
        "def humidity(df):\n",
        "  #df = data with weather  \n",
        "  df['e'] = df['air_temperature'].apply(lambda x: 6.11 * 10**( (7.5 * x) / (237.7 + x) ))\n",
        "  df['es'] = df['dew_temperature'].apply(lambda x: 6.11 * 10**( (7.5 * x) / (237.7 + x) ))\n",
        "  df['rh'] =((df['es'] /  df['e'])) * 100\n",
        "  #add recommends\n",
        "  df['rec_air'] = pd.cut(df.air_temperature, [-50, 0, 20, 25, 60],labels=['very_bad_cold', 'bad', 'Good', 'very_bad_hot'],  include_lowest=True)  \n",
        "  df['rec_dew'] = pd.cut(df.dew_temperature, [-50, -20, -5,  16, 20, 50],labels=['dew_very_low','dew_low', 'Good', 'dew_big', 'dew_very_big'],  include_lowest=True)\n",
        "  \n",
        "  #need check rh not big 100\n",
        "  df.loc[df.rh >= 100, 'rh'] = 100\n",
        "  df['rec_rh'] = pd.cut(df.rh, [0,  20, 60, 100],labels=['small_h', 'Good', 'big_h'],  include_lowest=True)\n",
        "\n",
        "  return df"
      ],
      "execution_count": 0,
      "outputs": []
    },
    {
      "cell_type": "code",
      "metadata": {
        "id": "fUM7MuV_7f6w",
        "colab_type": "code",
        "colab": {}
      },
      "source": [
        "#correct\n",
        "temp_hum =  humidity(temp_roll)"
      ],
      "execution_count": 0,
      "outputs": []
    },
    {
      "cell_type": "code",
      "metadata": {
        "id": "hz8ZpIjn7fy-",
        "colab_type": "code",
        "outputId": "1e56c1d2-d4e7-40fe-ec84-97ecce80bbf0",
        "colab": {
          "base_uri": "https://localhost:8080/",
          "height": 790
        }
      },
      "source": [
        "temp_hum.isnull().sum()"
      ],
      "execution_count": 0,
      "outputs": [
        {
          "output_type": "execute_result",
          "data": {
            "text/plain": [
              "building_id                         0\n",
              "meter                               0\n",
              "timestamp                           0\n",
              "meter_reading                       0\n",
              "site_id                             0\n",
              "primary_use                         0\n",
              "square_feet                         0\n",
              "year_built                          0\n",
              "floor_count                         0\n",
              "air_temperature                     0\n",
              "cloud_coverage                      0\n",
              "dew_temperature                     0\n",
              "precip_depth_1_hr                   0\n",
              "sea_level_pressure                  0\n",
              "wind_direction                      0\n",
              "wind_speed                          0\n",
              "mark_not_fill_air_temperature       0\n",
              "mark_not_fill_cloud_coverage        0\n",
              "mark_not_fill_dew_temperature       0\n",
              "mark_not_fill_precip_depth_1_hr     0\n",
              "mark_not_fill_sea_level_pressure    0\n",
              "mark_not_fill_wind_direction        0\n",
              "mark_not_fill_wind_speed            0\n",
              "hour                                0\n",
              "month                               0\n",
              "weekday                             0\n",
              "dayofyear                           0\n",
              "weekofyear                          0\n",
              "quarter                             0\n",
              "monthday                            0\n",
              "holiday                             0\n",
              "rolling_back_air_temperature        0\n",
              "rolling_forw_air_temperature        0\n",
              "rolling_back_h_air_temperature      0\n",
              "rolling_back_h_f_air_temperature    0\n",
              "rolling_back_dew_temperature        0\n",
              "rolling_forw_dew_temperature        0\n",
              "rolling_back_h_dew_temperature      0\n",
              "rolling_back_h_f_dew_temperature    0\n",
              "e                                   0\n",
              "es                                  0\n",
              "rh                                  0\n",
              "rec_air                             0\n",
              "rec_dew                             0\n",
              "rec_rh                              0\n",
              "dtype: int64"
            ]
          },
          "metadata": {
            "tags": []
          },
          "execution_count": 21
        }
      ]
    },
    {
      "cell_type": "code",
      "metadata": {
        "id": "d7KceGyPUptU",
        "colab_type": "code",
        "colab": {}
      },
      "source": [
        "temp_hum_test =  humidity(t)"
      ],
      "execution_count": 0,
      "outputs": []
    },
    {
      "cell_type": "code",
      "metadata": {
        "id": "eBZUDV7ZVhjY",
        "colab_type": "code",
        "outputId": "c0aff7e0-0e13-477d-bef4-dd1ad211a16c",
        "colab": {
          "base_uri": "https://localhost:8080/",
          "height": 773
        }
      },
      "source": [
        "temp_hum_test.isnull().sum()"
      ],
      "execution_count": 0,
      "outputs": [
        {
          "output_type": "execute_result",
          "data": {
            "text/plain": [
              "building_id                             0\n",
              "meter                                   0\n",
              "timestamp                               0\n",
              "site_id                                 0\n",
              "primary_use                             0\n",
              "square_feet                             0\n",
              "year_built                              0\n",
              "floor_count                             0\n",
              "air_temperature                         0\n",
              "cloud_coverage                          0\n",
              "dew_temperature                         0\n",
              "precip_depth_1_hr                       0\n",
              "sea_level_pressure                      0\n",
              "wind_direction                          0\n",
              "wind_speed                              0\n",
              "mark_not_fill_air_temperature           0\n",
              "mark_not_fill_cloud_coverage            0\n",
              "mark_not_fill_dew_temperature           0\n",
              "mark_not_fill_precip_depth_1_hr         0\n",
              "mark_not_fill_sea_level_pressure        0\n",
              "mark_not_fill_wind_direction            0\n",
              "mark_not_fill_wind_speed                0\n",
              "hour                                    0\n",
              "month                                   0\n",
              "weekday                                 0\n",
              "dayofyear                               0\n",
              "weekofyear                              0\n",
              "quarter                                 0\n",
              "monthday                                0\n",
              "holiday                                 0\n",
              "rolling_back_air_temperature            0\n",
              "rolling_forw_air_temperature            0\n",
              "rolling_back_h_air_temperature          0\n",
              "rolling_back_h_f_air_temperature        0\n",
              "rolling_back_dew_temperature            0\n",
              "rolling_forw_dew_temperature            0\n",
              "rolling_back_h_dew_temperature          0\n",
              "rolling_back_h_f_dew_temperature        0\n",
              "e                                       0\n",
              "es                                      0\n",
              "rh                                      0\n",
              "rec_air                             11900\n",
              "rec_dew                             11900\n",
              "rec_rh                                  0\n",
              "dtype: int64"
            ]
          },
          "metadata": {
            "tags": []
          },
          "execution_count": 60
        }
      ]
    },
    {
      "cell_type": "code",
      "metadata": {
        "id": "ksl5zC-DelH-",
        "colab_type": "code",
        "colab": {}
      },
      "source": [
        "#-9999 fill data -9999\n",
        "#g_without_nan = g.cat.add_categories(\"D\").fillna(\"D\")\n",
        "temp_hum_test.rec_air = temp_hum_test.rec_air.cat.add_categories('NAN').fillna('NAN')\n",
        "temp_hum_test.rec_dew = temp_hum_test.rec_dew.cat.add_categories('NAN').fillna('NAN')"
      ],
      "execution_count": 0,
      "outputs": []
    },
    {
      "cell_type": "code",
      "metadata": {
        "id": "d8ug8q-Ze4l0",
        "colab_type": "code",
        "outputId": "6f565f21-d0c6-4dea-8ac3-c185d956b601",
        "colab": {
          "base_uri": "https://localhost:8080/",
          "height": 34
        }
      },
      "source": [
        "del temp_roll_test\n",
        "gc.collect()"
      ],
      "execution_count": 0,
      "outputs": [
        {
          "output_type": "execute_result",
          "data": {
            "text/plain": [
              "107"
            ]
          },
          "metadata": {
            "tags": []
          },
          "execution_count": 15
        }
      ]
    },
    {
      "cell_type": "code",
      "metadata": {
        "id": "qZh6CED41SJt",
        "colab_type": "code",
        "outputId": "a20230dc-b6e8-44ce-b9e0-9539458414ea",
        "colab": {
          "base_uri": "https://localhost:8080/",
          "height": 840
        }
      },
      "source": [
        "temp_hum_test.info(memory_usage=True)"
      ],
      "execution_count": 0,
      "outputs": [
        {
          "output_type": "stream",
          "text": [
            "<class 'pandas.core.frame.DataFrame'>\n",
            "Int64Index: 41697600 entries, 0 to 41697599\n",
            "Data columns (total 44 columns):\n",
            "building_id                         int16\n",
            "meter                               int8\n",
            "timestamp                           int16\n",
            "site_id                             int8\n",
            "primary_use                         int8\n",
            "square_feet                         int32\n",
            "year_built                          int16\n",
            "floor_count                         int8\n",
            "air_temperature                     float32\n",
            "cloud_coverage                      float32\n",
            "dew_temperature                     float32\n",
            "precip_depth_1_hr                   float32\n",
            "sea_level_pressure                  float32\n",
            "wind_direction                      float32\n",
            "wind_speed                          float32\n",
            "mark_not_fill_air_temperature       int16\n",
            "mark_not_fill_cloud_coverage        int16\n",
            "mark_not_fill_dew_temperature       int16\n",
            "mark_not_fill_precip_depth_1_hr     int16\n",
            "mark_not_fill_sea_level_pressure    int16\n",
            "mark_not_fill_wind_direction        int16\n",
            "mark_not_fill_wind_speed            int16\n",
            "hour                                int8\n",
            "month                               int8\n",
            "weekday                             int8\n",
            "dayofyear                           int16\n",
            "weekofyear                          int8\n",
            "quarter                             int8\n",
            "monthday                            int8\n",
            "holiday                             int8\n",
            "rolling_back_air_temperature        int16\n",
            "rolling_forw_air_temperature        int16\n",
            "rolling_back_h_air_temperature      int16\n",
            "rolling_back_h_f_air_temperature    int16\n",
            "rolling_back_dew_temperature        int16\n",
            "rolling_forw_dew_temperature        int16\n",
            "rolling_back_h_dew_temperature      int16\n",
            "rolling_back_h_f_dew_temperature    int16\n",
            "e                                   float64\n",
            "es                                  float64\n",
            "rh                                  float64\n",
            "rec_air                             category\n",
            "rec_dew                             category\n",
            "rec_rh                              category\n",
            "dtypes: category(3), float32(7), float64(3), int16(19), int32(1), int8(11)\n",
            "memory usage: 4.5 GB\n"
          ],
          "name": "stdout"
        }
      ]
    },
    {
      "cell_type": "markdown",
      "metadata": {
        "id": "yJWhaaRmDUYT",
        "colab_type": "text"
      },
      "source": [
        "#save features my memory is gone \\)))\n"
      ]
    },
    {
      "cell_type": "code",
      "metadata": {
        "id": "6Wx-Uf51Ebxa",
        "colab_type": "code",
        "colab": {}
      },
      "source": [
        "del temp\n",
        "del temp_roll\n",
        "del train\n",
        "\n",
        "gc.collect()"
      ],
      "execution_count": 0,
      "outputs": []
    },
    {
      "cell_type": "code",
      "metadata": {
        "id": "LKXNAfs3DUoW",
        "colab_type": "code",
        "colab": {}
      },
      "source": [
        "#temp_hum.to_pickle(path + 'data_train_add_features.pkl.gz')"
      ],
      "execution_count": 0,
      "outputs": []
    },
    {
      "cell_type": "code",
      "metadata": {
        "id": "IA-P0AehicGE",
        "colab_type": "code",
        "colab": {}
      },
      "source": [
        "#temp_hum_test.to_pickle(path + 'data_test_ends.pkl.gz')"
      ],
      "execution_count": 0,
      "outputs": []
    },
    {
      "cell_type": "markdown",
      "metadata": {
        "id": "5zEn-BJADzzj",
        "colab_type": "text"
      },
      "source": [
        "load"
      ]
    },
    {
      "cell_type": "code",
      "metadata": {
        "id": "rCY14Q9bDris",
        "colab_type": "code",
        "colab": {}
      },
      "source": [
        "#train = pd.read_pickle(path + 'data_train_add_features.pkl.gz')\n",
        "#test = pd.read_pickle(path + 'data_test_ends.pkl.gz')"
      ],
      "execution_count": 0,
      "outputs": []
    },
    {
      "cell_type": "code",
      "metadata": {
        "id": "PuyXUVUYAu-o",
        "colab_type": "code",
        "colab": {}
      },
      "source": [
        "#train.to_hdf(path + 'train2.h5', key = 'df', mode = 'w', format =  'table')"
      ],
      "execution_count": 0,
      "outputs": []
    },
    {
      "cell_type": "code",
      "metadata": {
        "id": "Ys0Wzl1yFZ8x",
        "colab_type": "code",
        "colab": {}
      },
      "source": [
        "#test.to_hdf(path + 'test2.hdf5', key = 'df', mode = 'w', format =  'table')"
      ],
      "execution_count": 0,
      "outputs": []
    },
    {
      "cell_type": "code",
      "metadata": {
        "id": "Eiy1OGfxRefL",
        "colab_type": "code",
        "colab": {}
      },
      "source": [
        "test = pd.read_hdf(path + 'test2.hdf5', 'df')"
      ],
      "execution_count": 0,
      "outputs": []
    },
    {
      "cell_type": "code",
      "metadata": {
        "id": "4X_00RerRsB2",
        "colab_type": "code",
        "colab": {}
      },
      "source": [
        "test.head()"
      ],
      "execution_count": 0,
      "outputs": []
    },
    {
      "cell_type": "code",
      "metadata": {
        "id": "YLCYq10SIOZX",
        "colab_type": "code",
        "colab": {}
      },
      "source": [
        "train.isnull().sum()"
      ],
      "execution_count": 0,
      "outputs": []
    },
    {
      "cell_type": "code",
      "metadata": {
        "id": "0ArvEvcyBhLr",
        "colab_type": "code",
        "outputId": "8a07dab2-1a5f-4653-9314-c00e14535d6c",
        "colab": {
          "base_uri": "https://localhost:8080/",
          "height": 857
        }
      },
      "source": [
        "train.info(memory_usage=True)"
      ],
      "execution_count": 0,
      "outputs": [
        {
          "output_type": "stream",
          "text": [
            "<class 'pandas.core.frame.DataFrame'>\n",
            "Int64Index: 18338747 entries, 103 to 20216099\n",
            "Data columns (total 45 columns):\n",
            "building_id                         int16\n",
            "meter                               int8\n",
            "timestamp                           int16\n",
            "meter_reading                       float32\n",
            "site_id                             int8\n",
            "primary_use                         int8\n",
            "square_feet                         int32\n",
            "year_built                          int16\n",
            "floor_count                         int8\n",
            "air_temperature                     float32\n",
            "cloud_coverage                      float32\n",
            "dew_temperature                     float32\n",
            "precip_depth_1_hr                   float32\n",
            "sea_level_pressure                  float32\n",
            "wind_direction                      float32\n",
            "wind_speed                          float32\n",
            "mark_not_fill_air_temperature       int8\n",
            "mark_not_fill_cloud_coverage        int8\n",
            "mark_not_fill_dew_temperature       int8\n",
            "mark_not_fill_precip_depth_1_hr     int8\n",
            "mark_not_fill_sea_level_pressure    int8\n",
            "mark_not_fill_wind_direction        int8\n",
            "mark_not_fill_wind_speed            int8\n",
            "hour                                uint8\n",
            "month                               uint8\n",
            "weekday                             uint8\n",
            "dayofyear                           uint16\n",
            "weekofyear                          uint8\n",
            "quarter                             uint8\n",
            "monthday                            uint8\n",
            "holiday                             int8\n",
            "rolling_back_air_temperature        float64\n",
            "rolling_forw_air_temperature        float64\n",
            "rolling_back_h_air_temperature      float64\n",
            "rolling_back_h_f_air_temperature    float64\n",
            "rolling_back_dew_temperature        float64\n",
            "rolling_forw_dew_temperature        float64\n",
            "rolling_back_h_dew_temperature      float64\n",
            "rolling_back_h_f_dew_temperature    float64\n",
            "e                                   float64\n",
            "es                                  float64\n",
            "rh                                  float64\n",
            "rec_air                             category\n",
            "rec_dew                             category\n",
            "rec_rh                              category\n",
            "dtypes: category(3), float32(8), float64(11), int16(3), int32(1), int8(12), uint16(1), uint8(6)\n",
            "memory usage: 2.7 GB\n"
          ],
          "name": "stdout"
        }
      ]
    },
    {
      "cell_type": "markdown",
      "metadata": {
        "id": "fkMrB14unvu_",
        "colab_type": "text"
      },
      "source": [
        "#Merge all its plane ....\n",
        "\n",
        "1. Bad data\n",
        "  - compres\n",
        "  - drop_0\n",
        "\n",
        "3. Fill weather\n",
        "4. Load Metadata\n",
        "5. Merge\n",
        "  - train(bad_data)->div_by(meta)->weather\n",
        "6. Drop fake\n",
        "7. add time\n",
        "8. add roll\n",
        "9. add features weather\n",
        "\n",
        "10. ~~div_by_10 (после всего меняет таргет) ???~~\n",
        "\n",
        "\n",
        "**Save all**"
      ]
    },
    {
      "cell_type": "markdown",
      "metadata": {
        "id": "T21pqTGJCYYK",
        "colab_type": "text"
      },
      "source": [
        "#target"
      ]
    },
    {
      "cell_type": "code",
      "metadata": {
        "id": "PJ9IKTN-_bAu",
        "colab_type": "code",
        "outputId": "0ac191f6-90a2-4934-f10e-22fba880af71",
        "colab": {
          "base_uri": "https://localhost:8080/",
          "height": 34
        }
      },
      "source": [
        "#correct\n",
        "df = add_divide_by10(train, div_log = True, boxcox = False)"
      ],
      "execution_count": 0,
      "outputs": [
        {
          "output_type": "stream",
          "text": [
            "log\n"
          ],
          "name": "stdout"
        }
      ]
    },
    {
      "cell_type": "markdown",
      "metadata": {
        "id": "-uWXtqvcn3Fd",
        "colab_type": "text"
      },
      "source": [
        "# Split"
      ]
    },
    {
      "cell_type": "code",
      "metadata": {
        "id": "9n6dU9_fU8pT",
        "colab_type": "code",
        "colab": {}
      },
      "source": [
        "def np_sample(a, frac):\n",
        "  #рандомно берем индксы из списка индексов среза, 0.5 половинаб 1 вся выборка\n",
        "  return a if frac == 1 else np.random.choice(a, int(len(a) * frac), replace=False)\n",
        "\n",
        "def idx_split(df, frac):\n",
        "  idx = np.argsort(df.timestamp.values, kind='stable')\n",
        "  split = np.array_split(idx, 12) #каждый месяц\n",
        "  \"\"\"\n",
        "  у нас есть 12 сплитов и нам нужно чтобы трайн и тест не пересикались\n",
        "  10 трайн, 2 тест\n",
        "\n",
        "  \"\"\"\n",
        "  box = []\n",
        "  for x in range(0, 12, 2):\n",
        "    test_idx = np.concatenate(split[x:x + 2])#все четные\n",
        "    train_idx = np.concatenate([split[ix % 12] for ix in range(x + 3, x + 11)])\n",
        "    box.append((np_sample(train_idx, frac), np_sample(test_idx, frac)))\n",
        "  return box\n",
        "\n",
        "def cv(model, split, df):\n",
        "  box = []\n",
        "  X = df.drop('meter_reading', axis = 'columns')\n",
        "  y = df.meter_reading\n",
        "  for n, (train_idx, test_idx) in enumerate(split):\n",
        "    train = X.iloc[train_idx]\n",
        "    target = y.reindex_like(train)\n",
        "    test = X.iloc[test_idx]\n",
        "    target_test = y.reindex_like(test)\n",
        "    print('Fit model')\n",
        "    model.fit(train, target)\n",
        "    #collect all predict by splits\n",
        "    box.append(pd.DataFrame(dict(target=target_test, prediction=model.predict(test)), index=target_test.index))\n",
        "    print(f'Split {n} ends')\n",
        "  result = pd.concat(box).sort_index()\n",
        "  #return Series\n",
        "  return result.target, result.prediction"
      ],
      "execution_count": 0,
      "outputs": []
    },
    {
      "cell_type": "code",
      "metadata": {
        "id": "-JPQR1deKhE_",
        "colab_type": "code",
        "outputId": "6da6ed3f-0901-4add-b05f-48994d43e6d1",
        "colab": {
          "base_uri": "https://localhost:8080/",
          "height": 218
        }
      },
      "source": [
        "from sklearn.linear_model import LinearRegression\n",
        "model = LGBMRegressor()#1.95\n",
        "#model = LinearRegression()#3.86\n",
        "split = idx_split(df.drop(['rec_air', 'rec_dew', 'rec_rh'], axis = 'columns'), 0.25)\n",
        "ytarget, pred = cv(model, split, df.drop(['rec_air', 'rec_dew', 'rec_rh'], axis = 'columns'))"
      ],
      "execution_count": 0,
      "outputs": [
        {
          "output_type": "stream",
          "text": [
            "Fit model\n",
            "Split 0 ends\n",
            "Fit model\n",
            "Split 1 ends\n",
            "Fit model\n",
            "Split 2 ends\n",
            "Fit model\n",
            "Split 3 ends\n",
            "Fit model\n",
            "Split 4 ends\n",
            "Fit model\n",
            "Split 5 ends\n"
          ],
          "name": "stdout"
        }
      ]
    },
    {
      "cell_type": "markdown",
      "metadata": {
        "id": "p22FNnHpaQI-",
        "colab_type": "text"
      },
      "source": [
        "Администрация США по безопасности и гигиене труда рекомендует поддерживать температуру воздуха в помещении на уровне 20–24,5 ° C (68–76 ° F) с относительной влажностью 20–60%, что соответствует точке росы от –4,5 до 15,5 ° C (от 24 до 60). ° F).\n",
        "\n",
        "Как я понимаю, что если значения меньше или больше то мы должнв затратичивать ресурсы чтоб температура была в заданных промежутках\n",
        "\n",
        "Категориююю"
      ]
    },
    {
      "cell_type": "markdown",
      "metadata": {
        "id": "OBwG8hrZ-78Z",
        "colab_type": "text"
      },
      "source": [
        "## Heat_index ?? need or\n",
        "\n",
        "Тепловой индекс или влажность - это индекс, который объединяет температуру воздуха и относительную влажность в затененных областях, чтобы определить воспринимаемую человеком эквивалентную температуру, то есть насколько жарко было бы, если бы влажность была какой-то другой величиной в тени.\n",
        "\n",
        "https://www.weather.gov/gjt/heat_index"
      ]
    },
    {
      "cell_type": "markdown",
      "metadata": {
        "id": "wllpbDJid53C",
        "colab_type": "text"
      },
      "source": [
        "##Охлаждение ветром и на оборот\n",
        "\n",
        "Замените T на температуру воздуха и V на скорость ветра:\n",
        "\n",
        "Если вы измеряли ºC и км/ч: температура охлаждения ветром будет = 13.12 + 0.6215T - 11.37V^0.16 + 0.3965TV^0.16"
      ]
    },
    {
      "cell_type": "markdown",
      "metadata": {
        "id": "3h29_pXjeeXA",
        "colab_type": "text"
      },
      "source": [
        "##cloud_coverage\n",
        "\n",
        "Яркое солнце способствует поднятию температуры до +10 - +18ºF (+5.6 - +10ºC).[8] Нет официальной формулы\n",
        "\n",
        "https://en.wikipedia.org/wiki/Okta"
      ]
    },
    {
      "cell_type": "markdown",
      "metadata": {
        "id": "sXjRwNHlekRK",
        "colab_type": "text"
      },
      "source": [
        "## precip_depth_1_hr and wind_direction\n",
        "\n",
        "я не смог найти что то полезное по этому\n",
        "думаю направление ветра сделать категории и даже можно сложить кат и силу ветра\n",
        "\n",
        "осадки ну то что я прочитал не дает значемого прироста теипературы как критерий дождя или циклона ну я думаю в эотм случае будет лучше это видно по другим параметрам чем по осадка но можно оставить."
      ]
    },
    {
      "cell_type": "markdown",
      "metadata": {
        "id": "ent5izrHpMBx",
        "colab_type": "text"
      },
      "source": [
        "#US federal holidays\n",
        "\n",
        "https://www.kaggle.com/c/ashrae-energy-prediction/discussion/113286\n",
        "\n",
        "The problem here is that we don't know site_id geo location (US or not)\n",
        "\n",
        "Need test add but need check %"
      ]
    },
    {
      "cell_type": "code",
      "metadata": {
        "id": "AUKYW3G16Mlu",
        "colab_type": "code",
        "colab": {}
      },
      "source": [
        "рекомендует поддерживать температуру воздуха в помещении на уровне 20–24,5 ° C (68–76 ° F) с относительной влажностью 20–60%, что соответствует точке росы от –4,5 до 15,5 ° C (от 24 до 60). ° F).\n",
        "\n",
        "сделать категории"
      ],
      "execution_count": 0,
      "outputs": []
    }
  ]
}