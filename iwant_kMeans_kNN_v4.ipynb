{
  "nbformat": 4,
  "nbformat_minor": 0,
  "metadata": {
    "colab": {
      "name": " iwant_kMeans_kNN_v4.ipynb",
      "provenance": [],
      "collapsed_sections": [],
      "machine_shape": "hm",
      "include_colab_link": true
    },
    "kernelspec": {
      "name": "python3",
      "display_name": "Python 3"
    }
  },
  "cells": [
    {
      "cell_type": "markdown",
      "metadata": {
        "id": "view-in-github",
        "colab_type": "text"
      },
      "source": [
        "<a href=\"https://colab.research.google.com/github/beifa/kaggle_ashrae/blob/master/iwant_kMeans_kNN_v4.ipynb\" target=\"_parent\"><img src=\"https://colab.research.google.com/assets/colab-badge.svg\" alt=\"Open In Colab\"/></a>"
      ]
    },
    {
      "cell_type": "code",
      "metadata": {
        "id": "-IaYiXYLaAlA",
        "colab_type": "code",
        "colab": {}
      },
      "source": [
        "import gc\n",
        "import os\n",
        "import numpy as np\n",
        "import pandas as pd\n",
        "import matplotlib.pyplot as plt\n",
        "import seaborn as sns \n",
        "from sklearn.linear_model import LinearRegression\n",
        "from sklearn.metrics import mean_squared_log_error\n",
        "\n",
        "path = '/content/drive/My Drive/ASHRAE/data/'"
      ],
      "execution_count": 0,
      "outputs": []
    },
    {
      "cell_type": "code",
      "metadata": {
        "id": "gMuFraIQtwky",
        "colab_type": "code",
        "colab": {}
      },
      "source": [
        "from sklearn.cluster import KMeans\n",
        "from sklearn.decomposition import PCA"
      ],
      "execution_count": 0,
      "outputs": []
    },
    {
      "cell_type": "code",
      "metadata": {
        "id": "l4L5EaUtZXk_",
        "colab_type": "code",
        "outputId": "9195d1e9-36b8-4d35-b312-3a7b76cd4e8a",
        "colab": {
          "base_uri": "https://localhost:8080/",
          "height": 121
        }
      },
      "source": [
        "from google.colab import drive\n",
        "drive.mount('/content/drive')"
      ],
      "execution_count": 0,
      "outputs": [
        {
          "output_type": "stream",
          "text": [
            "Go to this URL in a browser: https://accounts.google.com/o/oauth2/auth?client_id=947318989803-6bn6qk8qdgf4n4g3pfee6491hc0brc4i.apps.googleusercontent.com&redirect_uri=urn%3aietf%3awg%3aoauth%3a2.0%3aoob&response_type=code&scope=email%20https%3a%2f%2fwww.googleapis.com%2fauth%2fdocs.test%20https%3a%2f%2fwww.googleapis.com%2fauth%2fdrive%20https%3a%2f%2fwww.googleapis.com%2fauth%2fdrive.photos.readonly%20https%3a%2f%2fwww.googleapis.com%2fauth%2fpeopleapi.readonly\n",
            "\n",
            "Enter your authorization code:\n",
            "··········\n",
            "Mounted at /content/drive\n"
          ],
          "name": "stdout"
        }
      ]
    },
    {
      "cell_type": "code",
      "metadata": {
        "id": "WxH49YMaEIOV",
        "colab_type": "code",
        "outputId": "f5aa86a4-65d1-4498-9df0-85d0c56dad1c",
        "colab": {
          "base_uri": "https://localhost:8080/",
          "height": 134
        }
      },
      "source": [
        "!ls '/content/drive/My Drive/ASHRAE/data/'"
      ],
      "execution_count": 0,
      "outputs": [
        {
          "output_type": "stream",
          "text": [
            "building_metadata.csv\t\tdroped_fetures_by_2.csv  test2.hdf5\n",
            "data_test_before_fake.pkl\tdroped_fetures_by_3.csv  test_addTime.pkl.gz\n",
            "data_test_ends.pkl.gz\t\tdroped_fetures_by_4.csv  train.csv\n",
            "data_test.pkl.gz\t\tdroped_fetures_by_5.csv  train_full_fill.pkl.gz\n",
            "data_train_add_features.pkl.gz\tdroped_fetures_by_6.csv  weather_test.csv\n",
            "data_train_before_fake.pkl.gz\tmetadata_fillNAN.pkl.gz  weather_train.csv\n",
            "droped_fetures_by_2_1.csv\tsample_submission.csv\n"
          ],
          "name": "stdout"
        }
      ]
    },
    {
      "cell_type": "code",
      "metadata": {
        "id": "WpClit7ZrHnS",
        "colab_type": "code",
        "colab": {}
      },
      "source": [
        "train = pd.read_pickle(path + 'data_train_add_features.pkl.gz')"
      ],
      "execution_count": 0,
      "outputs": []
    },
    {
      "cell_type": "code",
      "metadata": {
        "id": "1R3D3NdLqp2B",
        "colab_type": "code",
        "colab": {}
      },
      "source": [
        "def rand_sample(f = 0.25):\n",
        "  #вернет выборку рандомную, f - коеф. размера выборки\n",
        "  np.random.seed(0)\n",
        "  idx = np.argsort(train.timestamp.values, kind='stable')\n",
        "  sample_idx = np.random.choice(idx, int(len(idx) * f), replace=False)  \n",
        "  return sample_idx"
      ],
      "execution_count": 0,
      "outputs": []
    },
    {
      "cell_type": "code",
      "metadata": {
        "id": "y5CqmIUSrM7c",
        "colab_type": "code",
        "colab": {}
      },
      "source": [
        "sample_train = train.iloc[rand_sample(f = 0.25)] #4584686 rows × 45 columns"
      ],
      "execution_count": 0,
      "outputs": []
    },
    {
      "cell_type": "code",
      "metadata": {
        "id": "IiaUOcoosdTU",
        "colab_type": "code",
        "outputId": "0e90e838-e91f-485c-e08e-6599b9df2890",
        "colab": {
          "base_uri": "https://localhost:8080/",
          "height": 34
        }
      },
      "source": [
        "del train\n",
        "gc.collect()"
      ],
      "execution_count": 0,
      "outputs": [
        {
          "output_type": "execute_result",
          "data": {
            "text/plain": [
              "0"
            ]
          },
          "metadata": {
            "tags": []
          },
          "execution_count": 7
        }
      ]
    },
    {
      "cell_type": "markdown",
      "metadata": {
        "id": "OTijIkW0uTLT",
        "colab_type": "text"
      },
      "source": [
        "#kMeans"
      ]
    },
    {
      "cell_type": "code",
      "metadata": {
        "id": "-E97cvA6-1d2",
        "colab_type": "code",
        "outputId": "c3dcfca2-1886-4b87-f448-d5f1df282df6",
        "colab": {
          "base_uri": "https://localhost:8080/",
          "height": 126
        }
      },
      "source": [
        "sample_train.head(2)"
      ],
      "execution_count": 0,
      "outputs": [
        {
          "output_type": "execute_result",
          "data": {
            "text/html": [
              "<div>\n",
              "<style scoped>\n",
              "    .dataframe tbody tr th:only-of-type {\n",
              "        vertical-align: middle;\n",
              "    }\n",
              "\n",
              "    .dataframe tbody tr th {\n",
              "        vertical-align: top;\n",
              "    }\n",
              "\n",
              "    .dataframe thead th {\n",
              "        text-align: right;\n",
              "    }\n",
              "</style>\n",
              "<table border=\"1\" class=\"dataframe\">\n",
              "  <thead>\n",
              "    <tr style=\"text-align: right;\">\n",
              "      <th></th>\n",
              "      <th>building_id</th>\n",
              "      <th>meter</th>\n",
              "      <th>timestamp</th>\n",
              "      <th>meter_reading</th>\n",
              "      <th>site_id</th>\n",
              "      <th>primary_use</th>\n",
              "      <th>square_feet</th>\n",
              "      <th>year_built</th>\n",
              "      <th>floor_count</th>\n",
              "      <th>air_temperature</th>\n",
              "      <th>cloud_coverage</th>\n",
              "      <th>dew_temperature</th>\n",
              "      <th>precip_depth_1_hr</th>\n",
              "      <th>sea_level_pressure</th>\n",
              "      <th>wind_direction</th>\n",
              "      <th>wind_speed</th>\n",
              "      <th>mark_not_fill_air_temperature</th>\n",
              "      <th>mark_not_fill_cloud_coverage</th>\n",
              "      <th>mark_not_fill_dew_temperature</th>\n",
              "      <th>mark_not_fill_precip_depth_1_hr</th>\n",
              "      <th>mark_not_fill_sea_level_pressure</th>\n",
              "      <th>mark_not_fill_wind_direction</th>\n",
              "      <th>mark_not_fill_wind_speed</th>\n",
              "      <th>hour</th>\n",
              "      <th>month</th>\n",
              "      <th>weekday</th>\n",
              "      <th>dayofyear</th>\n",
              "      <th>weekofyear</th>\n",
              "      <th>quarter</th>\n",
              "      <th>monthday</th>\n",
              "      <th>holiday</th>\n",
              "      <th>rolling_back_air_temperature</th>\n",
              "      <th>rolling_forw_air_temperature</th>\n",
              "      <th>rolling_back_h_air_temperature</th>\n",
              "      <th>rolling_back_h_f_air_temperature</th>\n",
              "      <th>rolling_back_dew_temperature</th>\n",
              "      <th>rolling_forw_dew_temperature</th>\n",
              "      <th>rolling_back_h_dew_temperature</th>\n",
              "      <th>rolling_back_h_f_dew_temperature</th>\n",
              "      <th>e</th>\n",
              "      <th>es</th>\n",
              "      <th>rh</th>\n",
              "      <th>rec_air</th>\n",
              "      <th>rec_dew</th>\n",
              "      <th>rec_rh</th>\n",
              "    </tr>\n",
              "  </thead>\n",
              "  <tbody>\n",
              "    <tr>\n",
              "      <th>3269514</th>\n",
              "      <td>625</td>\n",
              "      <td>0</td>\n",
              "      <td>1471</td>\n",
              "      <td>173.737</td>\n",
              "      <td>4</td>\n",
              "      <td>0</td>\n",
              "      <td>55516</td>\n",
              "      <td>1978</td>\n",
              "      <td>5</td>\n",
              "      <td>21.1</td>\n",
              "      <td>2.0</td>\n",
              "      <td>8.3</td>\n",
              "      <td>0.0</td>\n",
              "      <td>1020.099976</td>\n",
              "      <td>300.0</td>\n",
              "      <td>3.1</td>\n",
              "      <td>1</td>\n",
              "      <td>1</td>\n",
              "      <td>1</td>\n",
              "      <td>1</td>\n",
              "      <td>1</td>\n",
              "      <td>1</td>\n",
              "      <td>1</td>\n",
              "      <td>7</td>\n",
              "      <td>2</td>\n",
              "      <td>2</td>\n",
              "      <td>61</td>\n",
              "      <td>8</td>\n",
              "      <td>0</td>\n",
              "      <td>1</td>\n",
              "      <td>0</td>\n",
              "      <td>34.400002</td>\n",
              "      <td>23.299999</td>\n",
              "      <td>15.0</td>\n",
              "      <td>18.299999</td>\n",
              "      <td>-1.7</td>\n",
              "      <td>5.0</td>\n",
              "      <td>-1.7</td>\n",
              "      <td>-0.6</td>\n",
              "      <td>24.975677</td>\n",
              "      <td>10.941831</td>\n",
              "      <td>43.809947</td>\n",
              "      <td>Good</td>\n",
              "      <td>Good</td>\n",
              "      <td>Good</td>\n",
              "    </tr>\n",
              "    <tr>\n",
              "      <th>18672345</th>\n",
              "      <td>661</td>\n",
              "      <td>0</td>\n",
              "      <td>8125</td>\n",
              "      <td>1.297</td>\n",
              "      <td>5</td>\n",
              "      <td>1</td>\n",
              "      <td>7427</td>\n",
              "      <td>1976</td>\n",
              "      <td>2</td>\n",
              "      <td>5.0</td>\n",
              "      <td>0.0</td>\n",
              "      <td>2.0</td>\n",
              "      <td>0.0</td>\n",
              "      <td>1016.400024</td>\n",
              "      <td>80.0</td>\n",
              "      <td>8.8</td>\n",
              "      <td>1</td>\n",
              "      <td>1</td>\n",
              "      <td>1</td>\n",
              "      <td>0</td>\n",
              "      <td>0</td>\n",
              "      <td>1</td>\n",
              "      <td>1</td>\n",
              "      <td>13</td>\n",
              "      <td>11</td>\n",
              "      <td>6</td>\n",
              "      <td>338</td>\n",
              "      <td>47</td>\n",
              "      <td>3</td>\n",
              "      <td>3</td>\n",
              "      <td>0</td>\n",
              "      <td>5.600000</td>\n",
              "      <td>11.100000</td>\n",
              "      <td>20.0</td>\n",
              "      <td>5.600000</td>\n",
              "      <td>-5.6</td>\n",
              "      <td>9.4</td>\n",
              "      <td>-0.6</td>\n",
              "      <td>4.4</td>\n",
              "      <td>8.720732</td>\n",
              "      <td>7.056989</td>\n",
              "      <td>80.921976</td>\n",
              "      <td>bad</td>\n",
              "      <td>Good</td>\n",
              "      <td>big_h</td>\n",
              "    </tr>\n",
              "  </tbody>\n",
              "</table>\n",
              "</div>"
            ],
            "text/plain": [
              "          building_id  meter  timestamp  ...  rec_air  rec_dew  rec_rh\n",
              "3269514           625      0       1471  ...     Good     Good    Good\n",
              "18672345          661      0       8125  ...      bad     Good   big_h\n",
              "\n",
              "[2 rows x 45 columns]"
            ]
          },
          "metadata": {
            "tags": []
          },
          "execution_count": 241
        }
      ]
    },
    {
      "cell_type": "code",
      "metadata": {
        "id": "NozZ8D4DHJEs",
        "colab_type": "code",
        "colab": {}
      },
      "source": [
        "sample_train = sample_train.drop(['rec_air', 'rec_dew', 'rec_rh'], axis = 1)"
      ],
      "execution_count": 0,
      "outputs": []
    },
    {
      "cell_type": "code",
      "metadata": {
        "id": "4HzLYYybgTd_",
        "colab_type": "code",
        "colab": {}
      },
      "source": [
        "def cluster_id(data, mark, model, num_cluster, skip = True):\n",
        "  \"\"\"\n",
        "  че мы хотим, а мы хотим\n",
        "  разбиваем на  сайт ид и в нем делаем кластеры\n",
        "  затем учим и предсказывае для каждого кластера в сайт ид\n",
        "\n",
        "  data = data\n",
        "  num_clusters = int, num cluster  \n",
        "  mark = feature test\n",
        "  \"\"\"\n",
        "  df_id = pd.DataFrame(data = np.zeros(len(data)), columns = ['pred'], index=data.index)\n",
        "  for id_ in data.site_id.unique():  \n",
        "    mask_id = data.site_id == id_\n",
        "    site_id = data.loc[mask_id]\n",
        "    #we make cluster in site id\n",
        "    if skip:    \n",
        "      g = site_id.groupby(mark)['meter_reading'].median()\n",
        "      km = KMeans(n_clusters=num_cluster, init='random', n_init=5, max_iter=100, random_state=13, n_jobs=-1)\n",
        "      label = km.fit_predict(g.values.reshape(-1, 1))\n",
        "      g = g.to_frame()\n",
        "      g['labels'] = label\n",
        "      cluster_df = site_id[mark].map(g['labels']) #i make idx - labels\n",
        "      for num in range(num_cluster):\n",
        "        #num clusters\n",
        "        idx = cluster_df[cluster_df == num].index #index cluster in id_site\n",
        "        idx_box[id_] = idx #index clusters onli site_id\n",
        "        #site_id.loc[cluster_df[cluster_df == 1].index]\n",
        "        X = site_id.loc[idx].drop('meter_reading', axis = 1)\n",
        "        y = site_id.loc[idx]['meter_reading']\n",
        "        # learning\n",
        "        # predict for cluster\n",
        "        # join for predict site\n",
        "        # add for predict sample train       \n",
        "        model.fit(X, y)        \n",
        "        df_id.loc[idx, 'pred'] = model.predict(X)\n",
        "    else:\n",
        "      #print(id_)\n",
        "      X = site_id.drop('meter_reading', axis = 1)\n",
        "      y = site_id['meter_reading']\n",
        "      model.fit(X, y)       \n",
        "      df_id.loc[site_id.index, 'pred'] = model.predict(X)\n",
        "  return df_id"
      ],
      "execution_count": 0,
      "outputs": []
    },
    {
      "cell_type": "code",
      "metadata": {
        "id": "_nRPrzvpUlu8",
        "colab_type": "code",
        "colab": {}
      },
      "source": [
        "def cost(target, pred):\n",
        "  return np.sqrt(mean_squared_log_error(target, np.clip(pred, 0, None)))"
      ],
      "execution_count": 0,
      "outputs": []
    },
    {
      "cell_type": "code",
      "metadata": {
        "id": "tcYHaX5-QBaM",
        "colab_type": "code",
        "outputId": "32207815-8eba-465f-8b59-05fda824affb",
        "colab": {
          "base_uri": "https://localhost:8080/",
          "height": 34
        }
      },
      "source": [
        "reg = LinearRegression() \n",
        "X = sample_train.drop('meter_reading', axis = 1)\n",
        "y = sample_train['meter_reading']   \n",
        "reg.fit(X, y)\n",
        "np.sqrt(mean_squared_log_error(y, np.clip(reg.predict(X), 0, None)))"
      ],
      "execution_count": 0,
      "outputs": [
        {
          "output_type": "execute_result",
          "data": {
            "text/plain": [
              "3.8687317665463303"
            ]
          },
          "metadata": {
            "tags": []
          },
          "execution_count": 41
        }
      ]
    },
    {
      "cell_type": "code",
      "metadata": {
        "id": "n9tuR8W4UQqL",
        "colab_type": "code",
        "outputId": "02a83a99-0e41-4c97-bccb-a9325d675de1",
        "colab": {
          "base_uri": "https://localhost:8080/",
          "height": 101
        }
      },
      "source": [
        "#check num cluster\n",
        "#фак просто вангую тут переобучение но не смог удержаться засела эта теория в голове\n",
        "model = LinearRegression() \n",
        "for num in range(1, 6):\n",
        "  df_id = cluster_id(sample_train,'building_id',model, num)\n",
        "  y = sample_train.meter_reading  \n",
        "  print(cost(y, df_id.pred.values))\n"
      ],
      "execution_count": 0,
      "outputs": [
        {
          "output_type": "stream",
          "text": [
            "2.556138106115611\n",
            "2.088041422398683\n",
            "2.111353586741674\n",
            "1.9011493415563219\n",
            "1.822809099889443\n"
          ],
          "name": "stdout"
        }
      ]
    },
    {
      "cell_type": "code",
      "metadata": {
        "id": "Fe4Yog89cc2G",
        "colab_type": "code",
        "outputId": "3ad4953d-525a-426e-8215-c1f27519f2f4",
        "colab": {
          "base_uri": "https://localhost:8080/",
          "height": 101
        }
      },
      "source": [
        "for num in range(1, 6):\n",
        "  df_id = cluster_id(sample_train,'square_feet', num)\n",
        "  y = sample_train.meter_reading  \n",
        "  print(cost(y, df_id.pred.values))"
      ],
      "execution_count": 0,
      "outputs": [
        {
          "output_type": "stream",
          "text": [
            "2.556138106115611\n",
            "2.088818787801734\n",
            "2.111810164198445\n",
            "1.9136019670008753\n",
            "1.849021089888265\n"
          ],
          "name": "stdout"
        }
      ]
    },
    {
      "cell_type": "code",
      "metadata": {
        "id": "1y8A7n4UkQQS",
        "colab_type": "code",
        "outputId": "1077af35-cec8-41f7-cf27-60e9d8e4fe1e",
        "colab": {
          "base_uri": "https://localhost:8080/",
          "height": 34
        }
      },
      "source": [
        "df_id = cluster_id(sample_train,'building_id',model, num, skip = False)\n",
        "y = sample_train.meter_reading  \n",
        "cost(y, df_id.pred.values)"
      ],
      "execution_count": 0,
      "outputs": [
        {
          "output_type": "execute_result",
          "data": {
            "text/plain": [
              "2.556138106115611"
            ]
          },
          "metadata": {
            "tags": []
          },
          "execution_count": 72
        }
      ]
    },
    {
      "cell_type": "markdown",
      "metadata": {
        "id": "itVgTrigae67",
        "colab_type": "text"
      },
      "source": [
        "но я думаю потом  среднее сделаю по предикту или за блендююю"
      ]
    },
    {
      "cell_type": "markdown",
      "metadata": {
        "id": "Z0vx5GUVn9zh",
        "colab_type": "text"
      },
      "source": [
        "#plot"
      ]
    },
    {
      "cell_type": "code",
      "metadata": {
        "id": "mpSpTSFq1dIZ",
        "colab_type": "code",
        "outputId": "14384c54-94e8-4d91-e7b8-b6d22912d9df",
        "colab": {
          "base_uri": "https://localhost:8080/",
          "height": 671
        }
      },
      "source": [
        "#sample 1kk, year\n",
        "error = []\n",
        "for clu in range(1, 20):\n",
        "  km = KMeans(n_clusters=clu, init='random', n_init=10, max_iter=300, random_state=13, n_jobs=-1)\n",
        "  km.fit(\n",
        "      sample_train.iloc[:1000000, [6]]\n",
        "      )\n",
        "  error.append(km.inertia_)\n",
        "\n",
        "frame = pd.DataFrame({'Cluster':range(1,20), 'SSE':error})\n",
        "plt.figure(figsize=(12,6))\n",
        "plt.plot(frame['Cluster'], frame['SSE'], marker='o')\n",
        "plt.xlabel('Number of clusters')\n",
        "plt.ylabel('Inertia')"
      ],
      "execution_count": 0,
      "outputs": [
        {
          "output_type": "stream",
          "text": [
            "/usr/local/lib/python3.6/dist-packages/sklearn/cluster/k_means_.py:972: ConvergenceWarning: Number of distinct clusters (9) found smaller than n_clusters (10). Possibly due to duplicate points in X.\n",
            "  return_n_iter=True)\n",
            "/usr/local/lib/python3.6/dist-packages/sklearn/cluster/k_means_.py:972: ConvergenceWarning: Number of distinct clusters (10) found smaller than n_clusters (11). Possibly due to duplicate points in X.\n",
            "  return_n_iter=True)\n",
            "/usr/local/lib/python3.6/dist-packages/sklearn/cluster/k_means_.py:972: ConvergenceWarning: Number of distinct clusters (14) found smaller than n_clusters (15). Possibly due to duplicate points in X.\n",
            "  return_n_iter=True)\n",
            "/usr/local/lib/python3.6/dist-packages/sklearn/cluster/k_means_.py:972: ConvergenceWarning: Number of distinct clusters (14) found smaller than n_clusters (16). Possibly due to duplicate points in X.\n",
            "  return_n_iter=True)\n",
            "/usr/local/lib/python3.6/dist-packages/sklearn/cluster/k_means_.py:972: ConvergenceWarning: Number of distinct clusters (14) found smaller than n_clusters (17). Possibly due to duplicate points in X.\n",
            "  return_n_iter=True)\n",
            "/usr/local/lib/python3.6/dist-packages/sklearn/cluster/k_means_.py:972: ConvergenceWarning: Number of distinct clusters (14) found smaller than n_clusters (18). Possibly due to duplicate points in X.\n",
            "  return_n_iter=True)\n",
            "/usr/local/lib/python3.6/dist-packages/sklearn/cluster/k_means_.py:972: ConvergenceWarning: Number of distinct clusters (14) found smaller than n_clusters (19). Possibly due to duplicate points in X.\n",
            "  return_n_iter=True)\n"
          ],
          "name": "stderr"
        },
        {
          "output_type": "execute_result",
          "data": {
            "text/plain": [
              "Text(0, 0.5, 'Inertia')"
            ]
          },
          "metadata": {
            "tags": []
          },
          "execution_count": 18
        },
        {
          "output_type": "display_data",
          "data": {
            "image/png": "[encoded data removed]",
            "text/plain": [
              "<Figure size 864x432 with 1 Axes>"
            ]
          },
          "metadata": {
            "tags": []
          }
        }
      ]
    },
    {
      "cell_type": "code",
      "metadata": {
        "id": "jsabS8k91jsv",
        "colab_type": "code",
        "outputId": "3d7b7057-7031-4b38-f3b3-2041bbf2c330",
        "colab": {
          "base_uri": "https://localhost:8080/",
          "height": 416
        }
      },
      "source": [
        "#sample 1kk, square\n",
        "error = []\n",
        "for clu in range(1, 10):\n",
        "  km = KMeans(n_clusters=clu, init='random', n_init=5, max_iter=100, random_state=13, n_jobs=-1)\n",
        "  km.fit(\n",
        "       sample_year[sample_year.site_id == 15]\n",
        "      )\n",
        "  error.append(km.inertia_)\n",
        "\n",
        "frame = pd.DataFrame({'Cluster':range(1,10), 'SSE':error})\n",
        "plt.figure(figsize=(12,6))\n",
        "plt.plot(frame['Cluster'], frame['SSE'], marker='o')\n",
        "plt.xlabel('Number of clusters')\n",
        "plt.ylabel('Inertia')"
      ],
      "execution_count": 0,
      "outputs": [
        {
          "output_type": "execute_result",
          "data": {
            "text/plain": [
              "Text(0, 0.5, 'Inertia')"
            ]
          },
          "metadata": {
            "tags": []
          },
          "execution_count": 219
        },
        {
          "output_type": "display_data",
          "data": {
            "image/png": "[encoded data removed]",
            "text/plain": [
              "<Figure size 864x432 with 1 Axes>"
            ]
          },
          "metadata": {
            "tags": []
          }
        }
      ]
    },
    {
      "cell_type": "markdown",
      "metadata": {
        "id": "I_rOm_nYoCza",
        "colab_type": "text"
      },
      "source": [
        "#kNN"
      ]
    },
    {
      "cell_type": "code",
      "metadata": {
        "id": "SlVR1r3O_93z",
        "colab_type": "code",
        "colab": {}
      },
      "source": [
        "from sklearn.neighbors import KNeighborsRegressor\n",
        "from sklearn.model_selection import GridSearchCV"
      ],
      "execution_count": 0,
      "outputs": []
    },
    {
      "cell_type": "code",
      "metadata": {
        "id": "mTPxZJ-t_9y_",
        "colab_type": "code",
        "colab": {}
      },
      "source": [
        "\"\"\"\n",
        "default = 5 >> 0.97 wow\n",
        "\n",
        "\n",
        "\"\"\"\n",
        "knn = KNeighborsRegressor(n_neighbors=100, algorithm=)\n",
        "X = sample_train.drop('meter_reading', axis = 1)\n",
        "y = sample_train['meter_reading']   \n",
        "knn.fit(X, y)\n",
        "np.sqrt(mean_squared_log_error(y, np.clip(knn.predict(X), 0, None)))"
      ],
      "execution_count": 0,
      "outputs": []
    },
    {
      "cell_type": "code",
      "metadata": {
        "id": "mzuSsF9WvfTs",
        "colab_type": "code",
        "colab": {}
      },
      "source": [
        "X = sample_train.drop('meter_reading', axis = 1)\n",
        "y = sample_train['meter_reading']  "
      ],
      "execution_count": 0,
      "outputs": []
    },
    {
      "cell_type": "code",
      "metadata": {
        "id": "eDFXOsANvg3-",
        "colab_type": "code",
        "colab": {}
      },
      "source": [
        "Xx = X.iloc[:100000]\n",
        "Yy = y.iloc[:100000]"
      ],
      "execution_count": 0,
      "outputs": []
    },
    {
      "cell_type": "code",
      "metadata": {
        "id": "mMNyHhj_zEtE",
        "colab_type": "code",
        "outputId": "6249caef-aed4-4707-daab-ea08b55470be",
        "colab": {
          "base_uri": "https://localhost:8080/",
          "height": 151
        }
      },
      "source": [
        "knn.get_params()"
      ],
      "execution_count": 0,
      "outputs": [
        {
          "output_type": "execute_result",
          "data": {
            "text/plain": [
              "{'algorithm': 'auto',\n",
              " 'leaf_size': 30,\n",
              " 'metric': 'minkowski',\n",
              " 'metric_params': None,\n",
              " 'n_jobs': -1,\n",
              " 'n_neighbors': 5,\n",
              " 'p': 2,\n",
              " 'weights': 'uniform'}"
            ]
          },
          "metadata": {
            "tags": []
          },
          "execution_count": 24
        }
      ]
    },
    {
      "cell_type": "code",
      "metadata": {
        "id": "y7kbI_e3_9wE",
        "colab_type": "code",
        "outputId": "1862235a-fedf-4abb-aee6-c54c726b82c0",
        "colab": {
          "base_uri": "https://localhost:8080/",
          "height": 104
        }
      },
      "source": [
        "%%time\n",
        "param = {'n_neighbors': [10, 15, 20],\n",
        "         'weights': ('uniform', 'distance'),\n",
        "         'p':[1,2],\n",
        "         'algorithm': ('ball_tree', 'kd_tree', 'brute'),         \n",
        "         }\n",
        "knn = KNeighborsRegressor(n_jobs=-1)  \n",
        "clf = GridSearchCV(knn, param)\n",
        "clf.fit(Xx, Yy)"
      ],
      "execution_count": 0,
      "outputs": [
        {
          "output_type": "stream",
          "text": [
            "/usr/local/lib/python3.6/dist-packages/sklearn/model_selection/_split.py:1978: FutureWarning: The default value of cv will change from 3 to 5 in version 0.22. Specify it explicitly to silence this warning.\n",
            "  warnings.warn(CV_WARNING, FutureWarning)\n"
          ],
          "name": "stderr"
        },
        {
          "output_type": "stream",
          "text": [
            "CPU times: user 1h 11min 53s, sys: 3min 9s, total: 1h 15min 2s\n",
            "Wall time: 40min 50s\n"
          ],
          "name": "stdout"
        }
      ]
    },
    {
      "cell_type": "code",
      "metadata": {
        "id": "JdIj-z06AFuR",
        "colab_type": "code",
        "outputId": "220cf6e0-0ee9-4a48-c3a4-c4f15a692578",
        "colab": {
          "base_uri": "https://localhost:8080/",
          "height": 50
        }
      },
      "source": [
        "#:1000000\n",
        "clf.best_params_, clf.best_score_"
      ],
      "execution_count": 0,
      "outputs": [
        {
          "output_type": "execute_result",
          "data": {
            "text/plain": [
              "({'algorithm': 'ball_tree', 'n_neighbors': 15, 'p': 1, 'weights': 'distance'},\n",
              " 0.23386762688103943)"
            ]
          },
          "metadata": {
            "tags": []
          },
          "execution_count": 17
        }
      ]
    }
  ]
}