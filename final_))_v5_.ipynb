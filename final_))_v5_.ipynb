{
  "nbformat": 4,
  "nbformat_minor": 0,
  "metadata": {
    "colab": {
      "name": "final_))_v5:.ipynb",
      "provenance": [],
      "collapsed_sections": [
        "92DnxFCT3-RF"
      ],
      "machine_shape": "hm",
      "include_colab_link": true
    },
    "kernelspec": {
      "name": "python3",
      "display_name": "Python 3"
    },
    "accelerator": "GPU"
  },
  "cells": [
    {
      "cell_type": "markdown",
      "metadata": {
        "id": "view-in-github",
        "colab_type": "text"
      },
      "source": [
        "<a href=\"https://colab.research.google.com/github/beifa/kaggle_ashrae/blob/master/final_))_v5_.ipynb\" target=\"_parent\"><img src=\"https://colab.research.google.com/assets/colab-badge.svg\" alt=\"Open In Colab\"/></a>"
      ]
    },
    {
      "cell_type": "code",
      "metadata": {
        "id": "HbtpA7LYYFne",
        "colab_type": "code",
        "outputId": "99913cab-3b4a-4996-a89b-97a2bb3593e8",
        "colab": {
          "base_uri": "https://localhost:8080/",
          "height": 269
        }
      },
      "source": [
        "!pip install --user --upgrade catboost"
      ],
      "execution_count": 0,
      "outputs": [
        {
          "output_type": "stream",
          "text": [
            "Requirement already up-to-date: catboost in /root/.local/lib/python3.6/site-packages (0.20.2)\n",
            "Requirement already satisfied, skipping upgrade: six in /usr/local/lib/python3.6/dist-packages (from catboost) (1.12.0)\n",
            "Requirement already satisfied, skipping upgrade: numpy>=1.16.0 in /usr/local/lib/python3.6/dist-packages (from catboost) (1.17.4)\n",
            "Requirement already satisfied, skipping upgrade: matplotlib in /usr/local/lib/python3.6/dist-packages (from catboost) (3.1.2)\n",
            "Requirement already satisfied, skipping upgrade: plotly in /usr/local/lib/python3.6/dist-packages (from catboost) (4.1.1)\n",
            "Requirement already satisfied, skipping upgrade: pandas>=0.24.0 in /usr/local/lib/python3.6/dist-packages (from catboost) (0.25.3)\n",
            "Requirement already satisfied, skipping upgrade: graphviz in /usr/local/lib/python3.6/dist-packages (from catboost) (0.10.1)\n",
            "Requirement already satisfied, skipping upgrade: scipy in /usr/local/lib/python3.6/dist-packages (from catboost) (1.3.3)\n",
            "Requirement already satisfied, skipping upgrade: cycler>=0.10 in /usr/local/lib/python3.6/dist-packages (from matplotlib->catboost) (0.10.0)\n",
            "Requirement already satisfied, skipping upgrade: kiwisolver>=1.0.1 in /usr/local/lib/python3.6/dist-packages (from matplotlib->catboost) (1.1.0)\n",
            "Requirement already satisfied, skipping upgrade: pyparsing!=2.0.4,!=2.1.2,!=2.1.6,>=2.0.1 in /usr/local/lib/python3.6/dist-packages (from matplotlib->catboost) (2.4.5)\n",
            "Requirement already satisfied, skipping upgrade: python-dateutil>=2.1 in /usr/local/lib/python3.6/dist-packages (from matplotlib->catboost) (2.6.1)\n",
            "Requirement already satisfied, skipping upgrade: retrying>=1.3.3 in /usr/local/lib/python3.6/dist-packages (from plotly->catboost) (1.3.3)\n",
            "Requirement already satisfied, skipping upgrade: pytz>=2017.2 in /usr/local/lib/python3.6/dist-packages (from pandas>=0.24.0->catboost) (2018.9)\n",
            "Requirement already satisfied, skipping upgrade: setuptools in /usr/local/lib/python3.6/dist-packages (from kiwisolver>=1.0.1->matplotlib->catboost) (42.0.2)\n"
          ],
          "name": "stdout"
        }
      ]
    },
    {
      "cell_type": "code",
      "metadata": {
        "id": "m14HaQ0eYILw",
        "colab_type": "code",
        "outputId": "b1b8fc46-a979-458a-9d06-42e418954b07",
        "colab": {
          "base_uri": "https://localhost:8080/",
          "height": 34
        }
      },
      "source": [
        "#after load neeed restart \n",
        "import catboost\n",
        "from catboost import CatBoostRegressor, Pool, cv\n",
        "print(catboost.__version__)"
      ],
      "execution_count": 0,
      "outputs": [
        {
          "output_type": "stream",
          "text": [
            "0.20.2\n"
          ],
          "name": "stdout"
        }
      ]
    },
    {
      "cell_type": "code",
      "metadata": {
        "id": "dkE_NdRDMmX1",
        "colab_type": "code",
        "colab": {}
      },
      "source": [
        "import gc\n",
        "import os\n",
        "import numpy as np\n",
        "import pandas as pd\n",
        "from lightgbm import LGBMRegressor\n",
        "import lightgbm as lgb\n",
        "from sklearn.linear_model import Ridge, Lasso, LinearRegression\n",
        "from sklearn.neighbors import KNeighborsRegressor\n",
        "from sklearn.model_selection import KFold, train_test_split\n",
        "from sklearn.metrics import mean_squared_log_error, mean_squared_error\n",
        "from sklearn.preprocessing import StandardScaler\n",
        "from sklearn.cluster import KMeans\n",
        "from sklearn.neighbors import KNeighborsRegressor\n",
        "import matplotlib.pyplot as plt\n",
        "\n",
        "path = '/content/drive/My Drive/ASHRAE/data/'"
      ],
      "execution_count": 0,
      "outputs": []
    },
    {
      "cell_type": "code",
      "metadata": {
        "id": "lNPkynoTEbOK",
        "colab_type": "code",
        "outputId": "284429ee-c251-4edc-9e97-097654c86081",
        "colab": {
          "base_uri": "https://localhost:8080/",
          "height": 34
        }
      },
      "source": [
        "lgb.__version__"
      ],
      "execution_count": 0,
      "outputs": [
        {
          "output_type": "execute_result",
          "data": {
            "text/plain": [
              "'2.2.3'"
            ]
          },
          "metadata": {
            "tags": []
          },
          "execution_count": 61
        }
      ]
    },
    {
      "cell_type": "code",
      "metadata": {
        "id": "c9tT2OSHMwQn",
        "colab_type": "code",
        "outputId": "a5086952-bc04-45be-99e5-f48ca645d28c",
        "colab": {
          "base_uri": "https://localhost:8080/",
          "height": 34
        }
      },
      "source": [
        "from google.colab import drive\n",
        "drive.mount('/content/drive')"
      ],
      "execution_count": 0,
      "outputs": [
        {
          "output_type": "stream",
          "text": [
            "Drive already mounted at /content/drive; to attempt to forcibly remount, call drive.mount(\"/content/drive\", force_remount=True).\n"
          ],
          "name": "stdout"
        }
      ]
    },
    {
      "cell_type": "code",
      "metadata": {
        "id": "fItpMHI4MIPl",
        "colab_type": "code",
        "outputId": "a9a211ab-d410-4674-a736-28d3407ec12d",
        "colab": {
          "base_uri": "https://localhost:8080/",
          "height": 151
        }
      },
      "source": [
        "!ls '/content/drive/My Drive/ASHRAE/data/'"
      ],
      "execution_count": 0,
      "outputs": [
        {
          "output_type": "stream",
          "text": [
            "building_metadata.csv\t\tdroped_fetures_by_3.csv  test_lasttry.pkl.gz\n",
            "data_test_before_fake.pkl\tdroped_fetures_by_4.csv  train.csv\n",
            "data_test_ends.pkl.gz\t\tdroped_fetures_by_5.csv  train_full_fill.pkl.gz\n",
            "data_test.pkl.gz\t\tdroped_fetures_by_6.csv  train_lasttry.pkl.gz\n",
            "data_train_add_features.pkl.gz\tmetadata_fillNAN.pkl.gz  weather_test.csv\n",
            "data_train_before_fake.pkl.gz\tsample_submission.csv\t weather_train.csv\n",
            "droped_fetures_by_2_1.csv\ttest2.hdf5\n",
            "droped_fetures_by_2.csv\t\ttest_addTime.pkl.gz\n"
          ],
          "name": "stdout"
        }
      ]
    },
    {
      "cell_type": "markdown",
      "metadata": {
        "id": "92DnxFCT3-RF",
        "colab_type": "text"
      },
      "source": [
        "#skip"
      ]
    },
    {
      "cell_type": "code",
      "metadata": {
        "id": "C8S72YOjMyuP",
        "colab_type": "code",
        "colab": {}
      },
      "source": [
        "train = pd.read_pickle(path + 'data_train_add_features.pkl.gz')\n",
        "train.cloud_coverage = train.cloud_coverage.astype(np.int8)"
      ],
      "execution_count": 0,
      "outputs": []
    },
    {
      "cell_type": "code",
      "metadata": {
        "id": "fix4v0uxMLWk",
        "colab_type": "code",
        "colab": {}
      },
      "source": [
        "test = pd.read_pickle(path + 'data_test_ends.pkl.gz')\n",
        "test.cloud_coverage = test.cloud_coverage.astype(np.int8)"
      ],
      "execution_count": 0,
      "outputs": []
    },
    {
      "cell_type": "code",
      "metadata": {
        "id": "sO28_c39RMru",
        "colab_type": "code",
        "colab": {}
      },
      "source": [
        "drop = ['es',\n",
        "        'month', \n",
        "        'e',        \n",
        "        'monthday',\n",
        "        'precip_depth_1_hr', \n",
        "        'weekofyear',        \n",
        "        'quarter',\n",
        "        'mark_not_fill_wind_direction',\n",
        "        'mark_not_fill_cloud_coverage',       \n",
        "        'mark_not_fill_precip_depth_1_hr',\n",
        "        'mark_not_fill_sea_level_pressure', \n",
        "        'mark_not_fill_wind_direction',         \n",
        "        'rolling_back_air_temperature',        \n",
        "        'rolling_back_h_air_temperature',\n",
        "        'rolling_back_h_f_air_temperature',\n",
        "        'rolling_back_dew_temperature',\n",
        "        'rolling_forw_dew_temperature',\n",
        "        'rolling_back_h_dew_temperature',\n",
        "        'rolling_back_h_f_dew_temperature',\n",
        "        'holiday',   \n",
        "        'rec_dew'\n",
        "        ]"
      ],
      "execution_count": 0,
      "outputs": []
    },
    {
      "cell_type": "code",
      "metadata": {
        "id": "9xTeNkcFRpa5",
        "colab_type": "code",
        "colab": {}
      },
      "source": [
        "def cook_data(data, droplist):\n",
        "  \"\"\"\n",
        "  drop bad col,\n",
        "  make cat  \n",
        "  \"\"\"\n",
        "  cat = ['mark_not_fill_dew_temperature','mark_not_fill_air_temperature', 'mark_not_fill_wind_speed']\n",
        "  cat2 = ['building_id','site_id', 'meter', 'primary_use', 'floor_count', 'cloud_coverage']  #'year_built' #need test very more val, more val  ha 117 ]\n",
        "  #change\n",
        "  data.rec_air = data.rec_air.cat.codes.astype(\"category\")\n",
        "  data.rec_dew = data.rec_dew.cat.codes.astype(\"category\")\n",
        "  data.rec_rh = data.rec_rh.cat.codes.astype(\"category\")\n",
        "  df = data.drop(droplist, axis = 'columns')  \n",
        "  for col in cat + cat2:\n",
        "    df[col] = df[col].astype('category')\n",
        "  del data\n",
        "  gc.collect()\n",
        "  return df"
      ],
      "execution_count": 0,
      "outputs": []
    },
    {
      "cell_type": "code",
      "metadata": {
        "id": "RBvPvBo5M3go",
        "colab_type": "code",
        "outputId": "b1a12a45-fa48-4c68-d1d1-d389d198223c",
        "colab": {
          "base_uri": "https://localhost:8080/"
        }
      },
      "source": [
        "train.shape, test.shape"
      ],
      "execution_count": 0,
      "outputs": [
        {
          "output_type": "execute_result",
          "data": {
            "text/plain": [
              "((18338747, 45), (41697600, 44))"
            ]
          },
          "metadata": {
            "tags": []
          },
          "execution_count": 14
        }
      ]
    },
    {
      "cell_type": "code",
      "metadata": {
        "id": "GpQE5NKwNPeH",
        "colab_type": "code",
        "colab": {}
      },
      "source": [
        "# df_train = cook_data(train, drop)\n",
        "# df_test = cook_data(test, drop)"
      ],
      "execution_count": 0,
      "outputs": []
    },
    {
      "cell_type": "code",
      "metadata": {
        "id": "3UQSJ-0OOeLp",
        "colab_type": "code",
        "colab": {}
      },
      "source": [
        "del train\n",
        "del df_train\n",
        "del test\n",
        "del df_test\n",
        "\n",
        "gc.collect()"
      ],
      "execution_count": 0,
      "outputs": []
    },
    {
      "cell_type": "markdown",
      "metadata": {
        "id": "s1c3umlOXHnL",
        "colab_type": "text"
      },
      "source": [
        "#Save"
      ]
    },
    {
      "cell_type": "code",
      "metadata": {
        "id": "oOVtZmadXKr7",
        "colab_type": "code",
        "colab": {}
      },
      "source": [
        "# df_test.to_pickle(path + 'test_lasttry.pkl.gz')\n",
        "# df_train.to_pickle(path + 'train_lasttry.pkl.gz')"
      ],
      "execution_count": 0,
      "outputs": []
    },
    {
      "cell_type": "markdown",
      "metadata": {
        "id": "-fcaXvqjQ9C2",
        "colab_type": "text"
      },
      "source": [
        "#load"
      ]
    },
    {
      "cell_type": "code",
      "metadata": {
        "id": "vmqUwgUWREHA",
        "colab_type": "code",
        "colab": {}
      },
      "source": [
        "train = pd.read_pickle(path + 'train_lasttry.pkl.gz')\n",
        "#test = pd.read_pickle(path + 'test_lasttry.pkl.gz')"
      ],
      "execution_count": 0,
      "outputs": []
    },
    {
      "cell_type": "markdown",
      "metadata": {
        "id": "HsZsziyLTiE3",
        "colab_type": "text"
      },
      "source": [
        "#Test drop in table"
      ]
    },
    {
      "cell_type": "code",
      "metadata": {
        "id": "2EVxRxOBT7sN",
        "colab_type": "code",
        "colab": {}
      },
      "source": [
        "drop_1 = ['air_temperature','rolling_forw_air_temperature', 'hour', 'site_id', 'rec_rh'] # 1.99\n",
        "drop_2 = ['dayofyear', 'dew_temperature', 'primary_use', 'rec_air', 'floor_count', 'air_temperature', 'wind_direction'] #1.93\n",
        "drop_3 = ['dew_temperature', 'rec_rh', 'rh', 'rolling_forw_air_temperature', 'air_temperature', 'wind_direction', 'hour']#1.95\n",
        "drop_4 = ['rh', 'air_temperature', 'dew_temperature', 'wind_speed', 'wind_direction', 'rec_air', 'dayofyear']#1.97"
      ],
      "execution_count": 0,
      "outputs": []
    },
    {
      "cell_type": "markdown",
      "metadata": {
        "id": "LMLIALEITSWp",
        "colab_type": "text"
      },
      "source": [
        "#bad site 1099 very big values drop???"
      ]
    },
    {
      "cell_type": "code",
      "metadata": {
        "id": "GS8qElWZqSvD",
        "colab_type": "code",
        "colab": {}
      },
      "source": [
        "def find_bad_building1099(df):\n",
        "  #data = df\n",
        "  #3351 row\n",
        "  return df[(df.building_id == 1099) & (df.meter == 2) & (df.meter_reading > 3e4)].index"
      ],
      "execution_count": 0,
      "outputs": []
    },
    {
      "cell_type": "markdown",
      "metadata": {
        "id": "IhFjseBnRgfo",
        "colab_type": "text"
      },
      "source": [
        "## experements"
      ]
    },
    {
      "cell_type": "code",
      "metadata": {
        "id": "iwQxHSr0RtoH",
        "colab_type": "code",
        "colab": {}
      },
      "source": [
        "def experement(model, model_cat, data, b1099=False, logtarget= False, scaler = False, timestamp = True):\n",
        "  \"\"\"\n",
        "  default model  need start score\n",
        "\n",
        "  model = lgbm, cat,  ridge,/lasso  \n",
        "  \"\"\"\n",
        "  scale = StandardScaler()  \n",
        "  X = data.drop('meter_reading', axis = 1)\n",
        "  y = data.meter_reading\n",
        "  print(X.shape)\n",
        "  \n",
        "  if b1099:\n",
        "    idx = find_bad_building1099(data)\n",
        "    X = X.drop(idx)\n",
        "    y = y.drop(idx)\n",
        "  \n",
        "  print(X.shape)  \n",
        "\n",
        "  if logtarget:\n",
        "    print('log target')\n",
        "    y = np.log1p(y)\n",
        " \n",
        "  x = X.copy() \n",
        "  if scaler: \n",
        "    print(\"Scale\")           \n",
        "    x = scale.fit_transform(x)   \n",
        "\n",
        "  for reg in models:    \n",
        "    reg.fit(x, y)    \n",
        "    print(reg.__class__)\n",
        "    score = [np.sqrt(mean_squared_log_error(y, np.clip(reg.predict(X), 0, None))) if logtarget else np.sqrt(mean_squared_error(y, reg.predict(X)))]\n",
        "    print(score[0])\n",
        "    print('++++++++++++')  \n",
        "  \n",
        "  del x\n",
        "\n",
        "  idx_cat = np.where(data.drop(['meter_reading'], axis = 'columns').dtypes == 'category')[0]\n",
        "  idx_for_scale = np.where(data.drop(['meter_reading'], axis = 'columns').dtypes != 'category')[0]  \n",
        "\n",
        "  if scaler:  \n",
        "    print('Scale lgbm.....')\n",
        "    if timestamp:\n",
        "      print('Draped timestamp ((: ')\n",
        "      X_cat = X.iloc[:, idx_cat]\n",
        "      times = X.iloc[:, idx_for_scale].timestamp\n",
        "      X_cat = pd.concat([X_cat, times], axis = 'columns')      \n",
        "      X_to_scale = scale.fit_transform(X.iloc[:, idx_for_scale[1:]])   \n",
        "      X_scale = pd.DataFrame(X_to_scale, columns = X.iloc[:, idx_for_scale[1:]].columns, index = X.index)\n",
        "      del times  \n",
        "    else:\n",
        "      print('Save scale timestamp :}} ')\n",
        "      X_cat = X.iloc[:, idx_cat]\n",
        "      X_to_scale = scale.fit_transform(X.iloc[:, idx_for_scale])    \n",
        "      X_scale = pd.DataFrame(X_to_scale, columns = X.iloc[:, idx_for_scale].columns, index = X.index)   \n",
        "    print(X_cat.shape, X_scale.shape)        \n",
        "    X = pd.concat([X_cat, X_scale], axis = 'columns')\n",
        "    idx_cat = np.where(X.dtypes == 'category')[0]  \n",
        "    del X_cat    \n",
        "    del X_scale\n",
        "    gc.collect()\n",
        "\n",
        "  train_pool = Pool(\n",
        "      data=X, \n",
        "      label=y, \n",
        "      cat_features=idx_cat,      \n",
        "      )\n",
        "  model_cat.fit(train_pool)\n",
        "  print('Cat')\n",
        "  score = [np.sqrt(mean_squared_log_error(y, np.clip(model_cat.predict(X), 0, None))) if logtarget else np.sqrt(mean_squared_error(y, model_cat.predict(X)))]\n",
        "  print(score[0])"
      ],
      "execution_count": 0,
      "outputs": []
    },
    {
      "cell_type": "code",
      "metadata": {
        "id": "7ibflZHU4gvX",
        "colab_type": "code",
        "colab": {}
      },
      "source": [
        "model1 = Ridge(random_state=13)\n",
        "model2 = Lasso(random_state=13)\n",
        "model3 = LinearRegression()\n",
        "model4 = LGBMRegressor(random_state=13)\n",
        "#model_cat = catboost.CatBoostRegressor(random_state=13, iterations=10)\n",
        "idx_cat = np.where(train.drop(['meter_reading'], axis = 'columns').dtypes == 'category')[0]\n",
        "model_cat = catboost.CatBoostRegressor(random_state=13, iterations=10, cat_features=idx_cat)\n",
        "models = [model1, model2, model3,  model4]"
      ],
      "execution_count": 0,
      "outputs": []
    },
    {
      "cell_type": "code",
      "metadata": {
        "id": "YqGddO0MRted",
        "colab_type": "code",
        "outputId": "78771cc0-4857-418a-86c7-b9851348530e",
        "colab": {
          "base_uri": "https://localhost:8080/",
          "height": 507
        }
      },
      "source": [
        "experement(models, model_cat, train, b1099=False, logtarget= False)"
      ],
      "execution_count": 0,
      "outputs": [
        {
          "output_type": "stream",
          "text": [
            "/usr/local/lib/python3.6/dist-packages/sklearn/linear_model/ridge.py:147: LinAlgWarning: Ill-conditioned matrix (rcond=3.71101e-18): result may not be accurate.\n",
            "  overwrite_a=True).T\n"
          ],
          "name": "stderr"
        },
        {
          "output_type": "stream",
          "text": [
            "<class 'sklearn.linear_model.ridge.Ridge'>\n",
            "3.786931618470782\n",
            "++++++++++++\n"
          ],
          "name": "stdout"
        },
        {
          "output_type": "stream",
          "text": [
            "/usr/local/lib/python3.6/dist-packages/sklearn/linear_model/coordinate_descent.py:475: ConvergenceWarning: Objective did not converge. You might want to increase the number of iterations. Duality gap: 2.1680913262957267e+17, tolerance: 47468811498506.81\n",
            "  positive)\n"
          ],
          "name": "stderr"
        },
        {
          "output_type": "stream",
          "text": [
            "<class 'sklearn.linear_model.coordinate_descent.Lasso'>\n",
            "3.786592004809521\n",
            "++++++++++++\n",
            "<class 'sklearn.linear_model.base.LinearRegression'>\n",
            "3.7869316483823123\n",
            "++++++++++++\n",
            "<class 'lightgbm.sklearn.LGBMRegressor'>\n",
            "1.5232593520121835\n",
            "++++++++++++\n",
            "0:\tlearn: 1.7484424\ttotal: 8.17s\tremaining: 1m 13s\n",
            "1:\tlearn: 1.7255085\ttotal: 14.9s\tremaining: 59.4s\n",
            "2:\tlearn: 1.7036482\ttotal: 20.7s\tremaining: 48.3s\n",
            "3:\tlearn: 1.6825374\ttotal: 26.5s\tremaining: 39.8s\n",
            "4:\tlearn: 1.6624226\ttotal: 32.4s\tremaining: 32.4s\n",
            "5:\tlearn: 1.6417114\ttotal: 38.2s\tremaining: 25.5s\n",
            "6:\tlearn: 1.6233697\ttotal: 43.8s\tremaining: 18.8s\n",
            "7:\tlearn: 1.6043289\ttotal: 49.6s\tremaining: 12.4s\n",
            "8:\tlearn: 1.5865987\ttotal: 55.8s\tremaining: 6.2s\n",
            "9:\tlearn: 1.5695606\ttotal: 1m 1s\tremaining: 0us\n",
            "Cat\n",
            "0.35068822237497216\n"
          ],
          "name": "stdout"
        }
      ]
    },
    {
      "cell_type": "code",
      "metadata": {
        "id": "cpUtTzsovq30",
        "colab_type": "code",
        "outputId": "f3c01c75-9f88-4a16-d287-5c07cdcc1e51",
        "colab": {
          "base_uri": "https://localhost:8080/",
          "height": 541
        }
      },
      "source": [
        "experement(models, model_cat, train, b1099=True, logtarget= False)"
      ],
      "execution_count": 0,
      "outputs": [
        {
          "output_type": "stream",
          "text": [
            "(18338747, 24)\n",
            "(18335396, 24)\n"
          ],
          "name": "stdout"
        },
        {
          "output_type": "stream",
          "text": [
            "/usr/local/lib/python3.6/dist-packages/sklearn/linear_model/ridge.py:147: LinAlgWarning: Ill-conditioned matrix (rcond=3.67782e-18): result may not be accurate.\n",
            "  overwrite_a=True).T\n"
          ],
          "name": "stderr"
        },
        {
          "output_type": "stream",
          "text": [
            "<class 'sklearn.linear_model.ridge.Ridge'>\n",
            "2.4978813080937936\n",
            "++++++++++++\n"
          ],
          "name": "stdout"
        },
        {
          "output_type": "stream",
          "text": [
            "/usr/local/lib/python3.6/dist-packages/sklearn/linear_model/coordinate_descent.py:475: ConvergenceWarning: Objective did not converge. You might want to increase the number of iterations. Duality gap: 161016807948030.72, tolerance: 36141603501.123535\n",
            "  positive)\n"
          ],
          "name": "stderr"
        },
        {
          "output_type": "stream",
          "text": [
            "<class 'sklearn.linear_model.coordinate_descent.Lasso'>\n",
            "2.4950934418466173\n",
            "++++++++++++\n",
            "<class 'sklearn.linear_model.base.LinearRegression'>\n",
            "2.4978813556998443\n",
            "++++++++++++\n",
            "<class 'lightgbm.sklearn.LGBMRegressor'>\n",
            "1.1686623591557126\n",
            "++++++++++++\n",
            "0:\tlearn: 1.7421539\ttotal: 8.74s\tremaining: 1m 18s\n",
            "1:\tlearn: 1.7193771\ttotal: 14.8s\tremaining: 59.1s\n",
            "2:\tlearn: 1.6976280\ttotal: 20.8s\tremaining: 48.5s\n",
            "3:\tlearn: 1.6766732\ttotal: 27.5s\tremaining: 41.3s\n",
            "4:\tlearn: 1.6556997\ttotal: 33.3s\tremaining: 33.3s\n",
            "5:\tlearn: 1.6349993\ttotal: 39.5s\tremaining: 26.4s\n",
            "6:\tlearn: 1.6152567\ttotal: 45.4s\tremaining: 19.4s\n",
            "7:\tlearn: 1.5969763\ttotal: 51.1s\tremaining: 12.8s\n",
            "8:\tlearn: 1.5801104\ttotal: 56.9s\tremaining: 6.32s\n",
            "9:\tlearn: 1.5640803\ttotal: 1m 2s\tremaining: 0us\n",
            "Cat\n",
            "0.35015250357874433\n"
          ],
          "name": "stdout"
        }
      ]
    },
    {
      "cell_type": "code",
      "metadata": {
        "id": "RX-BEVG_vq0v",
        "colab_type": "code",
        "outputId": "7613ce93-dac4-45a3-a9cb-79f5364fac84",
        "colab": {
          "base_uri": "https://localhost:8080/",
          "height": 487
        }
      },
      "source": [
        "experement(models, model_cat, train, b1099=True, logtarget= True)"
      ],
      "execution_count": 0,
      "outputs": [
        {
          "output_type": "stream",
          "text": [
            "(18338747, 24)\n",
            "(18335396, 24)\n"
          ],
          "name": "stdout"
        },
        {
          "output_type": "stream",
          "text": [
            "/usr/local/lib/python3.6/dist-packages/sklearn/linear_model/ridge.py:147: LinAlgWarning: Ill-conditioned matrix (rcond=3.67782e-18): result may not be accurate.\n",
            "  overwrite_a=True).T\n"
          ],
          "name": "stderr"
        },
        {
          "output_type": "stream",
          "text": [
            "<class 'sklearn.linear_model.ridge.Ridge'>\n",
            "0.3277940135979935\n",
            "++++++++++++\n",
            "<class 'sklearn.linear_model.coordinate_descent.Lasso'>\n",
            "0.15235395758137768\n",
            "++++++++++++\n",
            "<class 'sklearn.linear_model.base.LinearRegression'>\n",
            "0.08764896055091963\n",
            "++++++++++++\n",
            "<class 'lightgbm.sklearn.LGBMRegressor'>\n",
            "0.0269436749345475\n",
            "++++++++++++\n",
            "0:\tlearn: 0.0633184\ttotal: 7.82s\tremaining: 1m 10s\n",
            "1:\tlearn: 0.0627722\ttotal: 13.4s\tremaining: 53.6s\n",
            "2:\tlearn: 0.0622539\ttotal: 19.4s\tremaining: 45.2s\n",
            "3:\tlearn: 0.0617583\ttotal: 24.7s\tremaining: 37.1s\n",
            "4:\tlearn: 0.0612845\ttotal: 30.1s\tremaining: 30.1s\n",
            "5:\tlearn: 0.0608345\ttotal: 35.3s\tremaining: 23.5s\n",
            "6:\tlearn: 0.0604072\ttotal: 40.6s\tremaining: 17.4s\n",
            "7:\tlearn: 0.0599961\ttotal: 46.7s\tremaining: 11.7s\n",
            "8:\tlearn: 0.0596054\ttotal: 52.3s\tremaining: 5.81s\n",
            "9:\tlearn: 0.0592327\ttotal: 57.5s\tremaining: 0us\n",
            "Cat\n",
            "0.04330890282820915\n"
          ],
          "name": "stdout"
        }
      ]
    },
    {
      "cell_type": "code",
      "metadata": {
        "id": "AO5UD4u5vqyp",
        "colab_type": "code",
        "outputId": "606cf49f-13fc-455a-f181-2526d634a4ff",
        "colab": {
          "base_uri": "https://localhost:8080/",
          "height": 487
        }
      },
      "source": [
        "experement(models, model_cat, train, b1099=False, logtarget= True)"
      ],
      "execution_count": 0,
      "outputs": [
        {
          "output_type": "stream",
          "text": [
            "(18338747, 24)\n",
            "(18338747, 24)\n"
          ],
          "name": "stdout"
        },
        {
          "output_type": "stream",
          "text": [
            "/usr/local/lib/python3.6/dist-packages/sklearn/linear_model/ridge.py:147: LinAlgWarning: Ill-conditioned matrix (rcond=3.71101e-18): result may not be accurate.\n",
            "  overwrite_a=True).T\n"
          ],
          "name": "stderr"
        },
        {
          "output_type": "stream",
          "text": [
            "<class 'sklearn.linear_model.ridge.Ridge'>\n",
            "0.32788688770111013\n",
            "++++++++++++\n",
            "<class 'sklearn.linear_model.coordinate_descent.Lasso'>\n",
            "0.15237099727035744\n",
            "++++++++++++\n",
            "<class 'sklearn.linear_model.base.LinearRegression'>\n",
            "0.08764820764994916\n",
            "++++++++++++\n",
            "<class 'lightgbm.sklearn.LGBMRegressor'>\n",
            "0.027208684935232697\n",
            "++++++++++++\n",
            "0:\tlearn: 0.0633222\ttotal: 7.98s\tremaining: 1m 11s\n",
            "1:\tlearn: 0.0627814\ttotal: 14.2s\tremaining: 56.8s\n",
            "2:\tlearn: 0.0622610\ttotal: 19.9s\tremaining: 46.3s\n",
            "3:\tlearn: 0.0617628\ttotal: 25.8s\tremaining: 38.7s\n",
            "4:\tlearn: 0.0612882\ttotal: 31s\tremaining: 31s\n",
            "5:\tlearn: 0.0608390\ttotal: 36.3s\tremaining: 24.2s\n",
            "6:\tlearn: 0.0604054\ttotal: 42s\tremaining: 18s\n",
            "7:\tlearn: 0.0599938\ttotal: 47.2s\tremaining: 11.8s\n",
            "8:\tlearn: 0.0596024\ttotal: 52.9s\tremaining: 5.88s\n",
            "9:\tlearn: 0.0592294\ttotal: 58.6s\tremaining: 0us\n",
            "Cat\n",
            "0.043300734992159653\n"
          ],
          "name": "stdout"
        }
      ]
    },
    {
      "cell_type": "markdown",
      "metadata": {
        "id": "nJFf5ybKKJfU",
        "colab_type": "text"
      },
      "source": [
        "default 1.09 kaggle, true, true"
      ]
    },
    {
      "cell_type": "markdown",
      "metadata": {
        "id": "GdWydwZHzCwt",
        "colab_type": "text"
      },
      "source": [
        "add scale"
      ]
    },
    {
      "cell_type": "code",
      "metadata": {
        "id": "0sZWdwQ6WI3c",
        "colab_type": "code",
        "outputId": "41213437-3cca-4bbc-feaf-7797fa273af3",
        "colab": {
          "base_uri": "https://localhost:8080/",
          "height": 538
        }
      },
      "source": [
        "experement(models, model_cat, train, b1099=False, logtarget= True, scaler = True, timestamp = False)"
      ],
      "execution_count": 0,
      "outputs": [
        {
          "output_type": "stream",
          "text": [
            "(18338747, 24)\n",
            "(18338747, 24)\n",
            "log target\n",
            "Scale\n",
            "<class 'sklearn.linear_model.ridge.Ridge'>\n",
            "9.155661089576492\n",
            "++++++++++++\n",
            "<class 'sklearn.linear_model.coordinate_descent.Lasso'>\n",
            "0.38303437714773436\n",
            "++++++++++++\n",
            "<class 'sklearn.linear_model.base.LinearRegression'>\n",
            "1.7004447887192375\n",
            "++++++++++++\n",
            "<class 'lightgbm.sklearn.LGBMRegressor'>\n",
            "0.42091667836173524\n",
            "++++++++++++\n",
            "Scale lgbm.....\n",
            "Save scale timestamp :}} \n",
            "(18338747, 11) (18338747, 13)\n",
            "0:\tlearn: 1.7484424\ttotal: 2.65s\tremaining: 23.8s\n",
            "1:\tlearn: 1.7255085\ttotal: 4.16s\tremaining: 16.6s\n",
            "2:\tlearn: 1.7036482\ttotal: 5.44s\tremaining: 12.7s\n",
            "3:\tlearn: 1.6825374\ttotal: 6.48s\tremaining: 9.72s\n",
            "4:\tlearn: 1.6624226\ttotal: 7.87s\tremaining: 7.87s\n",
            "5:\tlearn: 1.6417114\ttotal: 8.94s\tremaining: 5.96s\n",
            "6:\tlearn: 1.6233697\ttotal: 10s\tremaining: 4.29s\n",
            "7:\tlearn: 1.6043289\ttotal: 11.3s\tremaining: 2.83s\n",
            "8:\tlearn: 1.5865987\ttotal: 12.6s\tremaining: 1.39s\n",
            "9:\tlearn: 1.5695606\ttotal: 14s\tremaining: 0us\n",
            "Cat\n",
            "0.35068822237497216\n"
          ],
          "name": "stdout"
        }
      ]
    },
    {
      "cell_type": "code",
      "metadata": {
        "id": "EJTeulXWjaoi",
        "colab_type": "code",
        "outputId": "d24fe864-5d05-47aa-f51d-13833908b752",
        "colab": {
          "base_uri": "https://localhost:8080/",
          "height": 521
        }
      },
      "source": [
        "experement(models, model_cat, train, b1099=True, logtarget= False, scaler = True, timestamp = False)"
      ],
      "execution_count": 0,
      "outputs": [
        {
          "output_type": "stream",
          "text": [
            "(18338747, 24)\n",
            "(18335396, 24)\n",
            "Scale\n",
            "<class 'sklearn.linear_model.ridge.Ridge'>\n",
            "[87758470.356816]\n",
            "++++++++++++\n",
            "<class 'sklearn.linear_model.coordinate_descent.Lasso'>\n",
            "[87507080.86138201]\n",
            "++++++++++++\n",
            "<class 'sklearn.linear_model.base.LinearRegression'>\n",
            "[9.971850287047176e+18]\n",
            "++++++++++++\n",
            "<class 'lightgbm.sklearn.LGBMRegressor'>\n",
            "[23500.630888958298]\n",
            "++++++++++++\n",
            "Scale lgbm.....\n",
            "Save scale timestamp :}} \n",
            "(18335396, 11) (18335396, 13)\n",
            "0:\tlearn: 4423.7189774\ttotal: 1.76s\tremaining: 15.9s\n",
            "1:\tlearn: 4408.6028081\ttotal: 3.28s\tremaining: 13.1s\n",
            "2:\tlearn: 4394.3002897\ttotal: 4.33s\tremaining: 10.1s\n",
            "3:\tlearn: 4380.8139079\ttotal: 5.38s\tremaining: 8.07s\n",
            "4:\tlearn: 4368.0703436\ttotal: 6.63s\tremaining: 6.63s\n",
            "5:\tlearn: 4356.0219133\ttotal: 7.66s\tremaining: 5.11s\n",
            "6:\tlearn: 4344.6652428\ttotal: 8.85s\tremaining: 3.79s\n",
            "7:\tlearn: 4333.8777850\ttotal: 10s\tremaining: 2.5s\n",
            "8:\tlearn: 4323.6647653\ttotal: 11.2s\tremaining: 1.25s\n",
            "9:\tlearn: 4314.0320884\ttotal: 12.3s\tremaining: 0us\n",
            "Cat\n",
            "[4314.024230996538]\n"
          ],
          "name": "stdout"
        }
      ]
    },
    {
      "cell_type": "code",
      "metadata": {
        "id": "QDIX1nQQjacB",
        "colab_type": "code",
        "outputId": "10f673cb-7880-4ea4-a699-1b84c6adb9a2",
        "colab": {
          "base_uri": "https://localhost:8080/",
          "height": 504
        }
      },
      "source": [
        "experement(models, model_cat, train, b1099=True, logtarget= True, scaler = False, timestamp = False)"
      ],
      "execution_count": 0,
      "outputs": [
        {
          "output_type": "stream",
          "text": [
            "(18338747, 24)\n",
            "(18335396, 24)\n",
            "log target\n"
          ],
          "name": "stdout"
        },
        {
          "output_type": "stream",
          "text": [
            "/usr/local/lib/python3.6/dist-packages/sklearn/linear_model/ridge.py:147: LinAlgWarning: Ill-conditioned matrix (rcond=3.67782e-18): result may not be accurate.\n",
            "  overwrite_a=True).T\n"
          ],
          "name": "stderr"
        },
        {
          "output_type": "stream",
          "text": [
            "<class 'sklearn.linear_model.ridge.Ridge'>\n",
            "0.3277940135979935\n",
            "++++++++++++\n",
            "<class 'sklearn.linear_model.coordinate_descent.Lasso'>\n",
            "0.33763165895602415\n",
            "++++++++++++\n",
            "<class 'sklearn.linear_model.base.LinearRegression'>\n",
            "0.32779401358105187\n",
            "++++++++++++\n",
            "<class 'lightgbm.sklearn.LGBMRegressor'>\n",
            "0.14141168519030134\n",
            "++++++++++++\n",
            "0:\tlearn: 1.7421539\ttotal: 1.8s\tremaining: 16.2s\n",
            "1:\tlearn: 1.7193771\ttotal: 3.15s\tremaining: 12.6s\n",
            "2:\tlearn: 1.6976280\ttotal: 4.46s\tremaining: 10.4s\n",
            "3:\tlearn: 1.6766732\ttotal: 5.84s\tremaining: 8.76s\n",
            "4:\tlearn: 1.6556997\ttotal: 7.24s\tremaining: 7.24s\n",
            "5:\tlearn: 1.6349993\ttotal: 8.64s\tremaining: 5.76s\n",
            "6:\tlearn: 1.6152567\ttotal: 9.77s\tremaining: 4.19s\n",
            "7:\tlearn: 1.5969763\ttotal: 11.3s\tremaining: 2.84s\n",
            "8:\tlearn: 1.5801104\ttotal: 12.4s\tremaining: 1.38s\n",
            "9:\tlearn: 1.5640803\ttotal: 13.5s\tremaining: 0us\n",
            "Cat\n",
            "0.35015250357874433\n"
          ],
          "name": "stdout"
        }
      ]
    },
    {
      "cell_type": "markdown",
      "metadata": {
        "id": "HDGMh5wM0B-k",
        "colab_type": "text"
      },
      "source": [
        "1.064558 kaggle with scale but strange, true, true, true, false\n",
        "\n",
        "\n",
        "\n",
        "\n",
        "\n",
        "\n"
      ]
    },
    {
      "cell_type": "markdown",
      "metadata": {
        "id": "UL5dTBHD_wlV",
        "colab_type": "text"
      },
      "source": [
        "#loop drops features"
      ]
    },
    {
      "cell_type": "code",
      "metadata": {
        "id": "OGciI21N_wAX",
        "colab_type": "code",
        "colab": {}
      },
      "source": [
        "drop_1 = ['air_temperature','rolling_forw_air_temperature', 'hour', 'site_id', 'rec_rh'] # 1.99\n",
        "drop_2 = ['dayofyear', 'dew_temperature', 'primary_use', 'rec_air', 'floor_count', 'air_temperature', 'wind_direction'] #1.93\n",
        "drop_3 = ['dew_temperature', 'rec_rh', 'rh', 'rolling_forw_air_temperature', 'air_temperature', 'wind_direction', 'hour']#1.95\n",
        "drop_4 = ['rh', 'air_temperature', 'dew_temperature', 'wind_speed', 'wind_direction', 'rec_air', 'dayofyear']#1.97"
      ],
      "execution_count": 0,
      "outputs": []
    },
    {
      "cell_type": "code",
      "metadata": {
        "id": "oqodZuuf4bph",
        "colab_type": "code",
        "colab": {}
      },
      "source": [
        "def frac_data(data, frac):\n",
        "    return data if frac == 1 else np.random.choice(data, int(len(data) * frac), replace=False)\n",
        "\n",
        "def idx_split(df, frac):\n",
        "  idx = np.argsort(df.timestamp.values, kind='stable')\n",
        "  split = np.array_split(idx, 12)\n",
        "  box = []\n",
        "  for x in range(0, 12, 2):\n",
        "    test_idx = np.concatenate(split[x:x + 2])\n",
        "    train_idx = np.concatenate([split[ix % 12] for ix in range(x + 3, x + 11)])\n",
        "    box.append((frac_data(train_idx, frac), frac_data(test_idx, frac)))\n",
        "  return box\n",
        "\n",
        "def cv_model(model, split, X, y, verbose = True):\n",
        "  box = []\n",
        "  by_splits = pd.DataFrame()\n",
        "  for n, (train_idx, test_idx) in enumerate(split):\n",
        "    train = X.iloc[train_idx]\n",
        "    target = y.reindex_like(train)\n",
        "    test = X.iloc[test_idx]\n",
        "    target_test = y.reindex_like(test)\n",
        "    print(f'Fit model {n}')    \n",
        "    model.fit(train, target)          \n",
        "    box.append(pd.DataFrame(dict(target=target_test,\n",
        "                                 prediction=model.predict(test)),\n",
        "                                 index=target_test.index))    \n",
        "    by_splits.loc[n, 'train'] = np.sqrt(mean_squared_log_error(np.expm1(target), np.clip(np.expm1(model.predict(train)), 0, None)))\n",
        "    by_splits.loc[n, 'test'] = np.sqrt(mean_squared_log_error(np.expm1(target_test), np.clip(np.expm1(model.predict(test)), 0, None)))     \n",
        "      \n",
        "  result = pd.concat(box).sort_index()  #check???  \n",
        "  y = np.expm1(result.target)\n",
        "  pred = np.expm1(result.prediction)\n",
        "  if verbose:\n",
        "    print(f'RMSE: {np.sqrt(mean_squared_log_error(y, np.clip(pred, 0, None)))}')\n",
        "    print('--------------------')\n",
        "  print(model.__class__)\n",
        "  by_splits['std'] = by_splits.std(axis = 1, ddof = 1)\n",
        "  display(by_splits)\n",
        "  print(f'Std train: {by_splits.std()[0]}, Std test: {by_splits.std()[1]}')"
      ],
      "execution_count": 0,
      "outputs": []
    },
    {
      "cell_type": "code",
      "metadata": {
        "id": "6aRFO2u-yshq",
        "colab_type": "code",
        "colab": {}
      },
      "source": [
        "def experement(model, model_cat, data, frac = 0.25, b1099=False, logtarget= False, scaler = False, timestamp = True):\n",
        "  #same change for cv\n",
        "  scale = StandardScaler()  \n",
        "  X = data.drop('meter_reading', axis = 1)\n",
        "  y = data.meter_reading\n",
        "  print(X.shape)\n",
        "  \n",
        "  if b1099:\n",
        "    idx = find_bad_building1099(data)\n",
        "    X = X.drop(idx)\n",
        "    y = y.drop(idx)\n",
        "  \n",
        "  print(X.shape) \n",
        "  splits = idx_split(X, frac) \n",
        "\n",
        "  if logtarget:\n",
        "    print('log target')\n",
        "    y = np.log1p(y)\n",
        " \n",
        "  x = X.copy() \n",
        "  if scaler: \n",
        "    print(\"Scale\")           \n",
        "    x = pd.DataFrame(scale.fit_transform(x), columns = X.columns, index= X.index)\n",
        "\n",
        "  for reg in models:\n",
        "    cv_model(reg, splits, x, y, verbose = True)    \n",
        "  del x\n",
        "\n",
        "  idx_cat = np.where(data.drop(['meter_reading'], axis = 'columns').dtypes == 'category')[0]\n",
        "  idx_for_scale = np.where(data.drop(['meter_reading'], axis = 'columns').dtypes != 'category')[0]  \n",
        "\n",
        "  if scaler:  \n",
        "    print('Scale cat....')\n",
        "    if timestamp:\n",
        "      print('Draped timestamp ((: ')\n",
        "      X_cat = X.iloc[:, idx_cat]\n",
        "      times = X.iloc[:, idx_for_scale].timestamp\n",
        "      X_cat = pd.concat([X_cat, times], axis = 'columns')      \n",
        "      X_to_scale = scale.fit_transform(X.iloc[:, idx_for_scale[1:]])   \n",
        "      X_scale = pd.DataFrame(X_to_scale, columns = X.iloc[:, idx_for_scale[1:]].columns, index = X.index)\n",
        "      del times  \n",
        "    else:\n",
        "      print('Save scale timestamp :}} ')\n",
        "      X_cat = X.iloc[:, idx_cat]\n",
        "      X_to_scale = scale.fit_transform(X.iloc[:, idx_for_scale])    \n",
        "      X_scale = pd.DataFrame(X_to_scale, columns = X.iloc[:, idx_for_scale].columns, index = X.index)   \n",
        "    print(X_cat.shape, X_scale.shape)        \n",
        "    X = pd.concat([X_cat, X_scale], axis = 'columns')\n",
        "    idx_cat = np.where(X.dtypes == 'category')[0]  \n",
        "    del X_cat    \n",
        "    del X_scale\n",
        "    gc.collect()\n",
        "\n",
        "  train_pool = Pool(\n",
        "      data=X, \n",
        "      label=y, \n",
        "      cat_features=idx_cat,\n",
        "      ) \n",
        "  \n",
        "  params = {\"iterations\": 10, \n",
        "            'depth': 2}\n",
        "  scores = cv(train_pool,\n",
        "              params,\n",
        "              folds = splits)\n",
        "  display(scores)"
      ],
      "execution_count": 0,
      "outputs": []
    },
    {
      "cell_type": "code",
      "metadata": {
        "id": "LISwmQdb7_ic",
        "colab_type": "code",
        "outputId": "535ddd0c-078b-4ab5-a315-fff235e24bb1",
        "colab": {
          "base_uri": "https://localhost:8080/",
          "height": 470
        }
      },
      "source": [
        "experement(models, model_cat, train, frac = 0.25, b1099=True, logtarget= True, scaler = True, timestamp = True)"
      ],
      "execution_count": 0,
      "outputs": [
        {
          "output_type": "stream",
          "text": [
            "(18338747, 24)\n",
            "(18335396, 24)\n",
            "log target\n",
            "Scale lgbm.....\n",
            "Save scale timestamp :}} \n",
            "(18335396, 11) (18335396, 13)\n",
            "0:\tlearn: 4.7628900\ttest: 4.7639475\tbest: 4.7639475 (0)\ttotal: 15s\tremaining: 2m 14s\n",
            "1:\tlearn: 4.6337321\ttest: 4.6350758\tbest: 4.6350758 (1)\ttotal: 21.9s\tremaining: 1m 27s\n",
            "2:\tlearn: 4.5087719\ttest: 4.5109610\tbest: 4.5109610 (2)\ttotal: 29.2s\tremaining: 1m 8s\n",
            "3:\tlearn: 4.3878806\ttest: 4.3909231\tbest: 4.3909231 (3)\ttotal: 36.4s\tremaining: 54.6s\n",
            "4:\tlearn: 4.2710304\ttest: 4.2748353\tbest: 4.2748353 (4)\ttotal: 43.3s\tremaining: 43.3s\n",
            "5:\tlearn: 4.1580247\ttest: 4.1626897\tbest: 4.1626897 (5)\ttotal: 50.3s\tremaining: 33.5s\n",
            "6:\tlearn: 4.0486956\ttest: 4.0534172\tbest: 4.0534172 (6)\ttotal: 57.1s\tremaining: 24.5s\n",
            "7:\tlearn: 3.9431087\ttest: 3.9486959\tbest: 3.9486959 (7)\ttotal: 1m 3s\tremaining: 16s\n",
            "8:\tlearn: 3.8408514\ttest: 3.8465484\tbest: 3.8465484 (8)\ttotal: 1m 10s\tremaining: 7.86s\n",
            "9:\tlearn: 3.7420691\ttest: 3.7483621\tbest: 3.7483621 (9)\ttotal: 1m 17s\tremaining: 0us\n",
            "   iterations  test-RMSE-mean  test-RMSE-std  train-RMSE-mean  train-RMSE-std\n",
            "0           0        4.763947       0.054384         4.762890        0.020703\n",
            "1           1        4.635076       0.055441         4.633732        0.020147\n",
            "2           2        4.510961       0.056316         4.508772        0.019640\n",
            "3           3        4.390923       0.057188         4.387881        0.019191\n",
            "4           4        4.274835       0.057991         4.271030        0.018729\n",
            "5           5        4.162690       0.058833         4.158025        0.018294\n",
            "6           6        4.053417       0.059244         4.048696        0.017836\n",
            "7           7        3.948696       0.060109         3.943109        0.017401\n",
            "8           8        3.846548       0.060390         3.840851        0.017032\n",
            "9           9        3.748362       0.061164         3.742069        0.016725\n"
          ],
          "name": "stdout"
        }
      ]
    },
    {
      "cell_type": "code",
      "metadata": {
        "id": "qYqdtlGWNi-p",
        "colab_type": "code",
        "outputId": "e6ec21dc-a957-452a-ef2a-f49bf958c9ea",
        "colab": {
          "base_uri": "https://localhost:8080/",
          "height": 470
        }
      },
      "source": [
        "experement(models, model_cat, train, frac = 0.25, b1099=True, logtarget= True, scaler = True, timestamp = True)"
      ],
      "execution_count": 0,
      "outputs": [
        {
          "output_type": "stream",
          "text": [
            "(18338747, 24)\n",
            "(18335396, 24)\n",
            "log target\n",
            "Scale lgbm.....\n",
            "Draped timestamp ((: \n",
            "(18335396, 12) (18335396, 12)\n",
            "0:\tlearn: 4.7637708\ttest: 4.7644918\tbest: 4.7644918 (0)\ttotal: 11.9s\tremaining: 1m 46s\n",
            "1:\tlearn: 4.6345355\ttest: 4.6357332\tbest: 4.6357332 (1)\ttotal: 17.2s\tremaining: 1m 8s\n",
            "2:\tlearn: 4.5095648\ttest: 4.5116171\tbest: 4.5116171 (2)\ttotal: 22.7s\tremaining: 53.1s\n",
            "3:\tlearn: 4.3886675\ttest: 4.3915772\tbest: 4.3915772 (3)\ttotal: 28.3s\tremaining: 42.4s\n",
            "4:\tlearn: 4.2718114\ttest: 4.2755766\tbest: 4.2755766 (4)\ttotal: 33.5s\tremaining: 33.5s\n",
            "5:\tlearn: 4.1588107\ttest: 4.1634391\tbest: 4.1634391 (5)\ttotal: 38.9s\tremaining: 25.9s\n",
            "6:\tlearn: 4.0494548\ttest: 4.0541495\tbest: 4.0541495 (6)\ttotal: 44.2s\tremaining: 19s\n",
            "7:\tlearn: 3.9438747\ttest: 3.9494307\tbest: 3.9494307 (7)\ttotal: 49.5s\tremaining: 12.4s\n",
            "8:\tlearn: 3.8416097\ttest: 3.8472761\tbest: 3.8472761 (8)\ttotal: 54.9s\tremaining: 6.1s\n",
            "9:\tlearn: 3.7429717\ttest: 3.7494682\tbest: 3.7494682 (9)\ttotal: 1m\tremaining: 0us\n",
            "   iterations  test-RMSE-mean  test-RMSE-std  train-RMSE-mean  train-RMSE-std\n",
            "0           0        4.764492       0.054020         4.763771        0.020200\n",
            "1           1        4.635733       0.055003         4.634535        0.019684\n",
            "2           2        4.511617       0.055864         4.509565        0.019187\n",
            "3           3        4.391577       0.056729         4.388667        0.018747\n",
            "4           4        4.275577       0.057557         4.271811        0.018292\n",
            "5           5        4.163439       0.058394         4.158811        0.017860\n",
            "6           6        4.054149       0.058782         4.049455        0.017411\n",
            "7           7        3.949431       0.059644         3.943875        0.016981\n",
            "8           8        3.847276       0.059919         3.841610        0.016613\n",
            "9           9        3.749468       0.060694         3.742972        0.016288\n"
          ],
          "name": "stdout"
        }
      ]
    },
    {
      "cell_type": "code",
      "metadata": {
        "id": "LlMxA9uLPGgb",
        "colab_type": "code",
        "outputId": "e74c16a1-6143-4795-d8bd-50ab6827bd0e",
        "colab": {
          "base_uri": "https://localhost:8080/",
          "height": 1000
        }
      },
      "source": [
        "experement(models, model_cat, train, frac = 0.25, b1099=True, logtarget= True, scaler = True, timestamp = True)"
      ],
      "execution_count": 0,
      "outputs": [
        {
          "output_type": "stream",
          "text": [
            "(18338747, 24)\n",
            "(18335396, 24)\n",
            "log target\n",
            "Scale\n",
            "Fit model 0\n",
            "Fit model 1\n",
            "Fit model 2\n",
            "Fit model 3\n",
            "Fit model 4\n",
            "Fit model 5\n",
            "RMSE: 1.4702083799335344\n",
            "--------------------\n",
            "<class 'sklearn.linear_model.ridge.Ridge'>\n"
          ],
          "name": "stdout"
        },
        {
          "output_type": "display_data",
          "data": {
            "text/html": [
              "<div>\n",
              "<style scoped>\n",
              "    .dataframe tbody tr th:only-of-type {\n",
              "        vertical-align: middle;\n",
              "    }\n",
              "\n",
              "    .dataframe tbody tr th {\n",
              "        vertical-align: top;\n",
              "    }\n",
              "\n",
              "    .dataframe thead th {\n",
              "        text-align: right;\n",
              "    }\n",
              "</style>\n",
              "<table border=\"1\" class=\"dataframe\">\n",
              "  <thead>\n",
              "    <tr style=\"text-align: right;\">\n",
              "      <th></th>\n",
              "      <th>train</th>\n",
              "      <th>test</th>\n",
              "      <th>std</th>\n",
              "    </tr>\n",
              "  </thead>\n",
              "  <tbody>\n",
              "    <tr>\n",
              "      <th>0</th>\n",
              "      <td>1.445719</td>\n",
              "      <td>1.496729</td>\n",
              "      <td>0.036069</td>\n",
              "    </tr>\n",
              "    <tr>\n",
              "      <th>1</th>\n",
              "      <td>1.469047</td>\n",
              "      <td>1.419103</td>\n",
              "      <td>0.035316</td>\n",
              "    </tr>\n",
              "    <tr>\n",
              "      <th>2</th>\n",
              "      <td>1.454038</td>\n",
              "      <td>1.465345</td>\n",
              "      <td>0.007995</td>\n",
              "    </tr>\n",
              "    <tr>\n",
              "      <th>3</th>\n",
              "      <td>1.443724</td>\n",
              "      <td>1.494474</td>\n",
              "      <td>0.035886</td>\n",
              "    </tr>\n",
              "    <tr>\n",
              "      <th>4</th>\n",
              "      <td>1.454213</td>\n",
              "      <td>1.457987</td>\n",
              "      <td>0.002668</td>\n",
              "    </tr>\n",
              "    <tr>\n",
              "      <th>5</th>\n",
              "      <td>1.442626</td>\n",
              "      <td>1.486140</td>\n",
              "      <td>0.030768</td>\n",
              "    </tr>\n",
              "  </tbody>\n",
              "</table>\n",
              "</div>"
            ],
            "text/plain": [
              "      train      test       std\n",
              "0  1.445719  1.496729  0.036069\n",
              "1  1.469047  1.419103  0.035316\n",
              "2  1.454038  1.465345  0.007995\n",
              "3  1.443724  1.494474  0.035886\n",
              "4  1.454213  1.457987  0.002668\n",
              "5  1.442626  1.486140  0.030768"
            ]
          },
          "metadata": {
            "tags": []
          }
        },
        {
          "output_type": "stream",
          "text": [
            "Std train: 0.009942896570840912, Std test: 0.02942901833848134\n",
            "Fit model 0\n",
            "Fit model 1\n",
            "Fit model 2\n",
            "Fit model 3\n",
            "Fit model 4\n",
            "Fit model 5\n",
            "RMSE: 1.7668267704493763\n",
            "--------------------\n",
            "<class 'sklearn.linear_model.coordinate_descent.Lasso'>\n"
          ],
          "name": "stdout"
        },
        {
          "output_type": "display_data",
          "data": {
            "text/html": [
              "<div>\n",
              "<style scoped>\n",
              "    .dataframe tbody tr th:only-of-type {\n",
              "        vertical-align: middle;\n",
              "    }\n",
              "\n",
              "    .dataframe tbody tr th {\n",
              "        vertical-align: top;\n",
              "    }\n",
              "\n",
              "    .dataframe thead th {\n",
              "        text-align: right;\n",
              "    }\n",
              "</style>\n",
              "<table border=\"1\" class=\"dataframe\">\n",
              "  <thead>\n",
              "    <tr style=\"text-align: right;\">\n",
              "      <th></th>\n",
              "      <th>train</th>\n",
              "      <th>test</th>\n",
              "      <th>std</th>\n",
              "    </tr>\n",
              "  </thead>\n",
              "  <tbody>\n",
              "    <tr>\n",
              "      <th>0</th>\n",
              "      <td>1.745791</td>\n",
              "      <td>1.809517</td>\n",
              "      <td>0.045061</td>\n",
              "    </tr>\n",
              "    <tr>\n",
              "      <th>1</th>\n",
              "      <td>1.772516</td>\n",
              "      <td>1.752556</td>\n",
              "      <td>0.014114</td>\n",
              "    </tr>\n",
              "    <tr>\n",
              "      <th>2</th>\n",
              "      <td>1.776903</td>\n",
              "      <td>1.740911</td>\n",
              "      <td>0.025450</td>\n",
              "    </tr>\n",
              "    <tr>\n",
              "      <th>3</th>\n",
              "      <td>1.773454</td>\n",
              "      <td>1.754571</td>\n",
              "      <td>0.013352</td>\n",
              "    </tr>\n",
              "    <tr>\n",
              "      <th>4</th>\n",
              "      <td>1.774483</td>\n",
              "      <td>1.748288</td>\n",
              "      <td>0.018523</td>\n",
              "    </tr>\n",
              "    <tr>\n",
              "      <th>5</th>\n",
              "      <td>1.752060</td>\n",
              "      <td>1.794004</td>\n",
              "      <td>0.029659</td>\n",
              "    </tr>\n",
              "  </tbody>\n",
              "</table>\n",
              "</div>"
            ],
            "text/plain": [
              "      train      test       std\n",
              "0  1.745791  1.809517  0.045061\n",
              "1  1.772516  1.752556  0.014114\n",
              "2  1.776903  1.740911  0.025450\n",
              "3  1.773454  1.754571  0.013352\n",
              "4  1.774483  1.748288  0.018523\n",
              "5  1.752060  1.794004  0.029659"
            ]
          },
          "metadata": {
            "tags": []
          }
        },
        {
          "output_type": "stream",
          "text": [
            "Std train: 0.013352860497973325, Std test: 0.0280357433896492\n",
            "Fit model 0\n",
            "Fit model 1\n",
            "Fit model 2\n",
            "Fit model 3\n",
            "Fit model 4\n",
            "Fit model 5\n",
            "RMSE: 1.4702066861067125\n",
            "--------------------\n",
            "<class 'sklearn.linear_model.base.LinearRegression'>\n"
          ],
          "name": "stdout"
        },
        {
          "output_type": "display_data",
          "data": {
            "text/html": [
              "<div>\n",
              "<style scoped>\n",
              "    .dataframe tbody tr th:only-of-type {\n",
              "        vertical-align: middle;\n",
              "    }\n",
              "\n",
              "    .dataframe tbody tr th {\n",
              "        vertical-align: top;\n",
              "    }\n",
              "\n",
              "    .dataframe thead th {\n",
              "        text-align: right;\n",
              "    }\n",
              "</style>\n",
              "<table border=\"1\" class=\"dataframe\">\n",
              "  <thead>\n",
              "    <tr style=\"text-align: right;\">\n",
              "      <th></th>\n",
              "      <th>train</th>\n",
              "      <th>test</th>\n",
              "      <th>std</th>\n",
              "    </tr>\n",
              "  </thead>\n",
              "  <tbody>\n",
              "    <tr>\n",
              "      <th>0</th>\n",
              "      <td>1.445719</td>\n",
              "      <td>1.496729</td>\n",
              "      <td>0.036070</td>\n",
              "    </tr>\n",
              "    <tr>\n",
              "      <th>1</th>\n",
              "      <td>1.469048</td>\n",
              "      <td>1.419110</td>\n",
              "      <td>0.035311</td>\n",
              "    </tr>\n",
              "    <tr>\n",
              "      <th>2</th>\n",
              "      <td>1.454038</td>\n",
              "      <td>1.465343</td>\n",
              "      <td>0.007994</td>\n",
              "    </tr>\n",
              "    <tr>\n",
              "      <th>3</th>\n",
              "      <td>1.443726</td>\n",
              "      <td>1.494446</td>\n",
              "      <td>0.035865</td>\n",
              "    </tr>\n",
              "    <tr>\n",
              "      <th>4</th>\n",
              "      <td>1.454214</td>\n",
              "      <td>1.458000</td>\n",
              "      <td>0.002677</td>\n",
              "    </tr>\n",
              "    <tr>\n",
              "      <th>5</th>\n",
              "      <td>1.442626</td>\n",
              "      <td>1.486140</td>\n",
              "      <td>0.030768</td>\n",
              "    </tr>\n",
              "  </tbody>\n",
              "</table>\n",
              "</div>"
            ],
            "text/plain": [
              "      train      test       std\n",
              "0  1.445719  1.496729  0.036070\n",
              "1  1.469048  1.419110  0.035311\n",
              "2  1.454038  1.465343  0.007994\n",
              "3  1.443726  1.494446  0.035865\n",
              "4  1.454214  1.458000  0.002677\n",
              "5  1.442626  1.486140  0.030768"
            ]
          },
          "metadata": {
            "tags": []
          }
        },
        {
          "output_type": "stream",
          "text": [
            "Std train: 0.009943035671234952, Std test: 0.029420988701856988\n",
            "Fit model 0\n",
            "Fit model 1\n",
            "Fit model 2\n",
            "Fit model 3\n",
            "Fit model 4\n",
            "Fit model 5\n",
            "RMSE: 0.9050079335739023\n",
            "--------------------\n",
            "<class 'lightgbm.sklearn.LGBMRegressor'>\n"
          ],
          "name": "stdout"
        },
        {
          "output_type": "display_data",
          "data": {
            "text/html": [
              "<div>\n",
              "<style scoped>\n",
              "    .dataframe tbody tr th:only-of-type {\n",
              "        vertical-align: middle;\n",
              "    }\n",
              "\n",
              "    .dataframe tbody tr th {\n",
              "        vertical-align: top;\n",
              "    }\n",
              "\n",
              "    .dataframe thead th {\n",
              "        text-align: right;\n",
              "    }\n",
              "</style>\n",
              "<table border=\"1\" class=\"dataframe\">\n",
              "  <thead>\n",
              "    <tr style=\"text-align: right;\">\n",
              "      <th></th>\n",
              "      <th>train</th>\n",
              "      <th>test</th>\n",
              "      <th>std</th>\n",
              "    </tr>\n",
              "  </thead>\n",
              "  <tbody>\n",
              "    <tr>\n",
              "      <th>0</th>\n",
              "      <td>0.835485</td>\n",
              "      <td>0.927356</td>\n",
              "      <td>0.064962</td>\n",
              "    </tr>\n",
              "    <tr>\n",
              "      <th>1</th>\n",
              "      <td>0.854486</td>\n",
              "      <td>0.861450</td>\n",
              "      <td>0.004925</td>\n",
              "    </tr>\n",
              "    <tr>\n",
              "      <th>2</th>\n",
              "      <td>0.841791</td>\n",
              "      <td>0.894126</td>\n",
              "      <td>0.037006</td>\n",
              "    </tr>\n",
              "    <tr>\n",
              "      <th>3</th>\n",
              "      <td>0.832435</td>\n",
              "      <td>0.928838</td>\n",
              "      <td>0.068168</td>\n",
              "    </tr>\n",
              "    <tr>\n",
              "      <th>4</th>\n",
              "      <td>0.851234</td>\n",
              "      <td>0.874723</td>\n",
              "      <td>0.016610</td>\n",
              "    </tr>\n",
              "    <tr>\n",
              "      <th>5</th>\n",
              "      <td>0.834643</td>\n",
              "      <td>0.940643</td>\n",
              "      <td>0.074953</td>\n",
              "    </tr>\n",
              "  </tbody>\n",
              "</table>\n",
              "</div>"
            ],
            "text/plain": [
              "      train      test       std\n",
              "0  0.835485  0.927356  0.064962\n",
              "1  0.854486  0.861450  0.004925\n",
              "2  0.841791  0.894126  0.037006\n",
              "3  0.832435  0.928838  0.068168\n",
              "4  0.851234  0.874723  0.016610\n",
              "5  0.834643  0.940643  0.074953"
            ]
          },
          "metadata": {
            "tags": []
          }
        },
        {
          "output_type": "stream",
          "text": [
            "Std train: 0.009258963180290248, Std test: 0.03246103962051747\n",
            "Scale lgbm.....\n",
            "Draped timestamp ((: \n",
            "(18335396, 12) (18335396, 12)\n",
            "0:\tlearn: 4.7632967\ttest: 4.7627189\tbest: 4.7627189 (0)\ttotal: 12.1s\tremaining: 1m 49s\n",
            "1:\tlearn: 4.6340662\ttest: 4.6339784\tbest: 4.6339784 (1)\ttotal: 17.2s\tremaining: 1m 8s\n",
            "2:\tlearn: 4.5091040\ttest: 4.5098815\tbest: 4.5098815 (2)\ttotal: 23s\tremaining: 53.7s\n",
            "3:\tlearn: 4.3882140\ttest: 4.3898668\tbest: 4.3898668 (3)\ttotal: 28.3s\tremaining: 42.4s\n",
            "4:\tlearn: 4.2713657\ttest: 4.2738887\tbest: 4.2738887 (4)\ttotal: 33.4s\tremaining: 33.4s\n",
            "5:\tlearn: 4.1583725\ttest: 4.1617699\tbest: 4.1617699 (5)\ttotal: 38.4s\tremaining: 25.6s\n",
            "6:\tlearn: 4.0490162\ttest: 4.0524894\tbest: 4.0524894 (6)\ttotal: 43.5s\tremaining: 18.6s\n",
            "7:\tlearn: 3.9434687\ttest: 3.9477443\tbest: 3.9477443 (7)\ttotal: 48.6s\tremaining: 12.1s\n",
            "8:\tlearn: 3.8411926\ttest: 3.8455945\tbest: 3.8455945 (8)\ttotal: 53.7s\tremaining: 5.97s\n",
            "9:\tlearn: 3.7423312\ttest: 3.7472697\tbest: 3.7472697 (9)\ttotal: 58.8s\tremaining: 0us\n",
            "   iterations  test-RMSE-mean  test-RMSE-std  train-RMSE-mean  train-RMSE-std\n",
            "0           0        4.762719       0.053464         4.763297        0.020370\n",
            "1           1        4.633978       0.054457         4.634066        0.019850\n",
            "2           2        4.509882       0.055340         4.509104        0.019348\n",
            "3           3        4.389867       0.056211         4.388214        0.018903\n",
            "4           4        4.273889       0.057056         4.271366        0.018444\n",
            "5           5        4.161770       0.057908         4.158373        0.018009\n",
            "6           6        4.052489       0.058303         4.049016        0.017551\n",
            "7           7        3.947744       0.059162         3.943469        0.017103\n",
            "8           8        3.845595       0.059458         3.841193        0.016732\n",
            "9           9        3.747270       0.060315         3.742331        0.016392\n"
          ],
          "name": "stdout"
        }
      ]
    },
    {
      "cell_type": "code",
      "metadata": {
        "id": "yJO9MSxTw8il",
        "colab_type": "code",
        "outputId": "1e59d005-b2f3-4a20-dade-810d27148ce0",
        "colab": {
          "base_uri": "https://localhost:8080/",
          "height": 1000
        }
      },
      "source": [
        "experement(models, model_cat, train, frac = 0.25, b1099=True, logtarget= True, scaler = True, timestamp = True)"
      ],
      "execution_count": 0,
      "outputs": [
        {
          "output_type": "stream",
          "text": [
            "(18338747, 24)\n",
            "(18335396, 24)\n",
            "log target\n",
            "Scale\n",
            "Fit model 0\n",
            "Fit model 1\n",
            "Fit model 2\n",
            "Fit model 3\n",
            "Fit model 4\n",
            "Fit model 5\n",
            "RMSE: 1.470581275870095\n",
            "--------------------\n",
            "<class 'sklearn.linear_model.ridge.Ridge'>\n"
          ],
          "name": "stdout"
        },
        {
          "output_type": "display_data",
          "data": {
            "text/html": [
              "<div>\n",
              "<style scoped>\n",
              "    .dataframe tbody tr th:only-of-type {\n",
              "        vertical-align: middle;\n",
              "    }\n",
              "\n",
              "    .dataframe tbody tr th {\n",
              "        vertical-align: top;\n",
              "    }\n",
              "\n",
              "    .dataframe thead th {\n",
              "        text-align: right;\n",
              "    }\n",
              "</style>\n",
              "<table border=\"1\" class=\"dataframe\">\n",
              "  <thead>\n",
              "    <tr style=\"text-align: right;\">\n",
              "      <th></th>\n",
              "      <th>train</th>\n",
              "      <th>test</th>\n",
              "      <th>std</th>\n",
              "    </tr>\n",
              "  </thead>\n",
              "  <tbody>\n",
              "    <tr>\n",
              "      <th>0</th>\n",
              "      <td>1.445328</td>\n",
              "      <td>1.494736</td>\n",
              "      <td>0.034937</td>\n",
              "    </tr>\n",
              "    <tr>\n",
              "      <th>1</th>\n",
              "      <td>1.468069</td>\n",
              "      <td>1.419730</td>\n",
              "      <td>0.034181</td>\n",
              "    </tr>\n",
              "    <tr>\n",
              "      <th>2</th>\n",
              "      <td>1.453498</td>\n",
              "      <td>1.465087</td>\n",
              "      <td>0.008195</td>\n",
              "    </tr>\n",
              "    <tr>\n",
              "      <th>3</th>\n",
              "      <td>1.443032</td>\n",
              "      <td>1.495638</td>\n",
              "      <td>0.037198</td>\n",
              "    </tr>\n",
              "    <tr>\n",
              "      <th>4</th>\n",
              "      <td>1.456075</td>\n",
              "      <td>1.459692</td>\n",
              "      <td>0.002557</td>\n",
              "    </tr>\n",
              "    <tr>\n",
              "      <th>5</th>\n",
              "      <td>1.441990</td>\n",
              "      <td>1.487169</td>\n",
              "      <td>0.031947</td>\n",
              "    </tr>\n",
              "  </tbody>\n",
              "</table>\n",
              "</div>"
            ],
            "text/plain": [
              "      train      test       std\n",
              "0  1.445328  1.494736  0.034937\n",
              "1  1.468069  1.419730  0.034181\n",
              "2  1.453498  1.465087  0.008195\n",
              "3  1.443032  1.495638  0.037198\n",
              "4  1.456075  1.459692  0.002557\n",
              "5  1.441990  1.487169  0.031947"
            ]
          },
          "metadata": {
            "tags": []
          }
        },
        {
          "output_type": "stream",
          "text": [
            "Std train: 0.009995451898504197, Std test: 0.029054278116385553\n",
            "Fit model 0\n",
            "Fit model 1\n",
            "Fit model 2\n",
            "Fit model 3\n",
            "Fit model 4\n",
            "Fit model 5\n",
            "RMSE: 1.7672496941216105\n",
            "--------------------\n",
            "<class 'sklearn.linear_model.coordinate_descent.Lasso'>\n"
          ],
          "name": "stdout"
        },
        {
          "output_type": "display_data",
          "data": {
            "text/html": [
              "<div>\n",
              "<style scoped>\n",
              "    .dataframe tbody tr th:only-of-type {\n",
              "        vertical-align: middle;\n",
              "    }\n",
              "\n",
              "    .dataframe tbody tr th {\n",
              "        vertical-align: top;\n",
              "    }\n",
              "\n",
              "    .dataframe thead th {\n",
              "        text-align: right;\n",
              "    }\n",
              "</style>\n",
              "<table border=\"1\" class=\"dataframe\">\n",
              "  <thead>\n",
              "    <tr style=\"text-align: right;\">\n",
              "      <th></th>\n",
              "      <th>train</th>\n",
              "      <th>test</th>\n",
              "      <th>std</th>\n",
              "    </tr>\n",
              "  </thead>\n",
              "  <tbody>\n",
              "    <tr>\n",
              "      <th>0</th>\n",
              "      <td>1.745258</td>\n",
              "      <td>1.807714</td>\n",
              "      <td>0.044163</td>\n",
              "    </tr>\n",
              "    <tr>\n",
              "      <th>1</th>\n",
              "      <td>1.771155</td>\n",
              "      <td>1.753904</td>\n",
              "      <td>0.012198</td>\n",
              "    </tr>\n",
              "    <tr>\n",
              "      <th>2</th>\n",
              "      <td>1.777998</td>\n",
              "      <td>1.740818</td>\n",
              "      <td>0.026290</td>\n",
              "    </tr>\n",
              "    <tr>\n",
              "      <th>3</th>\n",
              "      <td>1.773178</td>\n",
              "      <td>1.756043</td>\n",
              "      <td>0.012117</td>\n",
              "    </tr>\n",
              "    <tr>\n",
              "      <th>4</th>\n",
              "      <td>1.775697</td>\n",
              "      <td>1.750293</td>\n",
              "      <td>0.017963</td>\n",
              "    </tr>\n",
              "    <tr>\n",
              "      <th>5</th>\n",
              "      <td>1.751926</td>\n",
              "      <td>1.793700</td>\n",
              "      <td>0.029538</td>\n",
              "    </tr>\n",
              "  </tbody>\n",
              "</table>\n",
              "</div>"
            ],
            "text/plain": [
              "      train      test       std\n",
              "0  1.745258  1.807714  0.044163\n",
              "1  1.771155  1.753904  0.012198\n",
              "2  1.777998  1.740818  0.026290\n",
              "3  1.773178  1.756043  0.012117\n",
              "4  1.775697  1.750293  0.017963\n",
              "5  1.751926  1.793700  0.029538"
            ]
          },
          "metadata": {
            "tags": []
          }
        },
        {
          "output_type": "stream",
          "text": [
            "Std train: 0.013742601086327601, Std test: 0.026931938081835808\n",
            "Fit model 0\n",
            "Fit model 1\n",
            "Fit model 2\n",
            "Fit model 3\n",
            "Fit model 4\n",
            "Fit model 5\n",
            "RMSE: 1.4705594787269485\n",
            "--------------------\n",
            "<class 'sklearn.linear_model.base.LinearRegression'>\n"
          ],
          "name": "stdout"
        },
        {
          "output_type": "display_data",
          "data": {
            "text/html": [
              "<div>\n",
              "<style scoped>\n",
              "    .dataframe tbody tr th:only-of-type {\n",
              "        vertical-align: middle;\n",
              "    }\n",
              "\n",
              "    .dataframe tbody tr th {\n",
              "        vertical-align: top;\n",
              "    }\n",
              "\n",
              "    .dataframe thead th {\n",
              "        text-align: right;\n",
              "    }\n",
              "</style>\n",
              "<table border=\"1\" class=\"dataframe\">\n",
              "  <thead>\n",
              "    <tr style=\"text-align: right;\">\n",
              "      <th></th>\n",
              "      <th>train</th>\n",
              "      <th>test</th>\n",
              "      <th>std</th>\n",
              "    </tr>\n",
              "  </thead>\n",
              "  <tbody>\n",
              "    <tr>\n",
              "      <th>0</th>\n",
              "      <td>1.445329</td>\n",
              "      <td>1.494649</td>\n",
              "      <td>0.034875</td>\n",
              "    </tr>\n",
              "    <tr>\n",
              "      <th>1</th>\n",
              "      <td>1.468070</td>\n",
              "      <td>1.419753</td>\n",
              "      <td>0.034166</td>\n",
              "    </tr>\n",
              "    <tr>\n",
              "      <th>2</th>\n",
              "      <td>1.453498</td>\n",
              "      <td>1.465088</td>\n",
              "      <td>0.008195</td>\n",
              "    </tr>\n",
              "    <tr>\n",
              "      <th>3</th>\n",
              "      <td>1.443026</td>\n",
              "      <td>1.495735</td>\n",
              "      <td>0.037271</td>\n",
              "    </tr>\n",
              "    <tr>\n",
              "      <th>4</th>\n",
              "      <td>1.456074</td>\n",
              "      <td>1.459704</td>\n",
              "      <td>0.002566</td>\n",
              "    </tr>\n",
              "    <tr>\n",
              "      <th>5</th>\n",
              "      <td>1.441990</td>\n",
              "      <td>1.486995</td>\n",
              "      <td>0.031824</td>\n",
              "    </tr>\n",
              "  </tbody>\n",
              "</table>\n",
              "</div>"
            ],
            "text/plain": [
              "      train      test       std\n",
              "0  1.445329  1.494649  0.034875\n",
              "1  1.468070  1.419753  0.034166\n",
              "2  1.453498  1.465088  0.008195\n",
              "3  1.443026  1.495735  0.037271\n",
              "4  1.456074  1.459704  0.002566\n",
              "5  1.441990  1.486995  0.031824"
            ]
          },
          "metadata": {
            "tags": []
          }
        },
        {
          "output_type": "stream",
          "text": [
            "Std train: 0.009996523725615564, Std test: 0.02902772525583692\n",
            "Fit model 0\n",
            "Fit model 1\n",
            "Fit model 2\n",
            "Fit model 3\n",
            "Fit model 4\n",
            "Fit model 5\n",
            "RMSE: 0.9081645533104693\n",
            "--------------------\n",
            "<class 'lightgbm.sklearn.LGBMRegressor'>\n"
          ],
          "name": "stdout"
        },
        {
          "output_type": "display_data",
          "data": {
            "text/html": [
              "<div>\n",
              "<style scoped>\n",
              "    .dataframe tbody tr th:only-of-type {\n",
              "        vertical-align: middle;\n",
              "    }\n",
              "\n",
              "    .dataframe tbody tr th {\n",
              "        vertical-align: top;\n",
              "    }\n",
              "\n",
              "    .dataframe thead th {\n",
              "        text-align: right;\n",
              "    }\n",
              "</style>\n",
              "<table border=\"1\" class=\"dataframe\">\n",
              "  <thead>\n",
              "    <tr style=\"text-align: right;\">\n",
              "      <th></th>\n",
              "      <th>train</th>\n",
              "      <th>test</th>\n",
              "      <th>std</th>\n",
              "    </tr>\n",
              "  </thead>\n",
              "  <tbody>\n",
              "    <tr>\n",
              "      <th>0</th>\n",
              "      <td>0.844269</td>\n",
              "      <td>0.945372</td>\n",
              "      <td>0.071491</td>\n",
              "    </tr>\n",
              "    <tr>\n",
              "      <th>1</th>\n",
              "      <td>0.854635</td>\n",
              "      <td>0.865838</td>\n",
              "      <td>0.007922</td>\n",
              "    </tr>\n",
              "    <tr>\n",
              "      <th>2</th>\n",
              "      <td>0.844451</td>\n",
              "      <td>0.896777</td>\n",
              "      <td>0.037001</td>\n",
              "    </tr>\n",
              "    <tr>\n",
              "      <th>3</th>\n",
              "      <td>0.831183</td>\n",
              "      <td>0.932611</td>\n",
              "      <td>0.071720</td>\n",
              "    </tr>\n",
              "    <tr>\n",
              "      <th>4</th>\n",
              "      <td>0.842156</td>\n",
              "      <td>0.866175</td>\n",
              "      <td>0.016984</td>\n",
              "    </tr>\n",
              "    <tr>\n",
              "      <th>5</th>\n",
              "      <td>0.833315</td>\n",
              "      <td>0.938585</td>\n",
              "      <td>0.074437</td>\n",
              "    </tr>\n",
              "  </tbody>\n",
              "</table>\n",
              "</div>"
            ],
            "text/plain": [
              "      train      test       std\n",
              "0  0.844269  0.945372  0.071491\n",
              "1  0.854635  0.865838  0.007922\n",
              "2  0.844451  0.896777  0.037001\n",
              "3  0.831183  0.932611  0.071720\n",
              "4  0.842156  0.866175  0.016984\n",
              "5  0.833315  0.938585  0.074437"
            ]
          },
          "metadata": {
            "tags": []
          }
        },
        {
          "output_type": "stream",
          "text": [
            "Std train: 0.008515761930706722, Std test: 0.03630332637550413\n",
            "Scale lgbm.....\n",
            "Draped timestamp ((: \n",
            "(18335396, 12) (18335396, 12)\n",
            "0:\tlearn: 4.7630427\ttest: 4.7645862\tbest: 4.7645862 (0)\ttotal: 11.9s\tremaining: 1m 46s\n",
            "1:\tlearn: 4.6338483\ttest: 4.6358581\tbest: 4.6358581 (1)\ttotal: 17s\tremaining: 1m 8s\n",
            "2:\tlearn: 4.5088893\ttest: 4.5117463\tbest: 4.5117463 (2)\ttotal: 23.4s\tremaining: 54.6s\n",
            "3:\tlearn: 4.3880022\ttest: 4.3917125\tbest: 4.3917125 (3)\ttotal: 28.8s\tremaining: 43.2s\n",
            "4:\tlearn: 4.2711559\ttest: 4.2757173\tbest: 4.2757173 (4)\ttotal: 34s\tremaining: 34s\n",
            "5:\tlearn: 4.1581656\ttest: 4.1635892\tbest: 4.1635892 (5)\ttotal: 39.2s\tremaining: 26.1s\n",
            "6:\tlearn: 4.0488149\ttest: 4.0542985\tbest: 4.0542985 (6)\ttotal: 44.3s\tremaining: 19s\n",
            "7:\tlearn: 3.9432721\ttest: 3.9495547\tbest: 3.9495547 (7)\ttotal: 49.6s\tremaining: 12.4s\n",
            "8:\tlearn: 3.8409094\ttest: 3.8472997\tbest: 3.8472997 (8)\ttotal: 54.7s\tremaining: 6.07s\n",
            "9:\tlearn: 3.7421963\ttest: 3.7493174\tbest: 3.7493174 (9)\ttotal: 59.9s\tremaining: 0us\n",
            "   iterations  test-RMSE-mean  test-RMSE-std  train-RMSE-mean  train-RMSE-std\n",
            "0           0        4.764586       0.053864         4.763043        0.019821\n",
            "1           1        4.635858       0.054893         4.633848        0.019260\n",
            "2           2        4.511746       0.055767         4.508889        0.018782\n",
            "3           3        4.391712       0.056634         4.388002        0.018363\n",
            "4           4        4.275717       0.057475         4.271156        0.017926\n",
            "5           5        4.163589       0.058308         4.158166        0.017516\n",
            "6           6        4.054298       0.058710         4.048815        0.017079\n",
            "7           7        3.949555       0.059561         3.943272        0.016649\n",
            "8           8        3.847300       0.059807         3.840909        0.016358\n",
            "9           9        3.749317       0.060640         3.742196        0.016039\n"
          ],
          "name": "stdout"
        }
      ]
    },
    {
      "cell_type": "code",
      "metadata": {
        "id": "Zl_Huq0hznsv",
        "colab_type": "code",
        "outputId": "1e9b56a8-3c13-400a-e975-87063fa75a79",
        "colab": {
          "base_uri": "https://localhost:8080/",
          "height": 1000
        }
      },
      "source": [
        "experement(models, model_cat, train, frac = 0.25, b1099=True, logtarget= True, scaler = False, timestamp = False)"
      ],
      "execution_count": 0,
      "outputs": [
        {
          "output_type": "stream",
          "text": [
            "(18338747, 24)\n",
            "(18335396, 24)\n",
            "log target\n",
            "Fit model 0\n"
          ],
          "name": "stdout"
        },
        {
          "output_type": "stream",
          "text": [
            "/usr/local/lib/python3.6/dist-packages/sklearn/linear_model/ridge.py:147: LinAlgWarning: Ill-conditioned matrix (rcond=2.24986e-17): result may not be accurate.\n",
            "  overwrite_a=True).T\n"
          ],
          "name": "stderr"
        },
        {
          "output_type": "stream",
          "text": [
            "Fit model 1\n"
          ],
          "name": "stdout"
        },
        {
          "output_type": "stream",
          "text": [
            "/usr/local/lib/python3.6/dist-packages/sklearn/linear_model/ridge.py:147: LinAlgWarning: Ill-conditioned matrix (rcond=2.22928e-17): result may not be accurate.\n",
            "  overwrite_a=True).T\n"
          ],
          "name": "stderr"
        },
        {
          "output_type": "stream",
          "text": [
            "Fit model 2\n"
          ],
          "name": "stdout"
        },
        {
          "output_type": "stream",
          "text": [
            "/usr/local/lib/python3.6/dist-packages/sklearn/linear_model/ridge.py:147: LinAlgWarning: Ill-conditioned matrix (rcond=2.18835e-17): result may not be accurate.\n",
            "  overwrite_a=True).T\n"
          ],
          "name": "stderr"
        },
        {
          "output_type": "stream",
          "text": [
            "Fit model 3\n"
          ],
          "name": "stdout"
        },
        {
          "output_type": "stream",
          "text": [
            "/usr/local/lib/python3.6/dist-packages/sklearn/linear_model/ridge.py:147: LinAlgWarning: Ill-conditioned matrix (rcond=2.20278e-17): result may not be accurate.\n",
            "  overwrite_a=True).T\n"
          ],
          "name": "stderr"
        },
        {
          "output_type": "stream",
          "text": [
            "Fit model 4\n"
          ],
          "name": "stdout"
        },
        {
          "output_type": "stream",
          "text": [
            "/usr/local/lib/python3.6/dist-packages/sklearn/linear_model/ridge.py:147: LinAlgWarning: Ill-conditioned matrix (rcond=2.21585e-17): result may not be accurate.\n",
            "  overwrite_a=True).T\n"
          ],
          "name": "stderr"
        },
        {
          "output_type": "stream",
          "text": [
            "Fit model 5\n"
          ],
          "name": "stdout"
        },
        {
          "output_type": "stream",
          "text": [
            "/usr/local/lib/python3.6/dist-packages/sklearn/linear_model/ridge.py:147: LinAlgWarning: Ill-conditioned matrix (rcond=2.21409e-17): result may not be accurate.\n",
            "  overwrite_a=True).T\n"
          ],
          "name": "stderr"
        },
        {
          "output_type": "stream",
          "text": [
            "RMSE: 1.4688618341790656\n",
            "--------------------\n",
            "<class 'sklearn.linear_model.ridge.Ridge'>\n"
          ],
          "name": "stdout"
        },
        {
          "output_type": "display_data",
          "data": {
            "text/html": [
              "<div>\n",
              "<style scoped>\n",
              "    .dataframe tbody tr th:only-of-type {\n",
              "        vertical-align: middle;\n",
              "    }\n",
              "\n",
              "    .dataframe tbody tr th {\n",
              "        vertical-align: top;\n",
              "    }\n",
              "\n",
              "    .dataframe thead th {\n",
              "        text-align: right;\n",
              "    }\n",
              "</style>\n",
              "<table border=\"1\" class=\"dataframe\">\n",
              "  <thead>\n",
              "    <tr style=\"text-align: right;\">\n",
              "      <th></th>\n",
              "      <th>train</th>\n",
              "      <th>test</th>\n",
              "      <th>std</th>\n",
              "    </tr>\n",
              "  </thead>\n",
              "  <tbody>\n",
              "    <tr>\n",
              "      <th>0</th>\n",
              "      <td>1.445828</td>\n",
              "      <td>1.494769</td>\n",
              "      <td>0.034607</td>\n",
              "    </tr>\n",
              "    <tr>\n",
              "      <th>1</th>\n",
              "      <td>1.469318</td>\n",
              "      <td>1.419124</td>\n",
              "      <td>0.035493</td>\n",
              "    </tr>\n",
              "    <tr>\n",
              "      <th>2</th>\n",
              "      <td>1.453477</td>\n",
              "      <td>1.464344</td>\n",
              "      <td>0.007684</td>\n",
              "    </tr>\n",
              "    <tr>\n",
              "      <th>3</th>\n",
              "      <td>1.444232</td>\n",
              "      <td>1.492396</td>\n",
              "      <td>0.034057</td>\n",
              "    </tr>\n",
              "    <tr>\n",
              "      <th>4</th>\n",
              "      <td>1.454489</td>\n",
              "      <td>1.457233</td>\n",
              "      <td>0.001940</td>\n",
              "    </tr>\n",
              "    <tr>\n",
              "      <th>5</th>\n",
              "      <td>1.443173</td>\n",
              "      <td>1.483916</td>\n",
              "      <td>0.028810</td>\n",
              "    </tr>\n",
              "  </tbody>\n",
              "</table>\n",
              "</div>"
            ],
            "text/plain": [
              "      train      test       std\n",
              "0  1.445828  1.494769  0.034607\n",
              "1  1.469318  1.419124  0.035493\n",
              "2  1.453477  1.464344  0.007684\n",
              "3  1.444232  1.492396  0.034057\n",
              "4  1.454489  1.457233  0.001940\n",
              "5  1.443173  1.483916  0.028810"
            ]
          },
          "metadata": {
            "tags": []
          }
        },
        {
          "output_type": "stream",
          "text": [
            "Std train: 0.009841591163771611, Std test: 0.02856855965608407\n",
            "Fit model 0\n",
            "Fit model 1\n",
            "Fit model 2\n",
            "Fit model 3\n",
            "Fit model 4\n",
            "Fit model 5\n",
            "RMSE: 1.520849546725\n",
            "--------------------\n",
            "<class 'sklearn.linear_model.coordinate_descent.Lasso'>\n"
          ],
          "name": "stdout"
        },
        {
          "output_type": "display_data",
          "data": {
            "text/html": [
              "<div>\n",
              "<style scoped>\n",
              "    .dataframe tbody tr th:only-of-type {\n",
              "        vertical-align: middle;\n",
              "    }\n",
              "\n",
              "    .dataframe tbody tr th {\n",
              "        vertical-align: top;\n",
              "    }\n",
              "\n",
              "    .dataframe thead th {\n",
              "        text-align: right;\n",
              "    }\n",
              "</style>\n",
              "<table border=\"1\" class=\"dataframe\">\n",
              "  <thead>\n",
              "    <tr style=\"text-align: right;\">\n",
              "      <th></th>\n",
              "      <th>train</th>\n",
              "      <th>test</th>\n",
              "      <th>std</th>\n",
              "    </tr>\n",
              "  </thead>\n",
              "  <tbody>\n",
              "    <tr>\n",
              "      <th>0</th>\n",
              "      <td>1.501273</td>\n",
              "      <td>1.540898</td>\n",
              "      <td>0.028019</td>\n",
              "    </tr>\n",
              "    <tr>\n",
              "      <th>1</th>\n",
              "      <td>1.530743</td>\n",
              "      <td>1.483615</td>\n",
              "      <td>0.033325</td>\n",
              "    </tr>\n",
              "    <tr>\n",
              "      <th>2</th>\n",
              "      <td>1.525770</td>\n",
              "      <td>1.499999</td>\n",
              "      <td>0.018223</td>\n",
              "    </tr>\n",
              "    <tr>\n",
              "      <th>3</th>\n",
              "      <td>1.517771</td>\n",
              "      <td>1.520166</td>\n",
              "      <td>0.001694</td>\n",
              "    </tr>\n",
              "    <tr>\n",
              "      <th>4</th>\n",
              "      <td>1.519644</td>\n",
              "      <td>1.511629</td>\n",
              "      <td>0.005667</td>\n",
              "    </tr>\n",
              "    <tr>\n",
              "      <th>5</th>\n",
              "      <td>1.497799</td>\n",
              "      <td>1.567321</td>\n",
              "      <td>0.049160</td>\n",
              "    </tr>\n",
              "  </tbody>\n",
              "</table>\n",
              "</div>"
            ],
            "text/plain": [
              "      train      test       std\n",
              "0  1.501273  1.540898  0.028019\n",
              "1  1.530743  1.483615  0.033325\n",
              "2  1.525770  1.499999  0.018223\n",
              "3  1.517771  1.520166  0.001694\n",
              "4  1.519644  1.511629  0.005667\n",
              "5  1.497799  1.567321  0.049160"
            ]
          },
          "metadata": {
            "tags": []
          }
        },
        {
          "output_type": "stream",
          "text": [
            "Std train: 0.013235426162296646, Std test: 0.029892764089236565\n",
            "Fit model 0\n",
            "Fit model 1\n",
            "Fit model 2\n",
            "Fit model 3\n",
            "Fit model 4\n",
            "Fit model 5\n",
            "RMSE: 1.468861841683469\n",
            "--------------------\n",
            "<class 'sklearn.linear_model.base.LinearRegression'>\n"
          ],
          "name": "stdout"
        },
        {
          "output_type": "display_data",
          "data": {
            "text/html": [
              "<div>\n",
              "<style scoped>\n",
              "    .dataframe tbody tr th:only-of-type {\n",
              "        vertical-align: middle;\n",
              "    }\n",
              "\n",
              "    .dataframe tbody tr th {\n",
              "        vertical-align: top;\n",
              "    }\n",
              "\n",
              "    .dataframe thead th {\n",
              "        text-align: right;\n",
              "    }\n",
              "</style>\n",
              "<table border=\"1\" class=\"dataframe\">\n",
              "  <thead>\n",
              "    <tr style=\"text-align: right;\">\n",
              "      <th></th>\n",
              "      <th>train</th>\n",
              "      <th>test</th>\n",
              "      <th>std</th>\n",
              "    </tr>\n",
              "  </thead>\n",
              "  <tbody>\n",
              "    <tr>\n",
              "      <th>0</th>\n",
              "      <td>1.445828</td>\n",
              "      <td>1.494769</td>\n",
              "      <td>0.034607</td>\n",
              "    </tr>\n",
              "    <tr>\n",
              "      <th>1</th>\n",
              "      <td>1.469318</td>\n",
              "      <td>1.419124</td>\n",
              "      <td>0.035493</td>\n",
              "    </tr>\n",
              "    <tr>\n",
              "      <th>2</th>\n",
              "      <td>1.453477</td>\n",
              "      <td>1.464344</td>\n",
              "      <td>0.007684</td>\n",
              "    </tr>\n",
              "    <tr>\n",
              "      <th>3</th>\n",
              "      <td>1.444232</td>\n",
              "      <td>1.492396</td>\n",
              "      <td>0.034057</td>\n",
              "    </tr>\n",
              "    <tr>\n",
              "      <th>4</th>\n",
              "      <td>1.454489</td>\n",
              "      <td>1.457233</td>\n",
              "      <td>0.001940</td>\n",
              "    </tr>\n",
              "    <tr>\n",
              "      <th>5</th>\n",
              "      <td>1.443173</td>\n",
              "      <td>1.483916</td>\n",
              "      <td>0.028810</td>\n",
              "    </tr>\n",
              "  </tbody>\n",
              "</table>\n",
              "</div>"
            ],
            "text/plain": [
              "      train      test       std\n",
              "0  1.445828  1.494769  0.034607\n",
              "1  1.469318  1.419124  0.035493\n",
              "2  1.453477  1.464344  0.007684\n",
              "3  1.444232  1.492396  0.034057\n",
              "4  1.454489  1.457233  0.001940\n",
              "5  1.443173  1.483916  0.028810"
            ]
          },
          "metadata": {
            "tags": []
          }
        },
        {
          "output_type": "stream",
          "text": [
            "Std train: 0.009841591164197997, Std test: 0.028568556001679863\n",
            "Fit model 0\n",
            "Fit model 1\n",
            "Fit model 2\n",
            "Fit model 3\n",
            "Fit model 4\n",
            "Fit model 5\n",
            "RMSE: 0.6775237120064065\n",
            "--------------------\n",
            "<class 'lightgbm.sklearn.LGBMRegressor'>\n"
          ],
          "name": "stdout"
        },
        {
          "output_type": "display_data",
          "data": {
            "text/html": [
              "<div>\n",
              "<style scoped>\n",
              "    .dataframe tbody tr th:only-of-type {\n",
              "        vertical-align: middle;\n",
              "    }\n",
              "\n",
              "    .dataframe tbody tr th {\n",
              "        vertical-align: top;\n",
              "    }\n",
              "\n",
              "    .dataframe thead th {\n",
              "        text-align: right;\n",
              "    }\n",
              "</style>\n",
              "<table border=\"1\" class=\"dataframe\">\n",
              "  <thead>\n",
              "    <tr style=\"text-align: right;\">\n",
              "      <th></th>\n",
              "      <th>train</th>\n",
              "      <th>test</th>\n",
              "      <th>std</th>\n",
              "    </tr>\n",
              "  </thead>\n",
              "  <tbody>\n",
              "    <tr>\n",
              "      <th>0</th>\n",
              "      <td>0.519381</td>\n",
              "      <td>0.752462</td>\n",
              "      <td>0.164813</td>\n",
              "    </tr>\n",
              "    <tr>\n",
              "      <th>1</th>\n",
              "      <td>0.533819</td>\n",
              "      <td>0.623110</td>\n",
              "      <td>0.063138</td>\n",
              "    </tr>\n",
              "    <tr>\n",
              "      <th>2</th>\n",
              "      <td>0.540980</td>\n",
              "      <td>0.623710</td>\n",
              "      <td>0.058498</td>\n",
              "    </tr>\n",
              "    <tr>\n",
              "      <th>3</th>\n",
              "      <td>0.536774</td>\n",
              "      <td>0.679174</td>\n",
              "      <td>0.100692</td>\n",
              "    </tr>\n",
              "    <tr>\n",
              "      <th>4</th>\n",
              "      <td>0.530667</td>\n",
              "      <td>0.617953</td>\n",
              "      <td>0.061721</td>\n",
              "    </tr>\n",
              "    <tr>\n",
              "      <th>5</th>\n",
              "      <td>0.506524</td>\n",
              "      <td>0.753398</td>\n",
              "      <td>0.174567</td>\n",
              "    </tr>\n",
              "  </tbody>\n",
              "</table>\n",
              "</div>"
            ],
            "text/plain": [
              "      train      test       std\n",
              "0  0.519381  0.752462  0.164813\n",
              "1  0.533819  0.623110  0.063138\n",
              "2  0.540980  0.623710  0.058498\n",
              "3  0.536774  0.679174  0.100692\n",
              "4  0.530667  0.617953  0.061721\n",
              "5  0.506524  0.753398  0.174567"
            ]
          },
          "metadata": {
            "tags": []
          }
        },
        {
          "output_type": "stream",
          "text": [
            "Std train: 0.012821665922291042, Std test: 0.06440743770637558\n",
            "0:\tlearn: 4.7634080\ttest: 4.7617754\tbest: 4.7617754 (0)\ttotal: 11.6s\tremaining: 1m 44s\n",
            "1:\tlearn: 4.6341835\ttest: 4.6330632\tbest: 4.6330632 (1)\ttotal: 16.7s\tremaining: 1m 6s\n",
            "2:\tlearn: 4.5092213\ttest: 4.5089676\tbest: 4.5089676 (2)\ttotal: 22.2s\tremaining: 51.8s\n",
            "3:\tlearn: 4.3883326\ttest: 4.3889553\tbest: 4.3889553 (3)\ttotal: 27.5s\tremaining: 41.3s\n",
            "4:\tlearn: 4.2714851\ttest: 4.2729748\tbest: 4.2729748 (4)\ttotal: 32.4s\tremaining: 32.4s\n",
            "5:\tlearn: 4.1584924\ttest: 4.1608607\tbest: 4.1608607 (5)\ttotal: 37.6s\tremaining: 25.1s\n",
            "6:\tlearn: 4.0491354\ttest: 4.0515933\tbest: 4.0515933 (6)\ttotal: 42.7s\tremaining: 18.3s\n",
            "7:\tlearn: 3.9435894\ttest: 3.9468591\tbest: 3.9468591 (7)\ttotal: 48.2s\tremaining: 12s\n",
            "8:\tlearn: 3.8413095\ttest: 3.8446913\tbest: 3.8446913 (8)\ttotal: 53.5s\tremaining: 5.94s\n",
            "9:\tlearn: 3.7425092\ttest: 3.7465718\tbest: 3.7465718 (9)\ttotal: 58.8s\tremaining: 0us\n",
            "   iterations  test-RMSE-mean  test-RMSE-std  train-RMSE-mean  train-RMSE-std\n",
            "0           0        4.761775       0.054268         4.763408        0.020221\n",
            "1           1        4.633063       0.055236         4.634183        0.019699\n",
            "2           2        4.508968       0.056091         4.509221        0.019198\n",
            "3           3        4.388955       0.056947         4.388333        0.018752\n",
            "4           4        4.272975       0.057770         4.271485        0.018294\n",
            "5           5        4.160861       0.058603         4.158492        0.017856\n",
            "6           6        4.051593       0.058997         4.049135        0.017399\n",
            "7           7        3.946859       0.059838         3.943589        0.016945\n",
            "8           8        3.844691       0.060105         3.841309        0.016569\n",
            "9           9        3.746572       0.060875         3.742509        0.016256\n"
          ],
          "name": "stdout"
        }
      ]
    },
    {
      "cell_type": "code",
      "metadata": {
        "id": "Hj-VnwiTzt2x",
        "colab_type": "code",
        "outputId": "03872b05-6da1-4a0f-907f-9a4b4986380b",
        "colab": {
          "base_uri": "https://localhost:8080/",
          "height": 1000
        }
      },
      "source": [
        "experement(models, model_cat, train, frac = 0.25, b1099=True, logtarget= True, scaler = True, timestamp = False)"
      ],
      "execution_count": 0,
      "outputs": [
        {
          "output_type": "stream",
          "text": [
            "(18338747, 24)\n",
            "(18335396, 24)\n",
            "log target\n",
            "Scale\n",
            "Fit model 0\n",
            "Fit model 1\n",
            "Fit model 2\n",
            "Fit model 3\n",
            "Fit model 4\n",
            "Fit model 5\n",
            "RMSE: 1.4706122232519074\n",
            "--------------------\n",
            "<class 'sklearn.linear_model.ridge.Ridge'>\n"
          ],
          "name": "stdout"
        },
        {
          "output_type": "display_data",
          "data": {
            "text/html": [
              "<div>\n",
              "<style scoped>\n",
              "    .dataframe tbody tr th:only-of-type {\n",
              "        vertical-align: middle;\n",
              "    }\n",
              "\n",
              "    .dataframe tbody tr th {\n",
              "        vertical-align: top;\n",
              "    }\n",
              "\n",
              "    .dataframe thead th {\n",
              "        text-align: right;\n",
              "    }\n",
              "</style>\n",
              "<table border=\"1\" class=\"dataframe\">\n",
              "  <thead>\n",
              "    <tr style=\"text-align: right;\">\n",
              "      <th></th>\n",
              "      <th>train</th>\n",
              "      <th>test</th>\n",
              "      <th>std</th>\n",
              "    </tr>\n",
              "  </thead>\n",
              "  <tbody>\n",
              "    <tr>\n",
              "      <th>0</th>\n",
              "      <td>1.446217</td>\n",
              "      <td>1.497397</td>\n",
              "      <td>0.036190</td>\n",
              "    </tr>\n",
              "    <tr>\n",
              "      <th>1</th>\n",
              "      <td>1.469150</td>\n",
              "      <td>1.419920</td>\n",
              "      <td>0.034811</td>\n",
              "    </tr>\n",
              "    <tr>\n",
              "      <th>2</th>\n",
              "      <td>1.452855</td>\n",
              "      <td>1.465492</td>\n",
              "      <td>0.008935</td>\n",
              "    </tr>\n",
              "    <tr>\n",
              "      <th>3</th>\n",
              "      <td>1.444414</td>\n",
              "      <td>1.492959</td>\n",
              "      <td>0.034327</td>\n",
              "    </tr>\n",
              "    <tr>\n",
              "      <th>4</th>\n",
              "      <td>1.455013</td>\n",
              "      <td>1.461594</td>\n",
              "      <td>0.004654</td>\n",
              "    </tr>\n",
              "    <tr>\n",
              "      <th>5</th>\n",
              "      <td>1.442461</td>\n",
              "      <td>1.484917</td>\n",
              "      <td>0.030021</td>\n",
              "    </tr>\n",
              "  </tbody>\n",
              "</table>\n",
              "</div>"
            ],
            "text/plain": [
              "      train      test       std\n",
              "0  1.446217  1.497397  0.036190\n",
              "1  1.469150  1.419920  0.034811\n",
              "2  1.452855  1.465492  0.008935\n",
              "3  1.444414  1.492959  0.034327\n",
              "4  1.455013  1.461594  0.004654\n",
              "5  1.442461  1.484917  0.030021"
            ]
          },
          "metadata": {
            "tags": []
          }
        },
        {
          "output_type": "stream",
          "text": [
            "Std train: 0.009851911156160615, Std test: 0.028630013003074977\n",
            "Fit model 0\n",
            "Fit model 1\n",
            "Fit model 2\n",
            "Fit model 3\n",
            "Fit model 4\n",
            "Fit model 5\n",
            "RMSE: 1.767375180911998\n",
            "--------------------\n",
            "<class 'sklearn.linear_model.coordinate_descent.Lasso'>\n"
          ],
          "name": "stdout"
        },
        {
          "output_type": "display_data",
          "data": {
            "text/html": [
              "<div>\n",
              "<style scoped>\n",
              "    .dataframe tbody tr th:only-of-type {\n",
              "        vertical-align: middle;\n",
              "    }\n",
              "\n",
              "    .dataframe tbody tr th {\n",
              "        vertical-align: top;\n",
              "    }\n",
              "\n",
              "    .dataframe thead th {\n",
              "        text-align: right;\n",
              "    }\n",
              "</style>\n",
              "<table border=\"1\" class=\"dataframe\">\n",
              "  <thead>\n",
              "    <tr style=\"text-align: right;\">\n",
              "      <th></th>\n",
              "      <th>train</th>\n",
              "      <th>test</th>\n",
              "      <th>std</th>\n",
              "    </tr>\n",
              "  </thead>\n",
              "  <tbody>\n",
              "    <tr>\n",
              "      <th>0</th>\n",
              "      <td>1.745981</td>\n",
              "      <td>1.809865</td>\n",
              "      <td>0.045173</td>\n",
              "    </tr>\n",
              "    <tr>\n",
              "      <th>1</th>\n",
              "      <td>1.772411</td>\n",
              "      <td>1.752984</td>\n",
              "      <td>0.013737</td>\n",
              "    </tr>\n",
              "    <tr>\n",
              "      <th>2</th>\n",
              "      <td>1.776105</td>\n",
              "      <td>1.740825</td>\n",
              "      <td>0.024947</td>\n",
              "    </tr>\n",
              "    <tr>\n",
              "      <th>3</th>\n",
              "      <td>1.773408</td>\n",
              "      <td>1.754695</td>\n",
              "      <td>0.013232</td>\n",
              "    </tr>\n",
              "    <tr>\n",
              "      <th>4</th>\n",
              "      <td>1.774280</td>\n",
              "      <td>1.751672</td>\n",
              "      <td>0.015987</td>\n",
              "    </tr>\n",
              "    <tr>\n",
              "      <th>5</th>\n",
              "      <td>1.751978</td>\n",
              "      <td>1.793138</td>\n",
              "      <td>0.029105</td>\n",
              "    </tr>\n",
              "  </tbody>\n",
              "</table>\n",
              "</div>"
            ],
            "text/plain": [
              "      train      test       std\n",
              "0  1.745981  1.809865  0.045173\n",
              "1  1.772411  1.752984  0.013737\n",
              "2  1.776105  1.740825  0.024947\n",
              "3  1.773408  1.754695  0.013232\n",
              "4  1.774280  1.751672  0.015987\n",
              "5  1.751978  1.793138  0.029105"
            ]
          },
          "metadata": {
            "tags": []
          }
        },
        {
          "output_type": "stream",
          "text": [
            "Std train: 0.013141229633672738, Std test: 0.027525775375545725\n",
            "Fit model 0\n",
            "Fit model 1\n",
            "Fit model 2\n",
            "Fit model 3\n",
            "Fit model 4\n",
            "Fit model 5\n",
            "RMSE: 1.4706212800299687\n",
            "--------------------\n",
            "<class 'sklearn.linear_model.base.LinearRegression'>\n"
          ],
          "name": "stdout"
        },
        {
          "output_type": "display_data",
          "data": {
            "text/html": [
              "<div>\n",
              "<style scoped>\n",
              "    .dataframe tbody tr th:only-of-type {\n",
              "        vertical-align: middle;\n",
              "    }\n",
              "\n",
              "    .dataframe tbody tr th {\n",
              "        vertical-align: top;\n",
              "    }\n",
              "\n",
              "    .dataframe thead th {\n",
              "        text-align: right;\n",
              "    }\n",
              "</style>\n",
              "<table border=\"1\" class=\"dataframe\">\n",
              "  <thead>\n",
              "    <tr style=\"text-align: right;\">\n",
              "      <th></th>\n",
              "      <th>train</th>\n",
              "      <th>test</th>\n",
              "      <th>std</th>\n",
              "    </tr>\n",
              "  </thead>\n",
              "  <tbody>\n",
              "    <tr>\n",
              "      <th>0</th>\n",
              "      <td>1.446217</td>\n",
              "      <td>1.497398</td>\n",
              "      <td>0.036190</td>\n",
              "    </tr>\n",
              "    <tr>\n",
              "      <th>1</th>\n",
              "      <td>1.469148</td>\n",
              "      <td>1.419911</td>\n",
              "      <td>0.034816</td>\n",
              "    </tr>\n",
              "    <tr>\n",
              "      <th>2</th>\n",
              "      <td>1.452855</td>\n",
              "      <td>1.465492</td>\n",
              "      <td>0.008935</td>\n",
              "    </tr>\n",
              "    <tr>\n",
              "      <th>3</th>\n",
              "      <td>1.444417</td>\n",
              "      <td>1.493068</td>\n",
              "      <td>0.034401</td>\n",
              "    </tr>\n",
              "    <tr>\n",
              "      <th>4</th>\n",
              "      <td>1.455014</td>\n",
              "      <td>1.461593</td>\n",
              "      <td>0.004651</td>\n",
              "    </tr>\n",
              "    <tr>\n",
              "      <th>5</th>\n",
              "      <td>1.442461</td>\n",
              "      <td>1.484872</td>\n",
              "      <td>0.029989</td>\n",
              "    </tr>\n",
              "  </tbody>\n",
              "</table>\n",
              "</div>"
            ],
            "text/plain": [
              "      train      test       std\n",
              "0  1.446217  1.497398  0.036190\n",
              "1  1.469148  1.419911  0.034816\n",
              "2  1.452855  1.465492  0.008935\n",
              "3  1.444417  1.493068  0.034401\n",
              "4  1.455014  1.461593  0.004651\n",
              "5  1.442461  1.484872  0.029989"
            ]
          },
          "metadata": {
            "tags": []
          }
        },
        {
          "output_type": "stream",
          "text": [
            "Std train: 0.009851261556558171, Std test: 0.028646081514337243\n",
            "Fit model 0\n",
            "Fit model 1\n",
            "Fit model 2\n",
            "Fit model 3\n",
            "Fit model 4\n",
            "Fit model 5\n",
            "RMSE: 0.9037620461954627\n",
            "--------------------\n",
            "<class 'lightgbm.sklearn.LGBMRegressor'>\n"
          ],
          "name": "stdout"
        },
        {
          "output_type": "display_data",
          "data": {
            "text/html": [
              "<div>\n",
              "<style scoped>\n",
              "    .dataframe tbody tr th:only-of-type {\n",
              "        vertical-align: middle;\n",
              "    }\n",
              "\n",
              "    .dataframe tbody tr th {\n",
              "        vertical-align: top;\n",
              "    }\n",
              "\n",
              "    .dataframe thead th {\n",
              "        text-align: right;\n",
              "    }\n",
              "</style>\n",
              "<table border=\"1\" class=\"dataframe\">\n",
              "  <thead>\n",
              "    <tr style=\"text-align: right;\">\n",
              "      <th></th>\n",
              "      <th>train</th>\n",
              "      <th>test</th>\n",
              "      <th>std</th>\n",
              "    </tr>\n",
              "  </thead>\n",
              "  <tbody>\n",
              "    <tr>\n",
              "      <th>0</th>\n",
              "      <td>0.835898</td>\n",
              "      <td>0.932860</td>\n",
              "      <td>0.068563</td>\n",
              "    </tr>\n",
              "    <tr>\n",
              "      <th>1</th>\n",
              "      <td>0.854752</td>\n",
              "      <td>0.863730</td>\n",
              "      <td>0.006348</td>\n",
              "    </tr>\n",
              "    <tr>\n",
              "      <th>2</th>\n",
              "      <td>0.840668</td>\n",
              "      <td>0.890448</td>\n",
              "      <td>0.035200</td>\n",
              "    </tr>\n",
              "    <tr>\n",
              "      <th>3</th>\n",
              "      <td>0.834099</td>\n",
              "      <td>0.928799</td>\n",
              "      <td>0.066963</td>\n",
              "    </tr>\n",
              "    <tr>\n",
              "      <th>4</th>\n",
              "      <td>0.844647</td>\n",
              "      <td>0.867104</td>\n",
              "      <td>0.015879</td>\n",
              "    </tr>\n",
              "    <tr>\n",
              "      <th>5</th>\n",
              "      <td>0.833821</td>\n",
              "      <td>0.936495</td>\n",
              "      <td>0.072601</td>\n",
              "    </tr>\n",
              "  </tbody>\n",
              "</table>\n",
              "</div>"
            ],
            "text/plain": [
              "      train      test       std\n",
              "0  0.835898  0.932860  0.068563\n",
              "1  0.854752  0.863730  0.006348\n",
              "2  0.840668  0.890448  0.035200\n",
              "3  0.834099  0.928799  0.066963\n",
              "4  0.844647  0.867104  0.015879\n",
              "5  0.833821  0.936495  0.072601"
            ]
          },
          "metadata": {
            "tags": []
          }
        },
        {
          "output_type": "stream",
          "text": [
            "Std train: 0.008086685507676519, Std test: 0.03366610759946683\n",
            "Scale lgbm.....\n",
            "Save scale timestamp :}} \n",
            "(18335396, 11) (18335396, 13)\n",
            "0:\tlearn: 4.7627551\ttest: 4.7640090\tbest: 4.7640090 (0)\ttotal: 12.1s\tremaining: 1m 48s\n",
            "1:\tlearn: 4.6335885\ttest: 4.6351328\tbest: 4.6351328 (1)\ttotal: 17.5s\tremaining: 1m 9s\n",
            "2:\tlearn: 4.5086362\ttest: 4.5110182\tbest: 4.5110182 (2)\ttotal: 23.4s\tremaining: 54.5s\n",
            "3:\tlearn: 4.3877492\ttest: 4.3909759\tbest: 4.3909759 (3)\ttotal: 29.1s\tremaining: 43.6s\n",
            "4:\tlearn: 4.2709098\ttest: 4.2749749\tbest: 4.2749749 (4)\ttotal: 34.3s\tremaining: 34.3s\n",
            "5:\tlearn: 4.1579169\ttest: 4.1628340\tbest: 4.1628340 (5)\ttotal: 39.7s\tremaining: 26.5s\n",
            "6:\tlearn: 4.0486025\ttest: 4.0535765\tbest: 4.0535765 (6)\ttotal: 45.1s\tremaining: 19.3s\n",
            "7:\tlearn: 3.9430312\ttest: 3.9488589\tbest: 3.9488589 (7)\ttotal: 50.7s\tremaining: 12.7s\n",
            "8:\tlearn: 3.8407804\ttest: 3.8467130\tbest: 3.8467130 (8)\ttotal: 56.1s\tremaining: 6.24s\n",
            "9:\tlearn: 3.7420578\ttest: 3.7487449\tbest: 3.7487449 (9)\ttotal: 1m 1s\tremaining: 0us\n",
            "   iterations  test-RMSE-mean  test-RMSE-std  train-RMSE-mean  train-RMSE-std\n",
            "0           0        4.764009       0.053160         4.762755        0.020699\n",
            "1           1        4.635133       0.054189         4.633589        0.020187\n",
            "2           2        4.511018       0.055090         4.508636        0.019678\n",
            "3           3        4.390976       0.055985         4.387749        0.019229\n",
            "4           4        4.274975       0.056850         4.270910        0.018763\n",
            "5           5        4.162834       0.057713         4.157917        0.018320\n",
            "6           6        4.053577       0.058133         4.048603        0.017859\n",
            "7           7        3.948859       0.059024         3.943031        0.017414\n",
            "8           8        3.846713       0.059323         3.840780        0.017042\n",
            "9           9        3.748745       0.060050         3.742058        0.016753\n"
          ],
          "name": "stdout"
        }
      ]
    },
    {
      "cell_type": "markdown",
      "metadata": {
        "id": "jRCU5Ce3_-Lq",
        "colab_type": "text"
      },
      "source": [
        "#1 true, tru, False, False"
      ]
    },
    {
      "cell_type": "code",
      "metadata": {
        "id": "JOxL2lkX_9lL",
        "colab_type": "code",
        "outputId": "a44dd57b-ad5d-4dc7-ecc9-6234ec72504e",
        "colab": {
          "base_uri": "https://localhost:8080/"
        }
      },
      "source": [
        "for n, drop in enumerate([drop_1, drop_2, drop_3, drop_4]):\n",
        "  print(f'Model: {n}')\n",
        "  data = train.drop(drop, axis = 1)\n",
        "  experement(models, model_cat, data, frac = 0.5, b1099=True, logtarget= True, scaler = False, timestamp = False)  \n",
        "  print('Ends')\n",
        "  print('====================')\n",
        "  del data\n",
        "  gc.collect()\n",
        "  "
      ],
      "execution_count": 0,
      "outputs": [
        {
          "output_type": "stream",
          "text": [
            "Model: 0\n",
            "(18338747, 19)\n",
            "(18335396, 19)\n",
            "log target\n",
            "Fit model 0\n",
            "Fit model 1\n",
            "Fit model 2\n",
            "Fit model 3\n",
            "Fit model 4\n",
            "Fit model 5\n",
            "RMSE: 1.4893005410884248\n",
            "--------------------\n",
            "<class 'sklearn.linear_model.ridge.Ridge'>\n"
          ],
          "name": "stdout"
        },
        {
          "output_type": "display_data",
          "data": {
            "text/html": [
              "<div>\n",
              "<style scoped>\n",
              "    .dataframe tbody tr th:only-of-type {\n",
              "        vertical-align: middle;\n",
              "    }\n",
              "\n",
              "    .dataframe tbody tr th {\n",
              "        vertical-align: top;\n",
              "    }\n",
              "\n",
              "    .dataframe thead th {\n",
              "        text-align: right;\n",
              "    }\n",
              "</style>\n",
              "<table border=\"1\" class=\"dataframe\">\n",
              "  <thead>\n",
              "    <tr style=\"text-align: right;\">\n",
              "      <th></th>\n",
              "      <th>train</th>\n",
              "      <th>test</th>\n",
              "      <th>std</th>\n",
              "    </tr>\n",
              "  </thead>\n",
              "  <tbody>\n",
              "    <tr>\n",
              "      <th>0</th>\n",
              "      <td>1.465369</td>\n",
              "      <td>1.500498</td>\n",
              "      <td>0.024840</td>\n",
              "    </tr>\n",
              "    <tr>\n",
              "      <th>1</th>\n",
              "      <td>1.486466</td>\n",
              "      <td>1.433727</td>\n",
              "      <td>0.037293</td>\n",
              "    </tr>\n",
              "    <tr>\n",
              "      <th>2</th>\n",
              "      <td>1.469412</td>\n",
              "      <td>1.480287</td>\n",
              "      <td>0.007690</td>\n",
              "    </tr>\n",
              "    <tr>\n",
              "      <th>3</th>\n",
              "      <td>1.455562</td>\n",
              "      <td>1.532607</td>\n",
              "      <td>0.054479</td>\n",
              "    </tr>\n",
              "    <tr>\n",
              "      <th>4</th>\n",
              "      <td>1.468537</td>\n",
              "      <td>1.482012</td>\n",
              "      <td>0.009528</td>\n",
              "    </tr>\n",
              "    <tr>\n",
              "      <th>5</th>\n",
              "      <td>1.460699</td>\n",
              "      <td>1.504837</td>\n",
              "      <td>0.031211</td>\n",
              "    </tr>\n",
              "  </tbody>\n",
              "</table>\n",
              "</div>"
            ],
            "text/plain": [
              "      train      test       std\n",
              "0  1.465369  1.500498  0.024840\n",
              "1  1.486466  1.433727  0.037293\n",
              "2  1.469412  1.480287  0.007690\n",
              "3  1.455562  1.532607  0.054479\n",
              "4  1.468537  1.482012  0.009528\n",
              "5  1.460699  1.504837  0.031211"
            ]
          },
          "metadata": {
            "tags": []
          }
        },
        {
          "output_type": "stream",
          "text": [
            "Std train: 0.010560013082371072, Std test: 0.033059065457635206\n",
            "Fit model 0\n",
            "Fit model 1\n",
            "Fit model 2\n",
            "Fit model 3\n",
            "Fit model 4\n",
            "Fit model 5\n",
            "RMSE: 1.5219994070858236\n",
            "--------------------\n",
            "<class 'sklearn.linear_model.coordinate_descent.Lasso'>\n"
          ],
          "name": "stdout"
        },
        {
          "output_type": "display_data",
          "data": {
            "text/html": [
              "<div>\n",
              "<style scoped>\n",
              "    .dataframe tbody tr th:only-of-type {\n",
              "        vertical-align: middle;\n",
              "    }\n",
              "\n",
              "    .dataframe tbody tr th {\n",
              "        vertical-align: top;\n",
              "    }\n",
              "\n",
              "    .dataframe thead th {\n",
              "        text-align: right;\n",
              "    }\n",
              "</style>\n",
              "<table border=\"1\" class=\"dataframe\">\n",
              "  <thead>\n",
              "    <tr style=\"text-align: right;\">\n",
              "      <th></th>\n",
              "      <th>train</th>\n",
              "      <th>test</th>\n",
              "      <th>std</th>\n",
              "    </tr>\n",
              "  </thead>\n",
              "  <tbody>\n",
              "    <tr>\n",
              "      <th>0</th>\n",
              "      <td>1.500940</td>\n",
              "      <td>1.542892</td>\n",
              "      <td>0.029664</td>\n",
              "    </tr>\n",
              "    <tr>\n",
              "      <th>1</th>\n",
              "      <td>1.530646</td>\n",
              "      <td>1.482359</td>\n",
              "      <td>0.034144</td>\n",
              "    </tr>\n",
              "    <tr>\n",
              "      <th>2</th>\n",
              "      <td>1.525273</td>\n",
              "      <td>1.499428</td>\n",
              "      <td>0.018276</td>\n",
              "    </tr>\n",
              "    <tr>\n",
              "      <th>3</th>\n",
              "      <td>1.517303</td>\n",
              "      <td>1.522346</td>\n",
              "      <td>0.003566</td>\n",
              "    </tr>\n",
              "    <tr>\n",
              "      <th>4</th>\n",
              "      <td>1.519521</td>\n",
              "      <td>1.514123</td>\n",
              "      <td>0.003817</td>\n",
              "    </tr>\n",
              "    <tr>\n",
              "      <th>5</th>\n",
              "      <td>1.497171</td>\n",
              "      <td>1.569267</td>\n",
              "      <td>0.050979</td>\n",
              "    </tr>\n",
              "  </tbody>\n",
              "</table>\n",
              "</div>"
            ],
            "text/plain": [
              "      train      test       std\n",
              "0  1.500940  1.542892  0.029664\n",
              "1  1.530646  1.482359  0.034144\n",
              "2  1.525273  1.499428  0.018276\n",
              "3  1.517303  1.522346  0.003566\n",
              "4  1.519521  1.514123  0.003817\n",
              "5  1.497171  1.569267  0.050979"
            ]
          },
          "metadata": {
            "tags": []
          }
        },
        {
          "output_type": "stream",
          "text": [
            "Std train: 0.013352833125261268, Std test: 0.03102679281989528\n",
            "Fit model 0\n",
            "Fit model 1\n",
            "Fit model 2\n",
            "Fit model 3\n",
            "Fit model 4\n",
            "Fit model 5\n",
            "RMSE: 1.4893005433671007\n",
            "--------------------\n",
            "<class 'sklearn.linear_model.base.LinearRegression'>\n"
          ],
          "name": "stdout"
        },
        {
          "output_type": "display_data",
          "data": {
            "text/html": [
              "<div>\n",
              "<style scoped>\n",
              "    .dataframe tbody tr th:only-of-type {\n",
              "        vertical-align: middle;\n",
              "    }\n",
              "\n",
              "    .dataframe tbody tr th {\n",
              "        vertical-align: top;\n",
              "    }\n",
              "\n",
              "    .dataframe thead th {\n",
              "        text-align: right;\n",
              "    }\n",
              "</style>\n",
              "<table border=\"1\" class=\"dataframe\">\n",
              "  <thead>\n",
              "    <tr style=\"text-align: right;\">\n",
              "      <th></th>\n",
              "      <th>train</th>\n",
              "      <th>test</th>\n",
              "      <th>std</th>\n",
              "    </tr>\n",
              "  </thead>\n",
              "  <tbody>\n",
              "    <tr>\n",
              "      <th>0</th>\n",
              "      <td>1.465369</td>\n",
              "      <td>1.500498</td>\n",
              "      <td>0.024840</td>\n",
              "    </tr>\n",
              "    <tr>\n",
              "      <th>1</th>\n",
              "      <td>1.486466</td>\n",
              "      <td>1.433727</td>\n",
              "      <td>0.037293</td>\n",
              "    </tr>\n",
              "    <tr>\n",
              "      <th>2</th>\n",
              "      <td>1.469412</td>\n",
              "      <td>1.480287</td>\n",
              "      <td>0.007690</td>\n",
              "    </tr>\n",
              "    <tr>\n",
              "      <th>3</th>\n",
              "      <td>1.455562</td>\n",
              "      <td>1.532607</td>\n",
              "      <td>0.054479</td>\n",
              "    </tr>\n",
              "    <tr>\n",
              "      <th>4</th>\n",
              "      <td>1.468537</td>\n",
              "      <td>1.482012</td>\n",
              "      <td>0.009528</td>\n",
              "    </tr>\n",
              "    <tr>\n",
              "      <th>5</th>\n",
              "      <td>1.460699</td>\n",
              "      <td>1.504837</td>\n",
              "      <td>0.031211</td>\n",
              "    </tr>\n",
              "  </tbody>\n",
              "</table>\n",
              "</div>"
            ],
            "text/plain": [
              "      train      test       std\n",
              "0  1.465369  1.500498  0.024840\n",
              "1  1.486466  1.433727  0.037293\n",
              "2  1.469412  1.480287  0.007690\n",
              "3  1.455562  1.532607  0.054479\n",
              "4  1.468537  1.482012  0.009528\n",
              "5  1.460699  1.504837  0.031211"
            ]
          },
          "metadata": {
            "tags": []
          }
        },
        {
          "output_type": "stream",
          "text": [
            "Std train: 0.010560013082086043, Std test: 0.03305906376005526\n",
            "Fit model 0\n",
            "Fit model 1\n",
            "Fit model 2\n",
            "Fit model 3\n",
            "Fit model 4\n",
            "Fit model 5\n",
            "RMSE: 0.7354067670020609\n",
            "--------------------\n",
            "<class 'lightgbm.sklearn.LGBMRegressor'>\n"
          ],
          "name": "stdout"
        },
        {
          "output_type": "display_data",
          "data": {
            "text/html": [
              "<div>\n",
              "<style scoped>\n",
              "    .dataframe tbody tr th:only-of-type {\n",
              "        vertical-align: middle;\n",
              "    }\n",
              "\n",
              "    .dataframe tbody tr th {\n",
              "        vertical-align: top;\n",
              "    }\n",
              "\n",
              "    .dataframe thead th {\n",
              "        text-align: right;\n",
              "    }\n",
              "</style>\n",
              "<table border=\"1\" class=\"dataframe\">\n",
              "  <thead>\n",
              "    <tr style=\"text-align: right;\">\n",
              "      <th></th>\n",
              "      <th>train</th>\n",
              "      <th>test</th>\n",
              "      <th>std</th>\n",
              "    </tr>\n",
              "  </thead>\n",
              "  <tbody>\n",
              "    <tr>\n",
              "      <th>0</th>\n",
              "      <td>0.570957</td>\n",
              "      <td>0.763389</td>\n",
              "      <td>0.136070</td>\n",
              "    </tr>\n",
              "    <tr>\n",
              "      <th>1</th>\n",
              "      <td>0.567584</td>\n",
              "      <td>0.685870</td>\n",
              "      <td>0.083641</td>\n",
              "    </tr>\n",
              "    <tr>\n",
              "      <th>2</th>\n",
              "      <td>0.578837</td>\n",
              "      <td>0.691647</td>\n",
              "      <td>0.079769</td>\n",
              "    </tr>\n",
              "    <tr>\n",
              "      <th>3</th>\n",
              "      <td>0.584579</td>\n",
              "      <td>0.711870</td>\n",
              "      <td>0.090009</td>\n",
              "    </tr>\n",
              "    <tr>\n",
              "      <th>4</th>\n",
              "      <td>0.588743</td>\n",
              "      <td>0.688971</td>\n",
              "      <td>0.070872</td>\n",
              "    </tr>\n",
              "    <tr>\n",
              "      <th>5</th>\n",
              "      <td>0.562072</td>\n",
              "      <td>0.855537</td>\n",
              "      <td>0.207511</td>\n",
              "    </tr>\n",
              "  </tbody>\n",
              "</table>\n",
              "</div>"
            ],
            "text/plain": [
              "      train      test       std\n",
              "0  0.570957  0.763389  0.136070\n",
              "1  0.567584  0.685870  0.083641\n",
              "2  0.578837  0.691647  0.079769\n",
              "3  0.584579  0.711870  0.090009\n",
              "4  0.588743  0.688971  0.070872\n",
              "5  0.562072  0.855537  0.207511"
            ]
          },
          "metadata": {
            "tags": []
          }
        },
        {
          "output_type": "stream",
          "text": [
            "Std train: 0.010320411328569524, Std test: 0.06671583737452148\n",
            "0:\tlearn: 4.7633265\ttest: 4.7634813\tbest: 4.7634813 (0)\ttotal: 27s\tremaining: 4m 2s\n",
            "1:\tlearn: 4.6342076\ttest: 4.6350086\tbest: 4.6350086 (1)\ttotal: 38.9s\tremaining: 2m 35s\n",
            "2:\tlearn: 4.5093070\ttest: 4.5107451\tbest: 4.5107451 (2)\ttotal: 50.5s\tremaining: 1m 57s\n",
            "3:\tlearn: 4.3884460\ttest: 4.3906319\tbest: 4.3906319 (3)\ttotal: 1m 2s\tremaining: 1m 33s\n",
            "4:\tlearn: 4.2715758\ttest: 4.2746263\tbest: 4.2746263 (4)\ttotal: 1m 13s\tremaining: 1m 13s\n",
            "5:\tlearn: 4.1585403\ttest: 4.1623223\tbest: 4.1623223 (5)\ttotal: 1m 25s\tremaining: 56.9s\n",
            "6:\tlearn: 4.0490883\ttest: 4.0529174\tbest: 4.0529174 (6)\ttotal: 1m 36s\tremaining: 41.5s\n",
            "7:\tlearn: 3.9434225\ttest: 3.9481258\tbest: 3.9481258 (7)\ttotal: 1m 48s\tremaining: 27.1s\n",
            "8:\tlearn: 3.8412959\ttest: 3.8462787\tbest: 3.8462787 (8)\ttotal: 2m\tremaining: 13.4s\n",
            "9:\tlearn: 3.7424664\ttest: 3.7481123\tbest: 3.7481123 (9)\ttotal: 2m 12s\tremaining: 0us\n",
            "   iterations  test-RMSE-mean  test-RMSE-std  train-RMSE-mean  train-RMSE-std\n",
            "0           0        4.763481       0.054142         4.763327        0.021070\n",
            "1           1        4.635009       0.055104         4.634208        0.020557\n",
            "2           2        4.510745       0.056108         4.509307        0.020090\n",
            "3           3        4.390632       0.057053         4.388446        0.019603\n",
            "4           4        4.274626       0.057930         4.271576        0.019116\n",
            "5           5        4.162322       0.058832         4.158540        0.018620\n",
            "6           6        4.052917       0.059121         4.049088        0.018262\n",
            "7           7        3.948126       0.059932         3.943423        0.017856\n",
            "8           8        3.846279       0.060262         3.841296        0.017464\n",
            "9           9        3.748112       0.061088         3.742466        0.017080\n",
            "Ends\n",
            "====================\n",
            "Model: 1\n",
            "(18338747, 17)\n",
            "(18335396, 17)\n",
            "log target\n",
            "Fit model 0\n",
            "Fit model 1\n",
            "Fit model 2\n",
            "Fit model 3\n",
            "Fit model 4\n",
            "Fit model 5\n",
            "RMSE: 1.4776406015140346\n",
            "--------------------\n",
            "<class 'sklearn.linear_model.ridge.Ridge'>\n"
          ],
          "name": "stdout"
        },
        {
          "output_type": "display_data",
          "data": {
            "text/html": [
              "<div>\n",
              "<style scoped>\n",
              "    .dataframe tbody tr th:only-of-type {\n",
              "        vertical-align: middle;\n",
              "    }\n",
              "\n",
              "    .dataframe tbody tr th {\n",
              "        vertical-align: top;\n",
              "    }\n",
              "\n",
              "    .dataframe thead th {\n",
              "        text-align: right;\n",
              "    }\n",
              "</style>\n",
              "<table border=\"1\" class=\"dataframe\">\n",
              "  <thead>\n",
              "    <tr style=\"text-align: right;\">\n",
              "      <th></th>\n",
              "      <th>train</th>\n",
              "      <th>test</th>\n",
              "      <th>std</th>\n",
              "    </tr>\n",
              "  </thead>\n",
              "  <tbody>\n",
              "    <tr>\n",
              "      <th>0</th>\n",
              "      <td>1.459465</td>\n",
              "      <td>1.483027</td>\n",
              "      <td>0.016661</td>\n",
              "    </tr>\n",
              "    <tr>\n",
              "      <th>1</th>\n",
              "      <td>1.481975</td>\n",
              "      <td>1.431133</td>\n",
              "      <td>0.035950</td>\n",
              "    </tr>\n",
              "    <tr>\n",
              "      <th>2</th>\n",
              "      <td>1.468198</td>\n",
              "      <td>1.472429</td>\n",
              "      <td>0.002992</td>\n",
              "    </tr>\n",
              "    <tr>\n",
              "      <th>3</th>\n",
              "      <td>1.457862</td>\n",
              "      <td>1.498531</td>\n",
              "      <td>0.028758</td>\n",
              "    </tr>\n",
              "    <tr>\n",
              "      <th>4</th>\n",
              "      <td>1.467126</td>\n",
              "      <td>1.472876</td>\n",
              "      <td>0.004066</td>\n",
              "    </tr>\n",
              "    <tr>\n",
              "      <th>5</th>\n",
              "      <td>1.455720</td>\n",
              "      <td>1.506655</td>\n",
              "      <td>0.036017</td>\n",
              "    </tr>\n",
              "  </tbody>\n",
              "</table>\n",
              "</div>"
            ],
            "text/plain": [
              "      train      test       std\n",
              "0  1.459465  1.483027  0.016661\n",
              "1  1.481975  1.431133  0.035950\n",
              "2  1.468198  1.472429  0.002992\n",
              "3  1.457862  1.498531  0.028758\n",
              "4  1.467126  1.472876  0.004066\n",
              "5  1.455720  1.506655  0.036017"
            ]
          },
          "metadata": {
            "tags": []
          }
        },
        {
          "output_type": "stream",
          "text": [
            "Std train: 0.009701307022715946, Std test: 0.02653234937958878\n",
            "Fit model 0\n",
            "Fit model 1\n",
            "Fit model 2\n",
            "Fit model 3\n",
            "Fit model 4\n",
            "Fit model 5\n",
            "RMSE: 1.5222440423420622\n",
            "--------------------\n",
            "<class 'sklearn.linear_model.coordinate_descent.Lasso'>\n"
          ],
          "name": "stdout"
        },
        {
          "output_type": "display_data",
          "data": {
            "text/html": [
              "<div>\n",
              "<style scoped>\n",
              "    .dataframe tbody tr th:only-of-type {\n",
              "        vertical-align: middle;\n",
              "    }\n",
              "\n",
              "    .dataframe tbody tr th {\n",
              "        vertical-align: top;\n",
              "    }\n",
              "\n",
              "    .dataframe thead th {\n",
              "        text-align: right;\n",
              "    }\n",
              "</style>\n",
              "<table border=\"1\" class=\"dataframe\">\n",
              "  <thead>\n",
              "    <tr style=\"text-align: right;\">\n",
              "      <th></th>\n",
              "      <th>train</th>\n",
              "      <th>test</th>\n",
              "      <th>std</th>\n",
              "    </tr>\n",
              "  </thead>\n",
              "  <tbody>\n",
              "    <tr>\n",
              "      <th>0</th>\n",
              "      <td>1.500689</td>\n",
              "      <td>1.540933</td>\n",
              "      <td>0.028457</td>\n",
              "    </tr>\n",
              "    <tr>\n",
              "      <th>1</th>\n",
              "      <td>1.530282</td>\n",
              "      <td>1.484192</td>\n",
              "      <td>0.032591</td>\n",
              "    </tr>\n",
              "    <tr>\n",
              "      <th>2</th>\n",
              "      <td>1.525897</td>\n",
              "      <td>1.500997</td>\n",
              "      <td>0.017607</td>\n",
              "    </tr>\n",
              "    <tr>\n",
              "      <th>3</th>\n",
              "      <td>1.518139</td>\n",
              "      <td>1.522145</td>\n",
              "      <td>0.002833</td>\n",
              "    </tr>\n",
              "    <tr>\n",
              "      <th>4</th>\n",
              "      <td>1.519894</td>\n",
              "      <td>1.514138</td>\n",
              "      <td>0.004070</td>\n",
              "    </tr>\n",
              "    <tr>\n",
              "      <th>5</th>\n",
              "      <td>1.498137</td>\n",
              "      <td>1.569564</td>\n",
              "      <td>0.050506</td>\n",
              "    </tr>\n",
              "  </tbody>\n",
              "</table>\n",
              "</div>"
            ],
            "text/plain": [
              "      train      test       std\n",
              "0  1.500689  1.540933  0.028457\n",
              "1  1.530282  1.484192  0.032591\n",
              "2  1.525897  1.500997  0.017607\n",
              "3  1.518139  1.522145  0.002833\n",
              "4  1.519894  1.514138  0.004070\n",
              "5  1.498137  1.569564  0.050506"
            ]
          },
          "metadata": {
            "tags": []
          }
        },
        {
          "output_type": "stream",
          "text": [
            "Std train: 0.01321939077993882, Std test: 0.030176755352172218\n",
            "Fit model 0\n",
            "Fit model 1\n",
            "Fit model 2\n",
            "Fit model 3\n",
            "Fit model 4\n",
            "Fit model 5\n",
            "RMSE: 1.4776406046198622\n",
            "--------------------\n",
            "<class 'sklearn.linear_model.base.LinearRegression'>\n"
          ],
          "name": "stdout"
        },
        {
          "output_type": "display_data",
          "data": {
            "text/html": [
              "<div>\n",
              "<style scoped>\n",
              "    .dataframe tbody tr th:only-of-type {\n",
              "        vertical-align: middle;\n",
              "    }\n",
              "\n",
              "    .dataframe tbody tr th {\n",
              "        vertical-align: top;\n",
              "    }\n",
              "\n",
              "    .dataframe thead th {\n",
              "        text-align: right;\n",
              "    }\n",
              "</style>\n",
              "<table border=\"1\" class=\"dataframe\">\n",
              "  <thead>\n",
              "    <tr style=\"text-align: right;\">\n",
              "      <th></th>\n",
              "      <th>train</th>\n",
              "      <th>test</th>\n",
              "      <th>std</th>\n",
              "    </tr>\n",
              "  </thead>\n",
              "  <tbody>\n",
              "    <tr>\n",
              "      <th>0</th>\n",
              "      <td>1.459465</td>\n",
              "      <td>1.483027</td>\n",
              "      <td>0.016661</td>\n",
              "    </tr>\n",
              "    <tr>\n",
              "      <th>1</th>\n",
              "      <td>1.481975</td>\n",
              "      <td>1.431133</td>\n",
              "      <td>0.035950</td>\n",
              "    </tr>\n",
              "    <tr>\n",
              "      <th>2</th>\n",
              "      <td>1.468198</td>\n",
              "      <td>1.472429</td>\n",
              "      <td>0.002992</td>\n",
              "    </tr>\n",
              "    <tr>\n",
              "      <th>3</th>\n",
              "      <td>1.457862</td>\n",
              "      <td>1.498531</td>\n",
              "      <td>0.028758</td>\n",
              "    </tr>\n",
              "    <tr>\n",
              "      <th>4</th>\n",
              "      <td>1.467126</td>\n",
              "      <td>1.472876</td>\n",
              "      <td>0.004066</td>\n",
              "    </tr>\n",
              "    <tr>\n",
              "      <th>5</th>\n",
              "      <td>1.455720</td>\n",
              "      <td>1.506655</td>\n",
              "      <td>0.036017</td>\n",
              "    </tr>\n",
              "  </tbody>\n",
              "</table>\n",
              "</div>"
            ],
            "text/plain": [
              "      train      test       std\n",
              "0  1.459465  1.483027  0.016661\n",
              "1  1.481975  1.431133  0.035950\n",
              "2  1.468198  1.472429  0.002992\n",
              "3  1.457862  1.498531  0.028758\n",
              "4  1.467126  1.472876  0.004066\n",
              "5  1.455720  1.506655  0.036017"
            ]
          },
          "metadata": {
            "tags": []
          }
        },
        {
          "output_type": "stream",
          "text": [
            "Std train: 0.009701307023431372, Std test: 0.026532348690472378\n",
            "Fit model 0\n",
            "Fit model 1\n",
            "Fit model 2\n",
            "Fit model 3\n",
            "Fit model 4\n",
            "Fit model 5\n",
            "RMSE: 0.8394966417144633\n",
            "--------------------\n",
            "<class 'lightgbm.sklearn.LGBMRegressor'>\n"
          ],
          "name": "stdout"
        },
        {
          "output_type": "display_data",
          "data": {
            "text/html": [
              "<div>\n",
              "<style scoped>\n",
              "    .dataframe tbody tr th:only-of-type {\n",
              "        vertical-align: middle;\n",
              "    }\n",
              "\n",
              "    .dataframe tbody tr th {\n",
              "        vertical-align: top;\n",
              "    }\n",
              "\n",
              "    .dataframe thead th {\n",
              "        text-align: right;\n",
              "    }\n",
              "</style>\n",
              "<table border=\"1\" class=\"dataframe\">\n",
              "  <thead>\n",
              "    <tr style=\"text-align: right;\">\n",
              "      <th></th>\n",
              "      <th>train</th>\n",
              "      <th>test</th>\n",
              "      <th>std</th>\n",
              "    </tr>\n",
              "  </thead>\n",
              "  <tbody>\n",
              "    <tr>\n",
              "      <th>0</th>\n",
              "      <td>0.541915</td>\n",
              "      <td>0.900130</td>\n",
              "      <td>0.253296</td>\n",
              "    </tr>\n",
              "    <tr>\n",
              "      <th>1</th>\n",
              "      <td>0.546486</td>\n",
              "      <td>0.763845</td>\n",
              "      <td>0.153696</td>\n",
              "    </tr>\n",
              "    <tr>\n",
              "      <th>2</th>\n",
              "      <td>0.537340</td>\n",
              "      <td>0.827119</td>\n",
              "      <td>0.204905</td>\n",
              "    </tr>\n",
              "    <tr>\n",
              "      <th>3</th>\n",
              "      <td>0.543957</td>\n",
              "      <td>0.788433</td>\n",
              "      <td>0.172871</td>\n",
              "    </tr>\n",
              "    <tr>\n",
              "      <th>4</th>\n",
              "      <td>0.547120</td>\n",
              "      <td>0.669094</td>\n",
              "      <td>0.086249</td>\n",
              "    </tr>\n",
              "    <tr>\n",
              "      <th>5</th>\n",
              "      <td>0.520578</td>\n",
              "      <td>1.039901</td>\n",
              "      <td>0.367217</td>\n",
              "    </tr>\n",
              "  </tbody>\n",
              "</table>\n",
              "</div>"
            ],
            "text/plain": [
              "      train      test       std\n",
              "0  0.541915  0.900130  0.253296\n",
              "1  0.546486  0.763845  0.153696\n",
              "2  0.537340  0.827119  0.204905\n",
              "3  0.543957  0.788433  0.172871\n",
              "4  0.547120  0.669094  0.086249\n",
              "5  0.520578  1.039901  0.367217"
            ]
          },
          "metadata": {
            "tags": []
          }
        },
        {
          "output_type": "stream",
          "text": [
            "Std train: 0.009952191671739306, Std test: 0.1272540243691624\n",
            "0:\tlearn: 4.7636766\ttest: 4.7636417\tbest: 4.7636417 (0)\ttotal: 25.6s\tremaining: 3m 50s\n",
            "1:\tlearn: 4.6344755\ttest: 4.6349197\tbest: 4.6349197 (1)\ttotal: 37.3s\tremaining: 2m 29s\n",
            "2:\tlearn: 4.5095738\ttest: 4.5105276\tbest: 4.5105276 (2)\ttotal: 48.8s\tremaining: 1m 53s\n",
            "3:\tlearn: 4.3888067\ttest: 4.3902801\tbest: 4.3902801 (3)\ttotal: 1m\tremaining: 1m 30s\n",
            "4:\tlearn: 4.2718821\ttest: 4.2742246\tbest: 4.2742246 (4)\ttotal: 1m 12s\tremaining: 1m 12s\n",
            "5:\tlearn: 4.1587789\ttest: 4.1619919\tbest: 4.1619919 (5)\ttotal: 1m 24s\tremaining: 56.2s\n",
            "6:\tlearn: 4.0494799\ttest: 4.0532298\tbest: 4.0532298 (6)\ttotal: 1m 36s\tremaining: 41.2s\n",
            "7:\tlearn: 3.9436892\ttest: 3.9476728\tbest: 3.9476728 (7)\ttotal: 1m 48s\tremaining: 27s\n",
            "8:\tlearn: 3.8413214\ttest: 3.8455098\tbest: 3.8455098 (8)\ttotal: 1m 59s\tremaining: 13.3s\n",
            "9:\tlearn: 3.7424393\ttest: 3.7468049\tbest: 3.7468049 (9)\ttotal: 2m 11s\tremaining: 0us\n",
            "   iterations  test-RMSE-mean  test-RMSE-std  train-RMSE-mean  train-RMSE-std\n",
            "0           0        4.763642       0.053899         4.763677        0.020318\n",
            "1           1        4.634920       0.054872         4.634475        0.019834\n",
            "2           2        4.510528       0.055842         4.509574        0.019353\n",
            "3           3        4.390280       0.056701         4.388807        0.018958\n",
            "4           4        4.274225       0.057620         4.271882        0.018485\n",
            "5           5        4.161992       0.058492         4.158779        0.018031\n",
            "6           6        4.053230       0.059470         4.049480        0.017549\n",
            "7           7        3.947673       0.059701         3.943689        0.017218\n",
            "8           8        3.845510       0.059992         3.841321        0.016890\n",
            "9           9        3.746805       0.060259         3.742439        0.016477\n",
            "Ends\n",
            "====================\n",
            "Model: 2\n",
            "(18338747, 17)\n",
            "(18335396, 17)\n",
            "log target\n",
            "Fit model 0\n",
            "Fit model 1\n",
            "Fit model 2\n",
            "Fit model 3\n",
            "Fit model 4\n",
            "Fit model 5\n",
            "RMSE: 1.472149228208551\n",
            "--------------------\n",
            "<class 'sklearn.linear_model.ridge.Ridge'>\n"
          ],
          "name": "stdout"
        },
        {
          "output_type": "display_data",
          "data": {
            "text/html": [
              "<div>\n",
              "<style scoped>\n",
              "    .dataframe tbody tr th:only-of-type {\n",
              "        vertical-align: middle;\n",
              "    }\n",
              "\n",
              "    .dataframe tbody tr th {\n",
              "        vertical-align: top;\n",
              "    }\n",
              "\n",
              "    .dataframe thead th {\n",
              "        text-align: right;\n",
              "    }\n",
              "</style>\n",
              "<table border=\"1\" class=\"dataframe\">\n",
              "  <thead>\n",
              "    <tr style=\"text-align: right;\">\n",
              "      <th></th>\n",
              "      <th>train</th>\n",
              "      <th>test</th>\n",
              "      <th>std</th>\n",
              "    </tr>\n",
              "  </thead>\n",
              "  <tbody>\n",
              "    <tr>\n",
              "      <th>0</th>\n",
              "      <td>1.449639</td>\n",
              "      <td>1.484819</td>\n",
              "      <td>0.024876</td>\n",
              "    </tr>\n",
              "    <tr>\n",
              "      <th>1</th>\n",
              "      <td>1.472357</td>\n",
              "      <td>1.421742</td>\n",
              "      <td>0.035790</td>\n",
              "    </tr>\n",
              "    <tr>\n",
              "      <th>2</th>\n",
              "      <td>1.458025</td>\n",
              "      <td>1.464569</td>\n",
              "      <td>0.004628</td>\n",
              "    </tr>\n",
              "    <tr>\n",
              "      <th>3</th>\n",
              "      <td>1.445879</td>\n",
              "      <td>1.506243</td>\n",
              "      <td>0.042684</td>\n",
              "    </tr>\n",
              "    <tr>\n",
              "      <th>4</th>\n",
              "      <td>1.458009</td>\n",
              "      <td>1.464479</td>\n",
              "      <td>0.004575</td>\n",
              "    </tr>\n",
              "    <tr>\n",
              "      <th>5</th>\n",
              "      <td>1.446182</td>\n",
              "      <td>1.489588</td>\n",
              "      <td>0.030692</td>\n",
              "    </tr>\n",
              "  </tbody>\n",
              "</table>\n",
              "</div>"
            ],
            "text/plain": [
              "      train      test       std\n",
              "0  1.449639  1.484819  0.024876\n",
              "1  1.472357  1.421742  0.035790\n",
              "2  1.458025  1.464569  0.004628\n",
              "3  1.445879  1.506243  0.042684\n",
              "4  1.458009  1.464479  0.004575\n",
              "5  1.446182  1.489588  0.030692"
            ]
          },
          "metadata": {
            "tags": []
          }
        },
        {
          "output_type": "stream",
          "text": [
            "Std train: 0.010090894642876245, Std test: 0.029270614567501893\n",
            "Fit model 0\n",
            "Fit model 1\n",
            "Fit model 2\n",
            "Fit model 3\n",
            "Fit model 4\n",
            "Fit model 5\n",
            "RMSE: 1.5224526538692025\n",
            "--------------------\n",
            "<class 'sklearn.linear_model.coordinate_descent.Lasso'>\n"
          ],
          "name": "stdout"
        },
        {
          "output_type": "display_data",
          "data": {
            "text/html": [
              "<div>\n",
              "<style scoped>\n",
              "    .dataframe tbody tr th:only-of-type {\n",
              "        vertical-align: middle;\n",
              "    }\n",
              "\n",
              "    .dataframe tbody tr th {\n",
              "        vertical-align: top;\n",
              "    }\n",
              "\n",
              "    .dataframe thead th {\n",
              "        text-align: right;\n",
              "    }\n",
              "</style>\n",
              "<table border=\"1\" class=\"dataframe\">\n",
              "  <thead>\n",
              "    <tr style=\"text-align: right;\">\n",
              "      <th></th>\n",
              "      <th>train</th>\n",
              "      <th>test</th>\n",
              "      <th>std</th>\n",
              "    </tr>\n",
              "  </thead>\n",
              "  <tbody>\n",
              "    <tr>\n",
              "      <th>0</th>\n",
              "      <td>1.501146</td>\n",
              "      <td>1.541469</td>\n",
              "      <td>0.028512</td>\n",
              "    </tr>\n",
              "    <tr>\n",
              "      <th>1</th>\n",
              "      <td>1.530248</td>\n",
              "      <td>1.484414</td>\n",
              "      <td>0.032410</td>\n",
              "    </tr>\n",
              "    <tr>\n",
              "      <th>2</th>\n",
              "      <td>1.525739</td>\n",
              "      <td>1.499070</td>\n",
              "      <td>0.018857</td>\n",
              "    </tr>\n",
              "    <tr>\n",
              "      <th>3</th>\n",
              "      <td>1.517019</td>\n",
              "      <td>1.522689</td>\n",
              "      <td>0.004009</td>\n",
              "    </tr>\n",
              "    <tr>\n",
              "      <th>4</th>\n",
              "      <td>1.519533</td>\n",
              "      <td>1.515569</td>\n",
              "      <td>0.002803</td>\n",
              "    </tr>\n",
              "    <tr>\n",
              "      <th>5</th>\n",
              "      <td>1.497615</td>\n",
              "      <td>1.569975</td>\n",
              "      <td>0.051167</td>\n",
              "    </tr>\n",
              "  </tbody>\n",
              "</table>\n",
              "</div>"
            ],
            "text/plain": [
              "      train      test       std\n",
              "0  1.501146  1.541469  0.028512\n",
              "1  1.530248  1.484414  0.032410\n",
              "2  1.525739  1.499070  0.018857\n",
              "3  1.517019  1.522689  0.004009\n",
              "4  1.519533  1.515569  0.002803\n",
              "5  1.497615  1.569975  0.051167"
            ]
          },
          "metadata": {
            "tags": []
          }
        },
        {
          "output_type": "stream",
          "text": [
            "Std train: 0.013163156109390544, Std test: 0.03053116946228715\n",
            "Fit model 0\n",
            "Fit model 1\n",
            "Fit model 2\n",
            "Fit model 3\n",
            "Fit model 4\n",
            "Fit model 5\n",
            "RMSE: 1.47214923246368\n",
            "--------------------\n",
            "<class 'sklearn.linear_model.base.LinearRegression'>\n"
          ],
          "name": "stdout"
        },
        {
          "output_type": "display_data",
          "data": {
            "text/html": [
              "<div>\n",
              "<style scoped>\n",
              "    .dataframe tbody tr th:only-of-type {\n",
              "        vertical-align: middle;\n",
              "    }\n",
              "\n",
              "    .dataframe tbody tr th {\n",
              "        vertical-align: top;\n",
              "    }\n",
              "\n",
              "    .dataframe thead th {\n",
              "        text-align: right;\n",
              "    }\n",
              "</style>\n",
              "<table border=\"1\" class=\"dataframe\">\n",
              "  <thead>\n",
              "    <tr style=\"text-align: right;\">\n",
              "      <th></th>\n",
              "      <th>train</th>\n",
              "      <th>test</th>\n",
              "      <th>std</th>\n",
              "    </tr>\n",
              "  </thead>\n",
              "  <tbody>\n",
              "    <tr>\n",
              "      <th>0</th>\n",
              "      <td>1.449639</td>\n",
              "      <td>1.484819</td>\n",
              "      <td>0.024876</td>\n",
              "    </tr>\n",
              "    <tr>\n",
              "      <th>1</th>\n",
              "      <td>1.472357</td>\n",
              "      <td>1.421742</td>\n",
              "      <td>0.035790</td>\n",
              "    </tr>\n",
              "    <tr>\n",
              "      <th>2</th>\n",
              "      <td>1.458025</td>\n",
              "      <td>1.464569</td>\n",
              "      <td>0.004628</td>\n",
              "    </tr>\n",
              "    <tr>\n",
              "      <th>3</th>\n",
              "      <td>1.445879</td>\n",
              "      <td>1.506243</td>\n",
              "      <td>0.042684</td>\n",
              "    </tr>\n",
              "    <tr>\n",
              "      <th>4</th>\n",
              "      <td>1.458009</td>\n",
              "      <td>1.464479</td>\n",
              "      <td>0.004575</td>\n",
              "    </tr>\n",
              "    <tr>\n",
              "      <th>5</th>\n",
              "      <td>1.446182</td>\n",
              "      <td>1.489588</td>\n",
              "      <td>0.030692</td>\n",
              "    </tr>\n",
              "  </tbody>\n",
              "</table>\n",
              "</div>"
            ],
            "text/plain": [
              "      train      test       std\n",
              "0  1.449639  1.484819  0.024876\n",
              "1  1.472357  1.421742  0.035790\n",
              "2  1.458025  1.464569  0.004628\n",
              "3  1.445879  1.506243  0.042684\n",
              "4  1.458009  1.464479  0.004575\n",
              "5  1.446182  1.489588  0.030692"
            ]
          },
          "metadata": {
            "tags": []
          }
        },
        {
          "output_type": "stream",
          "text": [
            "Std train: 0.01009089464272032, Std test: 0.029270614624103426\n",
            "Fit model 0\n",
            "Fit model 1\n",
            "Fit model 2\n",
            "Fit model 3\n",
            "Fit model 4\n",
            "Fit model 5\n",
            "RMSE: 0.7904828613885535\n",
            "--------------------\n",
            "<class 'lightgbm.sklearn.LGBMRegressor'>\n"
          ],
          "name": "stdout"
        },
        {
          "output_type": "display_data",
          "data": {
            "text/html": [
              "<div>\n",
              "<style scoped>\n",
              "    .dataframe tbody tr th:only-of-type {\n",
              "        vertical-align: middle;\n",
              "    }\n",
              "\n",
              "    .dataframe tbody tr th {\n",
              "        vertical-align: top;\n",
              "    }\n",
              "\n",
              "    .dataframe thead th {\n",
              "        text-align: right;\n",
              "    }\n",
              "</style>\n",
              "<table border=\"1\" class=\"dataframe\">\n",
              "  <thead>\n",
              "    <tr style=\"text-align: right;\">\n",
              "      <th></th>\n",
              "      <th>train</th>\n",
              "      <th>test</th>\n",
              "      <th>std</th>\n",
              "    </tr>\n",
              "  </thead>\n",
              "  <tbody>\n",
              "    <tr>\n",
              "      <th>0</th>\n",
              "      <td>0.575174</td>\n",
              "      <td>0.832400</td>\n",
              "      <td>0.181886</td>\n",
              "    </tr>\n",
              "    <tr>\n",
              "      <th>1</th>\n",
              "      <td>0.570953</td>\n",
              "      <td>0.723475</td>\n",
              "      <td>0.107850</td>\n",
              "    </tr>\n",
              "    <tr>\n",
              "      <th>2</th>\n",
              "      <td>0.567334</td>\n",
              "      <td>0.716881</td>\n",
              "      <td>0.105746</td>\n",
              "    </tr>\n",
              "    <tr>\n",
              "      <th>3</th>\n",
              "      <td>0.574956</td>\n",
              "      <td>0.767901</td>\n",
              "      <td>0.136433</td>\n",
              "    </tr>\n",
              "    <tr>\n",
              "      <th>4</th>\n",
              "      <td>0.569409</td>\n",
              "      <td>0.700127</td>\n",
              "      <td>0.092431</td>\n",
              "    </tr>\n",
              "    <tr>\n",
              "      <th>5</th>\n",
              "      <td>0.556207</td>\n",
              "      <td>0.969074</td>\n",
              "      <td>0.291940</td>\n",
              "    </tr>\n",
              "  </tbody>\n",
              "</table>\n",
              "</div>"
            ],
            "text/plain": [
              "      train      test       std\n",
              "0  0.575174  0.832400  0.181886\n",
              "1  0.570953  0.723475  0.107850\n",
              "2  0.567334  0.716881  0.105746\n",
              "3  0.574956  0.767901  0.136433\n",
              "4  0.569409  0.700127  0.092431\n",
              "5  0.556207  0.969074  0.291940"
            ]
          },
          "metadata": {
            "tags": []
          }
        },
        {
          "output_type": "stream",
          "text": [
            "Std train: 0.006985680248700298, Std test: 0.10203057118505195\n",
            "0:\tlearn: 4.7635676\ttest: 4.7636718\tbest: 4.7636718 (0)\ttotal: 25.7s\tremaining: 3m 51s\n",
            "1:\tlearn: 4.6343753\ttest: 4.6350599\tbest: 4.6350599 (1)\ttotal: 37.6s\tremaining: 2m 30s\n",
            "2:\tlearn: 4.5094991\ttest: 4.5108098\tbest: 4.5108098 (2)\ttotal: 49.1s\tremaining: 1m 54s\n",
            "3:\tlearn: 4.3886019\ttest: 4.3905972\tbest: 4.3905972 (3)\ttotal: 1m\tremaining: 1m 31s\n",
            "4:\tlearn: 4.2717148\ttest: 4.2743228\tbest: 4.2743228 (4)\ttotal: 1m 12s\tremaining: 1m 12s\n",
            "5:\tlearn: 4.1587090\ttest: 4.1617563\tbest: 4.1617563 (5)\ttotal: 1m 23s\tremaining: 55.8s\n",
            "6:\tlearn: 4.0493065\ttest: 4.0530537\tbest: 4.0530537 (6)\ttotal: 1m 35s\tremaining: 40.9s\n",
            "7:\tlearn: 3.9436958\ttest: 3.9483211\tbest: 3.9483211 (7)\ttotal: 1m 47s\tremaining: 26.9s\n",
            "8:\tlearn: 3.8414998\ttest: 3.8463826\tbest: 3.8463826 (8)\ttotal: 1m 59s\tremaining: 13.3s\n",
            "9:\tlearn: 3.7424908\ttest: 3.7474631\tbest: 3.7474631 (9)\ttotal: 2m 11s\tremaining: 0us\n",
            "   iterations  test-RMSE-mean  test-RMSE-std  train-RMSE-mean  train-RMSE-std\n",
            "0           0        4.763672       0.053522         4.763568        0.020083\n",
            "1           1        4.635060       0.054555         4.634375        0.019579\n",
            "2           2        4.510810       0.055518         4.509499        0.019171\n",
            "3           3        4.390597       0.056496         4.388602        0.018661\n",
            "4           4        4.274323       0.057366         4.271715        0.018241\n",
            "5           5        4.161756       0.058277         4.158709        0.017804\n",
            "6           6        4.053054       0.059228         4.049306        0.017291\n",
            "7           7        3.948321       0.060076         3.943696        0.016857\n",
            "8           8        3.846383       0.060208         3.841500        0.016615\n",
            "9           9        3.747463       0.060489         3.742491        0.016281\n",
            "Ends\n",
            "====================\n",
            "Model: 3\n",
            "(18338747, 17)\n",
            "(18335396, 17)\n",
            "log target\n",
            "Fit model 0\n",
            "Fit model 1\n",
            "Fit model 2\n",
            "Fit model 3\n",
            "Fit model 4\n",
            "Fit model 5\n",
            "RMSE: 1.470480221238332\n",
            "--------------------\n",
            "<class 'sklearn.linear_model.ridge.Ridge'>\n"
          ],
          "name": "stdout"
        },
        {
          "output_type": "display_data",
          "data": {
            "text/html": [
              "<div>\n",
              "<style scoped>\n",
              "    .dataframe tbody tr th:only-of-type {\n",
              "        vertical-align: middle;\n",
              "    }\n",
              "\n",
              "    .dataframe tbody tr th {\n",
              "        vertical-align: top;\n",
              "    }\n",
              "\n",
              "    .dataframe thead th {\n",
              "        text-align: right;\n",
              "    }\n",
              "</style>\n",
              "<table border=\"1\" class=\"dataframe\">\n",
              "  <thead>\n",
              "    <tr style=\"text-align: right;\">\n",
              "      <th></th>\n",
              "      <th>train</th>\n",
              "      <th>test</th>\n",
              "      <th>std</th>\n",
              "    </tr>\n",
              "  </thead>\n",
              "  <tbody>\n",
              "    <tr>\n",
              "      <th>0</th>\n",
              "      <td>1.453146</td>\n",
              "      <td>1.473743</td>\n",
              "      <td>0.014564</td>\n",
              "    </tr>\n",
              "    <tr>\n",
              "      <th>1</th>\n",
              "      <td>1.474344</td>\n",
              "      <td>1.420249</td>\n",
              "      <td>0.038251</td>\n",
              "    </tr>\n",
              "    <tr>\n",
              "      <th>2</th>\n",
              "      <td>1.457768</td>\n",
              "      <td>1.466635</td>\n",
              "      <td>0.006270</td>\n",
              "    </tr>\n",
              "    <tr>\n",
              "      <th>3</th>\n",
              "      <td>1.445954</td>\n",
              "      <td>1.496548</td>\n",
              "      <td>0.035775</td>\n",
              "    </tr>\n",
              "    <tr>\n",
              "      <th>4</th>\n",
              "      <td>1.457666</td>\n",
              "      <td>1.464319</td>\n",
              "      <td>0.004704</td>\n",
              "    </tr>\n",
              "    <tr>\n",
              "      <th>5</th>\n",
              "      <td>1.446955</td>\n",
              "      <td>1.499982</td>\n",
              "      <td>0.037496</td>\n",
              "    </tr>\n",
              "  </tbody>\n",
              "</table>\n",
              "</div>"
            ],
            "text/plain": [
              "      train      test       std\n",
              "0  1.453146  1.473743  0.014564\n",
              "1  1.474344  1.420249  0.038251\n",
              "2  1.457768  1.466635  0.006270\n",
              "3  1.445954  1.496548  0.035775\n",
              "4  1.457666  1.464319  0.004704\n",
              "5  1.446955  1.499982  0.037496"
            ]
          },
          "metadata": {
            "tags": []
          }
        },
        {
          "output_type": "stream",
          "text": [
            "Std train: 0.010327414954232377, Std test: 0.02876155950881258\n",
            "Fit model 0\n",
            "Fit model 1\n",
            "Fit model 2\n",
            "Fit model 3\n",
            "Fit model 4\n",
            "Fit model 5\n",
            "RMSE: 1.5227954858763695\n",
            "--------------------\n",
            "<class 'sklearn.linear_model.coordinate_descent.Lasso'>\n"
          ],
          "name": "stdout"
        },
        {
          "output_type": "display_data",
          "data": {
            "text/html": [
              "<div>\n",
              "<style scoped>\n",
              "    .dataframe tbody tr th:only-of-type {\n",
              "        vertical-align: middle;\n",
              "    }\n",
              "\n",
              "    .dataframe tbody tr th {\n",
              "        vertical-align: top;\n",
              "    }\n",
              "\n",
              "    .dataframe thead th {\n",
              "        text-align: right;\n",
              "    }\n",
              "</style>\n",
              "<table border=\"1\" class=\"dataframe\">\n",
              "  <thead>\n",
              "    <tr style=\"text-align: right;\">\n",
              "      <th></th>\n",
              "      <th>train</th>\n",
              "      <th>test</th>\n",
              "      <th>std</th>\n",
              "    </tr>\n",
              "  </thead>\n",
              "  <tbody>\n",
              "    <tr>\n",
              "      <th>0</th>\n",
              "      <td>1.501221</td>\n",
              "      <td>1.543148</td>\n",
              "      <td>0.029647</td>\n",
              "    </tr>\n",
              "    <tr>\n",
              "      <th>1</th>\n",
              "      <td>1.530079</td>\n",
              "      <td>1.483514</td>\n",
              "      <td>0.032926</td>\n",
              "    </tr>\n",
              "    <tr>\n",
              "      <th>2</th>\n",
              "      <td>1.525397</td>\n",
              "      <td>1.499963</td>\n",
              "      <td>0.017985</td>\n",
              "    </tr>\n",
              "    <tr>\n",
              "      <th>3</th>\n",
              "      <td>1.516967</td>\n",
              "      <td>1.522905</td>\n",
              "      <td>0.004199</td>\n",
              "    </tr>\n",
              "    <tr>\n",
              "      <th>4</th>\n",
              "      <td>1.519133</td>\n",
              "      <td>1.514678</td>\n",
              "      <td>0.003151</td>\n",
              "    </tr>\n",
              "    <tr>\n",
              "      <th>5</th>\n",
              "      <td>1.496975</td>\n",
              "      <td>1.570968</td>\n",
              "      <td>0.052321</td>\n",
              "    </tr>\n",
              "  </tbody>\n",
              "</table>\n",
              "</div>"
            ],
            "text/plain": [
              "      train      test       std\n",
              "0  1.501221  1.543148  0.029647\n",
              "1  1.530079  1.483514  0.032926\n",
              "2  1.525397  1.499963  0.017985\n",
              "3  1.516967  1.522905  0.004199\n",
              "4  1.519133  1.514678  0.003151\n",
              "5  1.496975  1.570968  0.052321"
            ]
          },
          "metadata": {
            "tags": []
          }
        },
        {
          "output_type": "stream",
          "text": [
            "Std train: 0.013199625721340532, Std test: 0.03119188348720057\n",
            "Fit model 0\n",
            "Fit model 1\n",
            "Fit model 2\n",
            "Fit model 3\n",
            "Fit model 4\n",
            "Fit model 5\n",
            "RMSE: 1.470480224773486\n",
            "--------------------\n",
            "<class 'sklearn.linear_model.base.LinearRegression'>\n"
          ],
          "name": "stdout"
        },
        {
          "output_type": "display_data",
          "data": {
            "text/html": [
              "<div>\n",
              "<style scoped>\n",
              "    .dataframe tbody tr th:only-of-type {\n",
              "        vertical-align: middle;\n",
              "    }\n",
              "\n",
              "    .dataframe tbody tr th {\n",
              "        vertical-align: top;\n",
              "    }\n",
              "\n",
              "    .dataframe thead th {\n",
              "        text-align: right;\n",
              "    }\n",
              "</style>\n",
              "<table border=\"1\" class=\"dataframe\">\n",
              "  <thead>\n",
              "    <tr style=\"text-align: right;\">\n",
              "      <th></th>\n",
              "      <th>train</th>\n",
              "      <th>test</th>\n",
              "      <th>std</th>\n",
              "    </tr>\n",
              "  </thead>\n",
              "  <tbody>\n",
              "    <tr>\n",
              "      <th>0</th>\n",
              "      <td>1.453146</td>\n",
              "      <td>1.473743</td>\n",
              "      <td>0.014564</td>\n",
              "    </tr>\n",
              "    <tr>\n",
              "      <th>1</th>\n",
              "      <td>1.474344</td>\n",
              "      <td>1.420249</td>\n",
              "      <td>0.038251</td>\n",
              "    </tr>\n",
              "    <tr>\n",
              "      <th>2</th>\n",
              "      <td>1.457768</td>\n",
              "      <td>1.466635</td>\n",
              "      <td>0.006270</td>\n",
              "    </tr>\n",
              "    <tr>\n",
              "      <th>3</th>\n",
              "      <td>1.445954</td>\n",
              "      <td>1.496548</td>\n",
              "      <td>0.035775</td>\n",
              "    </tr>\n",
              "    <tr>\n",
              "      <th>4</th>\n",
              "      <td>1.457666</td>\n",
              "      <td>1.464319</td>\n",
              "      <td>0.004704</td>\n",
              "    </tr>\n",
              "    <tr>\n",
              "      <th>5</th>\n",
              "      <td>1.446955</td>\n",
              "      <td>1.499982</td>\n",
              "      <td>0.037496</td>\n",
              "    </tr>\n",
              "  </tbody>\n",
              "</table>\n",
              "</div>"
            ],
            "text/plain": [
              "      train      test       std\n",
              "0  1.453146  1.473743  0.014564\n",
              "1  1.474344  1.420249  0.038251\n",
              "2  1.457768  1.466635  0.006270\n",
              "3  1.445954  1.496548  0.035775\n",
              "4  1.457666  1.464319  0.004704\n",
              "5  1.446955  1.499982  0.037496"
            ]
          },
          "metadata": {
            "tags": []
          }
        },
        {
          "output_type": "stream",
          "text": [
            "Std train: 0.010327414954145046, Std test: 0.028761559464270083\n",
            "Fit model 0\n",
            "Fit model 1\n",
            "Fit model 2\n",
            "Fit model 3\n",
            "Fit model 4\n",
            "Fit model 5\n",
            "RMSE: 0.8158207362217091\n",
            "--------------------\n",
            "<class 'lightgbm.sklearn.LGBMRegressor'>\n"
          ],
          "name": "stdout"
        },
        {
          "output_type": "display_data",
          "data": {
            "text/html": [
              "<div>\n",
              "<style scoped>\n",
              "    .dataframe tbody tr th:only-of-type {\n",
              "        vertical-align: middle;\n",
              "    }\n",
              "\n",
              "    .dataframe tbody tr th {\n",
              "        vertical-align: top;\n",
              "    }\n",
              "\n",
              "    .dataframe thead th {\n",
              "        text-align: right;\n",
              "    }\n",
              "</style>\n",
              "<table border=\"1\" class=\"dataframe\">\n",
              "  <thead>\n",
              "    <tr style=\"text-align: right;\">\n",
              "      <th></th>\n",
              "      <th>train</th>\n",
              "      <th>test</th>\n",
              "      <th>std</th>\n",
              "    </tr>\n",
              "  </thead>\n",
              "  <tbody>\n",
              "    <tr>\n",
              "      <th>0</th>\n",
              "      <td>0.538435</td>\n",
              "      <td>0.895428</td>\n",
              "      <td>0.252432</td>\n",
              "    </tr>\n",
              "    <tr>\n",
              "      <th>1</th>\n",
              "      <td>0.551616</td>\n",
              "      <td>0.709446</td>\n",
              "      <td>0.111602</td>\n",
              "    </tr>\n",
              "    <tr>\n",
              "      <th>2</th>\n",
              "      <td>0.538139</td>\n",
              "      <td>0.749885</td>\n",
              "      <td>0.149727</td>\n",
              "    </tr>\n",
              "    <tr>\n",
              "      <th>3</th>\n",
              "      <td>0.543846</td>\n",
              "      <td>0.778537</td>\n",
              "      <td>0.165951</td>\n",
              "    </tr>\n",
              "    <tr>\n",
              "      <th>4</th>\n",
              "      <td>0.547473</td>\n",
              "      <td>0.679530</td>\n",
              "      <td>0.093378</td>\n",
              "    </tr>\n",
              "    <tr>\n",
              "      <th>5</th>\n",
              "      <td>0.522296</td>\n",
              "      <td>1.028625</td>\n",
              "      <td>0.358029</td>\n",
              "    </tr>\n",
              "  </tbody>\n",
              "</table>\n",
              "</div>"
            ],
            "text/plain": [
              "      train      test       std\n",
              "0  0.538435  0.895428  0.252432\n",
              "1  0.551616  0.709446  0.111602\n",
              "2  0.538139  0.749885  0.149727\n",
              "3  0.543846  0.778537  0.165951\n",
              "4  0.547473  0.679530  0.093378\n",
              "5  0.522296  1.028625  0.358029"
            ]
          },
          "metadata": {
            "tags": []
          }
        },
        {
          "output_type": "stream",
          "text": [
            "Std train: 0.010240779491696581, Std test: 0.13173823969236562\n",
            "0:\tlearn: 4.7632877\ttest: 4.7641563\tbest: 4.7641563 (0)\ttotal: 26.3s\tremaining: 3m 57s\n",
            "1:\tlearn: 4.6340980\ttest: 4.6355369\tbest: 4.6355369 (1)\ttotal: 38.6s\tremaining: 2m 34s\n",
            "2:\tlearn: 4.5092240\ttest: 4.5112829\tbest: 4.5112829 (2)\ttotal: 50.6s\tremaining: 1m 58s\n",
            "3:\tlearn: 4.3883429\ttest: 4.3910854\tbest: 4.3910854 (3)\ttotal: 1m 2s\tremaining: 1m 34s\n",
            "4:\tlearn: 4.2714575\ttest: 4.2748121\tbest: 4.2748121 (4)\ttotal: 1m 14s\tremaining: 1m 14s\n",
            "5:\tlearn: 4.1584922\ttest: 4.1623810\tbest: 4.1623810 (5)\ttotal: 1m 26s\tremaining: 57.7s\n",
            "6:\tlearn: 4.0491079\ttest: 4.0537728\tbest: 4.0537728 (6)\ttotal: 1m 38s\tremaining: 42.2s\n",
            "7:\tlearn: 3.9434942\ttest: 3.9487727\tbest: 3.9487727 (7)\ttotal: 1m 51s\tremaining: 27.8s\n",
            "8:\tlearn: 3.8413048\ttest: 3.8470015\tbest: 3.8470015 (8)\ttotal: 2m 4s\tremaining: 13.8s\n",
            "9:\tlearn: 3.7422122\ttest: 3.7479884\tbest: 3.7479884 (9)\ttotal: 2m 16s\tremaining: 0us\n",
            "   iterations  test-RMSE-mean  test-RMSE-std  train-RMSE-mean  train-RMSE-std\n",
            "0           0        4.764156       0.053141         4.763288        0.020135\n",
            "1           1        4.635537       0.054168         4.634098        0.019624\n",
            "2           2        4.511283       0.055121         4.509224        0.019206\n",
            "3           3        4.391085       0.056105         4.388343        0.018680\n",
            "4           4        4.274812       0.056976         4.271457        0.018250\n",
            "5           5        4.162381       0.057943         4.158492        0.017783\n",
            "6           6        4.053773       0.058784         4.049108        0.017343\n",
            "7           7        3.948773       0.059710         3.943494        0.016903\n",
            "8           8        3.847002       0.059804         3.841305        0.016672\n",
            "9           9        3.747988       0.060078         3.742212        0.016347\n",
            "Ends\n",
            "====================\n"
          ],
          "name": "stdout"
        }
      ]
    },
    {
      "cell_type": "markdown",
      "metadata": {
        "id": "4WrAPCtsAB4S",
        "colab_type": "text"
      },
      "source": [
        "#2 all true"
      ]
    },
    {
      "cell_type": "code",
      "metadata": {
        "id": "IdGHK7Hb_36g",
        "colab_type": "code",
        "outputId": "bb4a0a0b-961e-430c-be78-83b5257e2ab0",
        "colab": {
          "base_uri": "https://localhost:8080/"
        }
      },
      "source": [
        "for n, drop in enumerate([drop_1, drop_2, drop_3, drop_4]):\n",
        "  print(f'Model: {n}')\n",
        "  data = train.drop(drop, axis = 1)\n",
        "  experement(models, model_cat, data, frac = 0.5, b1099=True, logtarget= True, scaler = True, timestamp = True)  \n",
        "  print('Ends')\n",
        "  print('====================')\n",
        "  del data\n",
        "  gc.collect()"
      ],
      "execution_count": 0,
      "outputs": [
        {
          "output_type": "stream",
          "text": [
            "Model: 0\n",
            "(18338747, 19)\n",
            "(18335396, 19)\n",
            "log target\n",
            "Scale\n",
            "Fit model 0\n",
            "Fit model 1\n",
            "Fit model 2\n",
            "Fit model 3\n",
            "Fit model 4\n",
            "Fit model 5\n",
            "RMSE: 1.4900177783467832\n",
            "--------------------\n",
            "<class 'sklearn.linear_model.ridge.Ridge'>\n"
          ],
          "name": "stdout"
        },
        {
          "output_type": "display_data",
          "data": {
            "text/html": [
              "<div>\n",
              "<style scoped>\n",
              "    .dataframe tbody tr th:only-of-type {\n",
              "        vertical-align: middle;\n",
              "    }\n",
              "\n",
              "    .dataframe tbody tr th {\n",
              "        vertical-align: top;\n",
              "    }\n",
              "\n",
              "    .dataframe thead th {\n",
              "        text-align: right;\n",
              "    }\n",
              "</style>\n",
              "<table border=\"1\" class=\"dataframe\">\n",
              "  <thead>\n",
              "    <tr style=\"text-align: right;\">\n",
              "      <th></th>\n",
              "      <th>train</th>\n",
              "      <th>test</th>\n",
              "      <th>std</th>\n",
              "    </tr>\n",
              "  </thead>\n",
              "  <tbody>\n",
              "    <tr>\n",
              "      <th>0</th>\n",
              "      <td>1.464394</td>\n",
              "      <td>1.498095</td>\n",
              "      <td>0.023830</td>\n",
              "    </tr>\n",
              "    <tr>\n",
              "      <th>1</th>\n",
              "      <td>1.486663</td>\n",
              "      <td>1.436278</td>\n",
              "      <td>0.035628</td>\n",
              "    </tr>\n",
              "    <tr>\n",
              "      <th>2</th>\n",
              "      <td>1.469606</td>\n",
              "      <td>1.481438</td>\n",
              "      <td>0.008367</td>\n",
              "    </tr>\n",
              "    <tr>\n",
              "      <th>3</th>\n",
              "      <td>1.455760</td>\n",
              "      <td>1.533484</td>\n",
              "      <td>0.054959</td>\n",
              "    </tr>\n",
              "    <tr>\n",
              "      <th>4</th>\n",
              "      <td>1.469550</td>\n",
              "      <td>1.483154</td>\n",
              "      <td>0.009620</td>\n",
              "    </tr>\n",
              "    <tr>\n",
              "      <th>5</th>\n",
              "      <td>1.460714</td>\n",
              "      <td>1.505907</td>\n",
              "      <td>0.031956</td>\n",
              "    </tr>\n",
              "  </tbody>\n",
              "</table>\n",
              "</div>"
            ],
            "text/plain": [
              "      train      test       std\n",
              "0  1.464394  1.498095  0.023830\n",
              "1  1.486663  1.436278  0.035628\n",
              "2  1.469606  1.481438  0.008367\n",
              "3  1.455760  1.533484  0.054959\n",
              "4  1.469550  1.483154  0.009620\n",
              "5  1.460714  1.505907  0.031956"
            ]
          },
          "metadata": {
            "tags": []
          }
        },
        {
          "output_type": "stream",
          "text": [
            "Std train: 0.010666809191110979, Std test: 0.03229638567086582\n",
            "Fit model 0\n",
            "Fit model 1\n",
            "Fit model 2\n",
            "Fit model 3\n",
            "Fit model 4\n",
            "Fit model 5\n",
            "RMSE: 1.7672897680286852\n",
            "--------------------\n",
            "<class 'sklearn.linear_model.coordinate_descent.Lasso'>\n"
          ],
          "name": "stdout"
        },
        {
          "output_type": "display_data",
          "data": {
            "text/html": [
              "<div>\n",
              "<style scoped>\n",
              "    .dataframe tbody tr th:only-of-type {\n",
              "        vertical-align: middle;\n",
              "    }\n",
              "\n",
              "    .dataframe tbody tr th {\n",
              "        vertical-align: top;\n",
              "    }\n",
              "\n",
              "    .dataframe thead th {\n",
              "        text-align: right;\n",
              "    }\n",
              "</style>\n",
              "<table border=\"1\" class=\"dataframe\">\n",
              "  <thead>\n",
              "    <tr style=\"text-align: right;\">\n",
              "      <th></th>\n",
              "      <th>train</th>\n",
              "      <th>test</th>\n",
              "      <th>std</th>\n",
              "    </tr>\n",
              "  </thead>\n",
              "  <tbody>\n",
              "    <tr>\n",
              "      <th>0</th>\n",
              "      <td>1.744903</td>\n",
              "      <td>1.806918</td>\n",
              "      <td>0.043851</td>\n",
              "    </tr>\n",
              "    <tr>\n",
              "      <th>1</th>\n",
              "      <td>1.772128</td>\n",
              "      <td>1.753459</td>\n",
              "      <td>0.013201</td>\n",
              "    </tr>\n",
              "    <tr>\n",
              "      <th>2</th>\n",
              "      <td>1.777500</td>\n",
              "      <td>1.740629</td>\n",
              "      <td>0.026072</td>\n",
              "    </tr>\n",
              "    <tr>\n",
              "      <th>3</th>\n",
              "      <td>1.773165</td>\n",
              "      <td>1.756260</td>\n",
              "      <td>0.011954</td>\n",
              "    </tr>\n",
              "    <tr>\n",
              "      <th>4</th>\n",
              "      <td>1.775129</td>\n",
              "      <td>1.752428</td>\n",
              "      <td>0.016052</td>\n",
              "    </tr>\n",
              "    <tr>\n",
              "      <th>5</th>\n",
              "      <td>1.752208</td>\n",
              "      <td>1.793062</td>\n",
              "      <td>0.028888</td>\n",
              "    </tr>\n",
              "  </tbody>\n",
              "</table>\n",
              "</div>"
            ],
            "text/plain": [
              "      train      test       std\n",
              "0  1.744903  1.806918  0.043851\n",
              "1  1.772128  1.753459  0.013201\n",
              "2  1.777500  1.740629  0.026072\n",
              "3  1.773165  1.756260  0.011954\n",
              "4  1.775129  1.752428  0.016052\n",
              "5  1.752208  1.793062  0.028888"
            ]
          },
          "metadata": {
            "tags": []
          }
        },
        {
          "output_type": "stream",
          "text": [
            "Std train: 0.013708543028214792, Std test: 0.026378291049856988\n",
            "Fit model 0\n",
            "Fit model 1\n",
            "Fit model 2\n",
            "Fit model 3\n",
            "Fit model 4\n",
            "Fit model 5\n",
            "RMSE: 1.4899982172480588\n",
            "--------------------\n",
            "<class 'sklearn.linear_model.base.LinearRegression'>\n"
          ],
          "name": "stdout"
        },
        {
          "output_type": "display_data",
          "data": {
            "text/html": [
              "<div>\n",
              "<style scoped>\n",
              "    .dataframe tbody tr th:only-of-type {\n",
              "        vertical-align: middle;\n",
              "    }\n",
              "\n",
              "    .dataframe tbody tr th {\n",
              "        vertical-align: top;\n",
              "    }\n",
              "\n",
              "    .dataframe thead th {\n",
              "        text-align: right;\n",
              "    }\n",
              "</style>\n",
              "<table border=\"1\" class=\"dataframe\">\n",
              "  <thead>\n",
              "    <tr style=\"text-align: right;\">\n",
              "      <th></th>\n",
              "      <th>train</th>\n",
              "      <th>test</th>\n",
              "      <th>std</th>\n",
              "    </tr>\n",
              "  </thead>\n",
              "  <tbody>\n",
              "    <tr>\n",
              "      <th>0</th>\n",
              "      <td>1.464390</td>\n",
              "      <td>1.498226</td>\n",
              "      <td>0.023926</td>\n",
              "    </tr>\n",
              "    <tr>\n",
              "      <th>1</th>\n",
              "      <td>1.486660</td>\n",
              "      <td>1.436259</td>\n",
              "      <td>0.035639</td>\n",
              "    </tr>\n",
              "    <tr>\n",
              "      <th>2</th>\n",
              "      <td>1.469603</td>\n",
              "      <td>1.481417</td>\n",
              "      <td>0.008354</td>\n",
              "    </tr>\n",
              "    <tr>\n",
              "      <th>3</th>\n",
              "      <td>1.455758</td>\n",
              "      <td>1.533354</td>\n",
              "      <td>0.054869</td>\n",
              "    </tr>\n",
              "    <tr>\n",
              "      <th>4</th>\n",
              "      <td>1.469547</td>\n",
              "      <td>1.483124</td>\n",
              "      <td>0.009600</td>\n",
              "    </tr>\n",
              "    <tr>\n",
              "      <th>5</th>\n",
              "      <td>1.460711</td>\n",
              "      <td>1.505861</td>\n",
              "      <td>0.031926</td>\n",
              "    </tr>\n",
              "  </tbody>\n",
              "</table>\n",
              "</div>"
            ],
            "text/plain": [
              "      train      test       std\n",
              "0  1.464390  1.498226  0.023926\n",
              "1  1.486660  1.436259  0.035639\n",
              "2  1.469603  1.481417  0.008354\n",
              "3  1.455758  1.533354  0.054869\n",
              "4  1.469547  1.483124  0.009600\n",
              "5  1.460711  1.505861  0.031926"
            ]
          },
          "metadata": {
            "tags": []
          }
        },
        {
          "output_type": "stream",
          "text": [
            "Std train: 0.010666752096991857, Std test: 0.03227190444382297\n",
            "Fit model 0\n",
            "Fit model 1\n",
            "Fit model 2\n",
            "Fit model 3\n",
            "Fit model 4\n",
            "Fit model 5\n",
            "RMSE: 0.9280997509519728\n",
            "--------------------\n",
            "<class 'lightgbm.sklearn.LGBMRegressor'>\n"
          ],
          "name": "stdout"
        },
        {
          "output_type": "display_data",
          "data": {
            "text/html": [
              "<div>\n",
              "<style scoped>\n",
              "    .dataframe tbody tr th:only-of-type {\n",
              "        vertical-align: middle;\n",
              "    }\n",
              "\n",
              "    .dataframe tbody tr th {\n",
              "        vertical-align: top;\n",
              "    }\n",
              "\n",
              "    .dataframe thead th {\n",
              "        text-align: right;\n",
              "    }\n",
              "</style>\n",
              "<table border=\"1\" class=\"dataframe\">\n",
              "  <thead>\n",
              "    <tr style=\"text-align: right;\">\n",
              "      <th></th>\n",
              "      <th>train</th>\n",
              "      <th>test</th>\n",
              "      <th>std</th>\n",
              "    </tr>\n",
              "  </thead>\n",
              "  <tbody>\n",
              "    <tr>\n",
              "      <th>0</th>\n",
              "      <td>0.846097</td>\n",
              "      <td>0.954493</td>\n",
              "      <td>0.076647</td>\n",
              "    </tr>\n",
              "    <tr>\n",
              "      <th>1</th>\n",
              "      <td>0.858904</td>\n",
              "      <td>0.874758</td>\n",
              "      <td>0.011210</td>\n",
              "    </tr>\n",
              "    <tr>\n",
              "      <th>2</th>\n",
              "      <td>0.847633</td>\n",
              "      <td>0.913379</td>\n",
              "      <td>0.046489</td>\n",
              "    </tr>\n",
              "    <tr>\n",
              "      <th>3</th>\n",
              "      <td>0.843138</td>\n",
              "      <td>0.948404</td>\n",
              "      <td>0.074434</td>\n",
              "    </tr>\n",
              "    <tr>\n",
              "      <th>4</th>\n",
              "      <td>0.856724</td>\n",
              "      <td>0.889605</td>\n",
              "      <td>0.023251</td>\n",
              "    </tr>\n",
              "    <tr>\n",
              "      <th>5</th>\n",
              "      <td>0.846378</td>\n",
              "      <td>0.983275</td>\n",
              "      <td>0.096800</td>\n",
              "    </tr>\n",
              "  </tbody>\n",
              "</table>\n",
              "</div>"
            ],
            "text/plain": [
              "      train      test       std\n",
              "0  0.846097  0.954493  0.076647\n",
              "1  0.858904  0.874758  0.011210\n",
              "2  0.847633  0.913379  0.046489\n",
              "3  0.843138  0.948404  0.074434\n",
              "4  0.856724  0.889605  0.023251\n",
              "5  0.846378  0.983275  0.096800"
            ]
          },
          "metadata": {
            "tags": []
          }
        },
        {
          "output_type": "stream",
          "text": [
            "Std train: 0.0064080642132807375, Std test: 0.04169734932003091\n",
            "Scale lgbm.....\n",
            "Draped timestamp ((: \n",
            "(18335396, 10) (18335396, 9)\n",
            "0:\tlearn: 4.7634442\ttest: 4.7639384\tbest: 4.7639384 (0)\ttotal: 27.7s\tremaining: 4m 9s\n",
            "1:\tlearn: 4.6343260\ttest: 4.6354806\tbest: 4.6354806 (1)\ttotal: 40.2s\tremaining: 2m 40s\n",
            "2:\tlearn: 4.5094253\ttest: 4.5112301\tbest: 4.5112301 (2)\ttotal: 52.7s\tremaining: 2m 2s\n",
            "3:\tlearn: 4.3885633\ttest: 4.3911272\tbest: 4.3911272 (3)\ttotal: 1m 4s\tremaining: 1m 37s\n",
            "4:\tlearn: 4.2716925\ttest: 4.2751299\tbest: 4.2751299 (4)\ttotal: 1m 17s\tremaining: 1m 17s\n",
            "5:\tlearn: 4.1586560\ttest: 4.1628339\tbest: 4.1628339 (5)\ttotal: 1m 29s\tremaining: 59.6s\n",
            "6:\tlearn: 4.0491472\ttest: 4.0533641\tbest: 4.0533641 (6)\ttotal: 1m 41s\tremaining: 43.6s\n",
            "7:\tlearn: 3.9434335\ttest: 3.9484027\tbest: 3.9484027 (7)\ttotal: 1m 54s\tremaining: 28.5s\n",
            "8:\tlearn: 3.8412937\ttest: 3.8465531\tbest: 3.8465531 (8)\ttotal: 2m 6s\tremaining: 14.1s\n",
            "9:\tlearn: 3.7424404\ttest: 3.7483768\tbest: 3.7483768 (9)\ttotal: 2m 19s\tremaining: 0us\n",
            "   iterations  test-RMSE-mean  test-RMSE-std  train-RMSE-mean  train-RMSE-std\n",
            "0           0        4.763938       0.054461         4.763444        0.020177\n",
            "1           1        4.635481       0.055398         4.634326        0.019686\n",
            "2           2        4.511230       0.056378         4.509425        0.019243\n",
            "3           3        4.391127       0.057299         4.388563        0.018780\n",
            "4           4        4.275130       0.058152         4.271693        0.018315\n",
            "5           5        4.162834       0.059031         4.158656        0.017842\n",
            "6           6        4.053364       0.059298         4.049147        0.017496\n",
            "7           7        3.948403       0.060133         3.943433        0.017093\n",
            "8           8        3.846553       0.060434         3.841294        0.016722\n",
            "9           9        3.748377       0.061245         3.742440        0.016348\n",
            "Ends\n",
            "====================\n",
            "Model: 1\n",
            "(18338747, 17)\n",
            "(18335396, 17)\n",
            "log target\n",
            "Scale\n",
            "Fit model 0\n",
            "Fit model 1\n",
            "Fit model 2\n",
            "Fit model 3\n",
            "Fit model 4\n",
            "Fit model 5\n",
            "RMSE: 1.4775470472081804\n",
            "--------------------\n",
            "<class 'sklearn.linear_model.ridge.Ridge'>\n"
          ],
          "name": "stdout"
        },
        {
          "output_type": "display_data",
          "data": {
            "text/html": [
              "<div>\n",
              "<style scoped>\n",
              "    .dataframe tbody tr th:only-of-type {\n",
              "        vertical-align: middle;\n",
              "    }\n",
              "\n",
              "    .dataframe tbody tr th {\n",
              "        vertical-align: top;\n",
              "    }\n",
              "\n",
              "    .dataframe thead th {\n",
              "        text-align: right;\n",
              "    }\n",
              "</style>\n",
              "<table border=\"1\" class=\"dataframe\">\n",
              "  <thead>\n",
              "    <tr style=\"text-align: right;\">\n",
              "      <th></th>\n",
              "      <th>train</th>\n",
              "      <th>test</th>\n",
              "      <th>std</th>\n",
              "    </tr>\n",
              "  </thead>\n",
              "  <tbody>\n",
              "    <tr>\n",
              "      <th>0</th>\n",
              "      <td>1.460206</td>\n",
              "      <td>1.482752</td>\n",
              "      <td>0.015942</td>\n",
              "    </tr>\n",
              "    <tr>\n",
              "      <th>1</th>\n",
              "      <td>1.481756</td>\n",
              "      <td>1.431022</td>\n",
              "      <td>0.035874</td>\n",
              "    </tr>\n",
              "    <tr>\n",
              "      <th>2</th>\n",
              "      <td>1.467640</td>\n",
              "      <td>1.471323</td>\n",
              "      <td>0.002604</td>\n",
              "    </tr>\n",
              "    <tr>\n",
              "      <th>3</th>\n",
              "      <td>1.457531</td>\n",
              "      <td>1.498221</td>\n",
              "      <td>0.028773</td>\n",
              "    </tr>\n",
              "    <tr>\n",
              "      <th>4</th>\n",
              "      <td>1.466330</td>\n",
              "      <td>1.473988</td>\n",
              "      <td>0.005415</td>\n",
              "    </tr>\n",
              "    <tr>\n",
              "      <th>5</th>\n",
              "      <td>1.454718</td>\n",
              "      <td>1.506783</td>\n",
              "      <td>0.036815</td>\n",
              "    </tr>\n",
              "  </tbody>\n",
              "</table>\n",
              "</div>"
            ],
            "text/plain": [
              "      train      test       std\n",
              "0  1.460206  1.482752  0.015942\n",
              "1  1.481756  1.431022  0.035874\n",
              "2  1.467640  1.471323  0.002604\n",
              "3  1.457531  1.498221  0.028773\n",
              "4  1.466330  1.473988  0.005415\n",
              "5  1.454718  1.506783  0.036815"
            ]
          },
          "metadata": {
            "tags": []
          }
        },
        {
          "output_type": "stream",
          "text": [
            "Std train: 0.009730667851925806, Std test: 0.026551796045550156\n",
            "Fit model 0\n",
            "Fit model 1\n",
            "Fit model 2\n",
            "Fit model 3\n",
            "Fit model 4\n",
            "Fit model 5\n",
            "RMSE: 1.7671316241635437\n",
            "--------------------\n",
            "<class 'sklearn.linear_model.coordinate_descent.Lasso'>\n"
          ],
          "name": "stdout"
        },
        {
          "output_type": "display_data",
          "data": {
            "text/html": [
              "<div>\n",
              "<style scoped>\n",
              "    .dataframe tbody tr th:only-of-type {\n",
              "        vertical-align: middle;\n",
              "    }\n",
              "\n",
              "    .dataframe tbody tr th {\n",
              "        vertical-align: top;\n",
              "    }\n",
              "\n",
              "    .dataframe thead th {\n",
              "        text-align: right;\n",
              "    }\n",
              "</style>\n",
              "<table border=\"1\" class=\"dataframe\">\n",
              "  <thead>\n",
              "    <tr style=\"text-align: right;\">\n",
              "      <th></th>\n",
              "      <th>train</th>\n",
              "      <th>test</th>\n",
              "      <th>std</th>\n",
              "    </tr>\n",
              "  </thead>\n",
              "  <tbody>\n",
              "    <tr>\n",
              "      <th>0</th>\n",
              "      <td>1.745302</td>\n",
              "      <td>1.808534</td>\n",
              "      <td>0.044712</td>\n",
              "    </tr>\n",
              "    <tr>\n",
              "      <th>1</th>\n",
              "      <td>1.771530</td>\n",
              "      <td>1.752995</td>\n",
              "      <td>0.013106</td>\n",
              "    </tr>\n",
              "    <tr>\n",
              "      <th>2</th>\n",
              "      <td>1.777406</td>\n",
              "      <td>1.740273</td>\n",
              "      <td>0.026256</td>\n",
              "    </tr>\n",
              "    <tr>\n",
              "      <th>3</th>\n",
              "      <td>1.773639</td>\n",
              "      <td>1.754023</td>\n",
              "      <td>0.013870</td>\n",
              "    </tr>\n",
              "    <tr>\n",
              "      <th>4</th>\n",
              "      <td>1.774579</td>\n",
              "      <td>1.752127</td>\n",
              "      <td>0.015876</td>\n",
              "    </tr>\n",
              "    <tr>\n",
              "      <th>5</th>\n",
              "      <td>1.751871</td>\n",
              "      <td>1.793779</td>\n",
              "      <td>0.029633</td>\n",
              "    </tr>\n",
              "  </tbody>\n",
              "</table>\n",
              "</div>"
            ],
            "text/plain": [
              "      train      test       std\n",
              "0  1.745302  1.808534  0.044712\n",
              "1  1.771530  1.752995  0.013106\n",
              "2  1.777406  1.740273  0.026256\n",
              "3  1.773639  1.754023  0.013870\n",
              "4  1.774579  1.752127  0.015876\n",
              "5  1.751871  1.793779  0.029633"
            ]
          },
          "metadata": {
            "tags": []
          }
        },
        {
          "output_type": "stream",
          "text": [
            "Std train: 0.01356606115965853, Std test: 0.027357770681124535\n",
            "Fit model 0\n",
            "Fit model 1\n",
            "Fit model 2\n",
            "Fit model 3\n",
            "Fit model 4\n",
            "Fit model 5\n",
            "RMSE: 1.4775470518652432\n",
            "--------------------\n",
            "<class 'sklearn.linear_model.base.LinearRegression'>\n"
          ],
          "name": "stdout"
        },
        {
          "output_type": "display_data",
          "data": {
            "text/html": [
              "<div>\n",
              "<style scoped>\n",
              "    .dataframe tbody tr th:only-of-type {\n",
              "        vertical-align: middle;\n",
              "    }\n",
              "\n",
              "    .dataframe tbody tr th {\n",
              "        vertical-align: top;\n",
              "    }\n",
              "\n",
              "    .dataframe thead th {\n",
              "        text-align: right;\n",
              "    }\n",
              "</style>\n",
              "<table border=\"1\" class=\"dataframe\">\n",
              "  <thead>\n",
              "    <tr style=\"text-align: right;\">\n",
              "      <th></th>\n",
              "      <th>train</th>\n",
              "      <th>test</th>\n",
              "      <th>std</th>\n",
              "    </tr>\n",
              "  </thead>\n",
              "  <tbody>\n",
              "    <tr>\n",
              "      <th>0</th>\n",
              "      <td>1.460206</td>\n",
              "      <td>1.482752</td>\n",
              "      <td>0.015942</td>\n",
              "    </tr>\n",
              "    <tr>\n",
              "      <th>1</th>\n",
              "      <td>1.481756</td>\n",
              "      <td>1.431022</td>\n",
              "      <td>0.035874</td>\n",
              "    </tr>\n",
              "    <tr>\n",
              "      <th>2</th>\n",
              "      <td>1.467640</td>\n",
              "      <td>1.471323</td>\n",
              "      <td>0.002604</td>\n",
              "    </tr>\n",
              "    <tr>\n",
              "      <th>3</th>\n",
              "      <td>1.457531</td>\n",
              "      <td>1.498221</td>\n",
              "      <td>0.028773</td>\n",
              "    </tr>\n",
              "    <tr>\n",
              "      <th>4</th>\n",
              "      <td>1.466330</td>\n",
              "      <td>1.473988</td>\n",
              "      <td>0.005415</td>\n",
              "    </tr>\n",
              "    <tr>\n",
              "      <th>5</th>\n",
              "      <td>1.454718</td>\n",
              "      <td>1.506783</td>\n",
              "      <td>0.036815</td>\n",
              "    </tr>\n",
              "  </tbody>\n",
              "</table>\n",
              "</div>"
            ],
            "text/plain": [
              "      train      test       std\n",
              "0  1.460206  1.482752  0.015942\n",
              "1  1.481756  1.431022  0.035874\n",
              "2  1.467640  1.471323  0.002604\n",
              "3  1.457531  1.498221  0.028773\n",
              "4  1.466330  1.473988  0.005415\n",
              "5  1.454718  1.506783  0.036815"
            ]
          },
          "metadata": {
            "tags": []
          }
        },
        {
          "output_type": "stream",
          "text": [
            "Std train: 0.009730667851943403, Std test: 0.02655179382763772\n",
            "Fit model 0\n",
            "Fit model 1\n",
            "Fit model 2\n",
            "Fit model 3\n",
            "Fit model 4\n",
            "Fit model 5\n",
            "RMSE: 1.0262431324988406\n",
            "--------------------\n",
            "<class 'lightgbm.sklearn.LGBMRegressor'>\n"
          ],
          "name": "stdout"
        },
        {
          "output_type": "display_data",
          "data": {
            "text/html": [
              "<div>\n",
              "<style scoped>\n",
              "    .dataframe tbody tr th:only-of-type {\n",
              "        vertical-align: middle;\n",
              "    }\n",
              "\n",
              "    .dataframe tbody tr th {\n",
              "        vertical-align: top;\n",
              "    }\n",
              "\n",
              "    .dataframe thead th {\n",
              "        text-align: right;\n",
              "    }\n",
              "</style>\n",
              "<table border=\"1\" class=\"dataframe\">\n",
              "  <thead>\n",
              "    <tr style=\"text-align: right;\">\n",
              "      <th></th>\n",
              "      <th>train</th>\n",
              "      <th>test</th>\n",
              "      <th>std</th>\n",
              "    </tr>\n",
              "  </thead>\n",
              "  <tbody>\n",
              "    <tr>\n",
              "      <th>0</th>\n",
              "      <td>0.869875</td>\n",
              "      <td>1.055833</td>\n",
              "      <td>0.131493</td>\n",
              "    </tr>\n",
              "    <tr>\n",
              "      <th>1</th>\n",
              "      <td>0.885508</td>\n",
              "      <td>0.920990</td>\n",
              "      <td>0.025090</td>\n",
              "    </tr>\n",
              "    <tr>\n",
              "      <th>2</th>\n",
              "      <td>0.876756</td>\n",
              "      <td>1.025750</td>\n",
              "      <td>0.105355</td>\n",
              "    </tr>\n",
              "    <tr>\n",
              "      <th>3</th>\n",
              "      <td>0.872181</td>\n",
              "      <td>1.026680</td>\n",
              "      <td>0.109247</td>\n",
              "    </tr>\n",
              "    <tr>\n",
              "      <th>4</th>\n",
              "      <td>0.880721</td>\n",
              "      <td>0.955809</td>\n",
              "      <td>0.053095</td>\n",
              "    </tr>\n",
              "    <tr>\n",
              "      <th>5</th>\n",
              "      <td>0.866413</td>\n",
              "      <td>1.155957</td>\n",
              "      <td>0.204738</td>\n",
              "    </tr>\n",
              "  </tbody>\n",
              "</table>\n",
              "</div>"
            ],
            "text/plain": [
              "      train      test       std\n",
              "0  0.869875  1.055833  0.131493\n",
              "1  0.885508  0.920990  0.025090\n",
              "2  0.876756  1.025750  0.105355\n",
              "3  0.872181  1.026680  0.109247\n",
              "4  0.880721  0.955809  0.053095\n",
              "5  0.866413  1.155957  0.204738"
            ]
          },
          "metadata": {
            "tags": []
          }
        },
        {
          "output_type": "stream",
          "text": [
            "Std train: 0.007124954204669283, Std test: 0.08209249128516466\n",
            "Scale lgbm.....\n",
            "Draped timestamp ((: \n",
            "(18335396, 9) (18335396, 8)\n",
            "0:\tlearn: 4.7631416\ttest: 4.7637869\tbest: 4.7637869 (0)\ttotal: 26.1s\tremaining: 3m 54s\n",
            "1:\tlearn: 4.6339703\ttest: 4.6350964\tbest: 4.6350964 (1)\ttotal: 38.4s\tremaining: 2m 33s\n",
            "2:\tlearn: 4.5090834\ttest: 4.5107166\tbest: 4.5107166 (2)\ttotal: 50.4s\tremaining: 1m 57s\n",
            "3:\tlearn: 4.3883268\ttest: 4.3904750\tbest: 4.3904750 (3)\ttotal: 1m 2s\tremaining: 1m 34s\n",
            "4:\tlearn: 4.2714152\ttest: 4.2744346\tbest: 4.2744346 (4)\ttotal: 1m 14s\tremaining: 1m 14s\n",
            "5:\tlearn: 4.1583229\ttest: 4.1622144\tbest: 4.1622144 (5)\ttotal: 1m 27s\tremaining: 58.2s\n",
            "6:\tlearn: 4.0490420\ttest: 4.0531940\tbest: 4.0531940 (6)\ttotal: 1m 39s\tremaining: 42.7s\n",
            "7:\tlearn: 3.9432107\ttest: 3.9474499\tbest: 3.9474499 (7)\ttotal: 1m 51s\tremaining: 28s\n",
            "8:\tlearn: 3.8410856\ttest: 3.8458684\tbest: 3.8458684 (8)\ttotal: 2m 4s\tremaining: 13.8s\n",
            "9:\tlearn: 3.7422049\ttest: 3.7471595\tbest: 3.7471595 (9)\ttotal: 2m 16s\tremaining: 0us\n",
            "   iterations  test-RMSE-mean  test-RMSE-std  train-RMSE-mean  train-RMSE-std\n",
            "0           0        4.763787       0.054300         4.763142        0.020414\n",
            "1           1        4.635096       0.055268         4.633970        0.019925\n",
            "2           2        4.510717       0.056241         4.509083        0.019437\n",
            "3           3        4.390475       0.057105         4.388327        0.019035\n",
            "4           4        4.274435       0.058021         4.271415        0.018556\n",
            "5           5        4.162214       0.058888         4.158323        0.018096\n",
            "6           6        4.053194       0.059304         4.049042        0.017599\n",
            "7           7        3.947450       0.059583         3.943211        0.017210\n",
            "8           8        3.845868       0.060456         3.841086        0.016813\n",
            "9           9        3.747159       0.060710         3.742205        0.016410\n",
            "Ends\n",
            "====================\n",
            "Model: 2\n",
            "(18338747, 17)\n",
            "(18335396, 17)\n",
            "log target\n",
            "Scale\n",
            "Fit model 0\n",
            "Fit model 1\n",
            "Fit model 2\n",
            "Fit model 3\n",
            "Fit model 4\n",
            "Fit model 5\n",
            "RMSE: 1.471796343114061\n",
            "--------------------\n",
            "<class 'sklearn.linear_model.ridge.Ridge'>\n"
          ],
          "name": "stdout"
        },
        {
          "output_type": "display_data",
          "data": {
            "text/html": [
              "<div>\n",
              "<style scoped>\n",
              "    .dataframe tbody tr th:only-of-type {\n",
              "        vertical-align: middle;\n",
              "    }\n",
              "\n",
              "    .dataframe tbody tr th {\n",
              "        vertical-align: top;\n",
              "    }\n",
              "\n",
              "    .dataframe thead th {\n",
              "        text-align: right;\n",
              "    }\n",
              "</style>\n",
              "<table border=\"1\" class=\"dataframe\">\n",
              "  <thead>\n",
              "    <tr style=\"text-align: right;\">\n",
              "      <th></th>\n",
              "      <th>train</th>\n",
              "      <th>test</th>\n",
              "      <th>std</th>\n",
              "    </tr>\n",
              "  </thead>\n",
              "  <tbody>\n",
              "    <tr>\n",
              "      <th>0</th>\n",
              "      <td>1.449155</td>\n",
              "      <td>1.484714</td>\n",
              "      <td>0.025144</td>\n",
              "    </tr>\n",
              "    <tr>\n",
              "      <th>1</th>\n",
              "      <td>1.473084</td>\n",
              "      <td>1.421193</td>\n",
              "      <td>0.036692</td>\n",
              "    </tr>\n",
              "    <tr>\n",
              "      <th>2</th>\n",
              "      <td>1.457760</td>\n",
              "      <td>1.464717</td>\n",
              "      <td>0.004919</td>\n",
              "    </tr>\n",
              "    <tr>\n",
              "      <th>3</th>\n",
              "      <td>1.446370</td>\n",
              "      <td>1.505710</td>\n",
              "      <td>0.041959</td>\n",
              "    </tr>\n",
              "    <tr>\n",
              "      <th>4</th>\n",
              "      <td>1.457951</td>\n",
              "      <td>1.463297</td>\n",
              "      <td>0.003780</td>\n",
              "    </tr>\n",
              "    <tr>\n",
              "      <th>5</th>\n",
              "      <td>1.445415</td>\n",
              "      <td>1.489679</td>\n",
              "      <td>0.031299</td>\n",
              "    </tr>\n",
              "  </tbody>\n",
              "</table>\n",
              "</div>"
            ],
            "text/plain": [
              "      train      test       std\n",
              "0  1.449155  1.484714  0.025144\n",
              "1  1.473084  1.421193  0.036692\n",
              "2  1.457760  1.464717  0.004919\n",
              "3  1.446370  1.505710  0.041959\n",
              "4  1.457951  1.463297  0.003780\n",
              "5  1.445415  1.489679  0.031299"
            ]
          },
          "metadata": {
            "tags": []
          }
        },
        {
          "output_type": "stream",
          "text": [
            "Std train: 0.010429134556907648, Std test: 0.02939189348244144\n",
            "Fit model 0\n",
            "Fit model 1\n",
            "Fit model 2\n",
            "Fit model 3\n",
            "Fit model 4\n",
            "Fit model 5\n",
            "RMSE: 1.7667319903184027\n",
            "--------------------\n",
            "<class 'sklearn.linear_model.coordinate_descent.Lasso'>\n"
          ],
          "name": "stdout"
        },
        {
          "output_type": "display_data",
          "data": {
            "text/html": [
              "<div>\n",
              "<style scoped>\n",
              "    .dataframe tbody tr th:only-of-type {\n",
              "        vertical-align: middle;\n",
              "    }\n",
              "\n",
              "    .dataframe tbody tr th {\n",
              "        vertical-align: top;\n",
              "    }\n",
              "\n",
              "    .dataframe thead th {\n",
              "        text-align: right;\n",
              "    }\n",
              "</style>\n",
              "<table border=\"1\" class=\"dataframe\">\n",
              "  <thead>\n",
              "    <tr style=\"text-align: right;\">\n",
              "      <th></th>\n",
              "      <th>train</th>\n",
              "      <th>test</th>\n",
              "      <th>std</th>\n",
              "    </tr>\n",
              "  </thead>\n",
              "  <tbody>\n",
              "    <tr>\n",
              "      <th>0</th>\n",
              "      <td>1.745390</td>\n",
              "      <td>1.808323</td>\n",
              "      <td>0.044500</td>\n",
              "    </tr>\n",
              "    <tr>\n",
              "      <th>1</th>\n",
              "      <td>1.772476</td>\n",
              "      <td>1.752120</td>\n",
              "      <td>0.014393</td>\n",
              "    </tr>\n",
              "    <tr>\n",
              "      <th>2</th>\n",
              "      <td>1.777152</td>\n",
              "      <td>1.739724</td>\n",
              "      <td>0.026466</td>\n",
              "    </tr>\n",
              "    <tr>\n",
              "      <th>3</th>\n",
              "      <td>1.773578</td>\n",
              "      <td>1.754775</td>\n",
              "      <td>0.013295</td>\n",
              "    </tr>\n",
              "    <tr>\n",
              "      <th>4</th>\n",
              "      <td>1.774503</td>\n",
              "      <td>1.750909</td>\n",
              "      <td>0.016684</td>\n",
              "    </tr>\n",
              "    <tr>\n",
              "      <th>5</th>\n",
              "      <td>1.751866</td>\n",
              "      <td>1.793471</td>\n",
              "      <td>0.029419</td>\n",
              "    </tr>\n",
              "  </tbody>\n",
              "</table>\n",
              "</div>"
            ],
            "text/plain": [
              "      train      test       std\n",
              "0  1.745390  1.808323  0.044500\n",
              "1  1.772476  1.752120  0.014393\n",
              "2  1.777152  1.739724  0.026466\n",
              "3  1.773578  1.754775  0.013295\n",
              "4  1.774503  1.750909  0.016684\n",
              "5  1.751866  1.793471  0.029419"
            ]
          },
          "metadata": {
            "tags": []
          }
        },
        {
          "output_type": "stream",
          "text": [
            "Std train: 0.013567475574839066, Std test: 0.027498517303051584\n",
            "Fit model 0\n",
            "Fit model 1\n",
            "Fit model 2\n",
            "Fit model 3\n",
            "Fit model 4\n",
            "Fit model 5\n",
            "RMSE: 1.471774651770905\n",
            "--------------------\n",
            "<class 'sklearn.linear_model.base.LinearRegression'>\n"
          ],
          "name": "stdout"
        },
        {
          "output_type": "display_data",
          "data": {
            "text/html": [
              "<div>\n",
              "<style scoped>\n",
              "    .dataframe tbody tr th:only-of-type {\n",
              "        vertical-align: middle;\n",
              "    }\n",
              "\n",
              "    .dataframe tbody tr th {\n",
              "        vertical-align: top;\n",
              "    }\n",
              "\n",
              "    .dataframe thead th {\n",
              "        text-align: right;\n",
              "    }\n",
              "</style>\n",
              "<table border=\"1\" class=\"dataframe\">\n",
              "  <thead>\n",
              "    <tr style=\"text-align: right;\">\n",
              "      <th></th>\n",
              "      <th>train</th>\n",
              "      <th>test</th>\n",
              "      <th>std</th>\n",
              "    </tr>\n",
              "  </thead>\n",
              "  <tbody>\n",
              "    <tr>\n",
              "      <th>0</th>\n",
              "      <td>1.449152</td>\n",
              "      <td>1.484825</td>\n",
              "      <td>0.025225</td>\n",
              "    </tr>\n",
              "    <tr>\n",
              "      <th>1</th>\n",
              "      <td>1.473081</td>\n",
              "      <td>1.421197</td>\n",
              "      <td>0.036687</td>\n",
              "    </tr>\n",
              "    <tr>\n",
              "      <th>2</th>\n",
              "      <td>1.457758</td>\n",
              "      <td>1.464694</td>\n",
              "      <td>0.004905</td>\n",
              "    </tr>\n",
              "    <tr>\n",
              "      <th>3</th>\n",
              "      <td>1.446368</td>\n",
              "      <td>1.505567</td>\n",
              "      <td>0.041860</td>\n",
              "    </tr>\n",
              "    <tr>\n",
              "      <th>4</th>\n",
              "      <td>1.457949</td>\n",
              "      <td>1.463249</td>\n",
              "      <td>0.003747</td>\n",
              "    </tr>\n",
              "    <tr>\n",
              "      <th>5</th>\n",
              "      <td>1.445412</td>\n",
              "      <td>1.489651</td>\n",
              "      <td>0.031281</td>\n",
              "    </tr>\n",
              "  </tbody>\n",
              "</table>\n",
              "</div>"
            ],
            "text/plain": [
              "      train      test       std\n",
              "0  1.449152  1.484825  0.025225\n",
              "1  1.473081  1.421197  0.036687\n",
              "2  1.457758  1.464694  0.004905\n",
              "3  1.446368  1.505567  0.041860\n",
              "4  1.457949  1.463249  0.003747\n",
              "5  1.445412  1.489651  0.031281"
            ]
          },
          "metadata": {
            "tags": []
          }
        },
        {
          "output_type": "stream",
          "text": [
            "Std train: 0.01042914203505244, Std test: 0.029368037687963405\n",
            "Fit model 0\n",
            "Fit model 1\n",
            "Fit model 2\n",
            "Fit model 3\n",
            "Fit model 4\n",
            "Fit model 5\n",
            "RMSE: 0.9813063358343186\n",
            "--------------------\n",
            "<class 'lightgbm.sklearn.LGBMRegressor'>\n"
          ],
          "name": "stdout"
        },
        {
          "output_type": "display_data",
          "data": {
            "text/html": [
              "<div>\n",
              "<style scoped>\n",
              "    .dataframe tbody tr th:only-of-type {\n",
              "        vertical-align: middle;\n",
              "    }\n",
              "\n",
              "    .dataframe tbody tr th {\n",
              "        vertical-align: top;\n",
              "    }\n",
              "\n",
              "    .dataframe thead th {\n",
              "        text-align: right;\n",
              "    }\n",
              "</style>\n",
              "<table border=\"1\" class=\"dataframe\">\n",
              "  <thead>\n",
              "    <tr style=\"text-align: right;\">\n",
              "      <th></th>\n",
              "      <th>train</th>\n",
              "      <th>test</th>\n",
              "      <th>std</th>\n",
              "    </tr>\n",
              "  </thead>\n",
              "  <tbody>\n",
              "    <tr>\n",
              "      <th>0</th>\n",
              "      <td>0.855964</td>\n",
              "      <td>1.014406</td>\n",
              "      <td>0.112036</td>\n",
              "    </tr>\n",
              "    <tr>\n",
              "      <th>1</th>\n",
              "      <td>0.868099</td>\n",
              "      <td>0.908479</td>\n",
              "      <td>0.028553</td>\n",
              "    </tr>\n",
              "    <tr>\n",
              "      <th>2</th>\n",
              "      <td>0.859098</td>\n",
              "      <td>0.968916</td>\n",
              "      <td>0.077653</td>\n",
              "    </tr>\n",
              "    <tr>\n",
              "      <th>3</th>\n",
              "      <td>0.847249</td>\n",
              "      <td>0.989282</td>\n",
              "      <td>0.100433</td>\n",
              "    </tr>\n",
              "    <tr>\n",
              "      <th>4</th>\n",
              "      <td>0.860986</td>\n",
              "      <td>0.909829</td>\n",
              "      <td>0.034537</td>\n",
              "    </tr>\n",
              "    <tr>\n",
              "      <th>5</th>\n",
              "      <td>0.849023</td>\n",
              "      <td>1.085427</td>\n",
              "      <td>0.167162</td>\n",
              "    </tr>\n",
              "  </tbody>\n",
              "</table>\n",
              "</div>"
            ],
            "text/plain": [
              "      train      test       std\n",
              "0  0.855964  1.014406  0.112036\n",
              "1  0.868099  0.908479  0.028553\n",
              "2  0.859098  0.968916  0.077653\n",
              "3  0.847249  0.989282  0.100433\n",
              "4  0.860986  0.909829  0.034537\n",
              "5  0.849023  1.085427  0.167162"
            ]
          },
          "metadata": {
            "tags": []
          }
        },
        {
          "output_type": "stream",
          "text": [
            "Std train: 0.007782518341029462, Std test: 0.06714851658036478\n",
            "Scale lgbm.....\n",
            "Draped timestamp ((: \n",
            "(18335396, 11) (18335396, 6)\n",
            "0:\tlearn: 4.7633510\ttest: 4.7638022\tbest: 4.7638022 (0)\ttotal: 26.6s\tremaining: 3m 59s\n",
            "1:\tlearn: 4.6341641\ttest: 4.6351716\tbest: 4.6351716 (1)\ttotal: 39.2s\tremaining: 2m 36s\n",
            "2:\tlearn: 4.5092922\ttest: 4.5109018\tbest: 4.5109018 (2)\ttotal: 51.2s\tremaining: 1m 59s\n",
            "3:\tlearn: 4.3884140\ttest: 4.3906919\tbest: 4.3906919 (3)\ttotal: 1m 3s\tremaining: 1m 34s\n",
            "4:\tlearn: 4.2715321\ttest: 4.2744087\tbest: 4.2744087 (4)\ttotal: 1m 15s\tremaining: 1m 15s\n",
            "5:\tlearn: 4.1585693\ttest: 4.1619654\tbest: 4.1619654 (5)\ttotal: 1m 27s\tremaining: 58.2s\n",
            "6:\tlearn: 4.0491735\ttest: 4.0533455\tbest: 4.0533455 (6)\ttotal: 1m 39s\tremaining: 42.5s\n",
            "7:\tlearn: 3.9435787\ttest: 3.9485233\tbest: 3.9485233 (7)\ttotal: 1m 51s\tremaining: 28s\n",
            "8:\tlearn: 3.8413976\ttest: 3.8465936\tbest: 3.8465936 (8)\ttotal: 2m 3s\tremaining: 13.8s\n",
            "9:\tlearn: 3.7423061\ttest: 3.7475738\tbest: 3.7475738 (9)\ttotal: 2m 16s\tremaining: 0us\n",
            "   iterations  test-RMSE-mean  test-RMSE-std  train-RMSE-mean  train-RMSE-std\n",
            "0           0        4.763802       0.053798         4.763351        0.020966\n",
            "1           1        4.635172       0.054846         4.634164        0.020432\n",
            "2           2        4.510902       0.055824         4.509292        0.019993\n",
            "3           3        4.390692       0.056824         4.388414        0.019446\n",
            "4           4        4.274409       0.057710         4.271532        0.018995\n",
            "5           5        4.161965       0.058685         4.158569        0.018509\n",
            "6           6        4.053346       0.059677         4.049174        0.017967\n",
            "7           7        3.948523       0.060500         3.943579        0.017499\n",
            "8           8        3.846594       0.060635         3.841398        0.017256\n",
            "9           9        3.747574       0.060909         3.742306        0.016928\n",
            "Ends\n",
            "====================\n",
            "Model: 3\n",
            "(18338747, 17)\n",
            "(18335396, 17)\n",
            "log target\n",
            "Scale\n",
            "Fit model 0\n",
            "Fit model 1\n",
            "Fit model 2\n",
            "Fit model 3\n",
            "Fit model 4\n",
            "Fit model 5\n",
            "RMSE: 1.4699380702362725\n",
            "--------------------\n",
            "<class 'sklearn.linear_model.ridge.Ridge'>\n"
          ],
          "name": "stdout"
        },
        {
          "output_type": "display_data",
          "data": {
            "text/html": [
              "<div>\n",
              "<style scoped>\n",
              "    .dataframe tbody tr th:only-of-type {\n",
              "        vertical-align: middle;\n",
              "    }\n",
              "\n",
              "    .dataframe tbody tr th {\n",
              "        vertical-align: top;\n",
              "    }\n",
              "\n",
              "    .dataframe thead th {\n",
              "        text-align: right;\n",
              "    }\n",
              "</style>\n",
              "<table border=\"1\" class=\"dataframe\">\n",
              "  <thead>\n",
              "    <tr style=\"text-align: right;\">\n",
              "      <th></th>\n",
              "      <th>train</th>\n",
              "      <th>test</th>\n",
              "      <th>std</th>\n",
              "    </tr>\n",
              "  </thead>\n",
              "  <tbody>\n",
              "    <tr>\n",
              "      <th>0</th>\n",
              "      <td>1.452903</td>\n",
              "      <td>1.472021</td>\n",
              "      <td>0.013518</td>\n",
              "    </tr>\n",
              "    <tr>\n",
              "      <th>1</th>\n",
              "      <td>1.474517</td>\n",
              "      <td>1.420412</td>\n",
              "      <td>0.038258</td>\n",
              "    </tr>\n",
              "    <tr>\n",
              "      <th>2</th>\n",
              "      <td>1.457935</td>\n",
              "      <td>1.466962</td>\n",
              "      <td>0.006383</td>\n",
              "    </tr>\n",
              "    <tr>\n",
              "      <th>3</th>\n",
              "      <td>1.446644</td>\n",
              "      <td>1.495733</td>\n",
              "      <td>0.034711</td>\n",
              "    </tr>\n",
              "    <tr>\n",
              "      <th>4</th>\n",
              "      <td>1.458241</td>\n",
              "      <td>1.464406</td>\n",
              "      <td>0.004359</td>\n",
              "    </tr>\n",
              "    <tr>\n",
              "      <th>5</th>\n",
              "      <td>1.447900</td>\n",
              "      <td>1.498737</td>\n",
              "      <td>0.035947</td>\n",
              "    </tr>\n",
              "  </tbody>\n",
              "</table>\n",
              "</div>"
            ],
            "text/plain": [
              "      train      test       std\n",
              "0  1.452903  1.472021  0.013518\n",
              "1  1.474517  1.420412  0.038258\n",
              "2  1.457935  1.466962  0.006383\n",
              "3  1.446644  1.495733  0.034711\n",
              "4  1.458241  1.464406  0.004359\n",
              "5  1.447900  1.498737  0.035947"
            ]
          },
          "metadata": {
            "tags": []
          }
        },
        {
          "output_type": "stream",
          "text": [
            "Std train: 0.010134954026579709, Std test: 0.028252915231591322\n",
            "Fit model 0\n",
            "Fit model 1\n",
            "Fit model 2\n",
            "Fit model 3\n",
            "Fit model 4\n",
            "Fit model 5\n",
            "RMSE: 1.7669147580434357\n",
            "--------------------\n",
            "<class 'sklearn.linear_model.coordinate_descent.Lasso'>\n"
          ],
          "name": "stdout"
        },
        {
          "output_type": "display_data",
          "data": {
            "text/html": [
              "<div>\n",
              "<style scoped>\n",
              "    .dataframe tbody tr th:only-of-type {\n",
              "        vertical-align: middle;\n",
              "    }\n",
              "\n",
              "    .dataframe tbody tr th {\n",
              "        vertical-align: top;\n",
              "    }\n",
              "\n",
              "    .dataframe thead th {\n",
              "        text-align: right;\n",
              "    }\n",
              "</style>\n",
              "<table border=\"1\" class=\"dataframe\">\n",
              "  <thead>\n",
              "    <tr style=\"text-align: right;\">\n",
              "      <th></th>\n",
              "      <th>train</th>\n",
              "      <th>test</th>\n",
              "      <th>std</th>\n",
              "    </tr>\n",
              "  </thead>\n",
              "  <tbody>\n",
              "    <tr>\n",
              "      <th>0</th>\n",
              "      <td>1.745545</td>\n",
              "      <td>1.807678</td>\n",
              "      <td>0.043935</td>\n",
              "    </tr>\n",
              "    <tr>\n",
              "      <th>1</th>\n",
              "      <td>1.772140</td>\n",
              "      <td>1.751895</td>\n",
              "      <td>0.014316</td>\n",
              "    </tr>\n",
              "    <tr>\n",
              "      <th>2</th>\n",
              "      <td>1.777193</td>\n",
              "      <td>1.741051</td>\n",
              "      <td>0.025556</td>\n",
              "    </tr>\n",
              "    <tr>\n",
              "      <th>3</th>\n",
              "      <td>1.773776</td>\n",
              "      <td>1.754843</td>\n",
              "      <td>0.013387</td>\n",
              "    </tr>\n",
              "    <tr>\n",
              "      <th>4</th>\n",
              "      <td>1.774545</td>\n",
              "      <td>1.750875</td>\n",
              "      <td>0.016737</td>\n",
              "    </tr>\n",
              "    <tr>\n",
              "      <th>5</th>\n",
              "      <td>1.752520</td>\n",
              "      <td>1.794099</td>\n",
              "      <td>0.029401</td>\n",
              "    </tr>\n",
              "  </tbody>\n",
              "</table>\n",
              "</div>"
            ],
            "text/plain": [
              "      train      test       std\n",
              "0  1.745545  1.807678  0.043935\n",
              "1  1.772140  1.751895  0.014316\n",
              "2  1.777193  1.741051  0.025556\n",
              "3  1.773776  1.754843  0.013387\n",
              "4  1.774545  1.750875  0.016737\n",
              "5  1.752520  1.794099  0.029401"
            ]
          },
          "metadata": {
            "tags": []
          }
        },
        {
          "output_type": "stream",
          "text": [
            "Std train: 0.013390767718588967, Std test: 0.027195462883080654\n",
            "Fit model 0\n",
            "Fit model 1\n",
            "Fit model 2\n",
            "Fit model 3\n",
            "Fit model 4\n",
            "Fit model 5\n",
            "RMSE: 1.4699380784601812\n",
            "--------------------\n",
            "<class 'sklearn.linear_model.base.LinearRegression'>\n"
          ],
          "name": "stdout"
        },
        {
          "output_type": "display_data",
          "data": {
            "text/html": [
              "<div>\n",
              "<style scoped>\n",
              "    .dataframe tbody tr th:only-of-type {\n",
              "        vertical-align: middle;\n",
              "    }\n",
              "\n",
              "    .dataframe tbody tr th {\n",
              "        vertical-align: top;\n",
              "    }\n",
              "\n",
              "    .dataframe thead th {\n",
              "        text-align: right;\n",
              "    }\n",
              "</style>\n",
              "<table border=\"1\" class=\"dataframe\">\n",
              "  <thead>\n",
              "    <tr style=\"text-align: right;\">\n",
              "      <th></th>\n",
              "      <th>train</th>\n",
              "      <th>test</th>\n",
              "      <th>std</th>\n",
              "    </tr>\n",
              "  </thead>\n",
              "  <tbody>\n",
              "    <tr>\n",
              "      <th>0</th>\n",
              "      <td>1.452903</td>\n",
              "      <td>1.472021</td>\n",
              "      <td>0.013518</td>\n",
              "    </tr>\n",
              "    <tr>\n",
              "      <th>1</th>\n",
              "      <td>1.474517</td>\n",
              "      <td>1.420412</td>\n",
              "      <td>0.038258</td>\n",
              "    </tr>\n",
              "    <tr>\n",
              "      <th>2</th>\n",
              "      <td>1.457935</td>\n",
              "      <td>1.466962</td>\n",
              "      <td>0.006383</td>\n",
              "    </tr>\n",
              "    <tr>\n",
              "      <th>3</th>\n",
              "      <td>1.446644</td>\n",
              "      <td>1.495733</td>\n",
              "      <td>0.034711</td>\n",
              "    </tr>\n",
              "    <tr>\n",
              "      <th>4</th>\n",
              "      <td>1.458241</td>\n",
              "      <td>1.464406</td>\n",
              "      <td>0.004359</td>\n",
              "    </tr>\n",
              "    <tr>\n",
              "      <th>5</th>\n",
              "      <td>1.447900</td>\n",
              "      <td>1.498737</td>\n",
              "      <td>0.035947</td>\n",
              "    </tr>\n",
              "  </tbody>\n",
              "</table>\n",
              "</div>"
            ],
            "text/plain": [
              "      train      test       std\n",
              "0  1.452903  1.472021  0.013518\n",
              "1  1.474517  1.420412  0.038258\n",
              "2  1.457935  1.466962  0.006383\n",
              "3  1.446644  1.495733  0.034711\n",
              "4  1.458241  1.464406  0.004359\n",
              "5  1.447900  1.498737  0.035947"
            ]
          },
          "metadata": {
            "tags": []
          }
        },
        {
          "output_type": "stream",
          "text": [
            "Std train: 0.010134954026550857, Std test: 0.02825290096285966\n",
            "Fit model 0\n",
            "Fit model 1\n",
            "Fit model 2\n",
            "Fit model 3\n",
            "Fit model 4\n",
            "Fit model 5\n",
            "RMSE: 1.0277707882971052\n",
            "--------------------\n",
            "<class 'lightgbm.sklearn.LGBMRegressor'>\n"
          ],
          "name": "stdout"
        },
        {
          "output_type": "display_data",
          "data": {
            "text/html": [
              "<div>\n",
              "<style scoped>\n",
              "    .dataframe tbody tr th:only-of-type {\n",
              "        vertical-align: middle;\n",
              "    }\n",
              "\n",
              "    .dataframe tbody tr th {\n",
              "        vertical-align: top;\n",
              "    }\n",
              "\n",
              "    .dataframe thead th {\n",
              "        text-align: right;\n",
              "    }\n",
              "</style>\n",
              "<table border=\"1\" class=\"dataframe\">\n",
              "  <thead>\n",
              "    <tr style=\"text-align: right;\">\n",
              "      <th></th>\n",
              "      <th>train</th>\n",
              "      <th>test</th>\n",
              "      <th>std</th>\n",
              "    </tr>\n",
              "  </thead>\n",
              "  <tbody>\n",
              "    <tr>\n",
              "      <th>0</th>\n",
              "      <td>0.842953</td>\n",
              "      <td>1.040297</td>\n",
              "      <td>0.139543</td>\n",
              "    </tr>\n",
              "    <tr>\n",
              "      <th>1</th>\n",
              "      <td>0.859835</td>\n",
              "      <td>0.920497</td>\n",
              "      <td>0.042894</td>\n",
              "    </tr>\n",
              "    <tr>\n",
              "      <th>2</th>\n",
              "      <td>0.854254</td>\n",
              "      <td>1.019552</td>\n",
              "      <td>0.116884</td>\n",
              "    </tr>\n",
              "    <tr>\n",
              "      <th>3</th>\n",
              "      <td>0.843295</td>\n",
              "      <td>1.002749</td>\n",
              "      <td>0.112751</td>\n",
              "    </tr>\n",
              "    <tr>\n",
              "      <th>4</th>\n",
              "      <td>0.857607</td>\n",
              "      <td>1.043472</td>\n",
              "      <td>0.131426</td>\n",
              "    </tr>\n",
              "    <tr>\n",
              "      <th>5</th>\n",
              "      <td>0.841111</td>\n",
              "      <td>1.128946</td>\n",
              "      <td>0.203530</td>\n",
              "    </tr>\n",
              "  </tbody>\n",
              "</table>\n",
              "</div>"
            ],
            "text/plain": [
              "      train      test       std\n",
              "0  0.842953  1.040297  0.139543\n",
              "1  0.859835  0.920497  0.042894\n",
              "2  0.854254  1.019552  0.116884\n",
              "3  0.843295  1.002749  0.112751\n",
              "4  0.857607  1.043472  0.131426\n",
              "5  0.841111  1.128946  0.203530"
            ]
          },
          "metadata": {
            "tags": []
          }
        },
        {
          "output_type": "stream",
          "text": [
            "Std train: 0.008320723692008111, Std test: 0.06755824903337412\n",
            "Scale lgbm.....\n",
            "Draped timestamp ((: \n",
            "(18335396, 11) (18335396, 6)\n",
            "0:\tlearn: 4.7636503\ttest: 4.7637605\tbest: 4.7637605 (0)\ttotal: 26.7s\tremaining: 4m\n",
            "1:\tlearn: 4.6344533\ttest: 4.6351356\tbest: 4.6351356 (1)\ttotal: 38.9s\tremaining: 2m 35s\n",
            "2:\tlearn: 4.5095724\ttest: 4.5108729\tbest: 4.5108729 (2)\ttotal: 50.8s\tremaining: 1m 58s\n",
            "3:\tlearn: 4.3886858\ttest: 4.3906696\tbest: 4.3906696 (3)\ttotal: 1m 3s\tremaining: 1m 34s\n",
            "4:\tlearn: 4.2717966\ttest: 4.2743893\tbest: 4.2743893 (4)\ttotal: 1m 15s\tremaining: 1m 15s\n",
            "5:\tlearn: 4.1588102\ttest: 4.1618371\tbest: 4.1618371 (5)\ttotal: 1m 27s\tremaining: 58.4s\n",
            "6:\tlearn: 4.0494153\ttest: 4.0532144\tbest: 4.0532144 (6)\ttotal: 1m 39s\tremaining: 42.9s\n",
            "7:\tlearn: 3.9437491\ttest: 3.9481509\tbest: 3.9481509 (7)\ttotal: 1m 52s\tremaining: 28.2s\n",
            "8:\tlearn: 3.8416136\ttest: 3.8465310\tbest: 3.8465310 (8)\ttotal: 2m 4s\tremaining: 13.9s\n",
            "9:\tlearn: 3.7426335\ttest: 3.7477438\tbest: 3.7477438 (9)\ttotal: 2m 16s\tremaining: 0us\n",
            "   iterations  test-RMSE-mean  test-RMSE-std  train-RMSE-mean  train-RMSE-std\n",
            "0           0        4.763760       0.054407         4.763650        0.020533\n",
            "1           1        4.635136       0.055451         4.634453        0.020007\n",
            "2           2        4.510873       0.056421         4.509572        0.019577\n",
            "3           3        4.390670       0.057418         4.388686        0.019037\n",
            "4           4        4.274389       0.058301         4.271797        0.018595\n",
            "5           5        4.161837       0.059319         4.158810        0.018108\n",
            "6           6        4.053214       0.060164         4.049415        0.017651\n",
            "7           7        3.948151       0.060334         3.943749        0.017326\n",
            "8           8        3.846531       0.061178         3.841614        0.016922\n",
            "9           9        3.747744       0.061519         3.742634        0.016535\n",
            "Ends\n",
            "====================\n"
          ],
          "name": "stdout"
        }
      ]
    },
    {
      "cell_type": "markdown",
      "metadata": {
        "id": "5fYwbwPpZtcf",
        "colab_type": "text"
      },
      "source": [
        "#Best True, true, false, false, and first drop"
      ]
    },
    {
      "cell_type": "markdown",
      "metadata": {
        "id": "paPR4hG3BEaw",
        "colab_type": "text"
      },
      "source": [
        "#boxcox1p??"
      ]
    },
    {
      "cell_type": "markdown",
      "metadata": {
        "id": "Pm0iq9FQXOz2",
        "colab_type": "text"
      },
      "source": [
        "#iwant"
      ]
    },
    {
      "cell_type": "code",
      "metadata": {
        "id": "tAmzotP4v34j",
        "colab_type": "code",
        "colab": {}
      },
      "source": [
        "win_drops = ['air_temperature','rolling_forw_air_temperature', 'hour', 'rec_rh'] # 1.99 site_id not dropen need for clusters\n",
        "train = train.drop(win_drops, axis = 1)\n",
        "idx_bad = find_bad_building1099(train)\n",
        "train = train.drop(idx_bad)"
      ],
      "execution_count": 0,
      "outputs": []
    },
    {
      "cell_type": "code",
      "metadata": {
        "id": "uzZJdI0mSovn",
        "colab_type": "code",
        "colab": {}
      },
      "source": [
        "test = test.drop(win_drops, axis = 1)"
      ],
      "execution_count": 0,
      "outputs": []
    },
    {
      "cell_type": "code",
      "metadata": {
        "id": "-SpRoGXTTMQI",
        "colab_type": "code",
        "outputId": "58f6615a-db85-473f-e205-333e95208d85",
        "colab": {
          "base_uri": "https://localhost:8080/",
          "height": 34
        }
      },
      "source": [
        "test.shape, train.shape"
      ],
      "execution_count": 0,
      "outputs": [
        {
          "output_type": "execute_result",
          "data": {
            "text/plain": [
              "((41697600, 20), (18335396, 21))"
            ]
          },
          "metadata": {
            "tags": []
          },
          "execution_count": 9
        }
      ]
    },
    {
      "cell_type": "code",
      "metadata": {
        "id": "qLfR7szmabKA",
        "colab_type": "code",
        "colab": {}
      },
      "source": [
        "def cost(target, pred):\n",
        "  return np.sqrt(mean_squared_log_error(np.expm1(target), np.clip(np.expm1(pred), 0, None)))\n",
        "\n",
        "def cluster_id(data, test, mark, model, num_cluster, skip = True):  \n",
        "  \"\"\"\n",
        "  че мы хотим, а мы хотим\n",
        "  разбиваем на  сайт ид и в нем делаем кластеры\n",
        "  затем учим и предсказывае для каждого кластера в сайт ид\n",
        "\n",
        "  data = data\n",
        "  num_clusters = int, num cluster  \n",
        "  mark = feature test\n",
        "  \"\"\"\n",
        "  data.building_id = data.building_id.astype(np.int16)\n",
        "  test.building_id = test.building_id.astype(np.int16)  \n",
        "  df_id = pd.DataFrame(data = np.zeros(len(test)), columns = ['pred'], index=test.index)  \n",
        "  for id_ in data.site_id.unique():      \n",
        "    mask_id = data.site_id == id_\n",
        "    mask_id_test = test.site_id == id_       \n",
        "    site_id = data[mask_id] \n",
        "    site_id_test = test[mask_id_test]         \n",
        "    #we make cluster in site id    \n",
        "    if skip:        \n",
        "      g = site_id.groupby(mark)['meter_reading'].median()      \n",
        "      km = KMeans(n_clusters=num_cluster, init='random', n_init=5, max_iter=100, random_state=13, n_jobs=-1)      \n",
        "      label = km.fit_predict(g.values.reshape(-1, 1))      \n",
        "      g = g.to_frame()        \n",
        "      g['labels'] = label\n",
        "      cluster_df = site_id[mark].map(g['labels']) #i make idx - labels\n",
        "      cluster_test = site_id_test[mark].map(g['labels'])      \n",
        "      for num in range(num_cluster):\n",
        "        #num clusters\n",
        "        idx = cluster_df[cluster_df == num].index #index cluster in id_site\n",
        "        #idx_box[id_] = idx #index clusters only site_id\n",
        "        #site_id.loc[cluster_df[cluster_df == 1].index]        \n",
        "        X = site_id.loc[idx].drop('meter_reading', axis = 1)\n",
        "        y = site_id.loc[idx]['meter_reading']      \n",
        "        # learning\n",
        "        # predict for cluster\n",
        "        # join for predict site\n",
        "        # add for predict sample train         \n",
        "        model.fit(X, np.log1p(y))\n",
        "        #model.fit(X.drop('site_id', axis = 1), np.log1p(y))\n",
        "        idx_test = cluster_test[cluster_test == num].index \n",
        "        test_cluster = site_id_test.loc[idx_test]                \n",
        "        df_id.loc[idx_test, 'pred'] = model.predict(test_cluster)\n",
        "     \n",
        "    else:   \n",
        "      pass   \n",
        "      X = site_id.drop('meter_reading', axis = 1)\n",
        "      y = site_id['meter_reading']\n",
        "      model.fit(X, y)            \n",
        "      df_id.loc[site_id.index, 'pred'] = model.predict(test)\n",
        "  #print(cost(np.log1p(data.meter_reading.values), df_id.pred.values)  )\n",
        "  return df_id"
      ],
      "execution_count": 0,
      "outputs": []
    },
    {
      "cell_type": "code",
      "metadata": {
        "id": "s9-ZjdKUUxzO",
        "colab_type": "code",
        "colab": {}
      },
      "source": [
        "lr = LinearRegression()\n",
        "pred = cluster_id(train, test, 'building_id', lr, 3, skip = True)"
      ],
      "execution_count": 0,
      "outputs": []
    },
    {
      "cell_type": "code",
      "metadata": {
        "id": "sBS6Owg7EdYk",
        "colab_type": "code",
        "outputId": "a05a11c4-7753-4ff7-d8ce-ac56d5d73cd9",
        "colab": {
          "base_uri": "https://localhost:8080/",
          "height": 118
        }
      },
      "source": [
        "pred.info()"
      ],
      "execution_count": 0,
      "outputs": [
        {
          "output_type": "stream",
          "text": [
            "<class 'pandas.core.frame.DataFrame'>\n",
            "Int64Index: 41697600 entries, 0 to 41697599\n",
            "Data columns (total 1 columns):\n",
            "pred    float64\n",
            "dtypes: float64(1)\n",
            "memory usage: 1.9 GB\n"
          ],
          "name": "stdout"
        }
      ]
    },
    {
      "cell_type": "code",
      "metadata": {
        "id": "QmI-4mrFEdTJ",
        "colab_type": "code",
        "outputId": "52a8cb95-75fb-4f53-8f11-072e60f90536",
        "colab": {
          "base_uri": "https://localhost:8080/",
          "height": 34
        }
      },
      "source": [
        "#del pred\n",
        "gc.collect()"
      ],
      "execution_count": 0,
      "outputs": [
        {
          "output_type": "execute_result",
          "data": {
            "text/plain": [
              "1205"
            ]
          },
          "metadata": {
            "tags": []
          },
          "execution_count": 32
        }
      ]
    },
    {
      "cell_type": "markdown",
      "metadata": {
        "id": "3P-SdXPVFN7f",
        "colab_type": "text"
      },
      "source": [
        "#w"
      ]
    },
    {
      "cell_type": "code",
      "metadata": {
        "id": "Jg1iRaU5G5yN",
        "colab_type": "code",
        "outputId": "abdc6738-42bd-4b2d-dfd2-edfed6c8684a",
        "colab": {
          "base_uri": "https://localhost:8080/",
          "height": 34
        }
      },
      "source": [
        "X = train.drop('meter_reading', axis = 1)\n",
        "y = train.meter_reading\n",
        "del train\n",
        "gc.collect()"
      ],
      "execution_count": 0,
      "outputs": [
        {
          "output_type": "execute_result",
          "data": {
            "text/plain": [
              "0"
            ]
          },
          "metadata": {
            "tags": []
          },
          "execution_count": 11
        }
      ]
    },
    {
      "cell_type": "code",
      "metadata": {
        "id": "_hpFkF6YE8fg",
        "colab_type": "code",
        "colab": {}
      },
      "source": [
        "X_train, X_test, y_train, y_test = train_test_split(X, y, test_size=0.3, random_state=13)\n",
        "#all method data df, and need convert\n",
        "train = pd.concat([X_train, y_train], axis = 1)"
      ],
      "execution_count": 0,
      "outputs": []
    },
    {
      "cell_type": "code",
      "metadata": {
        "id": "OKW99RBNH1qX",
        "colab_type": "code",
        "outputId": "ee9928f4-cee3-43c7-e3a6-fe08af030e39",
        "colab": {
          "base_uri": "https://localhost:8080/",
          "height": 134
        }
      },
      "source": [
        "model1 = Lasso(alpha = 1, random_state=13)\n",
        "pred_model1 = cluster_id(train, X_test, 'building_id', model1, 3, skip = True)\n",
        "cost(np.log1p(y_test), pred_model1)"
      ],
      "execution_count": 0,
      "outputs": [
        {
          "output_type": "stream",
          "text": [
            "/usr/local/lib/python3.6/dist-packages/pandas/core/generic.py:5208: SettingWithCopyWarning: \n",
            "A value is trying to be set on a copy of a slice from a DataFrame.\n",
            "Try using .loc[row_indexer,col_indexer] = value instead\n",
            "\n",
            "See the caveats in the documentation: http://pandas.pydata.org/pandas-docs/stable/user_guide/indexing.html#returning-a-view-versus-a-copy\n",
            "  self[name] = value\n"
          ],
          "name": "stderr"
        },
        {
          "output_type": "execute_result",
          "data": {
            "text/plain": [
              "1.2454373330905504"
            ]
          },
          "metadata": {
            "tags": []
          },
          "execution_count": 15
        }
      ]
    },
    {
      "cell_type": "markdown",
      "metadata": {
        "id": "RhM4bebsRTrL",
        "colab_type": "text"
      },
      "source": [
        "##lgbm\n",
        "\n"
      ]
    },
    {
      "cell_type": "code",
      "metadata": {
        "id": "7lr454pDHxWK",
        "colab_type": "code",
        "outputId": "a5a5aaf4-0c6d-4ebe-e34a-a9690c8fcb32",
        "colab": {
          "base_uri": "https://localhost:8080/",
          "height": 118
        }
      },
      "source": [
        "params = {'bagging_fraction': 0.1,\n",
        "          'boosting_type': 'gbdt',\n",
        "          'feature_fraction': 0.7,\n",
        "          'learning_rate': 0.1,\n",
        "          'max_bin': 63,\n",
        "          'max_depth': -1,\n",
        "          'min_data_in_leaf': 20,\n",
        "          'min_gain_to_split': 0.1,\n",
        "          'n_estimators': 1000,\n",
        "          'num_leaves': 120}\n",
        "\n",
        "model4 = LGBMRegressor(**params, random_state=13)\n",
        "lgbm_pred = cluster_id(train, X_test, 'building_id', model4, 3, skip = True)"
      ],
      "execution_count": 0,
      "outputs": [
        {
          "output_type": "stream",
          "text": [
            "/usr/local/lib/python3.6/dist-packages/pandas/core/generic.py:5208: SettingWithCopyWarning: \n",
            "A value is trying to be set on a copy of a slice from a DataFrame.\n",
            "Try using .loc[row_indexer,col_indexer] = value instead\n",
            "\n",
            "See the caveats in the documentation: http://pandas.pydata.org/pandas-docs/stable/user_guide/indexing.html#returning-a-view-versus-a-copy\n",
            "  self[name] = value\n"
          ],
          "name": "stderr"
        }
      ]
    },
    {
      "cell_type": "code",
      "metadata": {
        "id": "cGgId4C8HxTA",
        "colab_type": "code",
        "outputId": "f7c590df-7390-40fe-f6fc-737575a33cab",
        "colab": {
          "base_uri": "https://localhost:8080/",
          "height": 34
        }
      },
      "source": [
        "cost(np.log1p(y_test), lgbm_pred)"
      ],
      "execution_count": 0,
      "outputs": [
        {
          "output_type": "execute_result",
          "data": {
            "text/plain": [
              "0.36550172901404654"
            ]
          },
          "metadata": {
            "tags": []
          },
          "execution_count": 19
        }
      ]
    },
    {
      "cell_type": "code",
      "metadata": {
        "id": "BSfe2a530Hiz",
        "colab_type": "code",
        "colab": {}
      },
      "source": [
        "#https://stats.stackexchange.com/questions/317073/explanation-of-min-child-weight-in-xgboost-algorithm"
      ],
      "execution_count": 0,
      "outputs": []
    },
    {
      "cell_type": "markdown",
      "metadata": {
        "id": "504wR2Q16h40",
        "colab_type": "text"
      },
      "source": [
        "###gbdt\n",
        "\n"
      ]
    },
    {
      "cell_type": "code",
      "metadata": {
        "id": "2fXgZJFURXsH",
        "colab_type": "code",
        "colab": {}
      },
      "source": [
        "data = lgb.Dataset(X_train, np.log1p(y_train))\n",
        "param = {'boosting': 'gbdt',\n",
        "         'seed': 13,\n",
        "         'num_leaves': 31,\n",
        "         'metric': 'rmse',\n",
        "         'objective': 'regression',\n",
        "         'bagging_fraction': .6,\n",
        "         'feature_fraction_bynode': 0.8, \n",
        "         'bagging_freq': 2,\n",
        "         'feature_fraction': 0.6, \n",
        "         'max_depth': 3,\n",
        "         'min_sum_hessian_in_leaf': 1e-3, # test   \n",
        "         'early_stopping_round': 10,\n",
        "         #'lambda_l1':,\n",
        "         #'lambda_l2':,\n",
        "         #'min_gain_to_split':,\n",
        "         #'max_bin':,\n",
        "         #'cat_l2':,\n",
        "         #'cat_smooth':,    \n",
        "         }\n",
        "bst = lgb.train(param, data, valid_sets=lgb.Dataset(X_train))"
      ],
      "execution_count": 0,
      "outputs": []
    },
    {
      "cell_type": "code",
      "metadata": {
        "id": "MO7p4GgkNAaQ",
        "colab_type": "code",
        "outputId": "bdbdf05e-1777-4047-de45-9a3b18b38da5",
        "colab": {
          "base_uri": "https://localhost:8080/",
          "height": 34
        }
      },
      "source": [
        "cost(np.log1p(y_test), bst.predict(X_test))"
      ],
      "execution_count": 0,
      "outputs": [
        {
          "output_type": "execute_result",
          "data": {
            "text/plain": [
              "1.65530770019457"
            ]
          },
          "metadata": {
            "tags": []
          },
          "execution_count": 23
        }
      ]
    },
    {
      "cell_type": "markdown",
      "metadata": {
        "id": "TKX0GYQ03neJ",
        "colab_type": "text"
      },
      "source": [
        "### Baseline lgbm\n",
        "\n",
        "\n",
        "> 10000 not early stoped = 0.3820\n",
        "\n",
        "\n",
        "> we use 1000 = -0.08 diff\n",
        "\n",
        "\n",
        "\n"
      ]
    },
    {
      "cell_type": "code",
      "metadata": {
        "id": "dJ-cw1WzRXiC",
        "colab_type": "code",
        "colab": {}
      },
      "source": [
        "model = lgb.LGBMRegressor(objective='regression',metrics = 'rmse',random_state=13)\n",
        "params = model.get_params()\n",
        "del params['n_estimators']"
      ],
      "execution_count": 0,
      "outputs": []
    },
    {
      "cell_type": "code",
      "metadata": {
        "id": "PlW6TI7kROAC",
        "colab_type": "code",
        "outputId": "44fa46fa-647d-41c9-c075-112bebb1d2c1",
        "colab": {
          "base_uri": "https://localhost:8080/",
          "height": 67
        }
      },
      "source": [
        "data = lgb.Dataset(X_train, np.log1p(y_train))\n",
        "test = lgb.Dataset(X_test, np.log1p(y_test))\n",
        "cv_results = lgb.cv(params,  data, num_boost_round = 10000, nfold = 5, stratified=False,\n",
        "                    early_stopping_rounds = 100, verbose_eval = False, seed = 13)"
      ],
      "execution_count": 0,
      "outputs": [
        {
          "output_type": "stream",
          "text": [
            "/usr/local/lib/python3.6/dist-packages/lightgbm/basic.py:741: UserWarning: silent keyword has been found in `params` and will be ignored.\n",
            "Please use silent argument of the Dataset constructor to pass this parameter.\n",
            "  .format(key))\n"
          ],
          "name": "stderr"
        }
      ]
    },
    {
      "cell_type": "code",
      "metadata": {
        "id": "hWTX_MqqRN8W",
        "colab_type": "code",
        "colab": {}
      },
      "source": [
        "score = cv_results['rmse-mean'][-1] # 0.38208457389651473\n",
        "score_stdv = cv_results['rmse-stdv'][-1] # 0.00048565859880505494"
      ],
      "execution_count": 0,
      "outputs": []
    },
    {
      "cell_type": "code",
      "metadata": {
        "id": "csrhXM8JRN6q",
        "colab_type": "code",
        "outputId": "b5bd1d04-acbc-45c6-f9a4-6dca587d3a74",
        "colab": {
          "base_uri": "https://localhost:8080/",
          "height": 34
        }
      },
      "source": [
        "cv_results.keys()"
      ],
      "execution_count": 0,
      "outputs": [
        {
          "output_type": "execute_result",
          "data": {
            "text/plain": [
              "dict_keys(['rmse-mean', 'rmse-stdv'])"
            ]
          },
          "metadata": {
            "tags": []
          },
          "execution_count": 45
        }
      ]
    },
    {
      "cell_type": "code",
      "metadata": {
        "id": "aoL-e8FDRN5G",
        "colab_type": "code",
        "outputId": "fd4abd1a-aa1b-4806-cf22-5b8ff769a191",
        "colab": {
          "base_uri": "https://localhost:8080/",
          "height": 34
        }
      },
      "source": [
        "num_estimators = len(cv_results['rmse-mean'])\n",
        "num_estimators"
      ],
      "execution_count": 0,
      "outputs": [
        {
          "output_type": "execute_result",
          "data": {
            "text/plain": [
              "10000"
            ]
          },
          "metadata": {
            "tags": []
          },
          "execution_count": 46
        }
      ]
    },
    {
      "cell_type": "code",
      "metadata": {
        "id": "0MakpA0Cc-hC",
        "colab_type": "code",
        "outputId": "7d5fc44d-4f9a-4885-ed12-a7a07be57bb6",
        "colab": {
          "base_uri": "https://localhost:8080/",
          "height": 34
        }
      },
      "source": [
        "#len 10000\n",
        "score - cv_results['rmse-mean'][1000:1001]\n"
      ],
      "execution_count": 0,
      "outputs": [
        {
          "output_type": "execute_result",
          "data": {
            "text/plain": [
              "array([-0.08368428])"
            ]
          },
          "metadata": {
            "tags": []
          },
          "execution_count": 56
        }
      ]
    },
    {
      "cell_type": "code",
      "metadata": {
        "id": "N_FV2DpdRN2O",
        "colab_type": "code",
        "outputId": "d38c6dfa-bedb-4286-9f6e-3964fab969d1",
        "colab": {
          "base_uri": "https://localhost:8080/",
          "height": 34
        }
      },
      "source": [
        "model = lgb.LGBMRegressor(n_estimators=1000, random_state=50)\n",
        "model.fit(X_train, np.log1p(y_train))\n",
        "preds = model.predict(X_test)\n",
        "cost(np.log1p(y_test), preds)"
      ],
      "execution_count": 0,
      "outputs": [
        {
          "output_type": "execute_result",
          "data": {
            "text/plain": [
              "0.4662647364254319"
            ]
          },
          "metadata": {
            "tags": []
          },
          "execution_count": 53
        }
      ]
    },
    {
      "cell_type": "markdown",
      "metadata": {
        "id": "gmaBmk0y3wNx",
        "colab_type": "text"
      },
      "source": [
        "### Hyperopt"
      ]
    },
    {
      "cell_type": "code",
      "metadata": {
        "id": "ecZ9XtEvfrJ0",
        "colab_type": "code",
        "colab": {}
      },
      "source": [
        "from hyperopt import hp, fmin, tpe, STATUS_OK, Trials"
      ],
      "execution_count": 0,
      "outputs": []
    },
    {
      "cell_type": "code",
      "metadata": {
        "id": "1R3D3NdLqp2B",
        "colab_type": "code",
        "colab": {}
      },
      "source": [
        "def rand_sample(f = 0.25):\n",
        "  #вернет выборку рандомную, f - коеф. размера выборки\n",
        "  np.random.seed(0)\n",
        "  idx = np.argsort(train.timestamp.values, kind='stable')\n",
        "  sample_idx = np.random.choice(idx, int(len(idx) * f), replace=False)  \n",
        "  return sample_idx\n",
        "\n",
        "sample_train = train.iloc[rand_sample(f = 0.25)] #4584686 rows × 45 columns\n",
        "\n",
        "X = sample_train.drop('meter_reading', axis = 1)\n",
        "y = sample_train.meter_reading\n",
        "\n",
        "del train\n",
        "gc.collect()\n",
        "\n",
        "X_train, X_test, y_train, y_test = train_test_split(X, y, test_size=0.3, random_state=13)\n",
        "#all method data df, and need convert\n",
        "#train = pd.concat([X_train, y_train], axis = 1)"
      ],
      "execution_count": 0,
      "outputs": []
    },
    {
      "cell_type": "code",
      "metadata": {
        "id": "CGhH9gwGfrGG",
        "colab_type": "code",
        "colab": {}
      },
      "source": [
        "def fin_param(bost, num = 100, num_loop = 50):\n",
        "  \"\"\"\n",
        "  bost: ary\n",
        "    ['gbdt', 'dart', 'goss']\n",
        "\n",
        "  num - num_boost_round in cv\n",
        "  num_loop - max_evals  \n",
        "  \"\"\"\n",
        "  data = lgb.Dataset(X_train, np.log1p(y_train))\n",
        "\n",
        "  def objective(space):\n",
        "    print('Start......')\n",
        "\n",
        "    params = {\n",
        "        'objective':'regression',\n",
        "        'metrics': 'rmse',\n",
        "        'boosting': space['boosting'],\n",
        "        'num_leaves': int(space['num_leaves']),\n",
        "        'learning_rate': space['learning_rate'],\n",
        "        'min_data_in_leaf': int(space['min_data_in_leaf']),\n",
        "        'bagging_fraction': space['bagging_fraction'],\n",
        "        'feature_fraction': space['feature_fraction'],\n",
        "        'bagging_freq': int(space['bagging_freq']),         \n",
        "        'max_depth': int(space['max_depth']),\n",
        "        'min_sum_hessian_in_leaf':  space['min_sum_hessian_in_leaf'],\n",
        "        'lambda_l1': space['lambda_l1'],\n",
        "        'lambda_l2': space['lambda_l2'],\n",
        "        'min_gain_to_split': space['min_gain_to_split'],\n",
        "        'max_bin': int(space['max_bin']),\n",
        "        'cat_l2': space['cat_l2'],\n",
        "        'cat_smooth': space['cat_smooth'],   \n",
        "        }\n",
        "\n",
        "    \n",
        "    if space['boosting'] != 'dart':\n",
        "      params['early_stopping_round'] = 25\n",
        "\n",
        "    if space['boosting'] == 'goss':\n",
        "      del params['bagging_fraction']\n",
        "      del params['bagging_freq']\n",
        "\n",
        "   \n",
        "  \n",
        "    cv_results = lgb.cv(params,  data, num_boost_round = num, nfold = 3,\n",
        "                        stratified=False, verbose_eval = False, seed = 13)  \n",
        "    \n",
        "    score = cv_results['rmse-mean'][-1]\n",
        "    print(f'Scores: {score}')\n",
        "    return {'loss': score, 'status':STATUS_OK}\n",
        "\n",
        "  change_list = bost\n",
        "\n",
        "  space = {'boosting' : hp.choice('boosting', change_list),\n",
        "          #'learning_rate' : hp.loguniform('learning_rate', np.log(0.005), np.log(0.2)),\n",
        "          'learning_rate' : hp.loguniform('learning_rate', np.log(0.1), np.log(0.5)),\n",
        "          'min_data_in_leaf': hp.quniform('min_data_in_leaf', 20, 100, 5),\n",
        "          'num_leaves': hp.normal('num_leaves', 31, 10),\n",
        "          #'num_leaves': hp.quniform('num_leaves', 20, 150, 1),\n",
        "          'bagging_fraction': hp.quniform('bagging_fraction', 0.5, 1, 0.1), #goos\n",
        "          'feature_fraction': hp.quniform('feature_fraction', 0.5, 1, 0.1),\n",
        "          'bagging_freq': hp.quniform('bagging_freq', 0, 5, 1),     #goos    \n",
        "          'max_depth': hp.quniform('max_depth', 2, 6, 1),\n",
        "          'min_sum_hessian_in_leaf':  hp.uniform('min_sum_hessian_in_leaf', 0.00001, 1),\n",
        "          'lambda_l1': hp.uniform('lambda_l1', 0.0, 1.0),\n",
        "          'lambda_l2': hp.uniform('lambda_l2', 0.0, 1.0),\n",
        "          'min_gain_to_split': hp.quniform('min_gain_to_split', 0.1, 5, 0.01),\n",
        "          'max_bin': hp.quniform('max_bin', 32, 255, 1),\n",
        "          'cat_l2': hp.quniform('cat_l2', 1, 10, 1),\n",
        "          'cat_smooth': hp.quniform('cat_smooth', 1, 10, 1), \n",
        "          }\n",
        "          \n",
        "  trials = Trials()\n",
        "\n",
        "  best = fmin(fn=objective,\n",
        "              space=space,\n",
        "              algo=tpe.suggest,\n",
        "              max_evals= num_loop,\n",
        "              trials=trials)\n",
        "\n",
        "  print(best)\n"
      ],
      "execution_count": 0,
      "outputs": []
    },
    {
      "cell_type": "code",
      "metadata": {
        "id": "x_FzkEuP_VHn",
        "colab_type": "code",
        "colab": {}
      },
      "source": [
        "fin_param(['gbdt', 'dart', 'goss'], num = 10, num_loop = 5)"
      ],
      "execution_count": 0,
      "outputs": []
    },
    {
      "cell_type": "code",
      "metadata": {
        "id": "QhjuugRUzQ8S",
        "colab_type": "code",
        "colab": {}
      },
      "source": [
        "100/50\n",
        "# 100%|██████████| 50/50 [15:00<00:00, 15.81s/it, best loss: 0.5460346592759214]\n",
        "# {'bagging_fraction': 1.0, 'bagging_freq': 4.0, 'boosting': 0, 'cat_l2': 4.0, 'cat_smooth': 8.0, 'feature_fraction': 1.0, 'lambda_l1': 0.3649958771024604, 'lambda_l2': 0.39118421353320576, 'learning_rate': 0.305125828911035, 'max_bin': 33.0, 'max_depth': 6.0, 'min_data_in_leaf': 100.0, 'min_gain_to_split': 4.46, 'min_sum_hessian_in_leaf': 0.0014733825324006822, 'num_leaves': 27.36337249914612}"
      ],
      "execution_count": 0,
      "outputs": []
    },
    {
      "cell_type": "code",
      "metadata": {
        "id": "Ws8c-7RX4D20",
        "colab_type": "code",
        "outputId": "06707f89-a9f6-4ce2-f74a-36b63d92f3fe",
        "colab": {
          "base_uri": "https://localhost:8080/",
          "height": 282
        }
      },
      "source": [
        "import seaborn as sns\n",
        "from hyperopt.pyll.stochastic import sample\n",
        "a ={'a': hp.normal('a', 31, 10)}\n",
        "b = []\n",
        "for _ in range(30):\n",
        "  b.append(int(sample(a['a'])))\n",
        "b\n",
        "\n",
        "sns.kdeplot(b, linewidth = 2, shade = True)"
      ],
      "execution_count": 0,
      "outputs": [
        {
          "output_type": "execute_result",
          "data": {
            "text/plain": [
              "<matplotlib.axes._subplots.AxesSubplot at 0x7fc940ad27f0>"
            ]
          },
          "metadata": {
            "tags": []
          },
          "execution_count": 32
        },
        {
          "output_type": "display_data",
          "data": {
            "image/png": "[encoded data removed]",
            "text/plain": [
              "<Figure size 432x288 with 1 Axes>"
            ]
          },
          "metadata": {
            "tags": []
          }
        }
      ]
    },
    {
      "cell_type": "code",
      "metadata": {
        "id": "cm5qLN6efg20",
        "colab_type": "code",
        "outputId": "5b03b0e6-149b-4930-a433-07a2ee903de0",
        "colab": {
          "base_uri": "https://localhost:8080/",
          "height": 282
        }
      },
      "source": [
        "a ={'a': hp.uniform('a', 0.6, 1)}\n",
        "b = []\n",
        "for _ in range(30):\n",
        "  b.append(sample(a['a']))\n",
        "b\n",
        "\n",
        "sns.kdeplot(b, linewidth = 2, shade = True)"
      ],
      "execution_count": 0,
      "outputs": [
        {
          "output_type": "execute_result",
          "data": {
            "text/plain": [
              "<matplotlib.axes._subplots.AxesSubplot at 0x7fc94090ea90>"
            ]
          },
          "metadata": {
            "tags": []
          },
          "execution_count": 42
        },
        {
          "output_type": "display_data",
          "data": {
            "image/png": "[encoded data removed]",
            "text/plain": [
              "<Figure size 432x288 with 1 Axes>"
            ]
          },
          "metadata": {
            "tags": []
          }
        }
      ]
    },
    {
      "cell_type": "code",
      "metadata": {
        "id": "NbJtuWkXfg0u",
        "colab_type": "code",
        "outputId": "b617e0d5-3abc-4710-f02f-49f02207f23e",
        "colab": {
          "base_uri": "https://localhost:8080/",
          "height": 284
        }
      },
      "source": [
        "a ={'a': hp.uniform('a', 0.00001, 1)}\n",
        "b = []\n",
        "for _ in range(30):\n",
        "  b.append(sample(a['a']))\n",
        "b\n",
        "\n",
        "sns.kdeplot(b, linewidth = 2, shade = True)"
      ],
      "execution_count": 0,
      "outputs": [
        {
          "output_type": "execute_result",
          "data": {
            "text/plain": [
              "<matplotlib.axes._subplots.AxesSubplot at 0x7fc9405f1be0>"
            ]
          },
          "metadata": {
            "tags": []
          },
          "execution_count": 54
        },
        {
          "output_type": "display_data",
          "data": {
            "image/png": "[encoded data removed]",
            "text/plain": [
              "<Figure size 432x288 with 1 Axes>"
            ]
          },
          "metadata": {
            "tags": []
          }
        }
      ]
    },
    {
      "cell_type": "code",
      "metadata": {
        "id": "nSxp6lK-fgxc",
        "colab_type": "code",
        "outputId": "0757633b-aae1-4b1f-ce9b-aee76478095c",
        "colab": {
          "base_uri": "https://localhost:8080/",
          "height": 282
        }
      },
      "source": [
        "a ={'a': hp.quniform('a', 1, 10, 1)}\n",
        "b = []\n",
        "for _ in range(10):\n",
        "  b.append(sample(a['a']))\n",
        "b\n",
        "\n",
        "sns.kdeplot(b, linewidth = 2, shade = True)"
      ],
      "execution_count": 0,
      "outputs": [
        {
          "output_type": "execute_result",
          "data": {
            "text/plain": [
              "<matplotlib.axes._subplots.AxesSubplot at 0x7fc94068aa90>"
            ]
          },
          "metadata": {
            "tags": []
          },
          "execution_count": 56
        },
        {
          "output_type": "display_data",
          "data": {
            "image/png": "[encoded data removed]",
            "text/plain": [
              "<Figure size 432x288 with 1 Axes>"
            ]
          },
          "metadata": {
            "tags": []
          }
        }
      ]
    },
    {
      "cell_type": "code",
      "metadata": {
        "id": "nTXdsiQ3fgqx",
        "colab_type": "code",
        "outputId": "0f97c83e-4505-4a87-a803-93b339206122",
        "colab": {
          "base_uri": "https://localhost:8080/",
          "height": 34
        }
      },
      "source": [
        "b"
      ],
      "execution_count": 0,
      "outputs": [
        {
          "output_type": "execute_result",
          "data": {
            "text/plain": [
              "[9.0, 6.0, 7.0, 6.0, 9.0, 5.0, 10.0, 9.0, 6.0, 5.0]"
            ]
          },
          "metadata": {
            "tags": []
          },
          "execution_count": 57
        }
      ]
    },
    {
      "cell_type": "markdown",
      "metadata": {
        "id": "UpV09mPa6orU",
        "colab_type": "text"
      },
      "source": [
        "###dart"
      ]
    },
    {
      "cell_type": "code",
      "metadata": {
        "id": "toIbDGT53aCT",
        "colab_type": "code",
        "outputId": "c5a4bd2e-3501-4f47-8aac-6d490c606d76",
        "colab": {
          "base_uri": "https://localhost:8080/",
          "height": 238
        }
      },
      "source": [
        "fin_param(['dart'], num = 10, num_loop = 5)"
      ],
      "execution_count": 0,
      "outputs": [
        {
          "output_type": "stream",
          "text": [
            "Start......\n",
            "Scores: 1.3385070267915042\n",
            "Start......\n",
            "Scores: 1.229748397518793\n",
            "Start......\n",
            "Scores: 1.171778281156752\n",
            "Start......\n",
            "Scores: 0.8068931858305345\n",
            "Start......\n",
            "Scores: 1.1884946468191238\n",
            "100%|██████████| 5/5 [00:17<00:00,  3.65s/it, best loss: 0.8068931858305345]\n",
            "{'bagging_fraction': 1.0, 'bagging_freq': 4.0, 'boosting': 0, 'cat_l2': 2.0, 'cat_smooth': 6.0, 'feature_fraction': 0.9, 'lambda_l1': 0.13721333680362857, 'lambda_l2': 0.5915941343479638, 'learning_rate': 0.4440806186711804, 'max_bin': 42.0, 'max_depth': 5.0, 'min_data_in_leaf': 70.0, 'min_gain_to_split': 0.31, 'min_sum_hessian_in_leaf': 0.3488510554260231, 'num_leaves': 34.85166813123721}\n"
          ],
          "name": "stdout"
        }
      ]
    },
    {
      "cell_type": "code",
      "metadata": {
        "id": "iVo0oDkd-mXc",
        "colab_type": "code",
        "colab": {}
      },
      "source": [
        "#its dart 100/50\n",
        "# 100%|██████████| 50/50 [21:24<00:00, 23.80s/it, best loss: 0.5627758831784492]\n",
        "# {'bagging_fraction': 1.0, 'bagging_freq': 5.0, 'cat_l2': 2.0, 'cat_smooth': 2.0, 'feature_fraction': 1.0, 'lambda_l1': 0.7409042536819661, 'lambda_l2': 0.2936292195158015, 'learning_rate': 0.4900184084648123, 'max_bin': 184.0, 'max_depth': 6.0, 'min_data_in_leaf': 20.0, 'min_gain_to_split': 1.3900000000000001, 'min_sum_hessian_in_leaf': 0.9550109807879941, 'num_leaves': 123.35903518091372}"
      ],
      "execution_count": 0,
      "outputs": []
    },
    {
      "cell_type": "markdown",
      "metadata": {
        "id": "b0_7E3kz_pgt",
        "colab_type": "text"
      },
      "source": [
        "### 1000/100"
      ]
    },
    {
      "cell_type": "code",
      "metadata": {
        "id": "nUkPKcJ967kt",
        "colab_type": "code",
        "colab": {}
      },
      "source": [
        "fin_param(['gbdt', 'dart', 'goss'], num = 1000, num_loop = 100)"
      ],
      "execution_count": 0,
      "outputs": []
    },
    {
      "cell_type": "markdown",
      "metadata": {
        "id": "ZweJ0lFu7tGe",
        "colab_type": "text"
      },
      "source": [
        "#Если делать предик то dart именно на предикт лучше"
      ]
    },
    {
      "cell_type": "code",
      "metadata": {
        "id": "CoqriozvAJNu",
        "colab_type": "code",
        "outputId": "3f535ca7-563c-4f72-b85d-ad525ea1c771",
        "colab": {
          "base_uri": "https://localhost:8080/",
          "height": 34
        }
      },
      "source": [
        "param = {'boosting': 'dart',\n",
        "         'n_estimators': 1000,\n",
        "         'bagging_fraction': 1, \n",
        "         'bagging_freq': 5,\n",
        "         'cat_l2': 2,\n",
        "         'cat_smooth': 2,\n",
        "         'feature_fraction': 1,\n",
        "         'lambda_l1': 0.7409042536819661,\n",
        "         'lambda_l2': 0.2936292195158015,\n",
        "         'learning_rate': 0.4900184084648123,\n",
        "         'max_bin': 184,\n",
        "         'max_depth': 2,#6\n",
        "         'min_data_in_leaf': 20, \n",
        "         'min_gain_to_split': 1.3900000000000001,\n",
        "         'min_sum_hessian_in_leaf': 0.9550109807879941, \n",
        "         'num_leaves': 123}\n",
        "model = lgb.LGBMRegressor(**param, random_state=13)\n",
        "model.fit(X_train, np.log1p(y_train))\n",
        "preds = model.predict(X_test)\n",
        "cost(np.log1p(y_test), preds) #47"
      ],
      "execution_count": 0,
      "outputs": [
        {
          "output_type": "execute_result",
          "data": {
            "text/plain": [
              "0.7608641885199362"
            ]
          },
          "metadata": {
            "tags": []
          },
          "execution_count": 99
        }
      ]
    },
    {
      "cell_type": "code",
      "metadata": {
        "id": "-cdUePltAyoc",
        "colab_type": "code",
        "outputId": "c61392b4-14da-4b11-e4c8-7c48eb54a993",
        "colab": {
          "base_uri": "https://localhost:8080/",
          "height": 34
        }
      },
      "source": [
        "param = {'bagging_fraction': 1,\n",
        "         'n_estimators': 1000,\n",
        "         'bagging_freq': 4,\n",
        "         'boosting': 'gbdt',\n",
        "         'cat_l2': 4,\n",
        "         'cat_smooth': 8,\n",
        "         'feature_fraction': 1, \n",
        "         'lambda_l1': 0.3649958771024604,\n",
        "         'lambda_l2': 0.39118421353320576,\n",
        "         'learning_rate': 0.305125828911035,\n",
        "         'max_bin': 33,\n",
        "         'max_depth': 2,#6\n",
        "         'min_data_in_leaf': 100,\n",
        "         'min_gain_to_split': 4.46,\n",
        "         'min_sum_hessian_in_leaf': 0.0014733825324006822,\n",
        "         'num_leaves': 27}\n",
        "\n",
        "model = lgb.LGBMRegressor(**param, random_state=13)\n",
        "model.fit(X_train, np.log1p(y_train))\n",
        "preds = model.predict(X_test)\n",
        "cost(np.log1p(y_test), preds)"
      ],
      "execution_count": 0,
      "outputs": [
        {
          "output_type": "execute_result",
          "data": {
            "text/plain": [
              "0.6941198883222602"
            ]
          },
          "metadata": {
            "tags": []
          },
          "execution_count": 100
        }
      ]
    },
    {
      "cell_type": "code",
      "metadata": {
        "id": "yfL2UUoACT3x",
        "colab_type": "code",
        "colab": {}
      },
      "source": [
        ""
      ],
      "execution_count": 0,
      "outputs": []
    },
    {
      "cell_type": "markdown",
      "metadata": {
        "id": "iMZI53nJRYhV",
        "colab_type": "text"
      },
      "source": [
        "##cat"
      ]
    },
    {
      "cell_type": "code",
      "metadata": {
        "id": "OvLlgr5PE8ap",
        "colab_type": "code",
        "colab": {}
      },
      "source": [
        "param_cat = {\n",
        "    'iterations':100,\n",
        "    'learning_rate':0.01,\n",
        "    'depth':5,\n",
        "    #l2_leaf_reg=5,\n",
        "    'loss_function':'RMSE',\n",
        "    'eval_metric':'RMSE',    \n",
        "    'od_type':'Iter',\n",
        "    'metric_period': 50,\n",
        "    'od_wait':20,\n",
        "    'verbose': 100,}   \n",
        "    #'task_type':\"GPU\"}"
      ],
      "execution_count": 0,
      "outputs": []
    },
    {
      "cell_type": "code",
      "metadata": {
        "id": "DCwh6ojSK6mg",
        "colab_type": "code",
        "colab": {}
      },
      "source": [
        "idx_cat = np.where(train.drop(['meter_reading'], axis = 'columns').dtypes == 'category')[0]\n",
        "idx_cat = np.insert(idx_cat, 0, 0) # add building id\n",
        "model6 = catboost.CatBoostRegressor(**param_cat, random_state=13,cat_features=idx_cat)\n",
        "cat_pred = cluster_id(train, X_test, 'building_id', model6, 3, skip = True)"
      ],
      "execution_count": 0,
      "outputs": []
    },
    {
      "cell_type": "code",
      "metadata": {
        "id": "pBDcKNDXK6jQ",
        "colab_type": "code",
        "outputId": "fc96970c-c61a-4ac8-c227-8ef3cc13f118",
        "colab": {
          "base_uri": "https://localhost:8080/",
          "height": 34
        }
      },
      "source": [
        "cost(np.log1p(y_test), cat_pred)"
      ],
      "execution_count": 0,
      "outputs": [
        {
          "output_type": "execute_result",
          "data": {
            "text/plain": [
              "1.0069551280832567"
            ]
          },
          "metadata": {
            "tags": []
          },
          "execution_count": 28
        }
      ]
    },
    {
      "cell_type": "code",
      "metadata": {
        "id": "AtubWHBQK6gs",
        "colab_type": "code",
        "outputId": "0f7f0323-ef6a-4557-d5bb-ddc8f428595b",
        "colab": {
          "base_uri": "https://localhost:8080/",
          "height": 34
        }
      },
      "source": [
        "pred = cat_pred*0.75 + lgbm_pred*0.15 + pred_model1 *0.15\n",
        "cost(np.log1p(y_test), pred)"
      ],
      "execution_count": 0,
      "outputs": [
        {
          "output_type": "execute_result",
          "data": {
            "text/plain": [
              "0.9173532897078043"
            ]
          },
          "metadata": {
            "tags": []
          },
          "execution_count": 36
        }
      ]
    },
    {
      "cell_type": "markdown",
      "metadata": {
        "id": "Q8-C9_Se-J9F",
        "colab_type": "text"
      },
      "source": [
        "### Hyper"
      ]
    },
    {
      "cell_type": "code",
      "metadata": {
        "id": "T911oOLxTloj",
        "colab_type": "code",
        "colab": {}
      },
      "source": [
        "from hyperopt import hp, fmin, tpe, STATUS_OK, Trials"
      ],
      "execution_count": 0,
      "outputs": []
    },
    {
      "cell_type": "code",
      "metadata": {
        "id": "8fsnHJQaLcHn",
        "colab_type": "code",
        "colab": {}
      },
      "source": [
        "def rand_sample(f = 0.25):\n",
        "  #вернет выборку рандомную, f - коеф. размера выборки\n",
        "  np.random.seed(0)\n",
        "  idx = np.argsort(train.timestamp.values, kind='stable')\n",
        "  sample_idx = np.random.choice(idx, int(len(idx) * f), replace=False)  \n",
        "  return sample_idx\n",
        "\n",
        "sample_train = train.iloc[rand_sample(f = 0.25)] #4584686 rows × 45 columns\n",
        "\n",
        "X = sample_train.drop('meter_reading', axis = 1)\n",
        "y = sample_train.meter_reading\n",
        "\n",
        "idx_cat = np.where(train.drop(['meter_reading'], axis = 'columns').dtypes == 'category')[0]\n",
        "idx_cat = np.insert(idx_cat, 0, 0) # add building id\n",
        "\n",
        "del train\n",
        "gc.collect()\n",
        "X_train, X_test, y_train, y_test = train_test_split(X, y, test_size=0.3, random_state=13)\n",
        "\n",
        "train_pool = Pool(\n",
        "    data=X_train, \n",
        "    label=np.log1p(y_train), \n",
        "    cat_features=idx_cat\n",
        ")\n",
        "\n",
        "validation_pool = Pool(\n",
        "    data=X_test, \n",
        "    label=np.log1p(y_test), \n",
        "    cat_features=idx_cat\n",
        ")"
      ],
      "execution_count": 0,
      "outputs": []
    },
    {
      "cell_type": "code",
      "metadata": {
        "id": "nzo__rJo-Xbz",
        "colab_type": "code",
        "colab": {}
      },
      "source": [
        "from catboost import CatBoostRegressor\n",
        "\n",
        "model = CatBoostRegressor(\n",
        "    iterations=100,\n",
        "    learning_rate=0.01,\n",
        "    depth=5,\n",
        "    #l2_leaf_reg=5,\n",
        "    loss_function='RMSE',\n",
        "    eval_metric='RMSE',\n",
        "    random_seed = 55,\n",
        "    od_type='Iter',\n",
        "    metric_period = 50,\n",
        "    od_wait=20,\n",
        "    verbose = 100,   \n",
        "    task_type=\"GPU\")\n",
        "\n",
        "#model.fit(train_pool, eval_set=validation_pool,verbose= True)\n"
      ],
      "execution_count": 0,
      "outputs": []
    },
    {
      "cell_type": "code",
      "metadata": {
        "id": "2USmaNKYKcW3",
        "colab_type": "code",
        "outputId": "535ece95-528e-4f40-a6dc-cdbaf48c08ff",
        "colab": {
          "base_uri": "https://localhost:8080/",
          "height": 67
        }
      },
      "source": [
        "cv_data = cv(train_pool,\n",
        "             model.get_params())"
      ],
      "execution_count": 0,
      "outputs": [
        {
          "output_type": "stream",
          "text": [
            "Warning: Overfitting detector is active, thus evaluation metric is calculated on every iteration. 'metric_period' is ignored for evaluation metric.\n"
          ],
          "name": "stderr"
        },
        {
          "output_type": "stream",
          "text": [
            "0:\tlearn: 4660.1876836\ttest: 4659.8429835\tbest: 4659.8429835 (0)\n",
            "99:\tlearn: 4366.8293143\ttest: 4365.7997957\tbest: 4365.7997957 (99)\ttotal: 1m 33s\tremaining: 0us\n"
          ],
          "name": "stdout"
        }
      ]
    },
    {
      "cell_type": "code",
      "metadata": {
        "id": "_LKy7JYyNA_k",
        "colab_type": "code",
        "outputId": "f680d792-779b-417c-f9d9-60d9e0ad2a21",
        "colab": {
          "base_uri": "https://localhost:8080/",
          "height": 34
        }
      },
      "source": [
        "cv_data['test-RMSE-mean'].values[-1]"
      ],
      "execution_count": 0,
      "outputs": [
        {
          "output_type": "execute_result",
          "data": {
            "text/plain": [
              "4365.799795691118"
            ]
          },
          "metadata": {
            "tags": []
          },
          "execution_count": 27
        }
      ]
    },
    {
      "cell_type": "code",
      "metadata": {
        "id": "ByUYgrBnKD5M",
        "colab_type": "code",
        "colab": {}
      },
      "source": [
        "def fin_param_cat(num = 100, num_loop = 50):\n",
        "\n",
        "  def hyperopt_objective(params):\n",
        "      model = CatBoostRegressor(\n",
        "          l2_leaf_reg=int(params['l2_leaf_reg']),\n",
        "          learning_rate=params['learning_rate'],\n",
        "          depth = params['depth'],\n",
        "          random_strength = params['random_strength'],\n",
        "          border_count = params['border_count'],\n",
        "          grow_policy = params['grow_policy'],\n",
        "          iterations=num,\n",
        "          eval_metric='RMSE',\n",
        "          random_seed=13,\n",
        "          verbose=25,\n",
        "          task_type = 'GPU',\n",
        "          od_type = 'Iter',    \n",
        "          od_wait = 20 \n",
        "          )\n",
        "      \n",
        "      if params['grow_policy'] != 'SymmetricTree':\n",
        "        params['min_data_in_leaf'] = int(params['min_data_in_leaf'])\n",
        "\n",
        "      if params['grow_policy'] == 'Lossguide':\n",
        "        params['max_leaves'] = int(params['max_leaves'])\n",
        "\n",
        "      print(params, params['grow_policy'])\n",
        "\n",
        "      cv_data = cv(\n",
        "          train_pool,\n",
        "          model.get_params()\n",
        "      )\n",
        "      score = cv_data['test-RMSE-mean'].values[-1]\n",
        "      \n",
        "      print(f'Scores: {score}')\n",
        "      return {'loss': score, 'status':STATUS_OK}\n",
        "\n",
        "  space = {\n",
        "      'l2_leaf_reg': hp.qloguniform('l2_leaf_reg', 0, 5, 1),\n",
        "      'learning_rate': hp.uniform('learning_rate', 1e-5, 5e-1),\n",
        "      'depth': hp.quniform('max_depth', 3, 16, 1), \n",
        "      'random_strength': hp.quniform('random_strength', 1, 10, 1), \n",
        "      'border_count': hp.quniform('border_count', 1, 255, 1),\n",
        "      'grow_policy': hp.choice('grow_policy', ['SymmetricTree', 'Depthwise', 'Lossguide']),\n",
        "      'min_data_in_leaf': hp.quniform('min_data_in_leaf', 20, 100, 5),\n",
        "      'max_leaves':hp.quniform('max_leaves', 1, 64, 1)\n",
        "      }\n",
        "\n",
        "  #bagging_temperature':, bootstrap type is Bayesian.\n",
        "\n",
        "  trials = Trials()\n",
        "\n",
        "  best = fmin(\n",
        "      hyperopt_objective,\n",
        "      space=space,\n",
        "      algo=tpe.suggest,\n",
        "      max_evals=num_loop,\n",
        "      trials=trials\n",
        "      )\n",
        "\n",
        "\n",
        "  print(best)"
      ],
      "execution_count": 0,
      "outputs": []
    },
    {
      "cell_type": "code",
      "metadata": {
        "id": "3ONhPRNoKgqy",
        "colab_type": "code",
        "outputId": "90b3ec2b-65d1-4435-ca8b-d4cde3b57e90",
        "colab": {
          "base_uri": "https://localhost:8080/",
          "height": 1000
        }
      },
      "source": [
        "%%time\n",
        "#sample\n",
        "fin_param_cat(num = 1000, num_loop = 100)"
      ],
      "execution_count": 0,
      "outputs": [
        {
          "output_type": "stream",
          "text": [
            "{'border_count': 233.0, 'depth': 14.0, 'grow_policy': 'Lossguide', 'l2_leaf_reg': 30.0, 'learning_rate': 0.13087812551661304, 'max_leaves': 40, 'min_data_in_leaf': 75, 'random_strength': 5.0}\n",
            "Lossguide\n",
            "0:\tlearn: 4.2882571\ttest: 4.2878714\tbest: 4.2878714 (0)\n",
            "\n",
            "25:\tlearn: 0.9001967\ttest: 0.8959635\tbest: 0.8959635 (25)\n",
            "\n",
            "50:\tlearn: 0.8143842\ttest: 0.8098745\tbest: 0.8098745 (50)\n",
            "\n",
            "75:\tlearn: 0.7746332\ttest: 0.7701399\tbest: 0.7701399 (75)\n",
            "\n",
            "100:\tlearn: 0.7451061\ttest: 0.7405193\tbest: 0.7405193 (100)\n",
            "\n",
            "125:\tlearn: 0.7215315\ttest: 0.7168475\tbest: 0.7168475 (125)\n",
            "\n",
            "150:\tlearn: 0.7023420\ttest: 0.6977985\tbest: 0.6977985 (150)\n",
            "\n",
            "175:\tlearn: 0.6862682\ttest: 0.6819007\tbest: 0.6819007 (175)\n",
            "\n",
            "200:\tlearn: 0.6735224\ttest: 0.6693046\tbest: 0.6693046 (200)\n",
            "\n",
            "225:\tlearn: 0.6621575\ttest: 0.6579289\tbest: 0.6579289 (225)\n",
            "\n",
            "250:\tlearn: 0.6518378\ttest: 0.6475433\tbest: 0.6475433 (250)\n",
            "\n",
            "275:\tlearn: 0.6426789\ttest: 0.6385119\tbest: 0.6385119 (275)\n",
            "\n",
            "300:\tlearn: 0.6339948\ttest: 0.6299381\tbest: 0.6299381 (300)\n",
            "\n",
            "325:\tlearn: 0.6256164\ttest: 0.6216596\tbest: 0.6216596 (325)\n",
            "\n",
            "350:\tlearn: 0.6193122\ttest: 0.6155646\tbest: 0.6155646 (350)\n",
            "\n",
            "375:\tlearn: 0.6138531\ttest: 0.6102207\tbest: 0.6102207 (375)\n",
            "\n",
            "400:\tlearn: 0.6075225\ttest: 0.6040440\tbest: 0.6040440 (400)\n",
            "\n",
            "425:\tlearn: 0.6021563\ttest: 0.5988525\tbest: 0.5988525 (425)\n",
            "\n",
            "450:\tlearn: 0.5969842\ttest: 0.5938078\tbest: 0.5938078 (450)\n",
            "\n",
            "475:\tlearn: 0.5920008\ttest: 0.5889861\tbest: 0.5889861 (475)\n",
            "\n",
            "500:\tlearn: 0.5874007\ttest: 0.5844442\tbest: 0.5844442 (500)\n",
            "\n",
            "525:\tlearn: 0.5828287\ttest: 0.5800688\tbest: 0.5800688 (525)\n",
            "\n",
            "550:\tlearn: 0.5790107\ttest: 0.5764416\tbest: 0.5764416 (550)\n",
            "\n",
            "575:\tlearn: 0.5756427\ttest: 0.5732530\tbest: 0.5732530 (575)\n",
            "\n",
            "600:\tlearn: 0.5721846\ttest: 0.5699559\tbest: 0.5699559 (600)\n",
            "\n",
            "625:\tlearn: 0.5690083\ttest: 0.5669185\tbest: 0.5669185 (625)\n",
            "\n",
            "650:\tlearn: 0.5662236\ttest: 0.5642629\tbest: 0.5642629 (650)\n",
            "\n",
            "675:\tlearn: 0.5633379\ttest: 0.5615576\tbest: 0.5615576 (675)\n",
            "\n",
            "700:\tlearn: 0.5607168\ttest: 0.5590648\tbest: 0.5590648 (700)\n",
            "\n",
            "725:\tlearn: 0.5579214\ttest: 0.5564034\tbest: 0.5564034 (725)\n",
            "\n",
            "750:\tlearn: 0.5552003\ttest: 0.5538476\tbest: 0.5538476 (750)\n",
            "\n",
            "775:\tlearn: 0.5523691\ttest: 0.5511879\tbest: 0.5511879 (775)\n",
            "\n",
            "800:\tlearn: 0.5502327\ttest: 0.5492524\tbest: 0.5492524 (800)\n",
            "\n",
            "825:\tlearn: 0.5481774\ttest: 0.5473428\tbest: 0.5473428 (825)\n",
            "\n",
            "850:\tlearn: 0.5459703\ttest: 0.5453665\tbest: 0.5453665 (850)\n",
            "\n",
            "875:\tlearn: 0.5440782\ttest: 0.5436387\tbest: 0.5436387 (875)\n",
            "\n",
            "900:\tlearn: 0.5422668\ttest: 0.5420208\tbest: 0.5420208 (900)\n",
            "\n",
            "925:\tlearn: 0.5399824\ttest: 0.5398660\tbest: 0.5398660 (925)\n",
            "\n",
            "950:\tlearn: 0.5380372\ttest: 0.5380606\tbest: 0.5380606 (950)\n",
            "\n",
            "975:\tlearn: 0.5359709\ttest: 0.5361193\tbest: 0.5361193 (975)\n",
            "\n",
            "999:\tlearn: 0.5343008\ttest: 0.5346082\tbest: 0.5346082 (999)\ttotal: 1m 29s\tremaining: 0us\n",
            "\n",
            "Scores: 0.5346082168040831\n",
            "{'border_count': 126.0, 'depth': 7.0, 'grow_policy': 'SymmetricTree', 'l2_leaf_reg': 4.0, 'learning_rate': 0.21151770339203246, 'max_leaves': 58.0, 'min_data_in_leaf': 35.0, 'random_strength': 9.0}\n",
            "SymmetricTree\n",
            "0:\tlearn: 3.9186745\ttest: 3.9199522\tbest: 3.9199522 (0)\n",
            "\n",
            "25:\tlearn: 0.8192186\ttest: 0.8138509\tbest: 0.8138509 (25)\n",
            "\n",
            "50:\tlearn: 0.7567283\ttest: 0.7507871\tbest: 0.7507871 (50)\n",
            "\n",
            "75:\tlearn: 0.7242124\ttest: 0.7181755\tbest: 0.7181755 (75)\n",
            "\n",
            "100:\tlearn: 0.6977818\ttest: 0.6916688\tbest: 0.6916688 (100)\n",
            "\n",
            "125:\tlearn: 0.6788803\ttest: 0.6726363\tbest: 0.6726363 (125)\n",
            "\n",
            "150:\tlearn: 0.6656699\ttest: 0.6593734\tbest: 0.6593734 (150)\n",
            "\n",
            "175:\tlearn: 0.6553561\ttest: 0.6490949\tbest: 0.6490949 (175)\n",
            "\n",
            "200:\tlearn: 0.6464110\ttest: 0.6400514\tbest: 0.6400514 (200)\n",
            "\n",
            "225:\tlearn: 0.6387018\ttest: 0.6324248\tbest: 0.6324248 (225)\n",
            "\n",
            "250:\tlearn: 0.6332385\ttest: 0.6269945\tbest: 0.6269945 (250)\n",
            "\n",
            "275:\tlearn: 0.6270908\ttest: 0.6209115\tbest: 0.6209115 (275)\n",
            "\n",
            "300:\tlearn: 0.6218988\ttest: 0.6158139\tbest: 0.6158139 (300)\n",
            "\n",
            "325:\tlearn: 0.6175973\ttest: 0.6115081\tbest: 0.6115081 (325)\n",
            "\n",
            "350:\tlearn: 0.6147350\ttest: 0.6086569\tbest: 0.6086569 (350)\n",
            "\n",
            "375:\tlearn: 0.6123994\ttest: 0.6063722\tbest: 0.6063722 (375)\n",
            "\n",
            "400:\tlearn: 0.6090064\ttest: 0.6030568\tbest: 0.6030568 (400)\n",
            "\n",
            "425:\tlearn: 0.6066869\ttest: 0.6007272\tbest: 0.6007272 (425)\n",
            "\n",
            "450:\tlearn: 0.6043866\ttest: 0.5985267\tbest: 0.5985267 (450)\n",
            "\n",
            "475:\tlearn: 0.6028463\ttest: 0.5969960\tbest: 0.5969960 (475)\n",
            "\n",
            "500:\tlearn: 0.6012321\ttest: 0.5954547\tbest: 0.5954547 (499)\n",
            "\n",
            "525:\tlearn: 0.5992025\ttest: 0.5934708\tbest: 0.5934708 (525)\n",
            "\n",
            "550:\tlearn: 0.5983277\ttest: 0.5926181\tbest: 0.5926181 (550)\n",
            "\n",
            "575:\tlearn: 0.5964987\ttest: 0.5908097\tbest: 0.5908097 (575)\n",
            "\n",
            "600:\tlearn: 0.5953101\ttest: 0.5896404\tbest: 0.5896404 (600)\n",
            "\n",
            "625:\tlearn: 0.5943864\ttest: 0.5887337\tbest: 0.5887337 (625)\n",
            "\n",
            "650:\tlearn: 0.5933422\ttest: 0.5877449\tbest: 0.5877449 (650)\n",
            "\n",
            "675:\tlearn: 0.5918686\ttest: 0.5863169\tbest: 0.5863169 (675)\n",
            "\n",
            "700:\tlearn: 0.5910461\ttest: 0.5855210\tbest: 0.5855210 (700)\n",
            "\n",
            "725:\tlearn: 0.5900992\ttest: 0.5846205\tbest: 0.5846205 (725)\n",
            "\n",
            "750:\tlearn: 0.5882597\ttest: 0.5828360\tbest: 0.5828360 (750)\n",
            "\n",
            "775:\tlearn: 0.5867719\ttest: 0.5813803\tbest: 0.5813803 (775)\n",
            "\n",
            "800:\tlearn: 0.5854519\ttest: 0.5800591\tbest: 0.5800590 (798)\n",
            "\n",
            "825:\tlearn: 0.5843984\ttest: 0.5790099\tbest: 0.5790099 (825)\n",
            "\n",
            "850:\tlearn: 0.5834601\ttest: 0.5780960\tbest: 0.5780959 (849)\n",
            "\n",
            "875:\tlearn: 0.5824074\ttest: 0.5770665\tbest: 0.5770665 (875)\n",
            "\n",
            "900:\tlearn: 0.5806190\ttest: 0.5752916\tbest: 0.5752916 (900)\n",
            "\n",
            "925:\tlearn: 0.5792335\ttest: 0.5739542\tbest: 0.5739542 (925)\n",
            "\n",
            "950:\tlearn: 0.5777622\ttest: 0.5724807\tbest: 0.5724807 (950)\n",
            "\n",
            "975:\tlearn: 0.5761624\ttest: 0.5709222\tbest: 0.5709222 (975)\n",
            "\n",
            "999:\tlearn: 0.5747759\ttest: 0.5695534\tbest: 0.5695534 (999)\ttotal: 9m 19s\tremaining: 0us\n",
            "\n",
            "Scores: 0.5695534485810415\n",
            "{'border_count': 250.0, 'depth': 14.0, 'grow_policy': 'SymmetricTree', 'l2_leaf_reg': 11.0, 'learning_rate': 0.49431789567010515, 'max_leaves': 42.0, 'min_data_in_leaf': 50.0, 'random_strength': 8.0}\n",
            "SymmetricTree\n",
            "0:\tlearn: 2.6291551\ttest: 2.6318642\tbest: 2.6318642 (0)\n",
            "\n",
            "25:\tlearn: 0.6839263\ttest: 0.6772796\tbest: 0.6772796 (25)\n",
            "\n",
            "50:\tlearn: 0.6403406\ttest: 0.6344873\tbest: 0.6344873 (50)\n",
            "\n",
            "75:\tlearn: 0.6271556\ttest: 0.6213030\tbest: 0.6213029 (71)\n",
            "\n",
            "100:\tlearn: 0.6166443\ttest: 0.6110723\tbest: 0.6110723 (100)\n",
            "\n",
            "125:\tlearn: 0.6131901\ttest: 0.6078210\tbest: 0.6078210 (124)\n",
            "\n",
            "150:\tlearn: 0.6023009\ttest: 0.5973507\tbest: 0.5973507 (150)\n",
            "\n",
            "175:\tlearn: 0.5975310\ttest: 0.5929790\tbest: 0.5929790 (175)\n",
            "\n",
            "200:\tlearn: 0.5926644\ttest: 0.5883394\tbest: 0.5883394 (199)\n",
            "\n",
            "225:\tlearn: 0.5878741\ttest: 0.5838744\tbest: 0.5838744 (225)\n",
            "\n",
            "250:\tlearn: 0.5804381\ttest: 0.5766832\tbest: 0.5766831 (248)\n",
            "\n",
            "275:\tlearn: 0.5759373\ttest: 0.5724546\tbest: 0.5724546 (275)\n",
            "\n",
            "300:\tlearn: 0.5680296\ttest: 0.5649448\tbest: 0.5649448 (300)\n",
            "\n",
            "325:\tlearn: 0.5639324\ttest: 0.5611046\tbest: 0.5611045 (320)\n",
            "\n",
            "350:\tlearn: 0.5620341\ttest: 0.5594140\tbest: 0.5594140 (350)\n",
            "\n",
            "375:\tlearn: 0.5573626\ttest: 0.5550671\tbest: 0.5550671 (373)\n",
            "\n",
            "400:\tlearn: 0.5530643\ttest: 0.5509281\tbest: 0.5509281 (400)\n",
            "\n",
            "425:\tlearn: 0.5455871\ttest: 0.5442757\tbest: 0.5442757 (425)\n",
            "\n",
            "450:\tlearn: 0.5437206\ttest: 0.5426300\tbest: 0.5426300 (448)\n",
            "\n",
            "475:\tlearn: 0.5420649\ttest: 0.5412012\tbest: 0.5412012 (475)\n",
            "\n",
            "500:\tlearn: 0.5403580\ttest: 0.5395912\tbest: 0.5395912 (499)\n",
            "\n",
            "525:\tlearn: 0.5391512\ttest: 0.5385041\tbest: 0.5385041 (525)\n",
            "\n",
            "550:\tlearn: 0.5346939\ttest: 0.5343631\tbest: 0.5343631 (550)\n",
            "\n",
            "575:\tlearn: 0.5325945\ttest: 0.5324810\tbest: 0.5324810 (575)\n",
            "\n",
            "600:\tlearn: 0.5315825\ttest: 0.5315576\tbest: 0.5315575 (599)\n",
            "\n",
            "625:\tlearn: 0.5285550\ttest: 0.5287762\tbest: 0.5287762 (616)\n",
            "\n",
            "650:\tlearn: 0.5267898\ttest: 0.5272001\tbest: 0.5272001 (650)\n",
            "\n",
            "675:\tlearn: 0.5245258\ttest: 0.5252734\tbest: 0.5252734 (675)\n",
            "\n",
            "700:\tlearn: 0.5226149\ttest: 0.5236898\tbest: 0.5236898 (700)\n",
            "\n",
            "725:\tlearn: 0.5214582\ttest: 0.5227086\tbest: 0.5227086 (725)\n",
            "\n",
            "750:\tlearn: 0.5195312\ttest: 0.5209839\tbest: 0.5209839 (750)\n",
            "\n",
            "775:\tlearn: 0.5172398\ttest: 0.5189985\tbest: 0.5189985 (775)\n",
            "\n",
            "800:\tlearn: 0.5168360\ttest: 0.5186862\tbest: 0.5186862 (800)\n",
            "\n",
            "825:\tlearn: 0.5165838\ttest: 0.5184512\tbest: 0.5184512 (825)\n",
            "\n",
            "850:\tlearn: 0.5158861\ttest: 0.5178280\tbest: 0.5178276 (839)\n",
            "\n",
            "875:\tlearn: 0.5150922\ttest: 0.5171232\tbest: 0.5171232 (866)\n",
            "\n",
            "900:\tlearn: 0.5132309\ttest: 0.5154478\tbest: 0.5154478 (900)\n",
            "\n",
            "925:\tlearn: 0.5117286\ttest: 0.5141363\tbest: 0.5141363 (925)\n",
            "\n",
            "950:\tlearn: 0.5095486\ttest: 0.5121939\tbest: 0.5121939 (950)\n",
            "\n",
            "975:\tlearn: 0.5087932\ttest: 0.5116384\tbest: 0.5116384 (971)\n",
            "\n",
            "999:\tlearn: 0.5086274\ttest: 0.5115033\tbest: 0.5115033 (998)\ttotal: 53m 38s\tremaining: 0us\n",
            "\n",
            "Scores: 0.5115032815086534\n",
            "{'border_count': 214.0, 'depth': 12.0, 'grow_policy': 'Lossguide', 'l2_leaf_reg': 6.0, 'learning_rate': 0.3532724920378807, 'max_leaves': 57, 'min_data_in_leaf': 90, 'random_strength': 5.0}\n",
            "Lossguide\n",
            "0:\tlearn: 3.2690844\ttest: 3.2679932\tbest: 3.2679932 (0)\n",
            "\n",
            "25:\tlearn: 0.7909842\ttest: 0.7863882\tbest: 0.7863882 (25)\n",
            "\n",
            "50:\tlearn: 0.7177843\ttest: 0.7134603\tbest: 0.7134603 (50)\n",
            "\n",
            "75:\tlearn: 0.6756687\ttest: 0.6711806\tbest: 0.6711806 (75)\n",
            "\n",
            "100:\tlearn: 0.6471161\ttest: 0.6429210\tbest: 0.6429210 (100)\n",
            "\n",
            "125:\tlearn: 0.6269462\ttest: 0.6229584\tbest: 0.6229584 (125)\n",
            "\n",
            "150:\tlearn: 0.6115280\ttest: 0.6079105\tbest: 0.6079105 (150)\n",
            "\n",
            "175:\tlearn: 0.6000151\ttest: 0.5971041\tbest: 0.5971041 (175)\n",
            "\n",
            "200:\tlearn: 0.5897452\ttest: 0.5872265\tbest: 0.5872265 (200)\n",
            "\n",
            "225:\tlearn: 0.5806804\ttest: 0.5784918\tbest: 0.5784918 (225)\n",
            "\n",
            "250:\tlearn: 0.5725864\ttest: 0.5708869\tbest: 0.5708869 (250)\n",
            "\n",
            "275:\tlearn: 0.5661724\ttest: 0.5651560\tbest: 0.5651560 (275)\n",
            "\n",
            "300:\tlearn: 0.5586810\ttest: 0.5580056\tbest: 0.5580056 (300)\n",
            "\n",
            "325:\tlearn: 0.5526972\ttest: 0.5524552\tbest: 0.5524552 (325)\n",
            "\n",
            "350:\tlearn: 0.5474230\ttest: 0.5476810\tbest: 0.5476810 (350)\n",
            "\n",
            "375:\tlearn: 0.5430294\ttest: 0.5438594\tbest: 0.5438594 (375)\n",
            "\n",
            "400:\tlearn: 0.5391007\ttest: 0.5404401\tbest: 0.5404401 (400)\n",
            "\n",
            "425:\tlearn: 0.5349212\ttest: 0.5368329\tbest: 0.5368329 (425)\n",
            "\n",
            "450:\tlearn: 0.5312735\ttest: 0.5337702\tbest: 0.5337702 (450)\n",
            "\n",
            "475:\tlearn: 0.5282653\ttest: 0.5313594\tbest: 0.5313594 (475)\n",
            "\n",
            "500:\tlearn: 0.5246094\ttest: 0.5281617\tbest: 0.5281617 (500)\n",
            "\n",
            "525:\tlearn: 0.5212876\ttest: 0.5253446\tbest: 0.5253446 (525)\n",
            "\n",
            "550:\tlearn: 0.5180660\ttest: 0.5226904\tbest: 0.5226904 (550)\n",
            "\n",
            "575:\tlearn: 0.5155725\ttest: 0.5206989\tbest: 0.5206989 (575)\n",
            "\n",
            "600:\tlearn: 0.5124564\ttest: 0.5182056\tbest: 0.5182056 (600)\n",
            "\n",
            "625:\tlearn: 0.5100388\ttest: 0.5163492\tbest: 0.5163492 (625)\n",
            "\n",
            "650:\tlearn: 0.5075402\ttest: 0.5143908\tbest: 0.5143908 (650)\n",
            "\n",
            "675:\tlearn: 0.5052690\ttest: 0.5126686\tbest: 0.5126686 (675)\n",
            "\n",
            "700:\tlearn: 0.5028073\ttest: 0.5107544\tbest: 0.5107544 (700)\n",
            "\n",
            "725:\tlearn: 0.5007965\ttest: 0.5092370\tbest: 0.5092370 (725)\n",
            "\n",
            "750:\tlearn: 0.4986520\ttest: 0.5076108\tbest: 0.5076108 (750)\n",
            "\n",
            "775:\tlearn: 0.4965296\ttest: 0.5059895\tbest: 0.5059895 (775)\n",
            "\n",
            "800:\tlearn: 0.4945181\ttest: 0.5044573\tbest: 0.5044573 (800)\n",
            "\n",
            "825:\tlearn: 0.4928158\ttest: 0.5031789\tbest: 0.5031789 (825)\n",
            "\n",
            "850:\tlearn: 0.4910191\ttest: 0.5018873\tbest: 0.5018873 (850)\n",
            "\n",
            "875:\tlearn: 0.4890999\ttest: 0.5004640\tbest: 0.5004640 (875)\n",
            "\n",
            "900:\tlearn: 0.4875540\ttest: 0.4993840\tbest: 0.4993840 (900)\n",
            "\n",
            "925:\tlearn: 0.4857792\ttest: 0.4981544\tbest: 0.4981544 (925)\n",
            "\n",
            "950:\tlearn: 0.4839968\ttest: 0.4968744\tbest: 0.4968744 (950)\n",
            "\n",
            "975:\tlearn: 0.4824122\ttest: 0.4957938\tbest: 0.4957938 (975)\n",
            "\n",
            "999:\tlearn: 0.4810208\ttest: 0.4948417\tbest: 0.4948417 (999)\ttotal: 1m 21s\tremaining: 0us\n",
            "\n",
            "Scores: 0.49484165067933344\n",
            "{'border_count': 190.0, 'depth': 9.0, 'grow_policy': 'Lossguide', 'l2_leaf_reg': 59.0, 'learning_rate': 0.46270546073955326, 'max_leaves': 43, 'min_data_in_leaf': 25, 'random_strength': 3.0}\n",
            "Lossguide\n",
            "0:\tlearn: 2.7797281\ttest: 2.7782796\tbest: 2.7782796 (0)\n",
            "\n",
            "25:\tlearn: 0.7770169\ttest: 0.7719607\tbest: 0.7719607 (25)\n",
            "\n",
            "50:\tlearn: 0.7071019\ttest: 0.7020404\tbest: 0.7020404 (50)\n",
            "\n",
            "75:\tlearn: 0.6669374\ttest: 0.6622244\tbest: 0.6622244 (75)\n",
            "\n",
            "100:\tlearn: 0.6403498\ttest: 0.6361533\tbest: 0.6361533 (100)\n",
            "\n",
            "125:\tlearn: 0.6211060\ttest: 0.6169835\tbest: 0.6169835 (125)\n",
            "\n",
            "150:\tlearn: 0.6053929\ttest: 0.6014851\tbest: 0.6014851 (150)\n",
            "\n",
            "175:\tlearn: 0.5935618\ttest: 0.5899793\tbest: 0.5899793 (175)\n",
            "\n",
            "200:\tlearn: 0.5833749\ttest: 0.5800733\tbest: 0.5800733 (200)\n",
            "\n",
            "225:\tlearn: 0.5758740\ttest: 0.5730590\tbest: 0.5730590 (225)\n",
            "\n",
            "250:\tlearn: 0.5683259\ttest: 0.5658552\tbest: 0.5658552 (250)\n",
            "\n",
            "275:\tlearn: 0.5609140\ttest: 0.5588719\tbest: 0.5588719 (275)\n",
            "\n",
            "300:\tlearn: 0.5548603\ttest: 0.5533279\tbest: 0.5533279 (300)\n",
            "\n",
            "325:\tlearn: 0.5497049\ttest: 0.5487667\tbest: 0.5487667 (325)\n",
            "\n",
            "350:\tlearn: 0.5450414\ttest: 0.5445189\tbest: 0.5445189 (350)\n",
            "\n",
            "375:\tlearn: 0.5406880\ttest: 0.5405269\tbest: 0.5405269 (375)\n",
            "\n",
            "400:\tlearn: 0.5361204\ttest: 0.5364631\tbest: 0.5364631 (400)\n",
            "\n",
            "425:\tlearn: 0.5327084\ttest: 0.5335326\tbest: 0.5335326 (425)\n",
            "\n",
            "450:\tlearn: 0.5292895\ttest: 0.5305961\tbest: 0.5305961 (450)\n",
            "\n",
            "475:\tlearn: 0.5259763\ttest: 0.5277797\tbest: 0.5277797 (475)\n",
            "\n",
            "500:\tlearn: 0.5230326\ttest: 0.5252460\tbest: 0.5252460 (500)\n",
            "\n",
            "525:\tlearn: 0.5202960\ttest: 0.5229983\tbest: 0.5229983 (525)\n",
            "\n",
            "550:\tlearn: 0.5177931\ttest: 0.5209360\tbest: 0.5209360 (550)\n",
            "\n",
            "575:\tlearn: 0.5148928\ttest: 0.5186685\tbest: 0.5186685 (575)\n",
            "\n",
            "600:\tlearn: 0.5126661\ttest: 0.5168961\tbest: 0.5168961 (600)\n",
            "\n",
            "625:\tlearn: 0.5101553\ttest: 0.5148893\tbest: 0.5148893 (625)\n",
            "\n",
            "650:\tlearn: 0.5078305\ttest: 0.5129978\tbest: 0.5129978 (650)\n",
            "\n",
            "675:\tlearn: 0.5059948\ttest: 0.5115551\tbest: 0.5115551 (675)\n",
            "\n",
            "700:\tlearn: 0.5038830\ttest: 0.5098473\tbest: 0.5098473 (700)\n",
            "\n",
            "725:\tlearn: 0.5020144\ttest: 0.5084011\tbest: 0.5084011 (725)\n",
            "\n",
            "750:\tlearn: 0.5002595\ttest: 0.5071199\tbest: 0.5071199 (750)\n",
            "\n",
            "775:\tlearn: 0.4982961\ttest: 0.5055771\tbest: 0.5055771 (775)\n",
            "\n",
            "800:\tlearn: 0.4965712\ttest: 0.5043151\tbest: 0.5043151 (800)\n",
            "\n",
            "825:\tlearn: 0.4950423\ttest: 0.5031913\tbest: 0.5031913 (825)\n",
            "\n",
            "850:\tlearn: 0.4931328\ttest: 0.5017363\tbest: 0.5017363 (850)\n",
            "\n",
            "875:\tlearn: 0.4916675\ttest: 0.5007039\tbest: 0.5007039 (875)\n",
            "\n",
            "900:\tlearn: 0.4903083\ttest: 0.4997326\tbest: 0.4997326 (900)\n",
            "\n",
            "925:\tlearn: 0.4887455\ttest: 0.4985335\tbest: 0.4985335 (925)\n",
            "\n",
            "950:\tlearn: 0.4873870\ttest: 0.4976386\tbest: 0.4976386 (950)\n",
            "\n",
            "975:\tlearn: 0.4858647\ttest: 0.4964975\tbest: 0.4964975 (975)\n",
            "\n",
            "999:\tlearn: 0.4845167\ttest: 0.4955809\tbest: 0.4955809 (999)\ttotal: 1m 24s\tremaining: 0us\n",
            "\n",
            "Scores: 0.4955809461013269\n",
            "{'border_count': 81.0, 'depth': 11.0, 'grow_policy': 'Depthwise', 'l2_leaf_reg': 2.0, 'learning_rate': 0.25709489402904706, 'max_leaves': 2.0, 'min_data_in_leaf': 100, 'random_strength': 2.0}\n",
            "Depthwise\n",
            "0:\tlearn: 3.6722495\ttest: 3.6711191\tbest: 3.6711191 (0)\n",
            "\n",
            "25:\tlearn: 0.5312813\ttest: 0.5360484\tbest: 0.5360484 (25)\n",
            "\n",
            "50:\tlearn: 0.4908395\ttest: 0.5052841\tbest: 0.5052841 (50)\n",
            "\n",
            "75:\tlearn: 0.4647629\ttest: 0.4883670\tbest: 0.4883670 (75)\n",
            "\n",
            "100:\tlearn: 0.4454607\ttest: 0.4774415\tbest: 0.4774415 (100)\n",
            "\n",
            "125:\tlearn: 0.4291026\ttest: 0.4695028\tbest: 0.4695028 (125)\n",
            "\n",
            "150:\tlearn: 0.4144288\ttest: 0.4631407\tbest: 0.4631407 (150)\n",
            "\n",
            "175:\tlearn: 0.4014016\ttest: 0.4581418\tbest: 0.4581418 (175)\n",
            "\n",
            "200:\tlearn: 0.3908938\ttest: 0.4547241\tbest: 0.4547241 (200)\n",
            "\n",
            "225:\tlearn: 0.3805928\ttest: 0.4516353\tbest: 0.4516353 (225)\n",
            "\n",
            "250:\tlearn: 0.3712933\ttest: 0.4488731\tbest: 0.4488731 (250)\n",
            "\n",
            "275:\tlearn: 0.3629198\ttest: 0.4466865\tbest: 0.4466865 (275)\n",
            "\n",
            "300:\tlearn: 0.3543429\ttest: 0.4445737\tbest: 0.4445737 (300)\n",
            "\n",
            "325:\tlearn: 0.3470617\ttest: 0.4429162\tbest: 0.4429162 (325)\n",
            "\n",
            "350:\tlearn: 0.3402821\ttest: 0.4416354\tbest: 0.4416354 (350)\n",
            "\n",
            "375:\tlearn: 0.3333111\ttest: 0.4401268\tbest: 0.4401268 (375)\n",
            "\n",
            "400:\tlearn: 0.3269972\ttest: 0.4389916\tbest: 0.4389916 (400)\n",
            "\n",
            "425:\tlearn: 0.3208852\ttest: 0.4380411\tbest: 0.4380411 (425)\n",
            "\n",
            "450:\tlearn: 0.3151700\ttest: 0.4371330\tbest: 0.4371330 (450)\n",
            "\n",
            "475:\tlearn: 0.3097247\ttest: 0.4363569\tbest: 0.4363569 (475)\n",
            "\n",
            "500:\tlearn: 0.3043929\ttest: 0.4355871\tbest: 0.4355871 (500)\n",
            "\n",
            "525:\tlearn: 0.2994306\ttest: 0.4348644\tbest: 0.4348644 (525)\n",
            "\n",
            "550:\tlearn: 0.2946011\ttest: 0.4342032\tbest: 0.4342032 (550)\n",
            "\n",
            "575:\tlearn: 0.2900939\ttest: 0.4336924\tbest: 0.4336924 (575)\n",
            "\n",
            "600:\tlearn: 0.2855629\ttest: 0.4331128\tbest: 0.4331128 (600)\n",
            "\n",
            "625:\tlearn: 0.2811851\ttest: 0.4325978\tbest: 0.4325978 (625)\n",
            "\n",
            "650:\tlearn: 0.2770487\ttest: 0.4321667\tbest: 0.4321667 (650)\n",
            "\n",
            "675:\tlearn: 0.2729189\ttest: 0.4317985\tbest: 0.4317985 (675)\n",
            "\n",
            "700:\tlearn: 0.2689702\ttest: 0.4313663\tbest: 0.4313663 (700)\n",
            "\n",
            "725:\tlearn: 0.2652395\ttest: 0.4310732\tbest: 0.4310732 (725)\n",
            "\n",
            "750:\tlearn: 0.2615383\ttest: 0.4307712\tbest: 0.4307712 (750)\n",
            "\n",
            "775:\tlearn: 0.2579955\ttest: 0.4304433\tbest: 0.4304433 (775)\n",
            "\n",
            "800:\tlearn: 0.2546608\ttest: 0.4301873\tbest: 0.4301873 (800)\n",
            "\n",
            "825:\tlearn: 0.2512581\ttest: 0.4299122\tbest: 0.4299122 (825)\n",
            "\n",
            "850:\tlearn: 0.2481283\ttest: 0.4296962\tbest: 0.4296962 (850)\n",
            "\n",
            "875:\tlearn: 0.2449602\ttest: 0.4294670\tbest: 0.4294670 (875)\n",
            "\n",
            "900:\tlearn: 0.2418310\ttest: 0.4291786\tbest: 0.4291786 (900)\n",
            "\n",
            "925:\tlearn: 0.2389209\ttest: 0.4289944\tbest: 0.4289944 (925)\n",
            "\n",
            "950:\tlearn: 0.2359488\ttest: 0.4287952\tbest: 0.4287952 (950)\n",
            "\n",
            "975:\tlearn: 0.2332719\ttest: 0.4286561\tbest: 0.4286561 (975)\n",
            "\n",
            "999:\tlearn: 0.2306945\ttest: 0.4285457\tbest: 0.4285452 (998)\ttotal: 6m 2s\tremaining: 0us\n",
            "\n",
            "Scores: 0.42854571378867257\n",
            "{'border_count': 27.0, 'depth': 7.0, 'grow_policy': 'Depthwise', 'l2_leaf_reg': 19.0, 'learning_rate': 0.21433092095048964, 'max_leaves': 60.0, 'min_data_in_leaf': 85, 'random_strength': 4.0}\n",
            "Depthwise\n",
            "0:\tlearn: 3.8952164\ttest: 3.8942915\tbest: 3.8942915 (0)\n",
            "\n",
            "25:\tlearn: 0.7621814\ttest: 0.7573300\tbest: 0.7573300 (25)\n",
            "\n",
            "50:\tlearn: 0.7039717\ttest: 0.6999021\tbest: 0.6999021 (50)\n",
            "\n",
            "75:\tlearn: 0.6700633\ttest: 0.6665172\tbest: 0.6665172 (75)\n",
            "\n",
            "100:\tlearn: 0.6435403\ttest: 0.6404854\tbest: 0.6404854 (100)\n",
            "\n",
            "125:\tlearn: 0.6246023\ttest: 0.6220816\tbest: 0.6220816 (125)\n",
            "\n",
            "150:\tlearn: 0.6099592\ttest: 0.6079540\tbest: 0.6079540 (150)\n",
            "\n",
            "175:\tlearn: 0.5975654\ttest: 0.5961051\tbest: 0.5961051 (175)\n",
            "\n",
            "200:\tlearn: 0.5870819\ttest: 0.5861234\tbest: 0.5861234 (200)\n",
            "\n",
            "225:\tlearn: 0.5778808\ttest: 0.5775069\tbest: 0.5775069 (225)\n",
            "\n",
            "250:\tlearn: 0.5710232\ttest: 0.5711413\tbest: 0.5711413 (250)\n",
            "\n",
            "275:\tlearn: 0.5641859\ttest: 0.5648640\tbest: 0.5648640 (275)\n",
            "\n",
            "300:\tlearn: 0.5580419\ttest: 0.5593040\tbest: 0.5593040 (300)\n",
            "\n",
            "325:\tlearn: 0.5527616\ttest: 0.5545466\tbest: 0.5545466 (325)\n",
            "\n",
            "350:\tlearn: 0.5478187\ttest: 0.5500704\tbest: 0.5500704 (350)\n",
            "\n",
            "375:\tlearn: 0.5433476\ttest: 0.5460804\tbest: 0.5460804 (375)\n",
            "\n",
            "400:\tlearn: 0.5391957\ttest: 0.5424811\tbest: 0.5424811 (400)\n",
            "\n",
            "425:\tlearn: 0.5357825\ttest: 0.5396028\tbest: 0.5396028 (425)\n",
            "\n",
            "450:\tlearn: 0.5321947\ttest: 0.5365625\tbest: 0.5365625 (450)\n",
            "\n",
            "475:\tlearn: 0.5290858\ttest: 0.5339393\tbest: 0.5339393 (475)\n",
            "\n",
            "500:\tlearn: 0.5257830\ttest: 0.5310481\tbest: 0.5310481 (500)\n",
            "\n",
            "525:\tlearn: 0.5229994\ttest: 0.5287222\tbest: 0.5287222 (525)\n",
            "\n",
            "550:\tlearn: 0.5200055\ttest: 0.5263253\tbest: 0.5263253 (550)\n",
            "\n",
            "575:\tlearn: 0.5175451\ttest: 0.5243938\tbest: 0.5243938 (575)\n",
            "\n",
            "600:\tlearn: 0.5150466\ttest: 0.5224320\tbest: 0.5224320 (600)\n",
            "\n",
            "625:\tlearn: 0.5127584\ttest: 0.5206258\tbest: 0.5206258 (625)\n",
            "\n",
            "650:\tlearn: 0.5106804\ttest: 0.5190129\tbest: 0.5190129 (650)\n",
            "\n",
            "675:\tlearn: 0.5086167\ttest: 0.5174202\tbest: 0.5174202 (675)\n",
            "\n",
            "700:\tlearn: 0.5066237\ttest: 0.5159418\tbest: 0.5159418 (700)\n",
            "\n",
            "725:\tlearn: 0.5047787\ttest: 0.5146410\tbest: 0.5146410 (725)\n",
            "\n",
            "750:\tlearn: 0.5030764\ttest: 0.5134583\tbest: 0.5134583 (750)\n",
            "\n",
            "775:\tlearn: 0.5012555\ttest: 0.5121066\tbest: 0.5121066 (775)\n",
            "\n",
            "800:\tlearn: 0.4996813\ttest: 0.5109950\tbest: 0.5109950 (800)\n",
            "\n",
            "825:\tlearn: 0.4980367\ttest: 0.5097879\tbest: 0.5097879 (825)\n",
            "\n",
            "850:\tlearn: 0.4963751\ttest: 0.5085940\tbest: 0.5085940 (850)\n",
            "\n",
            "875:\tlearn: 0.4947546\ttest: 0.5073956\tbest: 0.5073956 (875)\n",
            "\n",
            "900:\tlearn: 0.4934418\ttest: 0.5065252\tbest: 0.5065252 (900)\n",
            "\n",
            "925:\tlearn: 0.4919990\ttest: 0.5054806\tbest: 0.5054806 (925)\n",
            "\n",
            "950:\tlearn: 0.4906156\ttest: 0.5045560\tbest: 0.5045560 (950)\n",
            "\n",
            "975:\tlearn: 0.4893152\ttest: 0.5036803\tbest: 0.5036803 (975)\n",
            "\n",
            "999:\tlearn: 0.4880588\ttest: 0.5028393\tbest: 0.5028393 (999)\ttotal: 1m 36s\tremaining: 0us\n",
            "\n",
            "Scores: 0.5028393318556476\n",
            "{'border_count': 20.0, 'depth': 9.0, 'grow_policy': 'Lossguide', 'l2_leaf_reg': 1.0, 'learning_rate': 0.23195773854570606, 'max_leaves': 28, 'min_data_in_leaf': 35, 'random_strength': 6.0}\n",
            "Lossguide\n",
            "0:\tlearn: 3.8222008\ttest: 3.8214685\tbest: 3.8214685 (0)\n",
            "\n",
            "25:\tlearn: 0.8389304\ttest: 0.8347112\tbest: 0.8347112 (25)\n",
            "\n",
            "50:\tlearn: 0.7757223\ttest: 0.7713794\tbest: 0.7713794 (50)\n",
            "\n",
            "75:\tlearn: 0.7376569\ttest: 0.7335803\tbest: 0.7335803 (75)\n",
            "\n",
            "100:\tlearn: 0.7117796\ttest: 0.7077754\tbest: 0.7077754 (100)\n",
            "\n",
            "125:\tlearn: 0.6895266\ttest: 0.6855920\tbest: 0.6855920 (125)\n",
            "\n",
            "150:\tlearn: 0.6720202\ttest: 0.6681056\tbest: 0.6681056 (150)\n",
            "\n",
            "175:\tlearn: 0.6578211\ttest: 0.6538740\tbest: 0.6538740 (175)\n",
            "\n",
            "200:\tlearn: 0.6467430\ttest: 0.6428194\tbest: 0.6428194 (200)\n",
            "\n",
            "225:\tlearn: 0.6368119\ttest: 0.6330293\tbest: 0.6330293 (225)\n",
            "\n",
            "250:\tlearn: 0.6279494\ttest: 0.6243284\tbest: 0.6243284 (250)\n",
            "\n",
            "275:\tlearn: 0.6203731\ttest: 0.6168964\tbest: 0.6168964 (275)\n",
            "\n",
            "300:\tlearn: 0.6134407\ttest: 0.6101804\tbest: 0.6101804 (300)\n",
            "\n",
            "325:\tlearn: 0.6073873\ttest: 0.6042739\tbest: 0.6042739 (325)\n",
            "\n",
            "350:\tlearn: 0.6022762\ttest: 0.5994039\tbest: 0.5994039 (350)\n",
            "\n",
            "375:\tlearn: 0.5968373\ttest: 0.5941356\tbest: 0.5941356 (375)\n",
            "\n",
            "400:\tlearn: 0.5914953\ttest: 0.5889368\tbest: 0.5889368 (400)\n",
            "\n",
            "425:\tlearn: 0.5875852\ttest: 0.5852693\tbest: 0.5852693 (425)\n",
            "\n",
            "450:\tlearn: 0.5839131\ttest: 0.5818646\tbest: 0.5818646 (450)\n",
            "\n",
            "475:\tlearn: 0.5796743\ttest: 0.5778204\tbest: 0.5778204 (475)\n",
            "\n",
            "500:\tlearn: 0.5757608\ttest: 0.5740722\tbest: 0.5740722 (500)\n",
            "\n",
            "525:\tlearn: 0.5718059\ttest: 0.5703395\tbest: 0.5703395 (525)\n",
            "\n",
            "550:\tlearn: 0.5684020\ttest: 0.5670964\tbest: 0.5670964 (550)\n",
            "\n",
            "575:\tlearn: 0.5659053\ttest: 0.5648525\tbest: 0.5648525 (575)\n",
            "\n",
            "600:\tlearn: 0.5630882\ttest: 0.5622484\tbest: 0.5622484 (600)\n",
            "\n",
            "625:\tlearn: 0.5601635\ttest: 0.5595872\tbest: 0.5595872 (625)\n",
            "\n",
            "650:\tlearn: 0.5576998\ttest: 0.5574351\tbest: 0.5574351 (650)\n",
            "\n",
            "675:\tlearn: 0.5549087\ttest: 0.5548657\tbest: 0.5548657 (675)\n",
            "\n",
            "700:\tlearn: 0.5524477\ttest: 0.5526543\tbest: 0.5526543 (700)\n",
            "\n",
            "725:\tlearn: 0.5505680\ttest: 0.5510625\tbest: 0.5510625 (725)\n",
            "\n",
            "750:\tlearn: 0.5482997\ttest: 0.5490330\tbest: 0.5490330 (750)\n",
            "\n",
            "775:\tlearn: 0.5461635\ttest: 0.5471012\tbest: 0.5471012 (775)\n",
            "\n",
            "800:\tlearn: 0.5440450\ttest: 0.5452731\tbest: 0.5452731 (800)\n",
            "\n",
            "825:\tlearn: 0.5419175\ttest: 0.5433831\tbest: 0.5433831 (825)\n",
            "\n",
            "850:\tlearn: 0.5400008\ttest: 0.5416786\tbest: 0.5416786 (850)\n",
            "\n",
            "875:\tlearn: 0.5382802\ttest: 0.5402239\tbest: 0.5402239 (875)\n",
            "\n",
            "900:\tlearn: 0.5366944\ttest: 0.5388575\tbest: 0.5388575 (900)\n",
            "\n",
            "925:\tlearn: 0.5349567\ttest: 0.5373773\tbest: 0.5373773 (925)\n",
            "\n",
            "950:\tlearn: 0.5335072\ttest: 0.5361674\tbest: 0.5361674 (950)\n",
            "\n",
            "975:\tlearn: 0.5320617\ttest: 0.5349588\tbest: 0.5349588 (975)\n",
            "\n",
            "999:\tlearn: 0.5306228\ttest: 0.5337631\tbest: 0.5337631 (999)\ttotal: 1m 21s\tremaining: 0us\n",
            "\n",
            "Scores: 0.5337631432342124\n",
            "{'border_count': 34.0, 'depth': 10.0, 'grow_policy': 'Lossguide', 'l2_leaf_reg': 11.0, 'learning_rate': 0.29311683772164115, 'max_leaves': 56, 'min_data_in_leaf': 40, 'random_strength': 8.0}\n",
            "Lossguide\n",
            "0:\tlearn: 3.5423607\ttest: 3.5414452\tbest: 3.5414452 (0)\n",
            "\n",
            "25:\tlearn: 0.8133497\ttest: 0.8090032\tbest: 0.8090032 (25)\n",
            "\n",
            "50:\tlearn: 0.7435105\ttest: 0.7386993\tbest: 0.7386993 (50)\n",
            "\n",
            "75:\tlearn: 0.7052033\ttest: 0.7007967\tbest: 0.7007967 (75)\n",
            "\n",
            "100:\tlearn: 0.6785670\ttest: 0.6739752\tbest: 0.6739752 (100)\n",
            "\n",
            "125:\tlearn: 0.6569878\ttest: 0.6524543\tbest: 0.6524543 (125)\n",
            "\n",
            "150:\tlearn: 0.6410043\ttest: 0.6364570\tbest: 0.6364570 (150)\n",
            "\n",
            "175:\tlearn: 0.6277416\ttest: 0.6234834\tbest: 0.6234834 (175)\n",
            "\n",
            "200:\tlearn: 0.6161982\ttest: 0.6120494\tbest: 0.6120494 (200)\n",
            "\n",
            "225:\tlearn: 0.6060513\ttest: 0.6022016\tbest: 0.6022016 (225)\n",
            "\n",
            "250:\tlearn: 0.5978435\ttest: 0.5942504\tbest: 0.5942504 (250)\n",
            "\n",
            "275:\tlearn: 0.5899076\ttest: 0.5866747\tbest: 0.5866747 (275)\n",
            "\n",
            "300:\tlearn: 0.5827857\ttest: 0.5799613\tbest: 0.5799613 (300)\n",
            "\n",
            "325:\tlearn: 0.5770407\ttest: 0.5745173\tbest: 0.5745173 (325)\n",
            "\n",
            "350:\tlearn: 0.5711024\ttest: 0.5689503\tbest: 0.5689503 (350)\n",
            "\n",
            "375:\tlearn: 0.5664056\ttest: 0.5644952\tbest: 0.5644952 (375)\n",
            "\n",
            "400:\tlearn: 0.5624303\ttest: 0.5608894\tbest: 0.5608894 (400)\n",
            "\n",
            "425:\tlearn: 0.5589803\ttest: 0.5578747\tbest: 0.5578747 (425)\n",
            "\n",
            "450:\tlearn: 0.5550609\ttest: 0.5543587\tbest: 0.5543587 (450)\n",
            "\n",
            "475:\tlearn: 0.5517114\ttest: 0.5513900\tbest: 0.5513900 (475)\n",
            "\n",
            "500:\tlearn: 0.5482319\ttest: 0.5481917\tbest: 0.5481917 (500)\n",
            "\n",
            "525:\tlearn: 0.5448785\ttest: 0.5451353\tbest: 0.5451353 (525)\n",
            "\n",
            "550:\tlearn: 0.5420636\ttest: 0.5426874\tbest: 0.5426874 (550)\n",
            "\n",
            "575:\tlearn: 0.5395529\ttest: 0.5405112\tbest: 0.5405112 (575)\n",
            "\n",
            "600:\tlearn: 0.5367649\ttest: 0.5381667\tbest: 0.5381667 (600)\n",
            "\n",
            "625:\tlearn: 0.5348330\ttest: 0.5366453\tbest: 0.5366453 (625)\n",
            "\n",
            "650:\tlearn: 0.5325017\ttest: 0.5346010\tbest: 0.5346010 (650)\n",
            "\n",
            "675:\tlearn: 0.5297926\ttest: 0.5323422\tbest: 0.5323422 (675)\n",
            "\n",
            "700:\tlearn: 0.5275889\ttest: 0.5304697\tbest: 0.5304697 (700)\n",
            "\n",
            "725:\tlearn: 0.5257345\ttest: 0.5289266\tbest: 0.5289266 (725)\n",
            "\n",
            "750:\tlearn: 0.5236004\ttest: 0.5271657\tbest: 0.5271657 (750)\n",
            "\n",
            "775:\tlearn: 0.5211602\ttest: 0.5250425\tbest: 0.5250425 (775)\n",
            "\n",
            "800:\tlearn: 0.5190794\ttest: 0.5233186\tbest: 0.5233186 (800)\n",
            "\n",
            "825:\tlearn: 0.5172887\ttest: 0.5218616\tbest: 0.5218616 (825)\n",
            "\n",
            "850:\tlearn: 0.5155813\ttest: 0.5204234\tbest: 0.5204234 (850)\n",
            "\n",
            "875:\tlearn: 0.5139228\ttest: 0.5190994\tbest: 0.5190994 (875)\n",
            "\n",
            "900:\tlearn: 0.5120862\ttest: 0.5177062\tbest: 0.5177062 (900)\n",
            "\n",
            "925:\tlearn: 0.5106376\ttest: 0.5166392\tbest: 0.5166392 (925)\n",
            "\n",
            "950:\tlearn: 0.5091299\ttest: 0.5155012\tbest: 0.5155012 (950)\n",
            "\n",
            "975:\tlearn: 0.5075957\ttest: 0.5142478\tbest: 0.5142478 (975)\n",
            "\n",
            "999:\tlearn: 0.5063379\ttest: 0.5132690\tbest: 0.5132690 (999)\ttotal: 1m 21s\tremaining: 0us\n",
            "\n",
            "Scores: 0.5132689639083825\n",
            "{'border_count': 103.0, 'depth': 9.0, 'grow_policy': 'Lossguide', 'l2_leaf_reg': 26.0, 'learning_rate': 0.19094908838278013, 'max_leaves': 19, 'min_data_in_leaf': 60, 'random_strength': 6.0}\n",
            "Lossguide\n",
            "0:\tlearn: 4.0108099\ttest: 4.0102551\tbest: 4.0102551 (0)\n",
            "\n",
            "25:\tlearn: 0.8517140\ttest: 0.8473446\tbest: 0.8473446 (25)\n",
            "\n",
            "50:\tlearn: 0.7839665\ttest: 0.7795662\tbest: 0.7795662 (50)\n",
            "\n",
            "75:\tlearn: 0.7428608\ttest: 0.7384029\tbest: 0.7384029 (75)\n",
            "\n",
            "100:\tlearn: 0.7142079\ttest: 0.7098438\tbest: 0.7098438 (100)\n",
            "\n",
            "125:\tlearn: 0.6923589\ttest: 0.6881430\tbest: 0.6881430 (125)\n",
            "\n",
            "150:\tlearn: 0.6747686\ttest: 0.6706683\tbest: 0.6706683 (150)\n",
            "\n",
            "175:\tlearn: 0.6609558\ttest: 0.6569414\tbest: 0.6569414 (175)\n",
            "\n",
            "200:\tlearn: 0.6486038\ttest: 0.6446709\tbest: 0.6446709 (200)\n",
            "\n",
            "225:\tlearn: 0.6368258\ttest: 0.6328816\tbest: 0.6328816 (225)\n",
            "\n",
            "250:\tlearn: 0.6274607\ttest: 0.6234587\tbest: 0.6234587 (250)\n",
            "\n",
            "275:\tlearn: 0.6193083\ttest: 0.6155131\tbest: 0.6155131 (275)\n",
            "\n",
            "300:\tlearn: 0.6116311\ttest: 0.6080171\tbest: 0.6080171 (300)\n",
            "\n",
            "325:\tlearn: 0.6047944\ttest: 0.6013162\tbest: 0.6013162 (325)\n",
            "\n",
            "350:\tlearn: 0.5988252\ttest: 0.5954955\tbest: 0.5954955 (350)\n",
            "\n",
            "375:\tlearn: 0.5934492\ttest: 0.5903306\tbest: 0.5903306 (375)\n",
            "\n",
            "400:\tlearn: 0.5880391\ttest: 0.5850817\tbest: 0.5850817 (400)\n",
            "\n",
            "425:\tlearn: 0.5828222\ttest: 0.5800982\tbest: 0.5800982 (425)\n",
            "\n",
            "450:\tlearn: 0.5784012\ttest: 0.5758690\tbest: 0.5758690 (450)\n",
            "\n",
            "475:\tlearn: 0.5752115\ttest: 0.5728946\tbest: 0.5728946 (475)\n",
            "\n",
            "500:\tlearn: 0.5713092\ttest: 0.5691261\tbest: 0.5691261 (500)\n",
            "\n",
            "525:\tlearn: 0.5676689\ttest: 0.5657018\tbest: 0.5657018 (525)\n",
            "\n",
            "550:\tlearn: 0.5644821\ttest: 0.5626681\tbest: 0.5626681 (550)\n",
            "\n",
            "575:\tlearn: 0.5614638\ttest: 0.5597682\tbest: 0.5597682 (575)\n",
            "\n",
            "600:\tlearn: 0.5588759\ttest: 0.5573913\tbest: 0.5573913 (600)\n",
            "\n",
            "625:\tlearn: 0.5557499\ttest: 0.5544287\tbest: 0.5544287 (625)\n",
            "\n",
            "650:\tlearn: 0.5530932\ttest: 0.5519343\tbest: 0.5519343 (650)\n",
            "\n",
            "675:\tlearn: 0.5504719\ttest: 0.5495352\tbest: 0.5495352 (675)\n",
            "\n",
            "700:\tlearn: 0.5480600\ttest: 0.5473162\tbest: 0.5473162 (700)\n",
            "\n",
            "725:\tlearn: 0.5457295\ttest: 0.5452193\tbest: 0.5452193 (725)\n",
            "\n",
            "750:\tlearn: 0.5436443\ttest: 0.5433649\tbest: 0.5433649 (750)\n",
            "\n",
            "775:\tlearn: 0.5414461\ttest: 0.5413938\tbest: 0.5413938 (775)\n",
            "\n",
            "800:\tlearn: 0.5390920\ttest: 0.5392491\tbest: 0.5392491 (800)\n",
            "\n",
            "825:\tlearn: 0.5370830\ttest: 0.5374464\tbest: 0.5374464 (825)\n",
            "\n",
            "850:\tlearn: 0.5350761\ttest: 0.5356536\tbest: 0.5356536 (850)\n",
            "\n",
            "875:\tlearn: 0.5330117\ttest: 0.5337932\tbest: 0.5337932 (875)\n",
            "\n",
            "900:\tlearn: 0.5310947\ttest: 0.5320849\tbest: 0.5320849 (900)\n",
            "\n",
            "925:\tlearn: 0.5290159\ttest: 0.5302573\tbest: 0.5302573 (925)\n",
            "\n",
            "950:\tlearn: 0.5275230\ttest: 0.5290053\tbest: 0.5290053 (950)\n",
            "\n",
            "975:\tlearn: 0.5258869\ttest: 0.5275907\tbest: 0.5275907 (975)\n",
            "\n",
            "999:\tlearn: 0.5241938\ttest: 0.5260561\tbest: 0.5260561 (999)\ttotal: 1m 22s\tremaining: 0us\n",
            "\n",
            "Scores: 0.5260561086686111\n",
            "{'border_count': 155.0, 'depth': 15.0, 'grow_policy': 'Depthwise', 'l2_leaf_reg': 46.0, 'learning_rate': 0.34445775326897, 'max_leaves': 46.0, 'min_data_in_leaf': 90, 'random_strength': 4.0}\n",
            "Depthwise\n",
            "0:\tlearn: 3.2398244\ttest: 3.2393716\tbest: 3.2393716 (0)\n",
            "\n",
            "25:\tlearn: 0.3580849\ttest: 0.4535732\tbest: 0.4535732 (25)\n",
            "\n",
            "50:\tlearn: 0.2940180\ttest: 0.4420247\tbest: 0.4420247 (50)\n",
            "\n",
            "75:\tlearn: 0.2462013\ttest: 0.4385198\tbest: 0.4385198 (75)\n",
            "\n",
            "100:\tlearn: 0.2095078\ttest: 0.4371695\tbest: 0.4371695 (100)\n",
            "\n",
            "125:\tlearn: 0.1820640\ttest: 0.4364952\tbest: 0.4364952 (125)\n",
            "\n",
            "150:\tlearn: 0.1594012\ttest: 0.4364345\tbest: 0.4364063 (141)\n",
            "\n",
            "175:\tlearn: 0.1403876\ttest: 0.4364193\tbest: 0.4363822 (170)\n",
            "\n",
            "Stopped by overfitting detector  (20 iterations wait)\n",
            "\n",
            "Scores: 0.4364417298811281\n",
            "{'border_count': 131.0, 'depth': 16.0, 'grow_policy': 'SymmetricTree', 'l2_leaf_reg': 10.0, 'learning_rate': 0.4888005479854688, 'max_leaves': 58.0, 'min_data_in_leaf': 60.0, 'random_strength': 4.0}\n",
            "SymmetricTree\n",
            " 11%|█         | 11/100 [1:35:58<10:46:10, 435.62s/it, best loss: 0.42854571378867257]"
          ],
          "name": "stdout"
        }
      ]
    },
    {
      "cell_type": "code",
      "metadata": {
        "id": "4sRDza_BKhtp",
        "colab_type": "code",
        "colab": {}
      },
      "source": [
        "%%time\n",
        "#all\n",
        "\n",
        "X = train.drop('meter_reading', axis = 1)\n",
        "y = train.meter_reading\n",
        "\n",
        "idx_cat = np.where(train.drop(['meter_reading'], axis = 'columns').dtypes == 'category')[0]\n",
        "idx_cat = np.insert(idx_cat, 0, 0) # add building id\n",
        "\n",
        "del train\n",
        "gc.collect()\n",
        "X_train, X_test, y_train, y_test = train_test_split(X, y, test_size=0.3, random_state=13)\n",
        "\n",
        "train_pool = Pool(\n",
        "    data=X_train, \n",
        "    label=np.log1p(y_train), \n",
        "    cat_features=idx_cat\n",
        ")\n",
        "\n",
        "validation_pool = Pool(\n",
        "    data=X_test, \n",
        "    label=np.log1p(y_test), \n",
        "    cat_features=idx_cat\n",
        ")\n",
        "\n",
        "fin_param_cat(num = 2000, num_loop = 200)"
      ],
      "execution_count": 0,
      "outputs": []
    },
    {
      "cell_type": "code",
      "metadata": {
        "id": "RqH031FYLbPP",
        "colab_type": "code",
        "colab": {}
      },
      "source": [
        "%%time\n",
        "#test split 1/2 train 33 predict 67"
      ],
      "execution_count": 0,
      "outputs": []
    },
    {
      "cell_type": "code",
      "metadata": {
        "id": "8HEYFiL5WIen",
        "colab_type": "code",
        "colab": {}
      },
      "source": [
        "10/10\n",
        "# 100%|██████████| 10/10 [04:21<00:00, 25.96s/it, best loss: 1251.0621906352042]\n",
        "# {'border_count': 237.0, 'grow_policy': 1, 'l2_leaf_reg': 16.0, 'learning_rate': 0.3857377455824425, 'max_depth': 14.0, 'max_levels': 34.0, 'min_data_in_leaf': 75.0, 'random_strength': 6.0}"
      ],
      "execution_count": 0,
      "outputs": []
    },
    {
      "cell_type": "code",
      "metadata": {
        "id": "Tc5khCu5WOWX",
        "colab_type": "code",
        "outputId": "05f33b09-e7f0-408f-b4fa-b98f8ba6b269",
        "colab": {
          "base_uri": "https://localhost:8080/",
          "height": 235
        }
      },
      "source": [
        "param = {'border_count': 237,\n",
        "         'grow_policy': 'Lossguide',\n",
        "         'l2_leaf_reg': 16,\n",
        "         'learning_rate': 0.3857377455824425,\n",
        "         'max_depth': 14, \n",
        "         'max_leaves': 34,\n",
        "         'min_data_in_leaf': 75,         \n",
        "         'iterations':10,\n",
        "         'random_strength': 6,\n",
        "         'eval_metric': 'RMSE',\n",
        "          'random_seed':13,\n",
        "          'verbose':25,\n",
        "          'task_type': 'GPU',\n",
        "          'od_type':'Iter',    \n",
        "          'od_wait': 20 }\n",
        "\n",
        "\n",
        "model = CatBoostRegressor(**param)\n",
        "model.fit(train_pool, eval_set=validation_pool, verbose= True)\n",
        "cost(np.log1p(y_test), model.predict(validation_pool))"
      ],
      "execution_count": 0,
      "outputs": [
        {
          "output_type": "stream",
          "text": [
            "0:\tlearn: 1.3660982\ttest: 1.3641469\tbest: 1.3641469 (0)\ttotal: 41.6ms\tremaining: 374ms\n",
            "1:\tlearn: 1.1662561\ttest: 1.1635162\tbest: 1.1635162 (1)\ttotal: 82.3ms\tremaining: 329ms\n",
            "2:\tlearn: 1.0622709\ttest: 1.0590210\tbest: 1.0590210 (2)\ttotal: 122ms\tremaining: 284ms\n",
            "3:\tlearn: 1.0115332\ttest: 1.0086462\tbest: 1.0086462 (3)\ttotal: 158ms\tremaining: 237ms\n",
            "4:\tlearn: 0.9834719\ttest: 0.9804637\tbest: 0.9804637 (4)\ttotal: 196ms\tremaining: 196ms\n",
            "5:\tlearn: 0.9541355\ttest: 0.9512184\tbest: 0.9512184 (5)\ttotal: 233ms\tremaining: 156ms\n",
            "6:\tlearn: 0.9343017\ttest: 0.9311612\tbest: 0.9311612 (6)\ttotal: 270ms\tremaining: 116ms\n",
            "7:\tlearn: 0.9181914\ttest: 0.9150122\tbest: 0.9150122 (7)\ttotal: 308ms\tremaining: 77ms\n",
            "8:\tlearn: 0.8864336\ttest: 0.8831310\tbest: 0.8831310 (8)\ttotal: 345ms\tremaining: 38.4ms\n",
            "9:\tlearn: 0.8751879\ttest: 0.8720073\tbest: 0.8720073 (9)\ttotal: 380ms\tremaining: 0us\n",
            "bestTest = 0.8720073294\n",
            "bestIteration = 9\n"
          ],
          "name": "stdout"
        },
        {
          "output_type": "execute_result",
          "data": {
            "text/plain": [
              "0.8720074318900298"
            ]
          },
          "metadata": {
            "tags": []
          },
          "execution_count": 47
        }
      ]
    },
    {
      "cell_type": "code",
      "metadata": {
        "id": "67z5WVIGlMxi",
        "colab_type": "code",
        "colab": {}
      },
      "source": [
        "#100/25\n",
        "# 100%|██████████| 25/25 [41:08<00:00, 198.43s/it, best loss: 0.4331732718978858]\n",
        "# {'border_count': 111.0, 'grow_policy': 1, 'l2_leaf_reg': 126.0, 'learning_rate': 0.30065425194784257, 'max_depth': 16.0, 'max_leaves': 54.0, 'min_data_in_leaf': 90.0, 'random_strength': 10.0}"
      ],
      "execution_count": 0,
      "outputs": []
    },
    {
      "cell_type": "code",
      "metadata": {
        "id": "Gf1Q68tRK6bb",
        "colab_type": "code",
        "outputId": "3564c163-8b14-47b7-e260-b590d222b51a",
        "colab": {
          "base_uri": "https://localhost:8080/",
          "height": 235
        }
      },
      "source": [
        "param = {'border_count': 111, \n",
        "         'grow_policy': 'Depthwise',\n",
        "         'l2_leaf_reg': 126,\n",
        "         'learning_rate': 0.30065425194784257,\n",
        "         'max_depth': 16,\n",
        "         #'max_leaves': 54,\n",
        "         'min_data_in_leaf': 90,\n",
        "         'random_strength': 10,\n",
        "         'iterations':10,\n",
        "         'eval_metric': 'RMSE',\n",
        "         'random_seed':13,\n",
        "         'verbose':25,\n",
        "         'task_type': 'GPU',\n",
        "         'od_type':'Iter',    \n",
        "         'od_wait': 20 }\n",
        "\n",
        "\n",
        "model = CatBoostRegressor(**param)\n",
        "model.fit(train_pool, eval_set=validation_pool, verbose= True)\n",
        "cost(np.log1p(y_test), model.predict(validation_pool))"
      ],
      "execution_count": 0,
      "outputs": [
        {
          "output_type": "stream",
          "text": [
            "0:\tlearn: 1.2974143\ttest: 1.2964765\tbest: 1.2964765 (0)\ttotal: 710ms\tremaining: 6.39s\n",
            "1:\tlearn: 0.9829202\ttest: 0.9826463\tbest: 0.9826463 (1)\ttotal: 1.42s\tremaining: 5.68s\n",
            "2:\tlearn: 0.7766058\ttest: 0.7780297\tbest: 0.7780297 (2)\ttotal: 2.13s\tremaining: 4.96s\n",
            "3:\tlearn: 0.6472978\ttest: 0.6509941\tbest: 0.6509941 (3)\ttotal: 2.81s\tremaining: 4.22s\n",
            "4:\tlearn: 0.5674922\ttest: 0.5742277\tbest: 0.5742277 (4)\ttotal: 3.5s\tremaining: 3.5s\n",
            "5:\tlearn: 0.5189099\ttest: 0.5288440\tbest: 0.5288440 (5)\ttotal: 4.14s\tremaining: 2.76s\n",
            "6:\tlearn: 0.4890014\ttest: 0.5021229\tbest: 0.5021229 (6)\ttotal: 4.78s\tremaining: 2.05s\n",
            "7:\tlearn: 0.4698688\ttest: 0.4857828\tbest: 0.4857828 (7)\ttotal: 5.38s\tremaining: 1.34s\n",
            "8:\tlearn: 0.4572087\ttest: 0.4756696\tbest: 0.4756696 (8)\ttotal: 5.93s\tremaining: 659ms\n",
            "9:\tlearn: 0.4478044\ttest: 0.4686911\tbest: 0.4686911 (9)\ttotal: 6.45s\tremaining: 0us\n",
            "bestTest = 0.4686911279\n",
            "bestIteration = 9\n"
          ],
          "name": "stdout"
        },
        {
          "output_type": "execute_result",
          "data": {
            "text/plain": [
              "0.46869026346445714"
            ]
          },
          "metadata": {
            "tags": []
          },
          "execution_count": 55
        }
      ]
    },
    {
      "cell_type": "markdown",
      "metadata": {
        "id": "8IyZIAbqHyCZ",
        "colab_type": "text"
      },
      "source": [
        "#ends"
      ]
    },
    {
      "cell_type": "code",
      "metadata": {
        "id": "1jecNI-I_mSU",
        "colab_type": "code",
        "colab": {}
      },
      "source": [
        "model1 = Lasso(alpha = 1, random_state=13)\n",
        "pred_model1 = cluster_id(train, test, 'building_id', model1, 3, skip = True)\n",
        "\n",
        "params = {'bagging_fraction': 0.1,\n",
        "          'boosting_type': 'gbdt',\n",
        "          'feature_fraction': 0.7,\n",
        "          'learning_rate': 0.1,\n",
        "          'max_bin': 63,\n",
        "          'max_depth': -1,\n",
        "          'min_data_in_leaf': 20,\n",
        "          'min_gain_to_split': 0.1,\n",
        "          'n_estimators': 1000,\n",
        "          'num_leaves': 120}\n",
        "\n",
        "# params = {'bagging_fraction': 0.1, \n",
        "#           'boosting_type': 'dart',\n",
        "#           'feature_fraction': 0.7,\n",
        "#           'learning_rate': 0.1,\n",
        "#           'max_bin': 63,\n",
        "#           'max_depth': -1,\n",
        "#           'min_data_in_leaf': 12,\n",
        "#           'min_gain_to_split': 0.1,\n",
        "#           'n_estimators': 1000,\n",
        "#           'num_leaves': 120}\n",
        "\n",
        "\n",
        "model4 = LGBMRegressor(params, random_state=13)\n",
        "lgbm_pred = cluster_id(train, test, 'building_id', model4, 3, skip = True)\n",
        "\n",
        "#knn\n",
        "# param_knn = {'algorithm': 'ball_tree',\n",
        "#              'n_neighbors': 15,\n",
        "#              'p': 1, \n",
        "#              'weights': 'distance'}\n",
        "# model5 = KNeighborsRegressor(param_knn)\n",
        "# knn_pred = cluster_id(train, test, 'building_id', model5, 3, skip = True)\n",
        "\n",
        "param_cat = {\n",
        "    'iterations':1000,\n",
        "    'learning_rate':0.01,\n",
        "    'depth':5,\n",
        "    #l2_leaf_reg=5,\n",
        "    'loss_function':'RMSE',\n",
        "    'eval_metric':'RMSE',\n",
        "    'random_seed': 55,\n",
        "    'od_type':'Iter',\n",
        "    'metric_period': 50,\n",
        "    'od_wait':20,\n",
        "    'verbose': 100,   \n",
        "    'task_type':\"GPU\"}\n",
        "\n",
        "# param_cat = {\n",
        "#     'iterations':2000,\n",
        "#     'learning_rate':0.01,\n",
        "#     'depth':2,\n",
        "#     #l2_leaf_reg=5,\n",
        "#     'loss_function':'RMSE',\n",
        "#     'eval_metric':'RMSE',\n",
        "#     'random_seed': 55,\n",
        "#     'od_type':'Iter',\n",
        "#     'metric_period': 50,\n",
        "#     'od_wait':20,\n",
        "#     'verbose': 100,   \n",
        "#     'task_type':\"GPU\"}\n",
        "\n",
        "idx_cat = np.where(train.drop(['meter_reading'], axis = 'columns').dtypes == 'category')[0]\n",
        "idx_cat = np.insert(idx_cat, 0, 0) # add building id\n",
        "model6 = catboost.CatBoostRegressor(param_cat, random_state=13,cat_features=idx_cat)\n",
        "cat_pred = cluster_id(train, test, 'building_id', model6, 3, skip = True)"
      ],
      "execution_count": 0,
      "outputs": []
    },
    {
      "cell_type": "code",
      "metadata": {
        "id": "-4fzV2Uh99gG",
        "colab_type": "code",
        "colab": {}
      },
      "source": [
        "pred_df = pd.concat([knn_pred, pred_model1], axis =1).mean(axis = 1)\n",
        "pred_df = pd.concat([lgbm_pred, knn_pred, pred_model1], axis =1).mean(axis = 1)\n",
        "#pred = cat_pred * 0.6 + lgbm_pred * 0.2 + pred_df * .20\n",
        "#pred = cat_pred * 0.6 + pred_df * .40"
      ],
      "execution_count": 0,
      "outputs": []
    },
    {
      "cell_type": "code",
      "metadata": {
        "id": "CMF2v3GcvbCD",
        "colab_type": "code",
        "colab": {}
      },
      "source": [
        "#pred = cat_pred * 0.3 + lgbm_pred * 0.3 + knn_pred * 0.2 + pred_model1 * 0.2\n",
        "pred = cat_pred * 0.6 + lgbm_pred * 0.25 + knn_pred * 0.15\n",
        "#pred = cat_pred * 0.45 + lgbm_pred * 0.25 + knn_pred * 0.15 + pred_model1 *0.15\n",
        "#pred = cat_pred * 0.45 + lgbm_pred * 0.45 + knn_pred * 0.10\n",
        "#pred = cat_pred * 0.7 + lgbm_pred * 0.15 + knn_pred * 0.15\n",
        "#pred \n",
        "\n",
        "predictions = pd.DataFrame({\n",
        "    \"row_id\": X.index,\n",
        "    \"meter_reading\": np.clip(np.expm1(pred), 0, None)\n",
        "})"
      ],
      "execution_count": 0,
      "outputs": []
    },
    {
      "cell_type": "markdown",
      "metadata": {
        "id": "xK3ExCDp_YWJ",
        "colab_type": "text"
      },
      "source": [
        "best  1.1568"
      ]
    }
  ]
}