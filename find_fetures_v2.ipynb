{
  "nbformat": 4,
  "nbformat_minor": 0,
  "metadata": {
    "colab": {
      "name": "find_fetures_v2.ipynb",
      "provenance": [],
      "collapsed_sections": [],
      "machine_shape": "hm",
      "include_colab_link": true
    },
    "kernelspec": {
      "name": "python3",
      "display_name": "Python 3"
    }
  },
  "cells": [
    {
      "cell_type": "markdown",
      "metadata": {
        "id": "view-in-github",
        "colab_type": "text"
      },
      "source": [
        "<a href=\"https://colab.research.google.com/github/beifa/kaggle_ashrae/blob/master/find_fetures_v2.ipynb\" target=\"_parent\"><img src=\"https://colab.research.google.com/assets/colab-badge.svg\" alt=\"Open In Colab\"/></a>"
      ]
    },
    {
      "cell_type": "code",
      "metadata": {
        "id": "-IaYiXYLaAlA",
        "colab_type": "code",
        "colab": {}
      },
      "source": [
        "import gc\n",
        "import os\n",
        "import warnings\n",
        "import numpy as np\n",
        "import pandas as pd\n",
        "from tqdm import tqdm\n",
        "import seaborn as sns \n",
        "from lightgbm import LGBMRegressor\n",
        "from sklearn.base import BaseEstimator, RegressorMixin, clone\n",
        "from sklearn.metrics import mean_squared_log_error\n",
        "from IPython.display import HTML\n",
        "import matplotlib.pyplot as plt\n",
        "\n",
        "import lightgbm as lgb\n",
        "\n",
        "pd.set_option(\"max_columns\", 500)\n",
        "path = '/content/drive/My Drive/ASHRAE/data/'"
      ],
      "execution_count": 0,
      "outputs": []
    },
    {
      "cell_type": "markdown",
      "metadata": {
        "id": "iOKPNxfRCPaW",
        "colab_type": "text"
      },
      "source": [
        "#Data load"
      ]
    },
    {
      "cell_type": "code",
      "metadata": {
        "id": "l4L5EaUtZXk_",
        "colab_type": "code",
        "outputId": "a9c3c703-18d2-490f-cccd-fd69b18b8bb7",
        "colab": {
          "base_uri": "https://localhost:8080/",
          "height": 121
        }
      },
      "source": [
        "from google.colab import drive\n",
        "drive.mount('/content/drive')"
      ],
      "execution_count": 0,
      "outputs": [
        {
          "output_type": "stream",
          "text": [
            "Go to this URL in a browser: https://accounts.google.com/o/oauth2/auth?client_id=947318989803-6bn6qk8qdgf4n4g3pfee6491hc0brc4i.apps.googleusercontent.com&redirect_uri=urn%3aietf%3awg%3aoauth%3a2.0%3aoob&response_type=code&scope=email%20https%3a%2f%2fwww.googleapis.com%2fauth%2fdocs.test%20https%3a%2f%2fwww.googleapis.com%2fauth%2fdrive%20https%3a%2f%2fwww.googleapis.com%2fauth%2fdrive.photos.readonly%20https%3a%2f%2fwww.googleapis.com%2fauth%2fpeopleapi.readonly\n",
            "\n",
            "Enter your authorization code:\n",
            "··········\n",
            "Mounted at /content/drive\n"
          ],
          "name": "stdout"
        }
      ]
    },
    {
      "cell_type": "code",
      "metadata": {
        "id": "oP39OhcOK-qd",
        "colab_type": "code",
        "colab": {}
      },
      "source": [
        "train = pd.read_pickle(path + 'data_train_add_features.pkl.gz')\n",
        "train.cloud_coverage = train.cloud_coverage.astype(np.int8)"
      ],
      "execution_count": 0,
      "outputs": []
    },
    {
      "cell_type": "markdown",
      "metadata": {
        "id": "dphimEDb3QFA",
        "colab_type": "text"
      },
      "source": [
        "# Поменять в тесте .cloud_coverage.astype(np.int8) !!!"
      ]
    },
    {
      "cell_type": "code",
      "metadata": {
        "id": "OPo8j2SzNzpn",
        "colab_type": "code",
        "outputId": "a9abdacb-792d-4be9-b981-2b46fd17d496",
        "colab": {
          "base_uri": "https://localhost:8080/",
          "height": 224
        }
      },
      "source": [
        "train.head()"
      ],
      "execution_count": 0,
      "outputs": [
        {
          "output_type": "execute_result",
          "data": {
            "text/html": [
              "<div>\n",
              "<style scoped>\n",
              "    .dataframe tbody tr th:only-of-type {\n",
              "        vertical-align: middle;\n",
              "    }\n",
              "\n",
              "    .dataframe tbody tr th {\n",
              "        vertical-align: top;\n",
              "    }\n",
              "\n",
              "    .dataframe thead th {\n",
              "        text-align: right;\n",
              "    }\n",
              "</style>\n",
              "<table border=\"1\" class=\"dataframe\">\n",
              "  <thead>\n",
              "    <tr style=\"text-align: right;\">\n",
              "      <th></th>\n",
              "      <th>building_id</th>\n",
              "      <th>meter</th>\n",
              "      <th>timestamp</th>\n",
              "      <th>meter_reading</th>\n",
              "      <th>site_id</th>\n",
              "      <th>primary_use</th>\n",
              "      <th>square_feet</th>\n",
              "      <th>year_built</th>\n",
              "      <th>floor_count</th>\n",
              "      <th>air_temperature</th>\n",
              "      <th>cloud_coverage</th>\n",
              "      <th>dew_temperature</th>\n",
              "      <th>precip_depth_1_hr</th>\n",
              "      <th>sea_level_pressure</th>\n",
              "      <th>wind_direction</th>\n",
              "      <th>wind_speed</th>\n",
              "      <th>mark_not_fill_air_temperature</th>\n",
              "      <th>mark_not_fill_cloud_coverage</th>\n",
              "      <th>mark_not_fill_dew_temperature</th>\n",
              "      <th>mark_not_fill_precip_depth_1_hr</th>\n",
              "      <th>mark_not_fill_sea_level_pressure</th>\n",
              "      <th>mark_not_fill_wind_direction</th>\n",
              "      <th>mark_not_fill_wind_speed</th>\n",
              "      <th>hour</th>\n",
              "      <th>month</th>\n",
              "      <th>weekday</th>\n",
              "      <th>dayofyear</th>\n",
              "      <th>weekofyear</th>\n",
              "      <th>quarter</th>\n",
              "      <th>monthday</th>\n",
              "      <th>holiday</th>\n",
              "      <th>rolling_back_air_temperature</th>\n",
              "      <th>rolling_forw_air_temperature</th>\n",
              "      <th>rolling_back_h_air_temperature</th>\n",
              "      <th>rolling_back_h_f_air_temperature</th>\n",
              "      <th>rolling_back_dew_temperature</th>\n",
              "      <th>rolling_forw_dew_temperature</th>\n",
              "      <th>rolling_back_h_dew_temperature</th>\n",
              "      <th>rolling_back_h_f_dew_temperature</th>\n",
              "      <th>e</th>\n",
              "      <th>es</th>\n",
              "      <th>rh</th>\n",
              "      <th>rec_air</th>\n",
              "      <th>rec_dew</th>\n",
              "      <th>rec_rh</th>\n",
              "    </tr>\n",
              "  </thead>\n",
              "  <tbody>\n",
              "    <tr>\n",
              "      <th>103</th>\n",
              "      <td>105</td>\n",
              "      <td>0</td>\n",
              "      <td>0</td>\n",
              "      <td>23.303600</td>\n",
              "      <td>1</td>\n",
              "      <td>0</td>\n",
              "      <td>50623</td>\n",
              "      <td>2003</td>\n",
              "      <td>5</td>\n",
              "      <td>3.8</td>\n",
              "      <td>0.0</td>\n",
              "      <td>2.4</td>\n",
              "      <td>0.0</td>\n",
              "      <td>1020.900024</td>\n",
              "      <td>240.0</td>\n",
              "      <td>3.1</td>\n",
              "      <td>1</td>\n",
              "      <td>0</td>\n",
              "      <td>1</td>\n",
              "      <td>0</td>\n",
              "      <td>1</td>\n",
              "      <td>1</td>\n",
              "      <td>1</td>\n",
              "      <td>0</td>\n",
              "      <td>0</td>\n",
              "      <td>4</td>\n",
              "      <td>0</td>\n",
              "      <td>52</td>\n",
              "      <td>0</td>\n",
              "      <td>0</td>\n",
              "      <td>1</td>\n",
              "      <td>14.4</td>\n",
              "      <td>21.700001</td>\n",
              "      <td>23.9</td>\n",
              "      <td>14.4</td>\n",
              "      <td>8.9</td>\n",
              "      <td>10.6</td>\n",
              "      <td>8.3</td>\n",
              "      <td>-6.1</td>\n",
              "      <td>8.017771</td>\n",
              "      <td>7.261226</td>\n",
              "      <td>90.564156</td>\n",
              "      <td>bad</td>\n",
              "      <td>Good</td>\n",
              "      <td>big_h</td>\n",
              "    </tr>\n",
              "    <tr>\n",
              "      <th>104</th>\n",
              "      <td>106</td>\n",
              "      <td>0</td>\n",
              "      <td>0</td>\n",
              "      <td>0.374600</td>\n",
              "      <td>1</td>\n",
              "      <td>0</td>\n",
              "      <td>5374</td>\n",
              "      <td>2004</td>\n",
              "      <td>4</td>\n",
              "      <td>3.8</td>\n",
              "      <td>0.0</td>\n",
              "      <td>2.4</td>\n",
              "      <td>0.0</td>\n",
              "      <td>1020.900024</td>\n",
              "      <td>240.0</td>\n",
              "      <td>3.1</td>\n",
              "      <td>1</td>\n",
              "      <td>0</td>\n",
              "      <td>1</td>\n",
              "      <td>0</td>\n",
              "      <td>1</td>\n",
              "      <td>1</td>\n",
              "      <td>1</td>\n",
              "      <td>0</td>\n",
              "      <td>0</td>\n",
              "      <td>4</td>\n",
              "      <td>0</td>\n",
              "      <td>52</td>\n",
              "      <td>0</td>\n",
              "      <td>0</td>\n",
              "      <td>1</td>\n",
              "      <td>14.4</td>\n",
              "      <td>21.700001</td>\n",
              "      <td>23.9</td>\n",
              "      <td>14.4</td>\n",
              "      <td>8.9</td>\n",
              "      <td>10.6</td>\n",
              "      <td>8.3</td>\n",
              "      <td>-6.1</td>\n",
              "      <td>8.017771</td>\n",
              "      <td>7.261226</td>\n",
              "      <td>90.564156</td>\n",
              "      <td>bad</td>\n",
              "      <td>Good</td>\n",
              "      <td>big_h</td>\n",
              "    </tr>\n",
              "    <tr>\n",
              "      <th>106</th>\n",
              "      <td>107</td>\n",
              "      <td>0</td>\n",
              "      <td>0</td>\n",
              "      <td>175.184006</td>\n",
              "      <td>1</td>\n",
              "      <td>0</td>\n",
              "      <td>97532</td>\n",
              "      <td>2005</td>\n",
              "      <td>10</td>\n",
              "      <td>3.8</td>\n",
              "      <td>0.0</td>\n",
              "      <td>2.4</td>\n",
              "      <td>0.0</td>\n",
              "      <td>1020.900024</td>\n",
              "      <td>240.0</td>\n",
              "      <td>3.1</td>\n",
              "      <td>1</td>\n",
              "      <td>0</td>\n",
              "      <td>1</td>\n",
              "      <td>0</td>\n",
              "      <td>1</td>\n",
              "      <td>1</td>\n",
              "      <td>1</td>\n",
              "      <td>0</td>\n",
              "      <td>0</td>\n",
              "      <td>4</td>\n",
              "      <td>0</td>\n",
              "      <td>52</td>\n",
              "      <td>0</td>\n",
              "      <td>0</td>\n",
              "      <td>1</td>\n",
              "      <td>14.4</td>\n",
              "      <td>21.700001</td>\n",
              "      <td>23.9</td>\n",
              "      <td>14.4</td>\n",
              "      <td>8.9</td>\n",
              "      <td>10.6</td>\n",
              "      <td>8.3</td>\n",
              "      <td>-6.1</td>\n",
              "      <td>8.017771</td>\n",
              "      <td>7.261226</td>\n",
              "      <td>90.564156</td>\n",
              "      <td>bad</td>\n",
              "      <td>Good</td>\n",
              "      <td>big_h</td>\n",
              "    </tr>\n",
              "    <tr>\n",
              "      <th>107</th>\n",
              "      <td>108</td>\n",
              "      <td>0</td>\n",
              "      <td>0</td>\n",
              "      <td>91.265297</td>\n",
              "      <td>1</td>\n",
              "      <td>0</td>\n",
              "      <td>81580</td>\n",
              "      <td>1913</td>\n",
              "      <td>5</td>\n",
              "      <td>3.8</td>\n",
              "      <td>0.0</td>\n",
              "      <td>2.4</td>\n",
              "      <td>0.0</td>\n",
              "      <td>1020.900024</td>\n",
              "      <td>240.0</td>\n",
              "      <td>3.1</td>\n",
              "      <td>1</td>\n",
              "      <td>0</td>\n",
              "      <td>1</td>\n",
              "      <td>0</td>\n",
              "      <td>1</td>\n",
              "      <td>1</td>\n",
              "      <td>1</td>\n",
              "      <td>0</td>\n",
              "      <td>0</td>\n",
              "      <td>4</td>\n",
              "      <td>0</td>\n",
              "      <td>52</td>\n",
              "      <td>0</td>\n",
              "      <td>0</td>\n",
              "      <td>1</td>\n",
              "      <td>14.4</td>\n",
              "      <td>21.700001</td>\n",
              "      <td>23.9</td>\n",
              "      <td>14.4</td>\n",
              "      <td>8.9</td>\n",
              "      <td>10.6</td>\n",
              "      <td>8.3</td>\n",
              "      <td>-6.1</td>\n",
              "      <td>8.017771</td>\n",
              "      <td>7.261226</td>\n",
              "      <td>90.564156</td>\n",
              "      <td>bad</td>\n",
              "      <td>Good</td>\n",
              "      <td>big_h</td>\n",
              "    </tr>\n",
              "    <tr>\n",
              "      <th>108</th>\n",
              "      <td>109</td>\n",
              "      <td>0</td>\n",
              "      <td>0</td>\n",
              "      <td>80.930000</td>\n",
              "      <td>1</td>\n",
              "      <td>0</td>\n",
              "      <td>56995</td>\n",
              "      <td>1953</td>\n",
              "      <td>6</td>\n",
              "      <td>3.8</td>\n",
              "      <td>0.0</td>\n",
              "      <td>2.4</td>\n",
              "      <td>0.0</td>\n",
              "      <td>1020.900024</td>\n",
              "      <td>240.0</td>\n",
              "      <td>3.1</td>\n",
              "      <td>1</td>\n",
              "      <td>0</td>\n",
              "      <td>1</td>\n",
              "      <td>0</td>\n",
              "      <td>1</td>\n",
              "      <td>1</td>\n",
              "      <td>1</td>\n",
              "      <td>0</td>\n",
              "      <td>0</td>\n",
              "      <td>4</td>\n",
              "      <td>0</td>\n",
              "      <td>52</td>\n",
              "      <td>0</td>\n",
              "      <td>0</td>\n",
              "      <td>1</td>\n",
              "      <td>14.4</td>\n",
              "      <td>21.700001</td>\n",
              "      <td>23.9</td>\n",
              "      <td>14.4</td>\n",
              "      <td>8.9</td>\n",
              "      <td>10.6</td>\n",
              "      <td>8.3</td>\n",
              "      <td>-6.1</td>\n",
              "      <td>8.017771</td>\n",
              "      <td>7.261226</td>\n",
              "      <td>90.564156</td>\n",
              "      <td>bad</td>\n",
              "      <td>Good</td>\n",
              "      <td>big_h</td>\n",
              "    </tr>\n",
              "  </tbody>\n",
              "</table>\n",
              "</div>"
            ],
            "text/plain": [
              "     building_id  meter  timestamp  meter_reading  site_id  primary_use  \\\n",
              "103          105      0          0      23.303600        1            0   \n",
              "104          106      0          0       0.374600        1            0   \n",
              "106          107      0          0     175.184006        1            0   \n",
              "107          108      0          0      91.265297        1            0   \n",
              "108          109      0          0      80.930000        1            0   \n",
              "\n",
              "     square_feet  year_built  floor_count  air_temperature  cloud_coverage  \\\n",
              "103        50623        2003            5              3.8             0.0   \n",
              "104         5374        2004            4              3.8             0.0   \n",
              "106        97532        2005           10              3.8             0.0   \n",
              "107        81580        1913            5              3.8             0.0   \n",
              "108        56995        1953            6              3.8             0.0   \n",
              "\n",
              "     dew_temperature  precip_depth_1_hr  sea_level_pressure  wind_direction  \\\n",
              "103              2.4                0.0         1020.900024           240.0   \n",
              "104              2.4                0.0         1020.900024           240.0   \n",
              "106              2.4                0.0         1020.900024           240.0   \n",
              "107              2.4                0.0         1020.900024           240.0   \n",
              "108              2.4                0.0         1020.900024           240.0   \n",
              "\n",
              "     wind_speed  mark_not_fill_air_temperature  mark_not_fill_cloud_coverage  \\\n",
              "103         3.1                              1                             0   \n",
              "104         3.1                              1                             0   \n",
              "106         3.1                              1                             0   \n",
              "107         3.1                              1                             0   \n",
              "108         3.1                              1                             0   \n",
              "\n",
              "     mark_not_fill_dew_temperature  mark_not_fill_precip_depth_1_hr  \\\n",
              "103                              1                                0   \n",
              "104                              1                                0   \n",
              "106                              1                                0   \n",
              "107                              1                                0   \n",
              "108                              1                                0   \n",
              "\n",
              "     mark_not_fill_sea_level_pressure  mark_not_fill_wind_direction  \\\n",
              "103                                 1                             1   \n",
              "104                                 1                             1   \n",
              "106                                 1                             1   \n",
              "107                                 1                             1   \n",
              "108                                 1                             1   \n",
              "\n",
              "     mark_not_fill_wind_speed  hour  month  weekday  dayofyear  weekofyear  \\\n",
              "103                         1     0      0        4          0          52   \n",
              "104                         1     0      0        4          0          52   \n",
              "106                         1     0      0        4          0          52   \n",
              "107                         1     0      0        4          0          52   \n",
              "108                         1     0      0        4          0          52   \n",
              "\n",
              "     quarter  monthday  holiday  rolling_back_air_temperature  \\\n",
              "103        0         0        1                          14.4   \n",
              "104        0         0        1                          14.4   \n",
              "106        0         0        1                          14.4   \n",
              "107        0         0        1                          14.4   \n",
              "108        0         0        1                          14.4   \n",
              "\n",
              "     rolling_forw_air_temperature  rolling_back_h_air_temperature  \\\n",
              "103                     21.700001                            23.9   \n",
              "104                     21.700001                            23.9   \n",
              "106                     21.700001                            23.9   \n",
              "107                     21.700001                            23.9   \n",
              "108                     21.700001                            23.9   \n",
              "\n",
              "     rolling_back_h_f_air_temperature  rolling_back_dew_temperature  \\\n",
              "103                              14.4                           8.9   \n",
              "104                              14.4                           8.9   \n",
              "106                              14.4                           8.9   \n",
              "107                              14.4                           8.9   \n",
              "108                              14.4                           8.9   \n",
              "\n",
              "     rolling_forw_dew_temperature  rolling_back_h_dew_temperature  \\\n",
              "103                          10.6                             8.3   \n",
              "104                          10.6                             8.3   \n",
              "106                          10.6                             8.3   \n",
              "107                          10.6                             8.3   \n",
              "108                          10.6                             8.3   \n",
              "\n",
              "     rolling_back_h_f_dew_temperature         e        es         rh rec_air  \\\n",
              "103                              -6.1  8.017771  7.261226  90.564156     bad   \n",
              "104                              -6.1  8.017771  7.261226  90.564156     bad   \n",
              "106                              -6.1  8.017771  7.261226  90.564156     bad   \n",
              "107                              -6.1  8.017771  7.261226  90.564156     bad   \n",
              "108                              -6.1  8.017771  7.261226  90.564156     bad   \n",
              "\n",
              "    rec_dew rec_rh  \n",
              "103    Good  big_h  \n",
              "104    Good  big_h  \n",
              "106    Good  big_h  \n",
              "107    Good  big_h  \n",
              "108    Good  big_h  "
            ]
          },
          "metadata": {
            "tags": []
          },
          "execution_count": 94
        }
      ]
    },
    {
      "cell_type": "code",
      "metadata": {
        "id": "qAaVrMV5LRbK",
        "colab_type": "code",
        "colab": {}
      },
      "source": [
        "reg = lgb.LGBMRegressor(\n",
        "      learning_rate=0.05,\n",
        "      objective='mae',\n",
        "      n_estimators=350,\n",
        "      num_threads=os.cpu_count(),\n",
        "      num_leaves=31,\n",
        "      max_depth=8,\n",
        "      subsample=0.8,\n",
        "      min_child_samples=50,\n",
        "      random_state=42)"
      ],
      "execution_count": 0,
      "outputs": []
    },
    {
      "cell_type": "code",
      "metadata": {
        "id": "UeindoygNGUR",
        "colab_type": "code",
        "colab": {}
      },
      "source": [
        "X = train.drop('meter_reading', axis = 'columns')\n",
        "y = train.meter_reading"
      ],
      "execution_count": 0,
      "outputs": []
    },
    {
      "cell_type": "code",
      "metadata": {
        "id": "Xfiy4c6SN5Um",
        "colab_type": "code",
        "outputId": "ac3954de-1c3e-4449-b5e5-a04f5b6ab0a1",
        "colab": {
          "base_uri": "https://localhost:8080/",
          "height": 309
        }
      },
      "source": [
        "train.columns"
      ],
      "execution_count": 0,
      "outputs": [
        {
          "output_type": "execute_result",
          "data": {
            "text/plain": [
              "Index(['building_id', 'meter', 'timestamp', 'meter_reading', 'site_id',\n",
              "       'primary_use', 'square_feet', 'year_built', 'floor_count',\n",
              "       'air_temperature', 'cloud_coverage', 'dew_temperature',\n",
              "       'precip_depth_1_hr', 'sea_level_pressure', 'wind_direction',\n",
              "       'wind_speed', 'mark_not_fill_air_temperature',\n",
              "       'mark_not_fill_cloud_coverage', 'mark_not_fill_dew_temperature',\n",
              "       'mark_not_fill_precip_depth_1_hr', 'mark_not_fill_sea_level_pressure',\n",
              "       'mark_not_fill_wind_direction', 'mark_not_fill_wind_speed', 'hour',\n",
              "       'month', 'weekday', 'dayofyear', 'weekofyear', 'quarter', 'monthday',\n",
              "       'holiday', 'rolling_back_air_temperature',\n",
              "       'rolling_forw_air_temperature', 'rolling_back_h_air_temperature',\n",
              "       'rolling_back_h_f_air_temperature', 'rolling_back_dew_temperature',\n",
              "       'rolling_forw_dew_temperature', 'rolling_back_h_dew_temperature',\n",
              "       'rolling_back_h_f_dew_temperature', 'e', 'es', 'rh', 'rec_air',\n",
              "       'rec_dew', 'rec_rh'],\n",
              "      dtype='object')"
            ]
          },
          "metadata": {
            "tags": []
          },
          "execution_count": 97
        }
      ]
    },
    {
      "cell_type": "code",
      "metadata": {
        "id": "_G_eVZR6NNwp",
        "colab_type": "code",
        "colab": {}
      },
      "source": [
        "cat =  ['site_id','meter', 'cloud_coverage','primary_use', 'rec_air', \n",
        "        'rec_dew', 'rec_rh', 'holiday','mark_not_fill_cloud_coverage', 'mark_not_fill_dew_temperature',\n",
        "        'mark_not_fill_precip_depth_1_hr', 'mark_not_fill_sea_level_pressure', 'mark_not_fill_wind_direction', 'mark_not_fill_wind_speed'] #drop 'building_id','year_built'"
      ],
      "execution_count": 0,
      "outputs": []
    },
    {
      "cell_type": "code",
      "metadata": {
        "id": "SmNO0WQ-WRue",
        "colab_type": "code",
        "colab": {}
      },
      "source": [
        "drop = ['year_built', 'building_id', 'precip_depth_1_hr', 'es','rolling_forw_air_temperature','month','monthday','rh','sea_level_pressure', 'floor_count']"
      ],
      "execution_count": 0,
      "outputs": []
    },
    {
      "cell_type": "code",
      "metadata": {
        "id": "xcUlqK4wPJ57",
        "colab_type": "code",
        "outputId": "9cd2831d-bcd9-4a6d-a8d9-9647570529b8",
        "colab": {
          "base_uri": "https://localhost:8080/",
          "height": 205
        }
      },
      "source": [
        "reg.fit(X.drop(drop, axis = 'columns'), y, categorical_feature=cat)"
      ],
      "execution_count": 0,
      "outputs": [
        {
          "output_type": "stream",
          "text": [
            "/usr/local/lib/python3.6/dist-packages/lightgbm/basic.py:1209: UserWarning: categorical_feature in Dataset is overridden.\n",
            "New categorical_feature is ['cloud_coverage', 'holiday', 'mark_not_fill_cloud_coverage', 'mark_not_fill_dew_temperature', 'mark_not_fill_precip_depth_1_hr', 'mark_not_fill_sea_level_pressure', 'mark_not_fill_wind_direction', 'mark_not_fill_wind_speed', 'meter', 'primary_use', 'rec_air', 'rec_dew', 'rec_rh', 'site_id']\n",
            "  'New categorical_feature is {}'.format(sorted(list(categorical_feature))))\n"
          ],
          "name": "stderr"
        },
        {
          "output_type": "execute_result",
          "data": {
            "text/plain": [
              "LGBMRegressor(boosting_type='gbdt', class_weight=None, colsample_bytree=1.0,\n",
              "              importance_type='split', learning_rate=0.05, max_depth=8,\n",
              "              min_child_samples=50, min_child_weight=0.001, min_split_gain=0.0,\n",
              "              n_estimators=350, n_jobs=-1, num_leaves=31, num_threads=40,\n",
              "              objective='mae', random_state=42, reg_alpha=0.0, reg_lambda=0.0,\n",
              "              silent=True, subsample=0.8, subsample_for_bin=200000,\n",
              "              subsample_freq=0)"
            ]
          },
          "metadata": {
            "tags": []
          },
          "execution_count": 11
        }
      ]
    },
    {
      "cell_type": "code",
      "metadata": {
        "id": "bDSi-aGdPJ3S",
        "colab_type": "code",
        "outputId": "06d6573a-b2e0-4f2a-ed23-7ed1a526ea94",
        "colab": {
          "base_uri": "https://localhost:8080/",
          "height": 312
        }
      },
      "source": [
        "lgb.plot_importance(reg) #all"
      ],
      "execution_count": 0,
      "outputs": [
        {
          "output_type": "execute_result",
          "data": {
            "text/plain": [
              "<matplotlib.axes._subplots.AxesSubplot at 0x7f15f2015860>"
            ]
          },
          "metadata": {
            "tags": []
          },
          "execution_count": 11
        },
        {
          "output_type": "display_data",
          "data": {
            "image/png": "[encoded data removed]",
            "text/plain": [
              "<Figure size 432x288 with 1 Axes>"
            ]
          },
          "metadata": {
            "tags": []
          }
        }
      ]
    },
    {
      "cell_type": "code",
      "metadata": {
        "id": "5BIcGvyVZLvq",
        "colab_type": "code",
        "outputId": "fb041fd0-7f7d-46d3-9bae-13702b7eee3c",
        "colab": {
          "base_uri": "https://localhost:8080/",
          "height": 312
        }
      },
      "source": [
        "lgb.plot_importance(reg) #drop bild id"
      ],
      "execution_count": 0,
      "outputs": [
        {
          "output_type": "execute_result",
          "data": {
            "text/plain": [
              "<matplotlib.axes._subplots.AxesSubplot at 0x7f15f1aa52b0>"
            ]
          },
          "metadata": {
            "tags": []
          },
          "execution_count": 17
        },
        {
          "output_type": "display_data",
          "data": {
            "image/png": "[encoded data removed]",
            "text/plain": [
              "<Figure size 432x288 with 1 Axes>"
            ]
          },
          "metadata": {
            "tags": []
          }
        }
      ]
    },
    {
      "cell_type": "code",
      "metadata": {
        "id": "kPjgXzYkwXHX",
        "colab_type": "code",
        "outputId": "404b5e14-4103-4217-9631-77ccb0e8c65f",
        "colab": {
          "base_uri": "https://localhost:8080/",
          "height": 312
        }
      },
      "source": [
        "lgb.plot_importance(reg) #drop bildid, years"
      ],
      "execution_count": 0,
      "outputs": [
        {
          "output_type": "execute_result",
          "data": {
            "text/plain": [
              "<matplotlib.axes._subplots.AxesSubplot at 0x7f9f68c605f8>"
            ]
          },
          "metadata": {
            "tags": []
          },
          "execution_count": 12
        },
        {
          "output_type": "display_data",
          "data": {
            "image/png": "[encoded data removed]",
            "text/plain": [
              "<Figure size 432x288 with 1 Axes>"
            ]
          },
          "metadata": {
            "tags": []
          }
        }
      ]
    },
    {
      "cell_type": "code",
      "metadata": {
        "colab_type": "code",
        "id": "ADMt7yf0zOkO",
        "colab": {}
      },
      "source": [
        "cat =  [ 'cloud_coverage', 'rec_air', \n",
        "        'rec_dew', 'rec_rh', 'holiday','mark_not_fill_cloud_coverage', 'mark_not_fill_dew_temperature',\n",
        "        'mark_not_fill_precip_depth_1_hr', 'mark_not_fill_sea_level_pressure', 'mark_not_fill_wind_direction', 'mark_not_fill_wind_speed'] #drop 'building_id','year_built'\n",
        "        #'meter','site_id','primary_use',"
      ],
      "execution_count": 0,
      "outputs": []
    },
    {
      "cell_type": "code",
      "metadata": {
        "colab_type": "code",
        "id": "6rpquGQHzOkV",
        "colab": {}
      },
      "source": [
        "drop = ['square_feet','primary_use','site_id', 'meter','year_built', 'building_id', 'precip_depth_1_hr', 'es','rolling_forw_air_temperature','month','monthday','rh','sea_level_pressure', 'floor_count']"
      ],
      "execution_count": 0,
      "outputs": []
    },
    {
      "cell_type": "code",
      "metadata": {
        "colab_type": "code",
        "outputId": "59f7ebb0-8ab6-440b-c537-111b2c2801bf",
        "id": "xQSUtsvNzOkY",
        "colab": {
          "base_uri": "https://localhost:8080/",
          "height": 205
        }
      },
      "source": [
        "reg.fit(X.drop(drop, axis = 'columns'), y, categorical_feature=cat)"
      ],
      "execution_count": 0,
      "outputs": [
        {
          "output_type": "stream",
          "text": [
            "/usr/local/lib/python3.6/dist-packages/lightgbm/basic.py:1209: UserWarning: categorical_feature in Dataset is overridden.\n",
            "New categorical_feature is ['cloud_coverage', 'holiday', 'mark_not_fill_cloud_coverage', 'mark_not_fill_dew_temperature', 'mark_not_fill_precip_depth_1_hr', 'mark_not_fill_sea_level_pressure', 'mark_not_fill_wind_direction', 'mark_not_fill_wind_speed', 'rec_air', 'rec_dew', 'rec_rh']\n",
            "  'New categorical_feature is {}'.format(sorted(list(categorical_feature))))\n"
          ],
          "name": "stderr"
        },
        {
          "output_type": "execute_result",
          "data": {
            "text/plain": [
              "LGBMRegressor(boosting_type='gbdt', class_weight=None, colsample_bytree=1.0,\n",
              "              importance_type='split', learning_rate=0.05, max_depth=8,\n",
              "              min_child_samples=50, min_child_weight=0.001, min_split_gain=0.0,\n",
              "              n_estimators=350, n_jobs=-1, num_leaves=31, num_threads=40,\n",
              "              objective='mae', random_state=42, reg_alpha=0.0, reg_lambda=0.0,\n",
              "              silent=True, subsample=0.8, subsample_for_bin=200000,\n",
              "              subsample_freq=0)"
            ]
          },
          "metadata": {
            "tags": []
          },
          "execution_count": 15
        }
      ]
    },
    {
      "cell_type": "code",
      "metadata": {
        "id": "UxeL-ovlzOEx",
        "colab_type": "code",
        "outputId": "58ea467c-9a5b-43e3-c6be-d7294de4dba2",
        "colab": {
          "base_uri": "https://localhost:8080/",
          "height": 312
        }
      },
      "source": [
        "lgb.plot_importance(reg)"
      ],
      "execution_count": 0,
      "outputs": [
        {
          "output_type": "execute_result",
          "data": {
            "text/plain": [
              "<matplotlib.axes._subplots.AxesSubplot at 0x7f9eb9c19d30>"
            ]
          },
          "metadata": {
            "tags": []
          },
          "execution_count": 16
        },
        {
          "output_type": "display_data",
          "data": {
            "image/png": "[encoded data removed]",
            "text/plain": [
              "<Figure size 432x288 with 1 Axes>"
            ]
          },
          "metadata": {
            "tags": []
          }
        }
      ]
    },
    {
      "cell_type": "markdown",
      "metadata": {
        "id": "HCegvknYvG_2",
        "colab_type": "text"
      },
      "source": [
        "Тут можно четко сказать что у нас есть ключевые признаки\n",
        "('building_id','year_built','meter','site_id','primary_use')\n",
        "и так сказать остальные\n",
        "\n",
        "Идеи:\n",
        "  - Я хочу попробовать сделать это же предположение но уже только для каждого счетчика\n",
        "  - Все признаки и также убираем ключевые\n",
        "  - Дропнем на основе их самые неперспективные признаки\n",
        "\n"
      ]
    },
    {
      "cell_type": "code",
      "metadata": {
        "id": "9Sf2IuUezOCU",
        "colab_type": "code",
        "colab": {}
      },
      "source": [
        "class BymeterFeatures(BaseEstimator, RegressorMixin):\n",
        "  \"\"\"\n",
        "  model = lgbm with param\n",
        "  col = metre columns\n",
        "  \n",
        "  Мы преследуем две вещи первое мы хотим посмотреть какие признаки больше или меньше влияют на счетчик(meter),\n",
        "  а так же увидеть какие признаки оставить\n",
        "\n",
        "  class.imp return array with fimpotance by each meter\n",
        "  class.feature_importances_ return average\n",
        "\n",
        "  predict add each meter\n",
        "  \"\"\"\n",
        "\n",
        "  def __init__(self, model, col):\n",
        "    self.model = model\n",
        "    self.col = col #meter\n",
        "    self.imp = [] #by each meters\n",
        "    self.return_meters = []\n",
        "\n",
        "  def fit(self, X, y):\n",
        "    self.box = {}\n",
        "    #imp = []\n",
        "    for meter in X[self.col].unique(): #0,1,2,3\n",
        "      temp = X[X[self.col] == meter].drop(self.col, axis = 'columns')      \n",
        "      self.box[meter] = self.model.fit(temp, y.reindex_like(temp))\n",
        "      #self.imp.append(self.box[meter].feature_importances_)\n",
        "      del temp\n",
        "    #avr = np.average(self.imp, axis=0) #средневзвешенное    \n",
        "    #self.feature_importances_ = avr # no add meter we need drop col when vis or other\n",
        "    return self\n",
        "\n",
        "  def predict(self, X):\n",
        "    result = np.zeros(len(X))#zero mask\n",
        "    self.return_meters = []\n",
        "    for meter in X[self.col].unique():\n",
        "      ix = np.nonzero((X[self.col] == meter).to_numpy())\n",
        "      predictions = self.box[meter].predict(X.iloc[ix].drop(columns=[self.col]))      \n",
        "      self.return_meters.append((predictions, ix))\n",
        "      result[ix] = predictions#fill zeros predict values \n",
        "    \n",
        "    return result\n"
      ],
      "execution_count": 0,
      "outputs": []
    },
    {
      "cell_type": "code",
      "metadata": {
        "id": "z2XH8IwxUPoO",
        "colab_type": "code",
        "colab": {}
      },
      "source": [
        "Xsample = X.sample(frac = 0.05, random_state=0)#3kk\n",
        "ysample = y.reindex(Xsample.index)"
      ],
      "execution_count": 0,
      "outputs": []
    },
    {
      "cell_type": "code",
      "metadata": {
        "id": "9Q63vn_GvGog",
        "colab_type": "code",
        "outputId": "8bb93afd-6fb1-4032-e259-90d49c9ab15a",
        "colab": {
          "base_uri": "https://localhost:8080/",
          "height": 241
        }
      },
      "source": [
        "bf = BymeterFeatures(reg, col = 'meter')\n",
        "bf.fit(Xsample, ysample)"
      ],
      "execution_count": 0,
      "outputs": [
        {
          "output_type": "execute_result",
          "data": {
            "text/plain": [
              "BymeterFeatures(col='meter',\n",
              "                model=LGBMRegressor(boosting_type='gbdt', class_weight=None,\n",
              "                                    colsample_bytree=1.0,\n",
              "                                    importance_type='split', learning_rate=0.05,\n",
              "                                    max_depth=8, min_child_samples=50,\n",
              "                                    min_child_weight=0.001, min_split_gain=0.0,\n",
              "                                    n_estimators=350, n_jobs=-1, num_leaves=31,\n",
              "                                    num_threads=4, objective='mae',\n",
              "                                    random_state=42, reg_alpha=0.0,\n",
              "                                    reg_lambda=0.0, silent=True, subsample=0.8,\n",
              "                                    subsample_for_bin=200000,\n",
              "                                    subsample_freq=0))"
            ]
          },
          "metadata": {
            "tags": []
          },
          "execution_count": 102
        }
      ]
    },
    {
      "cell_type": "code",
      "metadata": {
        "id": "XQR2-ePwvGjo",
        "colab_type": "code",
        "outputId": "48b9f7f8-60e9-4bfb-e2fd-dae9c2629074",
        "colab": {
          "base_uri": "https://localhost:8080/",
          "height": 765
        }
      },
      "source": [
        "pd.Series(bf.feature_importances_, index=Xsample.drop('meter', axis = 1).columns).sort_values(ascending=False)"
      ],
      "execution_count": 0,
      "outputs": [
        {
          "output_type": "execute_result",
          "data": {
            "text/plain": [
              "building_id                         2701.00\n",
              "square_feet                         2489.75\n",
              "year_built                          1208.50\n",
              "primary_use                          784.75\n",
              "hour                                 503.50\n",
              "air_temperature                      503.25\n",
              "dew_temperature                      397.00\n",
              "timestamp                            376.25\n",
              "floor_count                          282.25\n",
              "dayofyear                            152.50\n",
              "weekofyear                           111.50\n",
              "sea_level_pressure                   100.75\n",
              "cloud_coverage                        94.75\n",
              "rh                                    92.75\n",
              "weekday                               82.50\n",
              "wind_direction                        67.50\n",
              "mark_not_fill_precip_depth_1_hr       62.50\n",
              "wind_speed                            46.50\n",
              "monthday                              36.75\n",
              "precip_depth_1_hr                     35.25\n",
              "rolling_back_dew_temperature          34.50\n",
              "rolling_forw_air_temperature          33.50\n",
              "site_id                               33.25\n",
              "mark_not_fill_sea_level_pressure      31.00\n",
              "e                                     27.50\n",
              "rolling_back_air_temperature          26.50\n",
              "rec_dew                               25.25\n",
              "rolling_back_h_f_dew_temperature      24.25\n",
              "rolling_back_h_air_temperature        23.00\n",
              "rolling_back_h_dew_temperature        23.00\n",
              "rolling_forw_dew_temperature          21.75\n",
              "rec_air                               19.50\n",
              "rolling_back_h_f_air_temperature      17.00\n",
              "mark_not_fill_cloud_coverage          11.00\n",
              "es                                     8.00\n",
              "month                                  5.50\n",
              "rec_rh                                 2.50\n",
              "mark_not_fill_dew_temperature          0.75\n",
              "mark_not_fill_wind_speed               0.25\n",
              "mark_not_fill_air_temperature          0.25\n",
              "quarter                                0.00\n",
              "mark_not_fill_wind_direction           0.00\n",
              "holiday                                0.00\n",
              "dtype: float64"
            ]
          },
          "metadata": {
            "tags": []
          },
          "execution_count": 105
        }
      ]
    },
    {
      "cell_type": "code",
      "metadata": {
        "id": "uuTbcoFnvGfn",
        "colab_type": "code",
        "outputId": "2abcf8e0-7f27-49e2-cbb7-471953cb5c0b",
        "colab": {
          "base_uri": "https://localhost:8080/",
          "height": 186
        }
      },
      "source": [
        "#features imp by each meters\n",
        "bymeter = pd.DataFrame(bf.imp, columns =Xsample.drop('meter', axis = 1).columns,index = ['electricity', 'chilledwater', 'steam', 'hotwater'])\n",
        "bymeter"
      ],
      "execution_count": 0,
      "outputs": [
        {
          "output_type": "execute_result",
          "data": {
            "text/html": [
              "<div>\n",
              "<style scoped>\n",
              "    .dataframe tbody tr th:only-of-type {\n",
              "        vertical-align: middle;\n",
              "    }\n",
              "\n",
              "    .dataframe tbody tr th {\n",
              "        vertical-align: top;\n",
              "    }\n",
              "\n",
              "    .dataframe thead th {\n",
              "        text-align: right;\n",
              "    }\n",
              "</style>\n",
              "<table border=\"1\" class=\"dataframe\">\n",
              "  <thead>\n",
              "    <tr style=\"text-align: right;\">\n",
              "      <th></th>\n",
              "      <th>building_id</th>\n",
              "      <th>timestamp</th>\n",
              "      <th>site_id</th>\n",
              "      <th>primary_use</th>\n",
              "      <th>square_feet</th>\n",
              "      <th>year_built</th>\n",
              "      <th>floor_count</th>\n",
              "      <th>air_temperature</th>\n",
              "      <th>cloud_coverage</th>\n",
              "      <th>dew_temperature</th>\n",
              "      <th>precip_depth_1_hr</th>\n",
              "      <th>sea_level_pressure</th>\n",
              "      <th>wind_direction</th>\n",
              "      <th>wind_speed</th>\n",
              "      <th>mark_not_fill_air_temperature</th>\n",
              "      <th>mark_not_fill_cloud_coverage</th>\n",
              "      <th>mark_not_fill_dew_temperature</th>\n",
              "      <th>mark_not_fill_precip_depth_1_hr</th>\n",
              "      <th>mark_not_fill_sea_level_pressure</th>\n",
              "      <th>mark_not_fill_wind_direction</th>\n",
              "      <th>mark_not_fill_wind_speed</th>\n",
              "      <th>hour</th>\n",
              "      <th>month</th>\n",
              "      <th>weekday</th>\n",
              "      <th>dayofyear</th>\n",
              "      <th>weekofyear</th>\n",
              "      <th>quarter</th>\n",
              "      <th>monthday</th>\n",
              "      <th>holiday</th>\n",
              "      <th>rolling_back_air_temperature</th>\n",
              "      <th>rolling_forw_air_temperature</th>\n",
              "      <th>rolling_back_h_air_temperature</th>\n",
              "      <th>rolling_back_h_f_air_temperature</th>\n",
              "      <th>rolling_back_dew_temperature</th>\n",
              "      <th>rolling_forw_dew_temperature</th>\n",
              "      <th>rolling_back_h_dew_temperature</th>\n",
              "      <th>rolling_back_h_f_dew_temperature</th>\n",
              "      <th>e</th>\n",
              "      <th>es</th>\n",
              "      <th>rh</th>\n",
              "      <th>rec_air</th>\n",
              "      <th>rec_dew</th>\n",
              "      <th>rec_rh</th>\n",
              "    </tr>\n",
              "  </thead>\n",
              "  <tbody>\n",
              "    <tr>\n",
              "      <th>0</th>\n",
              "      <td>2792</td>\n",
              "      <td>121</td>\n",
              "      <td>48</td>\n",
              "      <td>1170</td>\n",
              "      <td>2643</td>\n",
              "      <td>1879</td>\n",
              "      <td>568</td>\n",
              "      <td>116</td>\n",
              "      <td>35</td>\n",
              "      <td>93</td>\n",
              "      <td>14</td>\n",
              "      <td>0</td>\n",
              "      <td>0</td>\n",
              "      <td>0</td>\n",
              "      <td>1</td>\n",
              "      <td>0</td>\n",
              "      <td>3</td>\n",
              "      <td>84</td>\n",
              "      <td>124</td>\n",
              "      <td>0</td>\n",
              "      <td>0</td>\n",
              "      <td>476</td>\n",
              "      <td>3</td>\n",
              "      <td>132</td>\n",
              "      <td>76</td>\n",
              "      <td>56</td>\n",
              "      <td>0</td>\n",
              "      <td>2</td>\n",
              "      <td>0</td>\n",
              "      <td>0</td>\n",
              "      <td>2</td>\n",
              "      <td>0</td>\n",
              "      <td>0</td>\n",
              "      <td>0</td>\n",
              "      <td>0</td>\n",
              "      <td>0</td>\n",
              "      <td>0</td>\n",
              "      <td>5</td>\n",
              "      <td>1</td>\n",
              "      <td>14</td>\n",
              "      <td>18</td>\n",
              "      <td>22</td>\n",
              "      <td>2</td>\n",
              "    </tr>\n",
              "    <tr>\n",
              "      <th>1</th>\n",
              "      <td>3051</td>\n",
              "      <td>350</td>\n",
              "      <td>2</td>\n",
              "      <td>794</td>\n",
              "      <td>2729</td>\n",
              "      <td>806</td>\n",
              "      <td>256</td>\n",
              "      <td>668</td>\n",
              "      <td>104</td>\n",
              "      <td>565</td>\n",
              "      <td>24</td>\n",
              "      <td>85</td>\n",
              "      <td>88</td>\n",
              "      <td>40</td>\n",
              "      <td>0</td>\n",
              "      <td>17</td>\n",
              "      <td>0</td>\n",
              "      <td>47</td>\n",
              "      <td>0</td>\n",
              "      <td>0</td>\n",
              "      <td>0</td>\n",
              "      <td>343</td>\n",
              "      <td>1</td>\n",
              "      <td>51</td>\n",
              "      <td>130</td>\n",
              "      <td>116</td>\n",
              "      <td>0</td>\n",
              "      <td>14</td>\n",
              "      <td>0</td>\n",
              "      <td>11</td>\n",
              "      <td>3</td>\n",
              "      <td>8</td>\n",
              "      <td>2</td>\n",
              "      <td>11</td>\n",
              "      <td>3</td>\n",
              "      <td>3</td>\n",
              "      <td>2</td>\n",
              "      <td>52</td>\n",
              "      <td>12</td>\n",
              "      <td>68</td>\n",
              "      <td>13</td>\n",
              "      <td>29</td>\n",
              "      <td>2</td>\n",
              "    </tr>\n",
              "    <tr>\n",
              "      <th>2</th>\n",
              "      <td>2387</td>\n",
              "      <td>688</td>\n",
              "      <td>0</td>\n",
              "      <td>358</td>\n",
              "      <td>1925</td>\n",
              "      <td>984</td>\n",
              "      <td>112</td>\n",
              "      <td>713</td>\n",
              "      <td>113</td>\n",
              "      <td>377</td>\n",
              "      <td>78</td>\n",
              "      <td>229</td>\n",
              "      <td>138</td>\n",
              "      <td>122</td>\n",
              "      <td>0</td>\n",
              "      <td>21</td>\n",
              "      <td>0</td>\n",
              "      <td>80</td>\n",
              "      <td>0</td>\n",
              "      <td>0</td>\n",
              "      <td>1</td>\n",
              "      <td>498</td>\n",
              "      <td>10</td>\n",
              "      <td>73</td>\n",
              "      <td>252</td>\n",
              "      <td>178</td>\n",
              "      <td>0</td>\n",
              "      <td>117</td>\n",
              "      <td>0</td>\n",
              "      <td>93</td>\n",
              "      <td>124</td>\n",
              "      <td>83</td>\n",
              "      <td>66</td>\n",
              "      <td>123</td>\n",
              "      <td>82</td>\n",
              "      <td>86</td>\n",
              "      <td>91</td>\n",
              "      <td>44</td>\n",
              "      <td>14</td>\n",
              "      <td>195</td>\n",
              "      <td>27</td>\n",
              "      <td>5</td>\n",
              "      <td>4</td>\n",
              "    </tr>\n",
              "    <tr>\n",
              "      <th>3</th>\n",
              "      <td>2574</td>\n",
              "      <td>346</td>\n",
              "      <td>83</td>\n",
              "      <td>817</td>\n",
              "      <td>2662</td>\n",
              "      <td>1165</td>\n",
              "      <td>193</td>\n",
              "      <td>516</td>\n",
              "      <td>127</td>\n",
              "      <td>553</td>\n",
              "      <td>25</td>\n",
              "      <td>89</td>\n",
              "      <td>44</td>\n",
              "      <td>24</td>\n",
              "      <td>0</td>\n",
              "      <td>6</td>\n",
              "      <td>0</td>\n",
              "      <td>39</td>\n",
              "      <td>0</td>\n",
              "      <td>0</td>\n",
              "      <td>0</td>\n",
              "      <td>697</td>\n",
              "      <td>8</td>\n",
              "      <td>74</td>\n",
              "      <td>152</td>\n",
              "      <td>96</td>\n",
              "      <td>0</td>\n",
              "      <td>14</td>\n",
              "      <td>0</td>\n",
              "      <td>2</td>\n",
              "      <td>5</td>\n",
              "      <td>1</td>\n",
              "      <td>0</td>\n",
              "      <td>4</td>\n",
              "      <td>2</td>\n",
              "      <td>3</td>\n",
              "      <td>4</td>\n",
              "      <td>9</td>\n",
              "      <td>5</td>\n",
              "      <td>94</td>\n",
              "      <td>20</td>\n",
              "      <td>45</td>\n",
              "      <td>2</td>\n",
              "    </tr>\n",
              "  </tbody>\n",
              "</table>\n",
              "</div>"
            ],
            "text/plain": [
              "   building_id  timestamp  site_id  primary_use  square_feet  year_built  \\\n",
              "0         2792        121       48         1170         2643        1879   \n",
              "1         3051        350        2          794         2729         806   \n",
              "2         2387        688        0          358         1925         984   \n",
              "3         2574        346       83          817         2662        1165   \n",
              "\n",
              "   floor_count  air_temperature  cloud_coverage  dew_temperature  \\\n",
              "0          568              116              35               93   \n",
              "1          256              668             104              565   \n",
              "2          112              713             113              377   \n",
              "3          193              516             127              553   \n",
              "\n",
              "   precip_depth_1_hr  sea_level_pressure  wind_direction  wind_speed  \\\n",
              "0                 14                   0               0           0   \n",
              "1                 24                  85              88          40   \n",
              "2                 78                 229             138         122   \n",
              "3                 25                  89              44          24   \n",
              "\n",
              "   mark_not_fill_air_temperature  mark_not_fill_cloud_coverage  \\\n",
              "0                              1                             0   \n",
              "1                              0                            17   \n",
              "2                              0                            21   \n",
              "3                              0                             6   \n",
              "\n",
              "   mark_not_fill_dew_temperature  mark_not_fill_precip_depth_1_hr  \\\n",
              "0                              3                               84   \n",
              "1                              0                               47   \n",
              "2                              0                               80   \n",
              "3                              0                               39   \n",
              "\n",
              "   mark_not_fill_sea_level_pressure  mark_not_fill_wind_direction  \\\n",
              "0                               124                             0   \n",
              "1                                 0                             0   \n",
              "2                                 0                             0   \n",
              "3                                 0                             0   \n",
              "\n",
              "   mark_not_fill_wind_speed  hour  month  weekday  dayofyear  weekofyear  \\\n",
              "0                         0   476      3      132         76          56   \n",
              "1                         0   343      1       51        130         116   \n",
              "2                         1   498     10       73        252         178   \n",
              "3                         0   697      8       74        152          96   \n",
              "\n",
              "   quarter  monthday  holiday  rolling_back_air_temperature  \\\n",
              "0        0         2        0                             0   \n",
              "1        0        14        0                            11   \n",
              "2        0       117        0                            93   \n",
              "3        0        14        0                             2   \n",
              "\n",
              "   rolling_forw_air_temperature  rolling_back_h_air_temperature  \\\n",
              "0                             2                               0   \n",
              "1                             3                               8   \n",
              "2                           124                              83   \n",
              "3                             5                               1   \n",
              "\n",
              "   rolling_back_h_f_air_temperature  rolling_back_dew_temperature  \\\n",
              "0                                 0                             0   \n",
              "1                                 2                            11   \n",
              "2                                66                           123   \n",
              "3                                 0                             4   \n",
              "\n",
              "   rolling_forw_dew_temperature  rolling_back_h_dew_temperature  \\\n",
              "0                             0                               0   \n",
              "1                             3                               3   \n",
              "2                            82                              86   \n",
              "3                             2                               3   \n",
              "\n",
              "   rolling_back_h_f_dew_temperature   e  es   rh  rec_air  rec_dew  rec_rh  \n",
              "0                                 0   5   1   14       18       22       2  \n",
              "1                                 2  52  12   68       13       29       2  \n",
              "2                                91  44  14  195       27        5       4  \n",
              "3                                 4   9   5   94       20       45       2  "
            ]
          },
          "metadata": {
            "tags": []
          },
          "execution_count": 11
        }
      ]
    },
    {
      "cell_type": "code",
      "metadata": {
        "id": "8fGNp7sfzN8b",
        "colab_type": "code",
        "colab": {}
      },
      "source": [
        "def plot_cost_features(model, X, y, drop = []):\n",
        "  \"\"\"\n",
        "  X,y = data\n",
        "  drop col when we droped\n",
        "  model = BymeterFeatures   \n",
        "  \"\"\"\n",
        "  if drop:\n",
        "    Xsample = X.drop(drop, axis='columns').sample(frac = 0.20, random_state=0)\n",
        "    ysample = y.reindex(Xsample.index)    \n",
        "  else:\n",
        "    Xsample = X.sample(frac = 0.20, random_state=0)\n",
        "    ysample = y.reindex(Xsample.index)  \n",
        "\n",
        "  \n",
        "  model.fit(Xsample, ysample)\n",
        "  df = pd.DataFrame(model.imp, columns =Xsample.drop('meter', axis = 1).columns , index = ['electricity', 'chilledwater', 'steam', 'hotwater'])\n",
        "  df.T.plot.bar(figsize=(20, 5))"
      ],
      "execution_count": 0,
      "outputs": []
    },
    {
      "cell_type": "code",
      "metadata": {
        "id": "zBrvJ3qavGcU",
        "colab_type": "code",
        "outputId": "f60c8357-2996-4352-8e19-712bc45de60c",
        "colab": {
          "base_uri": "https://localhost:8080/",
          "height": 500
        }
      },
      "source": [
        "bf = BymeterFeatures(reg, col = 'meter')\n",
        "plot_cost_features(bf, X, y, drop = [])"
      ],
      "execution_count": 0,
      "outputs": [
        {
          "output_type": "stream",
          "text": [
            "out\n"
          ],
          "name": "stdout"
        },
        {
          "output_type": "display_data",
          "data": {
            "image/png": "[encoded data removed]",
            "text/plain": [
              "<Figure size 1440x360 with 1 Axes>"
            ]
          },
          "metadata": {
            "tags": []
          }
        }
      ]
    },
    {
      "cell_type": "markdown",
      "metadata": {
        "id": "tfSDnv2DmuEQ",
        "colab_type": "text"
      },
      "source": [
        "add ['building_id','year_built','site_id','primary_use', 'square_feet']"
      ]
    },
    {
      "cell_type": "code",
      "metadata": {
        "id": "vCWlM2xEvGX5",
        "colab_type": "code",
        "outputId": "dd4be794-0986-4a0a-c5b8-daa8c70c1b74",
        "colab": {
          "base_uri": "https://localhost:8080/",
          "height": 500
        }
      },
      "source": [
        "bf = BymeterFeatures(reg, col = 'meter')\n",
        "plot_cost_features(bf, X, y, drop =['building_id','year_built','site_id','primary_use', 'square_feet'])"
      ],
      "execution_count": 0,
      "outputs": [
        {
          "output_type": "stream",
          "text": [
            "(3667749, 39) (3667749,) in\n"
          ],
          "name": "stdout"
        },
        {
          "output_type": "display_data",
          "data": {
            "image/png": "[encoded data removed]",
            "text/plain": [
              "<Figure size 1440x360 with 1 Axes>"
            ]
          },
          "metadata": {
            "tags": []
          }
        }
      ]
    },
    {
      "cell_type": "markdown",
      "metadata": {
        "id": "T9RKBBL_mrDR",
        "colab_type": "text"
      },
      "source": [
        "add floor_count"
      ]
    },
    {
      "cell_type": "code",
      "metadata": {
        "id": "XwowDUx_zOAO",
        "colab_type": "code",
        "outputId": "f33f1e61-8c9b-44be-e169-8ffa06db20ce",
        "colab": {
          "base_uri": "https://localhost:8080/",
          "height": 483
        }
      },
      "source": [
        "bf = BymeterFeatures(reg, col = 'meter')\n",
        "plot_cost_features(bf, X, y, drop = ['building_id','year_built','site_id','primary_use', 'square_feet', 'floor_count'])"
      ],
      "execution_count": 0,
      "outputs": [
        {
          "output_type": "display_data",
          "data": {
            "image/png": "[encoded data removed]",
            "text/plain": [
              "<Figure size 1440x360 with 1 Axes>"
            ]
          },
          "metadata": {
            "tags": []
          }
        }
      ]
    },
    {
      "cell_type": "markdown",
      "metadata": {
        "id": "SVdGAUyaqcoK",
        "colab_type": "text"
      },
      "source": [
        "Мне не нравится что есть там и там(хм там там), я думаю что нужно исключить повторения по скольку мы вроде  этим и занимаемся\n",
        " дроп air, dew temperature and hour"
      ]
    },
    {
      "cell_type": "code",
      "metadata": {
        "id": "k4WEIRAWzN54",
        "colab_type": "code",
        "outputId": "c3f67e1e-ba4e-406f-b59d-5f15c88d3c79",
        "colab": {
          "base_uri": "https://localhost:8080/",
          "height": 483
        }
      },
      "source": [
        "bf = BymeterFeatures(reg, col = 'meter')\n",
        "plot_cost_features(bf, X, y, drop = ['building_id','year_built','site_id','primary_use', 'square_feet', 'floor_count', 'air_temperature', 'dew_temperature','hour'])"
      ],
      "execution_count": 0,
      "outputs": [
        {
          "output_type": "display_data",
          "data": {
            "image/png": "[encoded data removed]",
            "text/plain": [
              "<Figure size 1440x360 with 1 Axes>"
            ]
          },
          "metadata": {
            "tags": []
          }
        }
      ]
    },
    {
      "cell_type": "markdown",
      "metadata": {
        "id": "CXdIiLTzbx4C",
        "colab_type": "text"
      },
      "source": [
        "#error cv"
      ]
    },
    {
      "cell_type": "code",
      "metadata": {
        "id": "d-slDozvvPBA",
        "colab_type": "code",
        "outputId": "3756d886-664e-462a-debf-70b44f953bc2",
        "colab": {
          "base_uri": "https://localhost:8080/",
          "height": 286
        }
      },
      "source": [
        "train.columns"
      ],
      "execution_count": 0,
      "outputs": [
        {
          "output_type": "execute_result",
          "data": {
            "text/plain": [
              "Index(['building_id', 'meter', 'timestamp', 'meter_reading', 'site_id',\n",
              "       'primary_use', 'square_feet', 'year_built', 'floor_count',\n",
              "       'air_temperature', 'cloud_coverage', 'dew_temperature',\n",
              "       'precip_depth_1_hr', 'sea_level_pressure', 'wind_direction',\n",
              "       'wind_speed', 'mark_not_fill_air_temperature',\n",
              "       'mark_not_fill_cloud_coverage', 'mark_not_fill_dew_temperature',\n",
              "       'mark_not_fill_precip_depth_1_hr', 'mark_not_fill_sea_level_pressure',\n",
              "       'mark_not_fill_wind_direction', 'mark_not_fill_wind_speed', 'hour',\n",
              "       'month', 'weekday', 'dayofyear', 'weekofyear', 'quarter', 'monthday',\n",
              "       'holiday', 'rolling_back_air_temperature',\n",
              "       'rolling_forw_air_temperature', 'rolling_back_h_air_temperature',\n",
              "       'rolling_back_h_f_air_temperature', 'rolling_back_dew_temperature',\n",
              "       'rolling_forw_dew_temperature', 'rolling_back_h_dew_temperature',\n",
              "       'rolling_back_h_f_dew_temperature', 'e', 'es', 'rh', 'rec_air',\n",
              "       'rec_dew', 'rec_rh'],\n",
              "      dtype='object')"
            ]
          },
          "metadata": {
            "tags": []
          },
          "execution_count": 41
        }
      ]
    },
    {
      "cell_type": "code",
      "metadata": {
        "id": "CH0a-98YzN2s",
        "colab_type": "code",
        "colab": {}
      },
      "source": [
        "primary_features = ['building_id','year_built','site_id','primary_use', 'square_feet', 'floor_count', 'timestamp', 'meter_reading', 'meter']\n",
        "second_features = ['meter', 'timestamp', 'meter_reading','floor_count','air_temperature', 'cloud_coverage', \n",
        "                   'dew_temperature','sea_level_pressure','mark_not_fill_precip_depth_1_hr', 'hour', 'rh']\n",
        "third_features = ['meter', 'timestamp', 'meter_reading', 'e', 'es', 'monthday', 'rolling_forw_air_temperature', 'rolling_back_h_air_temperature',\n",
        "                  'rolling_back_h_f_air_temperature', 'rolling_back_dew_temperature', 'rolling_forw_dew_temperature', 'rolling_back_h_dew_temperature',\n",
        "                  'rolling_back_h_f_dew_temperature',]"
      ],
      "execution_count": 0,
      "outputs": []
    },
    {
      "cell_type": "code",
      "metadata": {
        "id": "gbghtVKmdQLo",
        "colab_type": "code",
        "colab": {}
      },
      "source": [
        "def rand_sample(idx, f = 0.25):\n",
        "  #вернет выборку рандомную, f - коеф. размера выборки\n",
        "  np.random.seed(0)\n",
        "  sample_idx = np.random.choice(idx, int(len(idx) * f),replace=False)  \n",
        "  return sample_idx"
      ],
      "execution_count": 0,
      "outputs": []
    },
    {
      "cell_type": "code",
      "metadata": {
        "id": "pupF7FaG0oYT",
        "colab_type": "code",
        "colab": {}
      },
      "source": [
        "def idx_split(df, frac):\n",
        "  idx = np.argsort(df.timestamp.values, kind='stable')\n",
        "  split = np.array_split(idx, 12) #каждый месяц\n",
        "  \"\"\"\n",
        "  у нас есть 12 сплитов и нам нужно чтобы трайн и тест не пересикались\n",
        "  10 трайн, 2 тест\n",
        "\n",
        "  \"\"\"\n",
        "  box = []\n",
        "  for x in range(0, 12, 2):\n",
        "    test_idx = np.concatenate(split[x:x + 2])#все четные\n",
        "    train_idx = np.concatenate([split[ix % 12] for ix in range(x + 3, x + 11)])\n",
        "    box.append((rand_sample(train_idx, frac), rand_sample(test_idx, frac)))\n",
        "  return box\n",
        "\n",
        "def method_name(data, target, verbose = True):\n",
        "  #data array for each meter\n",
        "  box = []\n",
        "  #print(data, 'Data')\n",
        "  for meter in data:\n",
        "    #print(meter[1][0], 'metre loop')\n",
        "    X = meter[0]\n",
        "    y = target.iloc[meter[1][0]]\n",
        "    err = np.sqrt(mean_squared_log_error(y, np.clip(X, 0, None)))    \n",
        "    box.append(err)\n",
        "  #print(box, 'Data ends')\n",
        "  df =  pd.DataFrame(np.array(box)[np.newaxis, :], columns =['electricity', 'chilledwater', 'steam', 'hotwater'])\n",
        "  if verbose:\n",
        "    display(df)\n",
        "  return np.array(box)\n",
        "\n",
        "def find_std(arr):\n",
        "  # in method name\n",
        "  # take array, return sts by col, return df\n",
        "  df = pd.DataFrame(arr, columns =['electricity', 'chilledwater', 'steam', 'hotwater']).std(axis = 0)\n",
        "  display(df)\n",
        "  return df\n",
        "\n",
        "def cv(model, split, df, retn = False, std = True, timestamp = True, verbose = True):\n",
        "  box = []\n",
        "  box2 = [] # fck name is bad )) \n",
        "\n",
        "  if timestamp:\n",
        "    X = df.drop('meter_reading', axis = 'columns')\n",
        "  else:\n",
        "    X = df.drop(['meter_reading', 'timestamp'], axis = 'columns')\n",
        "\n",
        "  y = df.meter_reading\n",
        "  for n, (train_idx, test_idx) in enumerate(split):\n",
        "    train = X.iloc[train_idx]\n",
        "    target = y.reindex_like(train)\n",
        "    test = X.iloc[test_idx]\n",
        "    target_test = y.reindex_like(test)\n",
        "    print('Fit model')    \n",
        "    model.fit(train, target)\n",
        "    #print(train.shape, target.shape)\n",
        "    #collect all predict by splits    \n",
        "    box.append(pd.DataFrame(dict(target=target_test, prediction=model.predict(test)), index=target_test.index))         \n",
        "    df_meters = method_name(model.return_meters, target_test, verbose)# return df\n",
        "    box2.append(df_meters)       \n",
        "  result = pd.concat(box).sort_index()\n",
        "  #negatives values    \n",
        "  #print(np.sqrt(mean_squared_log_error(result.target, abs(result.prediction))))\n",
        "  if verbose:\n",
        "    print(np.sqrt(mean_squared_log_error(result.target, np.clip(result.prediction, 0, None))))\n",
        "    print('--------------------')      \n",
        "  if std:\n",
        "    if verbose:\n",
        "      print('--------------------')\n",
        "      print('Std')\n",
        "      print('--------------------')\n",
        "    return find_std(box2)    \n",
        "  if retn:\n",
        "    #return Series\n",
        "    #return result.target, result.prediction\n",
        "    return np.sqrt(mean_squared_log_error(result.target, np.clip(result.prediction, 0, None)))"
      ],
      "execution_count": 0,
      "outputs": []
    },
    {
      "cell_type": "code",
      "metadata": {
        "id": "4Rbk5oTrHd9R",
        "colab_type": "code",
        "outputId": "c748a02d-7622-4c69-ed15-0a1f00e5fd47",
        "colab": {
          "base_uri": "https://localhost:8080/",
          "height": 77
        }
      },
      "source": [
        "a = [1.68569242180572, 1.7777467471685795, 0.9631612729099923, 2.601066504300817]\n",
        "pd.DataFrame(np.array(a)[np.newaxis, :], columns =['electricity', 'chilledwater', 'steam', 'hotwater'])"
      ],
      "execution_count": 0,
      "outputs": [
        {
          "output_type": "execute_result",
          "data": {
            "text/html": [
              "<div>\n",
              "<style scoped>\n",
              "    .dataframe tbody tr th:only-of-type {\n",
              "        vertical-align: middle;\n",
              "    }\n",
              "\n",
              "    .dataframe tbody tr th {\n",
              "        vertical-align: top;\n",
              "    }\n",
              "\n",
              "    .dataframe thead th {\n",
              "        text-align: right;\n",
              "    }\n",
              "</style>\n",
              "<table border=\"1\" class=\"dataframe\">\n",
              "  <thead>\n",
              "    <tr style=\"text-align: right;\">\n",
              "      <th></th>\n",
              "      <th>electricity</th>\n",
              "      <th>chilledwater</th>\n",
              "      <th>steam</th>\n",
              "      <th>hotwater</th>\n",
              "    </tr>\n",
              "  </thead>\n",
              "  <tbody>\n",
              "    <tr>\n",
              "      <th>0</th>\n",
              "      <td>1.685692</td>\n",
              "      <td>1.777747</td>\n",
              "      <td>0.963161</td>\n",
              "      <td>2.601067</td>\n",
              "    </tr>\n",
              "  </tbody>\n",
              "</table>\n",
              "</div>"
            ],
            "text/plain": [
              "   electricity  chilledwater     steam  hotwater\n",
              "0     1.685692      1.777747  0.963161  2.601067"
            ]
          },
          "metadata": {
            "tags": []
          },
          "execution_count": 95
        }
      ]
    },
    {
      "cell_type": "markdown",
      "metadata": {
        "id": "tZD3A5i32r7c",
        "colab_type": "text"
      },
      "source": [
        "###cat hide"
      ]
    },
    {
      "cell_type": "code",
      "metadata": {
        "colab_type": "code",
        "id": "nvskAnDHCe2K",
        "colab": {}
      },
      "source": [
        "cat =  ['mark_not_fill_cloud_coverage', 'mark_not_fill_dew_temperature','mark_not_fill_air_temperature','holiday',\n",
        "        'mark_not_fill_precip_depth_1_hr', 'mark_not_fill_sea_level_pressure', 'mark_not_fill_wind_direction', 'mark_not_fill_wind_speed',\n",
        "        'building_id','meter', 'site_id','primary_use']"
      ],
      "execution_count": 0,
      "outputs": []
    },
    {
      "cell_type": "code",
      "metadata": {
        "id": "ID9MlcNsA3sq",
        "colab_type": "code",
        "colab": {}
      },
      "source": [
        "train_cat = train.copy()"
      ],
      "execution_count": 0,
      "outputs": []
    },
    {
      "cell_type": "code",
      "metadata": {
        "id": "4RiqgTIXr_YM",
        "colab_type": "code",
        "colab": {}
      },
      "source": [
        "train_cat['meter_reading'] = np.log1p(train_cat['meter_reading'])"
      ],
      "execution_count": 0,
      "outputs": []
    },
    {
      "cell_type": "code",
      "metadata": {
        "id": "v91Bm8cMCZjd",
        "colab_type": "code",
        "colab": {}
      },
      "source": [
        "for col in cat:\n",
        "  train_cat[col] = train_cat[col].astype('category')"
      ],
      "execution_count": 0,
      "outputs": []
    },
    {
      "cell_type": "code",
      "metadata": {
        "id": "76ld9_xRCZh_",
        "colab_type": "code",
        "outputId": "1d939a99-5d66-4e9f-ca71-49e528b65edb",
        "colab": {
          "base_uri": "https://localhost:8080/"
        }
      },
      "source": [
        "reg = lgb.LGBMRegressor()\n",
        "split = idx_split(train_cat, 0.25)\n",
        "bf = BymeterFeatures(reg, col = 'meter')\n",
        "cv(bf, split, train_cat, retn = False)"
      ],
      "execution_count": 0,
      "outputs": [
        {
          "output_type": "stream",
          "text": [
            "Fit model\n",
            "Predict by meters\n",
            "------------------\n"
          ],
          "name": "stdout"
        },
        {
          "output_type": "display_data",
          "data": {
            "text/html": [
              "<div>\n",
              "<style scoped>\n",
              "    .dataframe tbody tr th:only-of-type {\n",
              "        vertical-align: middle;\n",
              "    }\n",
              "\n",
              "    .dataframe tbody tr th {\n",
              "        vertical-align: top;\n",
              "    }\n",
              "\n",
              "    .dataframe thead th {\n",
              "        text-align: right;\n",
              "    }\n",
              "</style>\n",
              "<table border=\"1\" class=\"dataframe\">\n",
              "  <thead>\n",
              "    <tr style=\"text-align: right;\">\n",
              "      <th></th>\n",
              "      <th>electricity</th>\n",
              "      <th>chilledwater</th>\n",
              "      <th>steam</th>\n",
              "      <th>hotwater</th>\n",
              "    </tr>\n",
              "  </thead>\n",
              "  <tbody>\n",
              "    <tr>\n",
              "      <th>0</th>\n",
              "      <td>0.56691</td>\n",
              "      <td>0.365146</td>\n",
              "      <td>0.194366</td>\n",
              "      <td>0.489486</td>\n",
              "    </tr>\n",
              "  </tbody>\n",
              "</table>\n",
              "</div>"
            ],
            "text/plain": [
              "   electricity  chilledwater     steam  hotwater\n",
              "0      0.56691      0.365146  0.194366  0.489486"
            ]
          },
          "metadata": {
            "tags": []
          }
        },
        {
          "output_type": "stream",
          "text": [
            "------------------\n",
            "Split 0 ends\n",
            "Fit model\n",
            "Predict by meters\n",
            "------------------\n"
          ],
          "name": "stdout"
        },
        {
          "output_type": "display_data",
          "data": {
            "text/html": [
              "<div>\n",
              "<style scoped>\n",
              "    .dataframe tbody tr th:only-of-type {\n",
              "        vertical-align: middle;\n",
              "    }\n",
              "\n",
              "    .dataframe tbody tr th {\n",
              "        vertical-align: top;\n",
              "    }\n",
              "\n",
              "    .dataframe thead th {\n",
              "        text-align: right;\n",
              "    }\n",
              "</style>\n",
              "<table border=\"1\" class=\"dataframe\">\n",
              "  <thead>\n",
              "    <tr style=\"text-align: right;\">\n",
              "      <th></th>\n",
              "      <th>electricity</th>\n",
              "      <th>chilledwater</th>\n",
              "      <th>steam</th>\n",
              "      <th>hotwater</th>\n",
              "    </tr>\n",
              "  </thead>\n",
              "  <tbody>\n",
              "    <tr>\n",
              "      <th>0</th>\n",
              "      <td>0.439216</td>\n",
              "      <td>0.355969</td>\n",
              "      <td>0.457541</td>\n",
              "      <td>0.261127</td>\n",
              "    </tr>\n",
              "  </tbody>\n",
              "</table>\n",
              "</div>"
            ],
            "text/plain": [
              "   electricity  chilledwater     steam  hotwater\n",
              "0     0.439216      0.355969  0.457541  0.261127"
            ]
          },
          "metadata": {
            "tags": []
          }
        },
        {
          "output_type": "stream",
          "text": [
            "------------------\n",
            "Split 1 ends\n",
            "Fit model\n",
            "Predict by meters\n",
            "------------------\n"
          ],
          "name": "stdout"
        },
        {
          "output_type": "display_data",
          "data": {
            "text/html": [
              "<div>\n",
              "<style scoped>\n",
              "    .dataframe tbody tr th:only-of-type {\n",
              "        vertical-align: middle;\n",
              "    }\n",
              "\n",
              "    .dataframe tbody tr th {\n",
              "        vertical-align: top;\n",
              "    }\n",
              "\n",
              "    .dataframe thead th {\n",
              "        text-align: right;\n",
              "    }\n",
              "</style>\n",
              "<table border=\"1\" class=\"dataframe\">\n",
              "  <thead>\n",
              "    <tr style=\"text-align: right;\">\n",
              "      <th></th>\n",
              "      <th>electricity</th>\n",
              "      <th>chilledwater</th>\n",
              "      <th>steam</th>\n",
              "      <th>hotwater</th>\n",
              "    </tr>\n",
              "  </thead>\n",
              "  <tbody>\n",
              "    <tr>\n",
              "      <th>0</th>\n",
              "      <td>0.493485</td>\n",
              "      <td>0.487914</td>\n",
              "      <td>0.375117</td>\n",
              "      <td>0.268682</td>\n",
              "    </tr>\n",
              "  </tbody>\n",
              "</table>\n",
              "</div>"
            ],
            "text/plain": [
              "   electricity  chilledwater     steam  hotwater\n",
              "0     0.493485      0.487914  0.375117  0.268682"
            ]
          },
          "metadata": {
            "tags": []
          }
        },
        {
          "output_type": "stream",
          "text": [
            "------------------\n",
            "Split 2 ends\n",
            "Fit model\n",
            "Predict by meters\n",
            "------------------\n"
          ],
          "name": "stdout"
        },
        {
          "output_type": "display_data",
          "data": {
            "text/html": [
              "<div>\n",
              "<style scoped>\n",
              "    .dataframe tbody tr th:only-of-type {\n",
              "        vertical-align: middle;\n",
              "    }\n",
              "\n",
              "    .dataframe tbody tr th {\n",
              "        vertical-align: top;\n",
              "    }\n",
              "\n",
              "    .dataframe thead th {\n",
              "        text-align: right;\n",
              "    }\n",
              "</style>\n",
              "<table border=\"1\" class=\"dataframe\">\n",
              "  <thead>\n",
              "    <tr style=\"text-align: right;\">\n",
              "      <th></th>\n",
              "      <th>electricity</th>\n",
              "      <th>chilledwater</th>\n",
              "      <th>steam</th>\n",
              "      <th>hotwater</th>\n",
              "    </tr>\n",
              "  </thead>\n",
              "  <tbody>\n",
              "    <tr>\n",
              "      <th>0</th>\n",
              "      <td>0.378042</td>\n",
              "      <td>0.529606</td>\n",
              "      <td>0.486504</td>\n",
              "      <td>0.26208</td>\n",
              "    </tr>\n",
              "  </tbody>\n",
              "</table>\n",
              "</div>"
            ],
            "text/plain": [
              "   electricity  chilledwater     steam  hotwater\n",
              "0     0.378042      0.529606  0.486504   0.26208"
            ]
          },
          "metadata": {
            "tags": []
          }
        },
        {
          "output_type": "stream",
          "text": [
            "------------------\n",
            "Split 3 ends\n",
            "Fit model\n",
            "Predict by meters\n",
            "------------------\n"
          ],
          "name": "stdout"
        },
        {
          "output_type": "display_data",
          "data": {
            "text/html": [
              "<div>\n",
              "<style scoped>\n",
              "    .dataframe tbody tr th:only-of-type {\n",
              "        vertical-align: middle;\n",
              "    }\n",
              "\n",
              "    .dataframe tbody tr th {\n",
              "        vertical-align: top;\n",
              "    }\n",
              "\n",
              "    .dataframe thead th {\n",
              "        text-align: right;\n",
              "    }\n",
              "</style>\n",
              "<table border=\"1\" class=\"dataframe\">\n",
              "  <thead>\n",
              "    <tr style=\"text-align: right;\">\n",
              "      <th></th>\n",
              "      <th>electricity</th>\n",
              "      <th>chilledwater</th>\n",
              "      <th>steam</th>\n",
              "      <th>hotwater</th>\n",
              "    </tr>\n",
              "  </thead>\n",
              "  <tbody>\n",
              "    <tr>\n",
              "      <th>0</th>\n",
              "      <td>0.487741</td>\n",
              "      <td>0.377538</td>\n",
              "      <td>0.494323</td>\n",
              "      <td>0.230033</td>\n",
              "    </tr>\n",
              "  </tbody>\n",
              "</table>\n",
              "</div>"
            ],
            "text/plain": [
              "   electricity  chilledwater     steam  hotwater\n",
              "0     0.487741      0.377538  0.494323  0.230033"
            ]
          },
          "metadata": {
            "tags": []
          }
        },
        {
          "output_type": "stream",
          "text": [
            "------------------\n",
            "Split 4 ends\n",
            "Fit model\n",
            "Predict by meters\n",
            "------------------\n"
          ],
          "name": "stdout"
        },
        {
          "output_type": "display_data",
          "data": {
            "text/html": [
              "<div>\n",
              "<style scoped>\n",
              "    .dataframe tbody tr th:only-of-type {\n",
              "        vertical-align: middle;\n",
              "    }\n",
              "\n",
              "    .dataframe tbody tr th {\n",
              "        vertical-align: top;\n",
              "    }\n",
              "\n",
              "    .dataframe thead th {\n",
              "        text-align: right;\n",
              "    }\n",
              "</style>\n",
              "<table border=\"1\" class=\"dataframe\">\n",
              "  <thead>\n",
              "    <tr style=\"text-align: right;\">\n",
              "      <th></th>\n",
              "      <th>electricity</th>\n",
              "      <th>chilledwater</th>\n",
              "      <th>steam</th>\n",
              "      <th>hotwater</th>\n",
              "    </tr>\n",
              "  </thead>\n",
              "  <tbody>\n",
              "    <tr>\n",
              "      <th>0</th>\n",
              "      <td>0.587683</td>\n",
              "      <td>0.495131</td>\n",
              "      <td>0.169842</td>\n",
              "      <td>0.47784</td>\n",
              "    </tr>\n",
              "  </tbody>\n",
              "</table>\n",
              "</div>"
            ],
            "text/plain": [
              "   electricity  chilledwater     steam  hotwater\n",
              "0     0.587683      0.495131  0.169842   0.47784"
            ]
          },
          "metadata": {
            "tags": []
          }
        },
        {
          "output_type": "stream",
          "text": [
            "------------------\n",
            "Split 5 ends\n",
            "0.422744027483803\n"
          ],
          "name": "stdout"
        }
      ]
    },
    {
      "cell_type": "markdown",
      "metadata": {
        "id": "pHaVIIu52ulx",
        "colab_type": "text"
      },
      "source": [
        "###end"
      ]
    },
    {
      "cell_type": "markdown",
      "metadata": {
        "id": "b2i4-v5B3ECC",
        "colab_type": "text"
      },
      "source": [
        "Текст это круто но но я хачу  у видеть разницу в цифрах по сплитам std, разницу видно но всетаки хочется циферку.\n",
        "\n",
        "Ага а теперь я хачу все стд соединить"
      ]
    },
    {
      "cell_type": "code",
      "metadata": {
        "id": "sWcYmz1iwoa7",
        "colab_type": "code",
        "colab": {}
      },
      "source": [
        "reg = lgb.LGBMRegressor(\n",
        "      learning_rate=0.05,\n",
        "      objective='mae',\n",
        "      n_estimators=350,\n",
        "      num_threads=os.cpu_count(),\n",
        "      num_leaves=31,\n",
        "      max_depth=8,\n",
        "      subsample=0.8,\n",
        "      min_child_samples=50,\n",
        "      random_state=42)"
      ],
      "execution_count": 0,
      "outputs": []
    },
    {
      "cell_type": "code",
      "metadata": {
        "id": "n9CR-NnD9GY-",
        "colab_type": "code",
        "outputId": "544fcdf5-207a-4665-fabc-4a9dcdb5ed0f",
        "colab": {
          "base_uri": "https://localhost:8080/",
          "height": 973
        }
      },
      "source": [
        "reg = lgb.LGBMRegressor()\n",
        "split = idx_split(train.loc[:,primary_features], 0.25)\n",
        "bf = BymeterFeatures(reg, col = 'meter')\n",
        "std_prim = cv(bf, split, train.loc[:, primary_features], retn = False, std = True, timestamp=True)"
      ],
      "execution_count": 0,
      "outputs": [
        {
          "output_type": "stream",
          "text": [
            "Fit model\n",
            "------------------\n"
          ],
          "name": "stdout"
        },
        {
          "output_type": "display_data",
          "data": {
            "text/html": [
              "<div>\n",
              "<style scoped>\n",
              "    .dataframe tbody tr th:only-of-type {\n",
              "        vertical-align: middle;\n",
              "    }\n",
              "\n",
              "    .dataframe tbody tr th {\n",
              "        vertical-align: top;\n",
              "    }\n",
              "\n",
              "    .dataframe thead th {\n",
              "        text-align: right;\n",
              "    }\n",
              "</style>\n",
              "<table border=\"1\" class=\"dataframe\">\n",
              "  <thead>\n",
              "    <tr style=\"text-align: right;\">\n",
              "      <th></th>\n",
              "      <th>electricity</th>\n",
              "      <th>chilledwater</th>\n",
              "      <th>steam</th>\n",
              "      <th>hotwater</th>\n",
              "    </tr>\n",
              "  </thead>\n",
              "  <tbody>\n",
              "    <tr>\n",
              "      <th>0</th>\n",
              "      <td>1.780024</td>\n",
              "      <td>2.125948</td>\n",
              "      <td>1.192984</td>\n",
              "      <td>3.065242</td>\n",
              "    </tr>\n",
              "  </tbody>\n",
              "</table>\n",
              "</div>"
            ],
            "text/plain": [
              "   electricity  chilledwater     steam  hotwater\n",
              "0     1.780024      2.125948  1.192984  3.065242"
            ]
          },
          "metadata": {
            "tags": []
          }
        },
        {
          "output_type": "stream",
          "text": [
            "------------------\n",
            "Split 0 ends\n",
            "Fit model\n",
            "------------------\n"
          ],
          "name": "stdout"
        },
        {
          "output_type": "display_data",
          "data": {
            "text/html": [
              "<div>\n",
              "<style scoped>\n",
              "    .dataframe tbody tr th:only-of-type {\n",
              "        vertical-align: middle;\n",
              "    }\n",
              "\n",
              "    .dataframe tbody tr th {\n",
              "        vertical-align: top;\n",
              "    }\n",
              "\n",
              "    .dataframe thead th {\n",
              "        text-align: right;\n",
              "    }\n",
              "</style>\n",
              "<table border=\"1\" class=\"dataframe\">\n",
              "  <thead>\n",
              "    <tr style=\"text-align: right;\">\n",
              "      <th></th>\n",
              "      <th>electricity</th>\n",
              "      <th>chilledwater</th>\n",
              "      <th>steam</th>\n",
              "      <th>hotwater</th>\n",
              "    </tr>\n",
              "  </thead>\n",
              "  <tbody>\n",
              "    <tr>\n",
              "      <th>0</th>\n",
              "      <td>2.567813</td>\n",
              "      <td>1.963944</td>\n",
              "      <td>2.034232</td>\n",
              "      <td>1.344441</td>\n",
              "    </tr>\n",
              "  </tbody>\n",
              "</table>\n",
              "</div>"
            ],
            "text/plain": [
              "   electricity  chilledwater     steam  hotwater\n",
              "0     2.567813      1.963944  2.034232  1.344441"
            ]
          },
          "metadata": {
            "tags": []
          }
        },
        {
          "output_type": "stream",
          "text": [
            "------------------\n",
            "Split 1 ends\n",
            "Fit model\n",
            "------------------\n"
          ],
          "name": "stdout"
        },
        {
          "output_type": "display_data",
          "data": {
            "text/html": [
              "<div>\n",
              "<style scoped>\n",
              "    .dataframe tbody tr th:only-of-type {\n",
              "        vertical-align: middle;\n",
              "    }\n",
              "\n",
              "    .dataframe tbody tr th {\n",
              "        vertical-align: top;\n",
              "    }\n",
              "\n",
              "    .dataframe thead th {\n",
              "        text-align: right;\n",
              "    }\n",
              "</style>\n",
              "<table border=\"1\" class=\"dataframe\">\n",
              "  <thead>\n",
              "    <tr style=\"text-align: right;\">\n",
              "      <th></th>\n",
              "      <th>electricity</th>\n",
              "      <th>chilledwater</th>\n",
              "      <th>steam</th>\n",
              "      <th>hotwater</th>\n",
              "    </tr>\n",
              "  </thead>\n",
              "  <tbody>\n",
              "    <tr>\n",
              "      <th>0</th>\n",
              "      <td>2.444136</td>\n",
              "      <td>2.317879</td>\n",
              "      <td>2.077008</td>\n",
              "      <td>1.884898</td>\n",
              "    </tr>\n",
              "  </tbody>\n",
              "</table>\n",
              "</div>"
            ],
            "text/plain": [
              "   electricity  chilledwater     steam  hotwater\n",
              "0     2.444136      2.317879  2.077008  1.884898"
            ]
          },
          "metadata": {
            "tags": []
          }
        },
        {
          "output_type": "stream",
          "text": [
            "------------------\n",
            "Split 2 ends\n",
            "Fit model\n",
            "------------------\n"
          ],
          "name": "stdout"
        },
        {
          "output_type": "display_data",
          "data": {
            "text/html": [
              "<div>\n",
              "<style scoped>\n",
              "    .dataframe tbody tr th:only-of-type {\n",
              "        vertical-align: middle;\n",
              "    }\n",
              "\n",
              "    .dataframe tbody tr th {\n",
              "        vertical-align: top;\n",
              "    }\n",
              "\n",
              "    .dataframe thead th {\n",
              "        text-align: right;\n",
              "    }\n",
              "</style>\n",
              "<table border=\"1\" class=\"dataframe\">\n",
              "  <thead>\n",
              "    <tr style=\"text-align: right;\">\n",
              "      <th></th>\n",
              "      <th>electricity</th>\n",
              "      <th>chilledwater</th>\n",
              "      <th>steam</th>\n",
              "      <th>hotwater</th>\n",
              "    </tr>\n",
              "  </thead>\n",
              "  <tbody>\n",
              "    <tr>\n",
              "      <th>0</th>\n",
              "      <td>2.408571</td>\n",
              "      <td>2.82076</td>\n",
              "      <td>2.293179</td>\n",
              "      <td>1.7646</td>\n",
              "    </tr>\n",
              "  </tbody>\n",
              "</table>\n",
              "</div>"
            ],
            "text/plain": [
              "   electricity  chilledwater     steam  hotwater\n",
              "0     2.408571       2.82076  2.293179    1.7646"
            ]
          },
          "metadata": {
            "tags": []
          }
        },
        {
          "output_type": "stream",
          "text": [
            "------------------\n",
            "Split 3 ends\n",
            "Fit model\n",
            "------------------\n"
          ],
          "name": "stdout"
        },
        {
          "output_type": "display_data",
          "data": {
            "text/html": [
              "<div>\n",
              "<style scoped>\n",
              "    .dataframe tbody tr th:only-of-type {\n",
              "        vertical-align: middle;\n",
              "    }\n",
              "\n",
              "    .dataframe tbody tr th {\n",
              "        vertical-align: top;\n",
              "    }\n",
              "\n",
              "    .dataframe thead th {\n",
              "        text-align: right;\n",
              "    }\n",
              "</style>\n",
              "<table border=\"1\" class=\"dataframe\">\n",
              "  <thead>\n",
              "    <tr style=\"text-align: right;\">\n",
              "      <th></th>\n",
              "      <th>electricity</th>\n",
              "      <th>chilledwater</th>\n",
              "      <th>steam</th>\n",
              "      <th>hotwater</th>\n",
              "    </tr>\n",
              "  </thead>\n",
              "  <tbody>\n",
              "    <tr>\n",
              "      <th>0</th>\n",
              "      <td>2.572176</td>\n",
              "      <td>2.414017</td>\n",
              "      <td>2.93222</td>\n",
              "      <td>1.638641</td>\n",
              "    </tr>\n",
              "  </tbody>\n",
              "</table>\n",
              "</div>"
            ],
            "text/plain": [
              "   electricity  chilledwater    steam  hotwater\n",
              "0     2.572176      2.414017  2.93222  1.638641"
            ]
          },
          "metadata": {
            "tags": []
          }
        },
        {
          "output_type": "stream",
          "text": [
            "------------------\n",
            "Split 4 ends\n",
            "Fit model\n",
            "------------------\n"
          ],
          "name": "stdout"
        },
        {
          "output_type": "display_data",
          "data": {
            "text/html": [
              "<div>\n",
              "<style scoped>\n",
              "    .dataframe tbody tr th:only-of-type {\n",
              "        vertical-align: middle;\n",
              "    }\n",
              "\n",
              "    .dataframe tbody tr th {\n",
              "        vertical-align: top;\n",
              "    }\n",
              "\n",
              "    .dataframe thead th {\n",
              "        text-align: right;\n",
              "    }\n",
              "</style>\n",
              "<table border=\"1\" class=\"dataframe\">\n",
              "  <thead>\n",
              "    <tr style=\"text-align: right;\">\n",
              "      <th></th>\n",
              "      <th>electricity</th>\n",
              "      <th>chilledwater</th>\n",
              "      <th>steam</th>\n",
              "      <th>hotwater</th>\n",
              "    </tr>\n",
              "  </thead>\n",
              "  <tbody>\n",
              "    <tr>\n",
              "      <th>0</th>\n",
              "      <td>3.062584</td>\n",
              "      <td>2.770746</td>\n",
              "      <td>1.559084</td>\n",
              "      <td>2.426121</td>\n",
              "    </tr>\n",
              "  </tbody>\n",
              "</table>\n",
              "</div>"
            ],
            "text/plain": [
              "   electricity  chilledwater     steam  hotwater\n",
              "0     3.062584      2.770746  1.559084  2.426121"
            ]
          },
          "metadata": {
            "tags": []
          }
        },
        {
          "output_type": "stream",
          "text": [
            "------------------\n",
            "Split 5 ends\n",
            "2.3659148758901543\n",
            "--------------------\n",
            "--------------------\n",
            "Std\n",
            "--------------------\n"
          ],
          "name": "stdout"
        },
        {
          "output_type": "display_data",
          "data": {
            "text/plain": [
              "electricity     0.412707\n",
              "chilledwater    0.342535\n",
              "steam           0.601076\n",
              "hotwater        0.623339\n",
              "dtype: float64"
            ]
          },
          "metadata": {
            "tags": []
          }
        }
      ]
    },
    {
      "cell_type": "code",
      "metadata": {
        "id": "wfcR_d1N0oP9",
        "colab_type": "code",
        "outputId": "b1062b27-0407-46de-f5af-451ce3f9ed52",
        "colab": {
          "base_uri": "https://localhost:8080/",
          "height": 973
        }
      },
      "source": [
        "split = idx_split(train.loc[:, third_features], 0.25)\n",
        "bf = BymeterFeatures(reg, col = 'meter')\n",
        "std_third = cv(bf, split, train.loc[:, third_features], retn = False, std=True, timestamp=True) #2.007"
      ],
      "execution_count": 0,
      "outputs": [
        {
          "output_type": "stream",
          "text": [
            "Fit model\n",
            "------------------\n"
          ],
          "name": "stdout"
        },
        {
          "output_type": "display_data",
          "data": {
            "text/html": [
              "<div>\n",
              "<style scoped>\n",
              "    .dataframe tbody tr th:only-of-type {\n",
              "        vertical-align: middle;\n",
              "    }\n",
              "\n",
              "    .dataframe tbody tr th {\n",
              "        vertical-align: top;\n",
              "    }\n",
              "\n",
              "    .dataframe thead th {\n",
              "        text-align: right;\n",
              "    }\n",
              "</style>\n",
              "<table border=\"1\" class=\"dataframe\">\n",
              "  <thead>\n",
              "    <tr style=\"text-align: right;\">\n",
              "      <th></th>\n",
              "      <th>electricity</th>\n",
              "      <th>chilledwater</th>\n",
              "      <th>steam</th>\n",
              "      <th>hotwater</th>\n",
              "    </tr>\n",
              "  </thead>\n",
              "  <tbody>\n",
              "    <tr>\n",
              "      <th>0</th>\n",
              "      <td>1.813844</td>\n",
              "      <td>3.224397</td>\n",
              "      <td>2.52723</td>\n",
              "      <td>3.428727</td>\n",
              "    </tr>\n",
              "  </tbody>\n",
              "</table>\n",
              "</div>"
            ],
            "text/plain": [
              "   electricity  chilledwater    steam  hotwater\n",
              "0     1.813844      3.224397  2.52723  3.428727"
            ]
          },
          "metadata": {
            "tags": []
          }
        },
        {
          "output_type": "stream",
          "text": [
            "------------------\n",
            "Split 0 ends\n",
            "Fit model\n",
            "------------------\n"
          ],
          "name": "stdout"
        },
        {
          "output_type": "display_data",
          "data": {
            "text/html": [
              "<div>\n",
              "<style scoped>\n",
              "    .dataframe tbody tr th:only-of-type {\n",
              "        vertical-align: middle;\n",
              "    }\n",
              "\n",
              "    .dataframe tbody tr th {\n",
              "        vertical-align: top;\n",
              "    }\n",
              "\n",
              "    .dataframe thead th {\n",
              "        text-align: right;\n",
              "    }\n",
              "</style>\n",
              "<table border=\"1\" class=\"dataframe\">\n",
              "  <thead>\n",
              "    <tr style=\"text-align: right;\">\n",
              "      <th></th>\n",
              "      <th>electricity</th>\n",
              "      <th>chilledwater</th>\n",
              "      <th>steam</th>\n",
              "      <th>hotwater</th>\n",
              "    </tr>\n",
              "  </thead>\n",
              "  <tbody>\n",
              "    <tr>\n",
              "      <th>0</th>\n",
              "      <td>2.304181</td>\n",
              "      <td>2.379719</td>\n",
              "      <td>1.797577</td>\n",
              "      <td>2.328951</td>\n",
              "    </tr>\n",
              "  </tbody>\n",
              "</table>\n",
              "</div>"
            ],
            "text/plain": [
              "   electricity  chilledwater     steam  hotwater\n",
              "0     2.304181      2.379719  1.797577  2.328951"
            ]
          },
          "metadata": {
            "tags": []
          }
        },
        {
          "output_type": "stream",
          "text": [
            "------------------\n",
            "Split 1 ends\n",
            "Fit model\n",
            "------------------\n"
          ],
          "name": "stdout"
        },
        {
          "output_type": "display_data",
          "data": {
            "text/html": [
              "<div>\n",
              "<style scoped>\n",
              "    .dataframe tbody tr th:only-of-type {\n",
              "        vertical-align: middle;\n",
              "    }\n",
              "\n",
              "    .dataframe tbody tr th {\n",
              "        vertical-align: top;\n",
              "    }\n",
              "\n",
              "    .dataframe thead th {\n",
              "        text-align: right;\n",
              "    }\n",
              "</style>\n",
              "<table border=\"1\" class=\"dataframe\">\n",
              "  <thead>\n",
              "    <tr style=\"text-align: right;\">\n",
              "      <th></th>\n",
              "      <th>electricity</th>\n",
              "      <th>chilledwater</th>\n",
              "      <th>steam</th>\n",
              "      <th>hotwater</th>\n",
              "    </tr>\n",
              "  </thead>\n",
              "  <tbody>\n",
              "    <tr>\n",
              "      <th>0</th>\n",
              "      <td>2.599632</td>\n",
              "      <td>2.132969</td>\n",
              "      <td>2.828656</td>\n",
              "      <td>3.710615</td>\n",
              "    </tr>\n",
              "  </tbody>\n",
              "</table>\n",
              "</div>"
            ],
            "text/plain": [
              "   electricity  chilledwater     steam  hotwater\n",
              "0     2.599632      2.132969  2.828656  3.710615"
            ]
          },
          "metadata": {
            "tags": []
          }
        },
        {
          "output_type": "stream",
          "text": [
            "------------------\n",
            "Split 2 ends\n",
            "Fit model\n",
            "------------------\n"
          ],
          "name": "stdout"
        },
        {
          "output_type": "display_data",
          "data": {
            "text/html": [
              "<div>\n",
              "<style scoped>\n",
              "    .dataframe tbody tr th:only-of-type {\n",
              "        vertical-align: middle;\n",
              "    }\n",
              "\n",
              "    .dataframe tbody tr th {\n",
              "        vertical-align: top;\n",
              "    }\n",
              "\n",
              "    .dataframe thead th {\n",
              "        text-align: right;\n",
              "    }\n",
              "</style>\n",
              "<table border=\"1\" class=\"dataframe\">\n",
              "  <thead>\n",
              "    <tr style=\"text-align: right;\">\n",
              "      <th></th>\n",
              "      <th>electricity</th>\n",
              "      <th>chilledwater</th>\n",
              "      <th>steam</th>\n",
              "      <th>hotwater</th>\n",
              "    </tr>\n",
              "  </thead>\n",
              "  <tbody>\n",
              "    <tr>\n",
              "      <th>0</th>\n",
              "      <td>2.028527</td>\n",
              "      <td>1.776352</td>\n",
              "      <td>1.880263</td>\n",
              "      <td>2.521033</td>\n",
              "    </tr>\n",
              "  </tbody>\n",
              "</table>\n",
              "</div>"
            ],
            "text/plain": [
              "   electricity  chilledwater     steam  hotwater\n",
              "0     2.028527      1.776352  1.880263  2.521033"
            ]
          },
          "metadata": {
            "tags": []
          }
        },
        {
          "output_type": "stream",
          "text": [
            "------------------\n",
            "Split 3 ends\n",
            "Fit model\n",
            "------------------\n"
          ],
          "name": "stdout"
        },
        {
          "output_type": "display_data",
          "data": {
            "text/html": [
              "<div>\n",
              "<style scoped>\n",
              "    .dataframe tbody tr th:only-of-type {\n",
              "        vertical-align: middle;\n",
              "    }\n",
              "\n",
              "    .dataframe tbody tr th {\n",
              "        vertical-align: top;\n",
              "    }\n",
              "\n",
              "    .dataframe thead th {\n",
              "        text-align: right;\n",
              "    }\n",
              "</style>\n",
              "<table border=\"1\" class=\"dataframe\">\n",
              "  <thead>\n",
              "    <tr style=\"text-align: right;\">\n",
              "      <th></th>\n",
              "      <th>electricity</th>\n",
              "      <th>chilledwater</th>\n",
              "      <th>steam</th>\n",
              "      <th>hotwater</th>\n",
              "    </tr>\n",
              "  </thead>\n",
              "  <tbody>\n",
              "    <tr>\n",
              "      <th>0</th>\n",
              "      <td>2.009402</td>\n",
              "      <td>2.622496</td>\n",
              "      <td>2.608724</td>\n",
              "      <td>3.226829</td>\n",
              "    </tr>\n",
              "  </tbody>\n",
              "</table>\n",
              "</div>"
            ],
            "text/plain": [
              "   electricity  chilledwater     steam  hotwater\n",
              "0     2.009402      2.622496  2.608724  3.226829"
            ]
          },
          "metadata": {
            "tags": []
          }
        },
        {
          "output_type": "stream",
          "text": [
            "------------------\n",
            "Split 4 ends\n",
            "Fit model\n",
            "------------------\n"
          ],
          "name": "stdout"
        },
        {
          "output_type": "display_data",
          "data": {
            "text/html": [
              "<div>\n",
              "<style scoped>\n",
              "    .dataframe tbody tr th:only-of-type {\n",
              "        vertical-align: middle;\n",
              "    }\n",
              "\n",
              "    .dataframe tbody tr th {\n",
              "        vertical-align: top;\n",
              "    }\n",
              "\n",
              "    .dataframe thead th {\n",
              "        text-align: right;\n",
              "    }\n",
              "</style>\n",
              "<table border=\"1\" class=\"dataframe\">\n",
              "  <thead>\n",
              "    <tr style=\"text-align: right;\">\n",
              "      <th></th>\n",
              "      <th>electricity</th>\n",
              "      <th>chilledwater</th>\n",
              "      <th>steam</th>\n",
              "      <th>hotwater</th>\n",
              "    </tr>\n",
              "  </thead>\n",
              "  <tbody>\n",
              "    <tr>\n",
              "      <th>0</th>\n",
              "      <td>4.651467</td>\n",
              "      <td>4.680227</td>\n",
              "      <td>5.691514</td>\n",
              "      <td>5.159828</td>\n",
              "    </tr>\n",
              "  </tbody>\n",
              "</table>\n",
              "</div>"
            ],
            "text/plain": [
              "   electricity  chilledwater     steam  hotwater\n",
              "0     4.651467      4.680227  5.691514  5.159828"
            ]
          },
          "metadata": {
            "tags": []
          }
        },
        {
          "output_type": "stream",
          "text": [
            "------------------\n",
            "Split 5 ends\n",
            "3.0647602095538935\n",
            "--------------------\n",
            "--------------------\n",
            "Std\n",
            "--------------------\n"
          ],
          "name": "stdout"
        },
        {
          "output_type": "display_data",
          "data": {
            "text/plain": [
              "electricity     1.056716\n",
              "chilledwater    1.040793\n",
              "steam           1.433591\n",
              "hotwater        1.014290\n",
              "dtype: float64"
            ]
          },
          "metadata": {
            "tags": []
          }
        }
      ]
    },
    {
      "cell_type": "code",
      "metadata": {
        "id": "cwqxlBCAQBK1",
        "colab_type": "code",
        "outputId": "789632d0-da95-4958-bb1c-28a210706c6d",
        "colab": {
          "base_uri": "https://localhost:8080/",
          "height": 973
        }
      },
      "source": [
        "split = idx_split(train.loc[:, second_features], 0.25)\n",
        "bf = BymeterFeatures(reg, col = 'meter')\n",
        "std_second = cv(bf, split, train.loc[:, second_features], retn = False, timestamp = True) #2.261819063147373"
      ],
      "execution_count": 0,
      "outputs": [
        {
          "output_type": "stream",
          "text": [
            "Fit model\n",
            "------------------\n"
          ],
          "name": "stdout"
        },
        {
          "output_type": "display_data",
          "data": {
            "text/html": [
              "<div>\n",
              "<style scoped>\n",
              "    .dataframe tbody tr th:only-of-type {\n",
              "        vertical-align: middle;\n",
              "    }\n",
              "\n",
              "    .dataframe tbody tr th {\n",
              "        vertical-align: top;\n",
              "    }\n",
              "\n",
              "    .dataframe thead th {\n",
              "        text-align: right;\n",
              "    }\n",
              "</style>\n",
              "<table border=\"1\" class=\"dataframe\">\n",
              "  <thead>\n",
              "    <tr style=\"text-align: right;\">\n",
              "      <th></th>\n",
              "      <th>electricity</th>\n",
              "      <th>chilledwater</th>\n",
              "      <th>steam</th>\n",
              "      <th>hotwater</th>\n",
              "    </tr>\n",
              "  </thead>\n",
              "  <tbody>\n",
              "    <tr>\n",
              "      <th>0</th>\n",
              "      <td>2.045954</td>\n",
              "      <td>3.239693</td>\n",
              "      <td>2.141882</td>\n",
              "      <td>3.433662</td>\n",
              "    </tr>\n",
              "  </tbody>\n",
              "</table>\n",
              "</div>"
            ],
            "text/plain": [
              "   electricity  chilledwater     steam  hotwater\n",
              "0     2.045954      3.239693  2.141882  3.433662"
            ]
          },
          "metadata": {
            "tags": []
          }
        },
        {
          "output_type": "stream",
          "text": [
            "------------------\n",
            "Split 0 ends\n",
            "Fit model\n",
            "------------------\n"
          ],
          "name": "stdout"
        },
        {
          "output_type": "display_data",
          "data": {
            "text/html": [
              "<div>\n",
              "<style scoped>\n",
              "    .dataframe tbody tr th:only-of-type {\n",
              "        vertical-align: middle;\n",
              "    }\n",
              "\n",
              "    .dataframe tbody tr th {\n",
              "        vertical-align: top;\n",
              "    }\n",
              "\n",
              "    .dataframe thead th {\n",
              "        text-align: right;\n",
              "    }\n",
              "</style>\n",
              "<table border=\"1\" class=\"dataframe\">\n",
              "  <thead>\n",
              "    <tr style=\"text-align: right;\">\n",
              "      <th></th>\n",
              "      <th>electricity</th>\n",
              "      <th>chilledwater</th>\n",
              "      <th>steam</th>\n",
              "      <th>hotwater</th>\n",
              "    </tr>\n",
              "  </thead>\n",
              "  <tbody>\n",
              "    <tr>\n",
              "      <th>0</th>\n",
              "      <td>3.034054</td>\n",
              "      <td>2.512582</td>\n",
              "      <td>2.563148</td>\n",
              "      <td>2.135583</td>\n",
              "    </tr>\n",
              "  </tbody>\n",
              "</table>\n",
              "</div>"
            ],
            "text/plain": [
              "   electricity  chilledwater     steam  hotwater\n",
              "0     3.034054      2.512582  2.563148  2.135583"
            ]
          },
          "metadata": {
            "tags": []
          }
        },
        {
          "output_type": "stream",
          "text": [
            "------------------\n",
            "Split 1 ends\n",
            "Fit model\n",
            "------------------\n"
          ],
          "name": "stdout"
        },
        {
          "output_type": "display_data",
          "data": {
            "text/html": [
              "<div>\n",
              "<style scoped>\n",
              "    .dataframe tbody tr th:only-of-type {\n",
              "        vertical-align: middle;\n",
              "    }\n",
              "\n",
              "    .dataframe tbody tr th {\n",
              "        vertical-align: top;\n",
              "    }\n",
              "\n",
              "    .dataframe thead th {\n",
              "        text-align: right;\n",
              "    }\n",
              "</style>\n",
              "<table border=\"1\" class=\"dataframe\">\n",
              "  <thead>\n",
              "    <tr style=\"text-align: right;\">\n",
              "      <th></th>\n",
              "      <th>electricity</th>\n",
              "      <th>chilledwater</th>\n",
              "      <th>steam</th>\n",
              "      <th>hotwater</th>\n",
              "    </tr>\n",
              "  </thead>\n",
              "  <tbody>\n",
              "    <tr>\n",
              "      <th>0</th>\n",
              "      <td>3.085395</td>\n",
              "      <td>2.877291</td>\n",
              "      <td>2.554259</td>\n",
              "      <td>2.834402</td>\n",
              "    </tr>\n",
              "  </tbody>\n",
              "</table>\n",
              "</div>"
            ],
            "text/plain": [
              "   electricity  chilledwater     steam  hotwater\n",
              "0     3.085395      2.877291  2.554259  2.834402"
            ]
          },
          "metadata": {
            "tags": []
          }
        },
        {
          "output_type": "stream",
          "text": [
            "------------------\n",
            "Split 2 ends\n",
            "Fit model\n",
            "------------------\n"
          ],
          "name": "stdout"
        },
        {
          "output_type": "display_data",
          "data": {
            "text/html": [
              "<div>\n",
              "<style scoped>\n",
              "    .dataframe tbody tr th:only-of-type {\n",
              "        vertical-align: middle;\n",
              "    }\n",
              "\n",
              "    .dataframe tbody tr th {\n",
              "        vertical-align: top;\n",
              "    }\n",
              "\n",
              "    .dataframe thead th {\n",
              "        text-align: right;\n",
              "    }\n",
              "</style>\n",
              "<table border=\"1\" class=\"dataframe\">\n",
              "  <thead>\n",
              "    <tr style=\"text-align: right;\">\n",
              "      <th></th>\n",
              "      <th>electricity</th>\n",
              "      <th>chilledwater</th>\n",
              "      <th>steam</th>\n",
              "      <th>hotwater</th>\n",
              "    </tr>\n",
              "  </thead>\n",
              "  <tbody>\n",
              "    <tr>\n",
              "      <th>0</th>\n",
              "      <td>2.560386</td>\n",
              "      <td>3.218265</td>\n",
              "      <td>3.008913</td>\n",
              "      <td>2.392492</td>\n",
              "    </tr>\n",
              "  </tbody>\n",
              "</table>\n",
              "</div>"
            ],
            "text/plain": [
              "   electricity  chilledwater     steam  hotwater\n",
              "0     2.560386      3.218265  3.008913  2.392492"
            ]
          },
          "metadata": {
            "tags": []
          }
        },
        {
          "output_type": "stream",
          "text": [
            "------------------\n",
            "Split 3 ends\n",
            "Fit model\n",
            "------------------\n"
          ],
          "name": "stdout"
        },
        {
          "output_type": "display_data",
          "data": {
            "text/html": [
              "<div>\n",
              "<style scoped>\n",
              "    .dataframe tbody tr th:only-of-type {\n",
              "        vertical-align: middle;\n",
              "    }\n",
              "\n",
              "    .dataframe tbody tr th {\n",
              "        vertical-align: top;\n",
              "    }\n",
              "\n",
              "    .dataframe thead th {\n",
              "        text-align: right;\n",
              "    }\n",
              "</style>\n",
              "<table border=\"1\" class=\"dataframe\">\n",
              "  <thead>\n",
              "    <tr style=\"text-align: right;\">\n",
              "      <th></th>\n",
              "      <th>electricity</th>\n",
              "      <th>chilledwater</th>\n",
              "      <th>steam</th>\n",
              "      <th>hotwater</th>\n",
              "    </tr>\n",
              "  </thead>\n",
              "  <tbody>\n",
              "    <tr>\n",
              "      <th>0</th>\n",
              "      <td>2.905223</td>\n",
              "      <td>2.547715</td>\n",
              "      <td>3.09233</td>\n",
              "      <td>2.578535</td>\n",
              "    </tr>\n",
              "  </tbody>\n",
              "</table>\n",
              "</div>"
            ],
            "text/plain": [
              "   electricity  chilledwater    steam  hotwater\n",
              "0     2.905223      2.547715  3.09233  2.578535"
            ]
          },
          "metadata": {
            "tags": []
          }
        },
        {
          "output_type": "stream",
          "text": [
            "------------------\n",
            "Split 4 ends\n",
            "Fit model\n",
            "------------------\n"
          ],
          "name": "stdout"
        },
        {
          "output_type": "display_data",
          "data": {
            "text/html": [
              "<div>\n",
              "<style scoped>\n",
              "    .dataframe tbody tr th:only-of-type {\n",
              "        vertical-align: middle;\n",
              "    }\n",
              "\n",
              "    .dataframe tbody tr th {\n",
              "        vertical-align: top;\n",
              "    }\n",
              "\n",
              "    .dataframe thead th {\n",
              "        text-align: right;\n",
              "    }\n",
              "</style>\n",
              "<table border=\"1\" class=\"dataframe\">\n",
              "  <thead>\n",
              "    <tr style=\"text-align: right;\">\n",
              "      <th></th>\n",
              "      <th>electricity</th>\n",
              "      <th>chilledwater</th>\n",
              "      <th>steam</th>\n",
              "      <th>hotwater</th>\n",
              "    </tr>\n",
              "  </thead>\n",
              "  <tbody>\n",
              "    <tr>\n",
              "      <th>0</th>\n",
              "      <td>3.969973</td>\n",
              "      <td>4.170456</td>\n",
              "      <td>2.66791</td>\n",
              "      <td>3.666288</td>\n",
              "    </tr>\n",
              "  </tbody>\n",
              "</table>\n",
              "</div>"
            ],
            "text/plain": [
              "   electricity  chilledwater    steam  hotwater\n",
              "0     3.969973      4.170456  2.66791  3.666288"
            ]
          },
          "metadata": {
            "tags": []
          }
        },
        {
          "output_type": "stream",
          "text": [
            "------------------\n",
            "Split 5 ends\n",
            "3.004071086853745\n",
            "--------------------\n",
            "--------------------\n",
            "Std\n",
            "--------------------\n"
          ],
          "name": "stdout"
        },
        {
          "output_type": "display_data",
          "data": {
            "text/plain": [
              "electricity     0.637999\n",
              "chilledwater    0.613003\n",
              "steam           0.345525\n",
              "hotwater        0.600008\n",
              "dtype: float64"
            ]
          },
          "metadata": {
            "tags": []
          }
        }
      ]
    },
    {
      "cell_type": "code",
      "metadata": {
        "id": "dTc_mFBBI1Pt",
        "colab_type": "code",
        "outputId": "9be4f21c-5667-4a49-e8c7-29066980c384",
        "colab": {
          "base_uri": "https://localhost:8080/",
          "height": 973
        }
      },
      "source": [
        "split = idx_split(train, 0.25)\n",
        "bf = BymeterFeatures(reg, col = 'meter')\n",
        "std_all = cv(bf, split, train, retn = False, timestamp = True) #2.2038673333021497"
      ],
      "execution_count": 0,
      "outputs": [
        {
          "output_type": "stream",
          "text": [
            "Fit model\n",
            "------------------\n"
          ],
          "name": "stdout"
        },
        {
          "output_type": "display_data",
          "data": {
            "text/html": [
              "<div>\n",
              "<style scoped>\n",
              "    .dataframe tbody tr th:only-of-type {\n",
              "        vertical-align: middle;\n",
              "    }\n",
              "\n",
              "    .dataframe tbody tr th {\n",
              "        vertical-align: top;\n",
              "    }\n",
              "\n",
              "    .dataframe thead th {\n",
              "        text-align: right;\n",
              "    }\n",
              "</style>\n",
              "<table border=\"1\" class=\"dataframe\">\n",
              "  <thead>\n",
              "    <tr style=\"text-align: right;\">\n",
              "      <th></th>\n",
              "      <th>electricity</th>\n",
              "      <th>chilledwater</th>\n",
              "      <th>steam</th>\n",
              "      <th>hotwater</th>\n",
              "    </tr>\n",
              "  </thead>\n",
              "  <tbody>\n",
              "    <tr>\n",
              "      <th>0</th>\n",
              "      <td>1.738011</td>\n",
              "      <td>2.366385</td>\n",
              "      <td>1.706364</td>\n",
              "      <td>3.149326</td>\n",
              "    </tr>\n",
              "  </tbody>\n",
              "</table>\n",
              "</div>"
            ],
            "text/plain": [
              "   electricity  chilledwater     steam  hotwater\n",
              "0     1.738011      2.366385  1.706364  3.149326"
            ]
          },
          "metadata": {
            "tags": []
          }
        },
        {
          "output_type": "stream",
          "text": [
            "------------------\n",
            "Split 0 ends\n",
            "Fit model\n",
            "------------------\n"
          ],
          "name": "stdout"
        },
        {
          "output_type": "display_data",
          "data": {
            "text/html": [
              "<div>\n",
              "<style scoped>\n",
              "    .dataframe tbody tr th:only-of-type {\n",
              "        vertical-align: middle;\n",
              "    }\n",
              "\n",
              "    .dataframe tbody tr th {\n",
              "        vertical-align: top;\n",
              "    }\n",
              "\n",
              "    .dataframe thead th {\n",
              "        text-align: right;\n",
              "    }\n",
              "</style>\n",
              "<table border=\"1\" class=\"dataframe\">\n",
              "  <thead>\n",
              "    <tr style=\"text-align: right;\">\n",
              "      <th></th>\n",
              "      <th>electricity</th>\n",
              "      <th>chilledwater</th>\n",
              "      <th>steam</th>\n",
              "      <th>hotwater</th>\n",
              "    </tr>\n",
              "  </thead>\n",
              "  <tbody>\n",
              "    <tr>\n",
              "      <th>0</th>\n",
              "      <td>2.823413</td>\n",
              "      <td>2.059671</td>\n",
              "      <td>2.022083</td>\n",
              "      <td>1.417517</td>\n",
              "    </tr>\n",
              "  </tbody>\n",
              "</table>\n",
              "</div>"
            ],
            "text/plain": [
              "   electricity  chilledwater     steam  hotwater\n",
              "0     2.823413      2.059671  2.022083  1.417517"
            ]
          },
          "metadata": {
            "tags": []
          }
        },
        {
          "output_type": "stream",
          "text": [
            "------------------\n",
            "Split 1 ends\n",
            "Fit model\n",
            "------------------\n"
          ],
          "name": "stdout"
        },
        {
          "output_type": "display_data",
          "data": {
            "text/html": [
              "<div>\n",
              "<style scoped>\n",
              "    .dataframe tbody tr th:only-of-type {\n",
              "        vertical-align: middle;\n",
              "    }\n",
              "\n",
              "    .dataframe tbody tr th {\n",
              "        vertical-align: top;\n",
              "    }\n",
              "\n",
              "    .dataframe thead th {\n",
              "        text-align: right;\n",
              "    }\n",
              "</style>\n",
              "<table border=\"1\" class=\"dataframe\">\n",
              "  <thead>\n",
              "    <tr style=\"text-align: right;\">\n",
              "      <th></th>\n",
              "      <th>electricity</th>\n",
              "      <th>chilledwater</th>\n",
              "      <th>steam</th>\n",
              "      <th>hotwater</th>\n",
              "    </tr>\n",
              "  </thead>\n",
              "  <tbody>\n",
              "    <tr>\n",
              "      <th>0</th>\n",
              "      <td>2.831199</td>\n",
              "      <td>2.343847</td>\n",
              "      <td>2.452352</td>\n",
              "      <td>1.717445</td>\n",
              "    </tr>\n",
              "  </tbody>\n",
              "</table>\n",
              "</div>"
            ],
            "text/plain": [
              "   electricity  chilledwater     steam  hotwater\n",
              "0     2.831199      2.343847  2.452352  1.717445"
            ]
          },
          "metadata": {
            "tags": []
          }
        },
        {
          "output_type": "stream",
          "text": [
            "------------------\n",
            "Split 2 ends\n",
            "Fit model\n",
            "------------------\n"
          ],
          "name": "stdout"
        },
        {
          "output_type": "display_data",
          "data": {
            "text/html": [
              "<div>\n",
              "<style scoped>\n",
              "    .dataframe tbody tr th:only-of-type {\n",
              "        vertical-align: middle;\n",
              "    }\n",
              "\n",
              "    .dataframe tbody tr th {\n",
              "        vertical-align: top;\n",
              "    }\n",
              "\n",
              "    .dataframe thead th {\n",
              "        text-align: right;\n",
              "    }\n",
              "</style>\n",
              "<table border=\"1\" class=\"dataframe\">\n",
              "  <thead>\n",
              "    <tr style=\"text-align: right;\">\n",
              "      <th></th>\n",
              "      <th>electricity</th>\n",
              "      <th>chilledwater</th>\n",
              "      <th>steam</th>\n",
              "      <th>hotwater</th>\n",
              "    </tr>\n",
              "  </thead>\n",
              "  <tbody>\n",
              "    <tr>\n",
              "      <th>0</th>\n",
              "      <td>2.535967</td>\n",
              "      <td>2.808917</td>\n",
              "      <td>2.285701</td>\n",
              "      <td>1.889036</td>\n",
              "    </tr>\n",
              "  </tbody>\n",
              "</table>\n",
              "</div>"
            ],
            "text/plain": [
              "   electricity  chilledwater     steam  hotwater\n",
              "0     2.535967      2.808917  2.285701  1.889036"
            ]
          },
          "metadata": {
            "tags": []
          }
        },
        {
          "output_type": "stream",
          "text": [
            "------------------\n",
            "Split 3 ends\n",
            "Fit model\n",
            "------------------\n"
          ],
          "name": "stdout"
        },
        {
          "output_type": "display_data",
          "data": {
            "text/html": [
              "<div>\n",
              "<style scoped>\n",
              "    .dataframe tbody tr th:only-of-type {\n",
              "        vertical-align: middle;\n",
              "    }\n",
              "\n",
              "    .dataframe tbody tr th {\n",
              "        vertical-align: top;\n",
              "    }\n",
              "\n",
              "    .dataframe thead th {\n",
              "        text-align: right;\n",
              "    }\n",
              "</style>\n",
              "<table border=\"1\" class=\"dataframe\">\n",
              "  <thead>\n",
              "    <tr style=\"text-align: right;\">\n",
              "      <th></th>\n",
              "      <th>electricity</th>\n",
              "      <th>chilledwater</th>\n",
              "      <th>steam</th>\n",
              "      <th>hotwater</th>\n",
              "    </tr>\n",
              "  </thead>\n",
              "  <tbody>\n",
              "    <tr>\n",
              "      <th>0</th>\n",
              "      <td>2.206409</td>\n",
              "      <td>2.159489</td>\n",
              "      <td>2.835861</td>\n",
              "      <td>1.64254</td>\n",
              "    </tr>\n",
              "  </tbody>\n",
              "</table>\n",
              "</div>"
            ],
            "text/plain": [
              "   electricity  chilledwater     steam  hotwater\n",
              "0     2.206409      2.159489  2.835861   1.64254"
            ]
          },
          "metadata": {
            "tags": []
          }
        },
        {
          "output_type": "stream",
          "text": [
            "------------------\n",
            "Split 4 ends\n",
            "Fit model\n",
            "------------------\n"
          ],
          "name": "stdout"
        },
        {
          "output_type": "display_data",
          "data": {
            "text/html": [
              "<div>\n",
              "<style scoped>\n",
              "    .dataframe tbody tr th:only-of-type {\n",
              "        vertical-align: middle;\n",
              "    }\n",
              "\n",
              "    .dataframe tbody tr th {\n",
              "        vertical-align: top;\n",
              "    }\n",
              "\n",
              "    .dataframe thead th {\n",
              "        text-align: right;\n",
              "    }\n",
              "</style>\n",
              "<table border=\"1\" class=\"dataframe\">\n",
              "  <thead>\n",
              "    <tr style=\"text-align: right;\">\n",
              "      <th></th>\n",
              "      <th>electricity</th>\n",
              "      <th>chilledwater</th>\n",
              "      <th>steam</th>\n",
              "      <th>hotwater</th>\n",
              "    </tr>\n",
              "  </thead>\n",
              "  <tbody>\n",
              "    <tr>\n",
              "      <th>0</th>\n",
              "      <td>3.19993</td>\n",
              "      <td>2.884128</td>\n",
              "      <td>1.566808</td>\n",
              "      <td>2.608987</td>\n",
              "    </tr>\n",
              "  </tbody>\n",
              "</table>\n",
              "</div>"
            ],
            "text/plain": [
              "   electricity  chilledwater     steam  hotwater\n",
              "0      3.19993      2.884128  1.566808  2.608987"
            ]
          },
          "metadata": {
            "tags": []
          }
        },
        {
          "output_type": "stream",
          "text": [
            "------------------\n",
            "Split 5 ends\n",
            "2.4616280892065294\n",
            "--------------------\n",
            "--------------------\n",
            "Std\n",
            "--------------------\n"
          ],
          "name": "stdout"
        },
        {
          "output_type": "display_data",
          "data": {
            "text/plain": [
              "electricity     0.520310\n",
              "chilledwater    0.338024\n",
              "steam           0.476102\n",
              "hotwater        0.666475\n",
              "dtype: float64"
            ]
          },
          "metadata": {
            "tags": []
          }
        }
      ]
    },
    {
      "cell_type": "code",
      "metadata": {
        "id": "R1YwRgsxo7Tk",
        "colab_type": "code",
        "outputId": "cf818509-e072-421f-977a-1624b83ae877",
        "colab": {
          "base_uri": "https://localhost:8080/",
          "height": 173
        }
      },
      "source": [
        "#withot timestamp\n",
        "stddf = pd.concat([std_prim, std_second, std_third, std_all], axis = 1)\n",
        "stddf.columns = ['Primary', 'Second', 'Third', 'All']\n",
        "stddf"
      ],
      "execution_count": 0,
      "outputs": [
        {
          "output_type": "execute_result",
          "data": {
            "text/html": [
              "<div>\n",
              "<style scoped>\n",
              "    .dataframe tbody tr th:only-of-type {\n",
              "        vertical-align: middle;\n",
              "    }\n",
              "\n",
              "    .dataframe tbody tr th {\n",
              "        vertical-align: top;\n",
              "    }\n",
              "\n",
              "    .dataframe thead th {\n",
              "        text-align: right;\n",
              "    }\n",
              "</style>\n",
              "<table border=\"1\" class=\"dataframe\">\n",
              "  <thead>\n",
              "    <tr style=\"text-align: right;\">\n",
              "      <th></th>\n",
              "      <th>Primary</th>\n",
              "      <th>Second</th>\n",
              "      <th>Third</th>\n",
              "      <th>All</th>\n",
              "    </tr>\n",
              "  </thead>\n",
              "  <tbody>\n",
              "    <tr>\n",
              "      <th>electricity</th>\n",
              "      <td>0.290356</td>\n",
              "      <td>0.593311</td>\n",
              "      <td>1.741750</td>\n",
              "      <td>0.383190</td>\n",
              "    </tr>\n",
              "    <tr>\n",
              "      <th>chilledwater</th>\n",
              "      <td>0.341031</td>\n",
              "      <td>0.716987</td>\n",
              "      <td>1.762404</td>\n",
              "      <td>0.269859</td>\n",
              "    </tr>\n",
              "    <tr>\n",
              "      <th>steam</th>\n",
              "      <td>0.782317</td>\n",
              "      <td>0.349777</td>\n",
              "      <td>1.014919</td>\n",
              "      <td>0.417800</td>\n",
              "    </tr>\n",
              "    <tr>\n",
              "      <th>hotwater</th>\n",
              "      <td>0.644882</td>\n",
              "      <td>0.685453</td>\n",
              "      <td>1.353035</td>\n",
              "      <td>0.680447</td>\n",
              "    </tr>\n",
              "  </tbody>\n",
              "</table>\n",
              "</div>"
            ],
            "text/plain": [
              "               Primary    Second     Third       All\n",
              "electricity   0.290356  0.593311  1.741750  0.383190\n",
              "chilledwater  0.341031  0.716987  1.762404  0.269859\n",
              "steam         0.782317  0.349777  1.014919  0.417800\n",
              "hotwater      0.644882  0.685453  1.353035  0.680447"
            ]
          },
          "metadata": {
            "tags": []
          },
          "execution_count": 25
        }
      ]
    },
    {
      "cell_type": "code",
      "metadata": {
        "id": "4NEN-aFIpR8p",
        "colab_type": "code",
        "outputId": "fc2ef69f-1ba6-45b9-ef94-020d328a6212",
        "colab": {
          "base_uri": "https://localhost:8080/",
          "height": 173
        }
      },
      "source": [
        "stddf_timestamp = pd.concat([std_prim, std_second, std_third, std_all], axis = 1)\n",
        "stddf_timestamp.columns = ['Primary', 'Second', 'Third', 'All']\n",
        "stddf_timestamp"
      ],
      "execution_count": 0,
      "outputs": [
        {
          "output_type": "execute_result",
          "data": {
            "text/html": [
              "<div>\n",
              "<style scoped>\n",
              "    .dataframe tbody tr th:only-of-type {\n",
              "        vertical-align: middle;\n",
              "    }\n",
              "\n",
              "    .dataframe tbody tr th {\n",
              "        vertical-align: top;\n",
              "    }\n",
              "\n",
              "    .dataframe thead th {\n",
              "        text-align: right;\n",
              "    }\n",
              "</style>\n",
              "<table border=\"1\" class=\"dataframe\">\n",
              "  <thead>\n",
              "    <tr style=\"text-align: right;\">\n",
              "      <th></th>\n",
              "      <th>Primary</th>\n",
              "      <th>Second</th>\n",
              "      <th>Third</th>\n",
              "      <th>All</th>\n",
              "    </tr>\n",
              "  </thead>\n",
              "  <tbody>\n",
              "    <tr>\n",
              "      <th>electricity</th>\n",
              "      <td>0.412707</td>\n",
              "      <td>0.637999</td>\n",
              "      <td>1.056716</td>\n",
              "      <td>0.520310</td>\n",
              "    </tr>\n",
              "    <tr>\n",
              "      <th>chilledwater</th>\n",
              "      <td>0.342535</td>\n",
              "      <td>0.613003</td>\n",
              "      <td>1.040793</td>\n",
              "      <td>0.338024</td>\n",
              "    </tr>\n",
              "    <tr>\n",
              "      <th>steam</th>\n",
              "      <td>0.601076</td>\n",
              "      <td>0.345525</td>\n",
              "      <td>1.433591</td>\n",
              "      <td>0.476102</td>\n",
              "    </tr>\n",
              "    <tr>\n",
              "      <th>hotwater</th>\n",
              "      <td>0.623339</td>\n",
              "      <td>0.600008</td>\n",
              "      <td>1.014290</td>\n",
              "      <td>0.666475</td>\n",
              "    </tr>\n",
              "  </tbody>\n",
              "</table>\n",
              "</div>"
            ],
            "text/plain": [
              "               Primary    Second     Third       All\n",
              "electricity   0.412707  0.637999  1.056716  0.520310\n",
              "chilledwater  0.342535  0.613003  1.040793  0.338024\n",
              "steam         0.601076  0.345525  1.433591  0.476102\n",
              "hotwater      0.623339  0.600008  1.014290  0.666475"
            ]
          },
          "metadata": {
            "tags": []
          },
          "execution_count": 39
        }
      ]
    },
    {
      "cell_type": "markdown",
      "metadata": {
        "id": "9mAiYXJ2W3q7",
        "colab_type": "text"
      },
      "source": [
        "primary 2.36\n",
        "\n",
        "second 3.06\n",
        "\n",
        "third 3\n",
        "\n",
        "all 2.46"
      ]
    },
    {
      "cell_type": "markdown",
      "metadata": {
        "id": "69QkHUSLVgUC",
        "colab_type": "text"
      },
      "source": [
        "Надо добавить категории"
      ]
    },
    {
      "cell_type": "markdown",
      "metadata": {
        "id": "yLFg0INj50FH",
        "colab_type": "text"
      },
      "source": [
        "get_dum crash not use memory fck"
      ]
    },
    {
      "cell_type": "code",
      "metadata": {
        "id": "xHjrbzmrV-Q_",
        "colab_type": "code",
        "colab": {}
      },
      "source": [
        "cat = ['mark_not_fill_cloud_coverage', 'mark_not_fill_dew_temperature','mark_not_fill_air_temperature','holiday',\n",
        "       'mark_not_fill_precip_depth_1_hr', 'mark_not_fill_sea_level_pressure', 'mark_not_fill_wind_direction', \n",
        "       'mark_not_fill_wind_speed']"
      ],
      "execution_count": 0,
      "outputs": []
    },
    {
      "cell_type": "code",
      "metadata": {
        "id": "Z8roMSdG5AcB",
        "colab_type": "code",
        "colab": {}
      },
      "source": [
        "cat2 = ['building_id',\n",
        "        'site_id',\n",
        "        'meter',        \n",
        "        'primary_use',        \n",
        "        'floor_count',\n",
        "        'cloud_coverage',\n",
        "        #'year_built' #need test very more val, more val  ha 117\n",
        "        ]"
      ],
      "execution_count": 0,
      "outputs": []
    },
    {
      "cell_type": "code",
      "metadata": {
        "id": "jl_gOat17lMc",
        "colab_type": "code",
        "colab": {}
      },
      "source": [
        "train.rec_air = train.rec_air.cat.codes.astype(\"category\")\n",
        "train.rec_dew = train.rec_dew.cat.codes.astype(\"category\")\n",
        "train.rec_rh = train.rec_rh.cat.codes.astype(\"category\")"
      ],
      "execution_count": 0,
      "outputs": []
    },
    {
      "cell_type": "code",
      "metadata": {
        "id": "G_qDwK335jqm",
        "colab_type": "code",
        "colab": {}
      },
      "source": [
        "cat3 = [\n",
        "        'rec_air',\n",
        "        'rec_dew',\n",
        "        'rec_rh'\n",
        "        ]"
      ],
      "execution_count": 0,
      "outputs": []
    },
    {
      "cell_type": "code",
      "metadata": {
        "id": "rSt5kHWUy80l",
        "colab_type": "code",
        "outputId": "fde93c9b-ccf3-45b1-bd63-a84d4d1d12c5",
        "colab": {
          "base_uri": "https://localhost:8080/",
          "height": 221
        }
      },
      "source": [
        "train.year_built.value_counts()"
      ],
      "execution_count": 0,
      "outputs": [
        {
          "output_type": "execute_result",
          "data": {
            "text/plain": [
              "2009    2694313\n",
              "2005    2455191\n",
              "2006     807344\n",
              "1976     566035\n",
              "2004     488043\n",
              "         ...   \n",
              "1902      20416\n",
              "1926      17566\n",
              "1937      14924\n",
              "1905       8783\n",
              "2017       8782\n",
              "Name: year_built, Length: 117, dtype: int64"
            ]
          },
          "metadata": {
            "tags": []
          },
          "execution_count": 49
        }
      ]
    },
    {
      "cell_type": "code",
      "metadata": {
        "id": "y2srUAZ0y8wF",
        "colab_type": "code",
        "colab": {}
      },
      "source": [
        "train_cat = train.copy()"
      ],
      "execution_count": 0,
      "outputs": []
    },
    {
      "cell_type": "code",
      "metadata": {
        "id": "AgruHK-q93MD",
        "colab_type": "code",
        "outputId": "74ae5106-8be6-4d26-b807-cf76fd0d314c",
        "colab": {
          "base_uri": "https://localhost:8080/",
          "height": 34
        }
      },
      "source": [
        "cat+cat2+cat3 #hhhahah"
      ],
      "execution_count": 0,
      "outputs": [
        {
          "output_type": "stream",
          "text": [
            "cat: +cat2+cat3: No such file or directory\n"
          ],
          "name": "stdout"
        }
      ]
    },
    {
      "cell_type": "code",
      "metadata": {
        "id": "rn3Ld6EVy8tq",
        "colab_type": "code",
        "colab": {}
      },
      "source": [
        "for col in cat + cat2:\n",
        "  train_cat[col] = train_cat[col].astype('category')"
      ],
      "execution_count": 0,
      "outputs": []
    },
    {
      "cell_type": "code",
      "metadata": {
        "id": "q9nxlWCc1TUM",
        "colab_type": "code",
        "outputId": "1f870fc7-3026-425d-d7e0-1814cf82abda",
        "colab": {
          "base_uri": "https://localhost:8080/",
          "height": 34
        }
      },
      "source": [
        "del train\n",
        "gc.collect()"
      ],
      "execution_count": 0,
      "outputs": [
        {
          "output_type": "execute_result",
          "data": {
            "text/plain": [
              "28"
            ]
          },
          "metadata": {
            "tags": []
          },
          "execution_count": 17
        }
      ]
    },
    {
      "cell_type": "code",
      "metadata": {
        "id": "yOnLgg7sy8rK",
        "colab_type": "code",
        "outputId": "7fa549ce-dc48-4daf-8c5f-1d6b5b74d18b",
        "colab": {
          "base_uri": "https://localhost:8080/",
          "height": 857
        }
      },
      "source": [
        "train_cat.info()"
      ],
      "execution_count": 0,
      "outputs": [
        {
          "output_type": "stream",
          "text": [
            "<class 'pandas.core.frame.DataFrame'>\n",
            "Int64Index: 18338747 entries, 103 to 20216099\n",
            "Data columns (total 45 columns):\n",
            "building_id                         category\n",
            "meter                               category\n",
            "timestamp                           int16\n",
            "meter_reading                       float32\n",
            "site_id                             category\n",
            "primary_use                         category\n",
            "square_feet                         int32\n",
            "year_built                          int16\n",
            "floor_count                         category\n",
            "air_temperature                     float32\n",
            "cloud_coverage                      category\n",
            "dew_temperature                     float32\n",
            "precip_depth_1_hr                   float32\n",
            "sea_level_pressure                  float32\n",
            "wind_direction                      float32\n",
            "wind_speed                          float32\n",
            "mark_not_fill_air_temperature       category\n",
            "mark_not_fill_cloud_coverage        category\n",
            "mark_not_fill_dew_temperature       category\n",
            "mark_not_fill_precip_depth_1_hr     category\n",
            "mark_not_fill_sea_level_pressure    category\n",
            "mark_not_fill_wind_direction        category\n",
            "mark_not_fill_wind_speed            category\n",
            "hour                                uint8\n",
            "month                               uint8\n",
            "weekday                             uint8\n",
            "dayofyear                           uint16\n",
            "weekofyear                          uint8\n",
            "quarter                             uint8\n",
            "monthday                            uint8\n",
            "holiday                             category\n",
            "rolling_back_air_temperature        float64\n",
            "rolling_forw_air_temperature        float64\n",
            "rolling_back_h_air_temperature      float64\n",
            "rolling_back_h_f_air_temperature    float64\n",
            "rolling_back_dew_temperature        float64\n",
            "rolling_forw_dew_temperature        float64\n",
            "rolling_back_h_dew_temperature      float64\n",
            "rolling_back_h_f_dew_temperature    float64\n",
            "e                                   float64\n",
            "es                                  float64\n",
            "rh                                  float64\n",
            "rec_air                             category\n",
            "rec_dew                             category\n",
            "rec_rh                              category\n",
            "dtypes: category(17), float32(7), float64(11), int16(2), int32(1), uint16(1), uint8(6)\n",
            "memory usage: 2.7 GB\n"
          ],
          "name": "stdout"
        }
      ]
    },
    {
      "cell_type": "code",
      "metadata": {
        "id": "XlXnfPs-2m5M",
        "colab_type": "code",
        "colab": {}
      },
      "source": [
        "idx_cat = np.where(train_cat.drop(['meter_reading', 'meter', 'timestamp'], axis = 'columns').dtypes == 'category')[0]"
      ],
      "execution_count": 0,
      "outputs": []
    },
    {
      "cell_type": "code",
      "metadata": {
        "id": "nHjamq03JNar",
        "colab_type": "code",
        "colab": {}
      },
      "source": [
        "X.iloc[:, idx_cat].columns.tolist()"
      ],
      "execution_count": 0,
      "outputs": []
    },
    {
      "cell_type": "code",
      "metadata": {
        "id": "bcyRywB_2m2j",
        "colab_type": "code",
        "outputId": "f4ead163-4a3a-4fc5-c198-e0b51d780fe9",
        "colab": {
          "base_uri": "https://localhost:8080/",
          "height": 139
        }
      },
      "source": [
        "X = train_cat.drop(['meter_reading'], axis = 'columns')\n",
        "y = train_cat.meter_reading\n",
        "reg = lgb.LGBMRegressor()\n",
        "reg.fit(X, y)"
      ],
      "execution_count": 0,
      "outputs": [
        {
          "output_type": "execute_result",
          "data": {
            "text/plain": [
              "LGBMRegressor(boosting_type='gbdt', class_weight=None, colsample_bytree=1.0,\n",
              "              importance_type='split', learning_rate=0.1, max_depth=-1,\n",
              "              min_child_samples=20, min_child_weight=0.001, min_split_gain=0.0,\n",
              "              n_estimators=100, n_jobs=-1, num_leaves=31, objective=None,\n",
              "              random_state=None, reg_alpha=0.0, reg_lambda=0.0, silent=True,\n",
              "              subsample=1.0, subsample_for_bin=200000, subsample_freq=0)"
            ]
          },
          "metadata": {
            "tags": []
          },
          "execution_count": 30
        }
      ]
    },
    {
      "cell_type": "code",
      "metadata": {
        "id": "e6hOrBCj2m0D",
        "colab_type": "code",
        "outputId": "6a3e36af-35d7-459c-cdee-fca97aa51836",
        "colab": {
          "base_uri": "https://localhost:8080/",
          "height": 782
        }
      },
      "source": [
        "pd.Series(reg.feature_importances_, index=X.columns).sort_values(ascending=False)"
      ],
      "execution_count": 0,
      "outputs": [
        {
          "output_type": "execute_result",
          "data": {
            "text/plain": [
              "timestamp                           346\n",
              "building_id                         315\n",
              "meter                               207\n",
              "sea_level_pressure                  204\n",
              "monthday                            201\n",
              "dew_temperature                     200\n",
              "dayofyear                           166\n",
              "rh                                  154\n",
              "hour                                143\n",
              "weekday                             120\n",
              "air_temperature                     115\n",
              "rolling_forw_dew_temperature         94\n",
              "wind_direction                       87\n",
              "rolling_back_dew_temperature         77\n",
              "rolling_back_h_air_temperature       64\n",
              "square_feet                          63\n",
              "wind_speed                           61\n",
              "cloud_coverage                       53\n",
              "rolling_back_air_temperature         52\n",
              "rolling_back_h_f_air_temperature     48\n",
              "rolling_forw_air_temperature         44\n",
              "rolling_back_h_f_dew_temperature     40\n",
              "weekofyear                           29\n",
              "rolling_back_h_dew_temperature       27\n",
              "year_built                           23\n",
              "rec_dew                              15\n",
              "e                                    14\n",
              "rec_air                               9\n",
              "site_id                               7\n",
              "precip_depth_1_hr                     7\n",
              "mark_not_fill_cloud_coverage          6\n",
              "floor_count                           5\n",
              "month                                 3\n",
              "es                                    1\n",
              "primary_use                           0\n",
              "rec_rh                                0\n",
              "mark_not_fill_air_temperature         0\n",
              "mark_not_fill_dew_temperature         0\n",
              "mark_not_fill_precip_depth_1_hr       0\n",
              "mark_not_fill_sea_level_pressure      0\n",
              "mark_not_fill_wind_direction          0\n",
              "quarter                               0\n",
              "holiday                               0\n",
              "mark_not_fill_wind_speed              0\n",
              "dtype: int64"
            ]
          },
          "metadata": {
            "tags": []
          },
          "execution_count": 31
        }
      ]
    },
    {
      "cell_type": "code",
      "metadata": {
        "id": "embqltMF2myJ",
        "colab_type": "code",
        "outputId": "19f84764-665e-4b8f-c61a-b487c6bdb853",
        "colab": {
          "base_uri": "https://localhost:8080/",
          "height": 973
        }
      },
      "source": [
        "split = idx_split(train_cat, 0.25)\n",
        "bf = BymeterFeatures(reg, col = 'meter')\n",
        "std_all = cv(bf, split, train_cat, retn = False, timestamp = True) #2.2038673333021497"
      ],
      "execution_count": 0,
      "outputs": [
        {
          "output_type": "stream",
          "text": [
            "Fit model\n",
            "------------------\n"
          ],
          "name": "stdout"
        },
        {
          "output_type": "display_data",
          "data": {
            "text/html": [
              "<div>\n",
              "<style scoped>\n",
              "    .dataframe tbody tr th:only-of-type {\n",
              "        vertical-align: middle;\n",
              "    }\n",
              "\n",
              "    .dataframe tbody tr th {\n",
              "        vertical-align: top;\n",
              "    }\n",
              "\n",
              "    .dataframe thead th {\n",
              "        text-align: right;\n",
              "    }\n",
              "</style>\n",
              "<table border=\"1\" class=\"dataframe\">\n",
              "  <thead>\n",
              "    <tr style=\"text-align: right;\">\n",
              "      <th></th>\n",
              "      <th>electricity</th>\n",
              "      <th>chilledwater</th>\n",
              "      <th>steam</th>\n",
              "      <th>hotwater</th>\n",
              "    </tr>\n",
              "  </thead>\n",
              "  <tbody>\n",
              "    <tr>\n",
              "      <th>0</th>\n",
              "      <td>2.233937</td>\n",
              "      <td>1.697282</td>\n",
              "      <td>1.848284</td>\n",
              "      <td>2.080791</td>\n",
              "    </tr>\n",
              "  </tbody>\n",
              "</table>\n",
              "</div>"
            ],
            "text/plain": [
              "   electricity  chilledwater     steam  hotwater\n",
              "0     2.233937      1.697282  1.848284  2.080791"
            ]
          },
          "metadata": {
            "tags": []
          }
        },
        {
          "output_type": "stream",
          "text": [
            "------------------\n",
            "Split 0 ends\n",
            "Fit model\n",
            "------------------\n"
          ],
          "name": "stdout"
        },
        {
          "output_type": "display_data",
          "data": {
            "text/html": [
              "<div>\n",
              "<style scoped>\n",
              "    .dataframe tbody tr th:only-of-type {\n",
              "        vertical-align: middle;\n",
              "    }\n",
              "\n",
              "    .dataframe tbody tr th {\n",
              "        vertical-align: top;\n",
              "    }\n",
              "\n",
              "    .dataframe thead th {\n",
              "        text-align: right;\n",
              "    }\n",
              "</style>\n",
              "<table border=\"1\" class=\"dataframe\">\n",
              "  <thead>\n",
              "    <tr style=\"text-align: right;\">\n",
              "      <th></th>\n",
              "      <th>electricity</th>\n",
              "      <th>chilledwater</th>\n",
              "      <th>steam</th>\n",
              "      <th>hotwater</th>\n",
              "    </tr>\n",
              "  </thead>\n",
              "  <tbody>\n",
              "    <tr>\n",
              "      <th>0</th>\n",
              "      <td>2.153517</td>\n",
              "      <td>1.602215</td>\n",
              "      <td>2.402222</td>\n",
              "      <td>1.288858</td>\n",
              "    </tr>\n",
              "  </tbody>\n",
              "</table>\n",
              "</div>"
            ],
            "text/plain": [
              "   electricity  chilledwater     steam  hotwater\n",
              "0     2.153517      1.602215  2.402222  1.288858"
            ]
          },
          "metadata": {
            "tags": []
          }
        },
        {
          "output_type": "stream",
          "text": [
            "------------------\n",
            "Split 1 ends\n",
            "Fit model\n",
            "------------------\n"
          ],
          "name": "stdout"
        },
        {
          "output_type": "display_data",
          "data": {
            "text/html": [
              "<div>\n",
              "<style scoped>\n",
              "    .dataframe tbody tr th:only-of-type {\n",
              "        vertical-align: middle;\n",
              "    }\n",
              "\n",
              "    .dataframe tbody tr th {\n",
              "        vertical-align: top;\n",
              "    }\n",
              "\n",
              "    .dataframe thead th {\n",
              "        text-align: right;\n",
              "    }\n",
              "</style>\n",
              "<table border=\"1\" class=\"dataframe\">\n",
              "  <thead>\n",
              "    <tr style=\"text-align: right;\">\n",
              "      <th></th>\n",
              "      <th>electricity</th>\n",
              "      <th>chilledwater</th>\n",
              "      <th>steam</th>\n",
              "      <th>hotwater</th>\n",
              "    </tr>\n",
              "  </thead>\n",
              "  <tbody>\n",
              "    <tr>\n",
              "      <th>0</th>\n",
              "      <td>2.480383</td>\n",
              "      <td>2.513795</td>\n",
              "      <td>1.636306</td>\n",
              "      <td>1.400175</td>\n",
              "    </tr>\n",
              "  </tbody>\n",
              "</table>\n",
              "</div>"
            ],
            "text/plain": [
              "   electricity  chilledwater     steam  hotwater\n",
              "0     2.480383      2.513795  1.636306  1.400175"
            ]
          },
          "metadata": {
            "tags": []
          }
        },
        {
          "output_type": "stream",
          "text": [
            "------------------\n",
            "Split 2 ends\n",
            "Fit model\n",
            "------------------\n"
          ],
          "name": "stdout"
        },
        {
          "output_type": "display_data",
          "data": {
            "text/html": [
              "<div>\n",
              "<style scoped>\n",
              "    .dataframe tbody tr th:only-of-type {\n",
              "        vertical-align: middle;\n",
              "    }\n",
              "\n",
              "    .dataframe tbody tr th {\n",
              "        vertical-align: top;\n",
              "    }\n",
              "\n",
              "    .dataframe thead th {\n",
              "        text-align: right;\n",
              "    }\n",
              "</style>\n",
              "<table border=\"1\" class=\"dataframe\">\n",
              "  <thead>\n",
              "    <tr style=\"text-align: right;\">\n",
              "      <th></th>\n",
              "      <th>electricity</th>\n",
              "      <th>chilledwater</th>\n",
              "      <th>steam</th>\n",
              "      <th>hotwater</th>\n",
              "    </tr>\n",
              "  </thead>\n",
              "  <tbody>\n",
              "    <tr>\n",
              "      <th>0</th>\n",
              "      <td>1.634204</td>\n",
              "      <td>2.556061</td>\n",
              "      <td>2.385132</td>\n",
              "      <td>1.571167</td>\n",
              "    </tr>\n",
              "  </tbody>\n",
              "</table>\n",
              "</div>"
            ],
            "text/plain": [
              "   electricity  chilledwater     steam  hotwater\n",
              "0     1.634204      2.556061  2.385132  1.571167"
            ]
          },
          "metadata": {
            "tags": []
          }
        },
        {
          "output_type": "stream",
          "text": [
            "------------------\n",
            "Split 3 ends\n",
            "Fit model\n",
            "------------------\n"
          ],
          "name": "stdout"
        },
        {
          "output_type": "display_data",
          "data": {
            "text/html": [
              "<div>\n",
              "<style scoped>\n",
              "    .dataframe tbody tr th:only-of-type {\n",
              "        vertical-align: middle;\n",
              "    }\n",
              "\n",
              "    .dataframe tbody tr th {\n",
              "        vertical-align: top;\n",
              "    }\n",
              "\n",
              "    .dataframe thead th {\n",
              "        text-align: right;\n",
              "    }\n",
              "</style>\n",
              "<table border=\"1\" class=\"dataframe\">\n",
              "  <thead>\n",
              "    <tr style=\"text-align: right;\">\n",
              "      <th></th>\n",
              "      <th>electricity</th>\n",
              "      <th>chilledwater</th>\n",
              "      <th>steam</th>\n",
              "      <th>hotwater</th>\n",
              "    </tr>\n",
              "  </thead>\n",
              "  <tbody>\n",
              "    <tr>\n",
              "      <th>0</th>\n",
              "      <td>2.60403</td>\n",
              "      <td>1.742074</td>\n",
              "      <td>2.546527</td>\n",
              "      <td>1.326926</td>\n",
              "    </tr>\n",
              "  </tbody>\n",
              "</table>\n",
              "</div>"
            ],
            "text/plain": [
              "   electricity  chilledwater     steam  hotwater\n",
              "0      2.60403      1.742074  2.546527  1.326926"
            ]
          },
          "metadata": {
            "tags": []
          }
        },
        {
          "output_type": "stream",
          "text": [
            "------------------\n",
            "Split 4 ends\n",
            "Fit model\n",
            "------------------\n"
          ],
          "name": "stdout"
        },
        {
          "output_type": "display_data",
          "data": {
            "text/html": [
              "<div>\n",
              "<style scoped>\n",
              "    .dataframe tbody tr th:only-of-type {\n",
              "        vertical-align: middle;\n",
              "    }\n",
              "\n",
              "    .dataframe tbody tr th {\n",
              "        vertical-align: top;\n",
              "    }\n",
              "\n",
              "    .dataframe thead th {\n",
              "        text-align: right;\n",
              "    }\n",
              "</style>\n",
              "<table border=\"1\" class=\"dataframe\">\n",
              "  <thead>\n",
              "    <tr style=\"text-align: right;\">\n",
              "      <th></th>\n",
              "      <th>electricity</th>\n",
              "      <th>chilledwater</th>\n",
              "      <th>steam</th>\n",
              "      <th>hotwater</th>\n",
              "    </tr>\n",
              "  </thead>\n",
              "  <tbody>\n",
              "    <tr>\n",
              "      <th>0</th>\n",
              "      <td>2.891473</td>\n",
              "      <td>2.555898</td>\n",
              "      <td>1.550962</td>\n",
              "      <td>2.15524</td>\n",
              "    </tr>\n",
              "  </tbody>\n",
              "</table>\n",
              "</div>"
            ],
            "text/plain": [
              "   electricity  chilledwater     steam  hotwater\n",
              "0     2.891473      2.555898  1.550962   2.15524"
            ]
          },
          "metadata": {
            "tags": []
          }
        },
        {
          "output_type": "stream",
          "text": [
            "------------------\n",
            "Split 5 ends\n",
            "2.0315993245292576\n",
            "--------------------\n",
            "--------------------\n",
            "Std\n",
            "--------------------\n"
          ],
          "name": "stdout"
        },
        {
          "output_type": "display_data",
          "data": {
            "text/plain": [
              "electricity     0.432993\n",
              "chilledwater    0.474213\n",
              "steam           0.434277\n",
              "hotwater        0.385562\n",
              "dtype: float64"
            ]
          },
          "metadata": {
            "tags": []
          }
        }
      ]
    },
    {
      "cell_type": "code",
      "metadata": {
        "id": "3hbEndFVY-T6",
        "colab_type": "code",
        "colab": {}
      },
      "source": [
        "drop = ['es',\n",
        "        'month', \n",
        "        'e',\n",
        "        #'wind_speed',\n",
        "        'monthday',\n",
        "        'precip_depth_1_hr', \n",
        "        'weekofyear',\n",
        "        #'wind_direction',\n",
        "        #'rec_rh',\n",
        "        #'mark_not_fill_dew_temperature',\n",
        "        #'mark_not_fill_wind_speed',\n",
        "        #'mark_not_fill_air_temperature',\n",
        "        'quarter',\n",
        "        'mark_not_fill_wind_direction',\n",
        "        'mark_not_fill_cloud_coverage',\n",
        "        'mark_not_fill_dew_temperature',\n",
        "        'mark_not_fill_air_temperature',\n",
        "        'mark_not_fill_precip_depth_1_hr',\n",
        "        'mark_not_fill_sea_level_pressure', \n",
        "        'mark_not_fill_wind_direction', \n",
        "        'mark_not_fill_wind_speed',\n",
        "        'rolling_back_air_temperature',\n",
        "        #'rolling_forw_air_temperature',\n",
        "        'rolling_back_h_air_temperature',\n",
        "        'rolling_back_h_f_air_temperature',\n",
        "        'rolling_back_dew_temperature',\n",
        "        'rolling_forw_dew_temperature',\n",
        "        'rolling_back_h_dew_temperature',\n",
        "        'rolling_back_h_f_dew_temperature',\n",
        "        'holiday',\n",
        "        #'weekday',\n",
        "        #'rec_air',\n",
        "        #'rec_rh',\n",
        "        'rec_dew'\n",
        "        ]\n",
        "\n",
        "\"\"\"\n",
        "2.0020495952389212\n",
        "Std\n",
        "--------------------\n",
        "electricity     0.410512\n",
        "chilledwater    0.491564\n",
        "steam           0.583856\n",
        "hotwater        0.387296\n",
        "\n",
        "++++++'rec_dew'\n",
        "\n",
        "2.0029415027997133\n",
        "--------------------\n",
        "--------------------\n",
        "Std\n",
        "--------------------\n",
        "electricity     0.409569\n",
        "chilledwater    0.491074\n",
        "steam           0.584691\n",
        "hotwater        0.384886\n",
        "\n",
        "\"\"\"\n",
        "train_cat_drop = train_cat.drop(drop, axis = 'columns')"
      ],
      "execution_count": 0,
      "outputs": []
    },
    {
      "cell_type": "code",
      "metadata": {
        "id": "TRUUMaOf1_9F",
        "colab_type": "code",
        "outputId": "24b91073-acf9-4804-9a4f-2626551edb2f",
        "colab": {
          "base_uri": "https://localhost:8080/",
          "height": 34
        }
      },
      "source": [
        "del train_cat\n",
        "gc.collect()"
      ],
      "execution_count": 0,
      "outputs": [
        {
          "output_type": "execute_result",
          "data": {
            "text/plain": [
              "84"
            ]
          },
          "metadata": {
            "tags": []
          },
          "execution_count": 22
        }
      ]
    },
    {
      "cell_type": "code",
      "metadata": {
        "id": "RWuKyta41krH",
        "colab_type": "code",
        "colab": {}
      },
      "source": [
        "droplist = train_cat_drop.columns"
      ],
      "execution_count": 0,
      "outputs": []
    },
    {
      "cell_type": "code",
      "metadata": {
        "id": "VMkIZMA23E7R",
        "colab_type": "code",
        "outputId": "c3f5b01c-9ad2-4633-f7a8-2b6d46fa9e6f",
        "colab": {
          "base_uri": "https://localhost:8080/",
          "height": 101
        }
      },
      "source": [
        "droplist.drop(['meter', 'timestamp', 'meter_reading'])"
      ],
      "execution_count": 0,
      "outputs": [
        {
          "output_type": "execute_result",
          "data": {
            "text/plain": [
              "Index(['building_id', 'site_id', 'primary_use', 'square_feet', 'year_built',\n",
              "       'floor_count', 'air_temperature', 'cloud_coverage', 'dew_temperature',\n",
              "       'sea_level_pressure', 'wind_direction', 'wind_speed', 'hour', 'weekday',\n",
              "       'dayofyear', 'rolling_forw_air_temperature', 'rh', 'rec_air', 'rec_rh'],\n",
              "      dtype='object')"
            ]
          },
          "metadata": {
            "tags": []
          },
          "execution_count": 32
        }
      ]
    },
    {
      "cell_type": "code",
      "metadata": {
        "colab_type": "code",
        "id": "HNI62CSmGs9x",
        "colab": {}
      },
      "source": [
        "reg = lgb.LGBMRegressor()\n",
        "#split = idx_split(train_cat_drop, 0.25)\n",
        "bf = BymeterFeatures(reg, col = 'meter')\n",
        "#std_all = cv(bf, split, train_cat_drop, retn = False, timestamp = True) #2.2038673333021497"
      ],
      "execution_count": 0,
      "outputs": []
    },
    {
      "cell_type": "markdown",
      "metadata": {
        "id": "dLGa_Xjog9Q3",
        "colab_type": "text"
      },
      "source": [
        "##---"
      ]
    },
    {
      "cell_type": "code",
      "metadata": {
        "id": "3yIwkRoU8Clv",
        "colab_type": "code",
        "colab": {}
      },
      "source": [
        "def his_name_rnd_features(df, droplist, frac = .10):\n",
        "  \"\"\"\n",
        "  я хачу рандомно брать признак(и количество признаков) из списка и дропать\n",
        "  результат в дик\n",
        "  dict[feture+ feature2] .... = cost\n",
        "\n",
        "  df = data with cat\n",
        "  droplist = list features you droped\n",
        "\"\"\"\n",
        "\n",
        "  temp_features =  []\n",
        "  temp = {}\n",
        "  for _ in range(len(droplist) *2):  \n",
        "    droped = np.random.choice(droplist, int(len(droplist) * frac), replace=False)\n",
        "    temp_features.append(droped)\n",
        "\n",
        "  for f in np.asarray(temp_features):\n",
        "    data = df.copy()\n",
        "    print(data.shape)  \n",
        "    data.drop(f, axis = 'columns', inplace=True)  \n",
        "    print(data.shape, f)\n",
        "    name = '---'.join(f)\n",
        "    split = idx_split(data, 0.1)  \n",
        "    cost = cv(bf, split, data, retn = True, timestamp = True, std=False, verbose=False)\n",
        "    #func return cost after droped col\n",
        "    del data\n",
        "    gc.collect()\n",
        "    temp[name] = cost\n",
        "    print(f'Ends loop , cost {cost}')\n",
        "  return temp"
      ],
      "execution_count": 0,
      "outputs": []
    },
    {
      "cell_type": "code",
      "metadata": {
        "id": "4jft3Cur-9Gl",
        "colab_type": "code",
        "colab": {}
      },
      "source": [
        "drop = ['es',\n",
        "        'month', \n",
        "        'e',\n",
        "        'wind_speed',\n",
        "        'monthday',\n",
        "        'precip_depth_1_hr', \n",
        "        'weekofyear',\n",
        "        'wind_direction',\n",
        "        'rec_rh',\n",
        "        'mark_not_fill_dew_temperature',\n",
        "        'mark_not_fill_wind_speed',\n",
        "        'mark_not_fill_air_temperature',\n",
        "        'quarter',\n",
        "        'mark_not_fill_wind_direction',\n",
        "        'mark_not_fill_cloud_coverage',\n",
        "        'mark_not_fill_dew_temperature',\n",
        "        'mark_not_fill_air_temperature',\n",
        "        'mark_not_fill_precip_depth_1_hr',\n",
        "        'mark_not_fill_sea_level_pressure', \n",
        "        'mark_not_fill_wind_direction', \n",
        "        'mark_not_fill_wind_speed',\n",
        "        'rolling_back_air_temperature',\n",
        "        'rolling_forw_air_temperature',\n",
        "        'rolling_back_h_air_temperature',\n",
        "        'rolling_back_h_f_air_temperature',\n",
        "        'rolling_back_dew_temperature',\n",
        "        'rolling_forw_dew_temperature',\n",
        "        'rolling_back_h_dew_temperature',\n",
        "        'rolling_back_h_f_dew_temperature',\n",
        "        'holiday',\n",
        "        'weekday',\n",
        "        'rec_air',\n",
        "        'rec_rh',\n",
        "        'rec_dew'\n",
        "        ]"
      ],
      "execution_count": 0,
      "outputs": []
    },
    {
      "cell_type": "code",
      "metadata": {
        "id": "gv7RnQPQ8Cgw",
        "colab_type": "code",
        "colab": {}
      },
      "source": [
        "%%time\n",
        "#temp = his_name_rnd_features(train_cat_drop,\n",
        "                             droplist.drop(['meter', 'timestamp', 'meter_reading']),\n",
        "                             .50)"
      ],
      "execution_count": 0,
      "outputs": []
    },
    {
      "cell_type": "code",
      "metadata": {
        "id": "UanLkjkdQayX",
        "colab_type": "code",
        "colab": {}
      },
      "source": [
        "#pd.Series(temp).to_csv(path + 'droped_fetures_by_2.csv') # first try\n",
        "#pd.Series(temp).to_csv(path + 'droped_fetures_by_2_1.csv')\n",
        "#pd.Series(temp).to_csv(path + 'droped_fetures_by_3.csv')\n",
        "#pd.Series(temp).to_csv(path + 'droped_fetures_by_4.csv')\n",
        "#pd.Series(temp).to_csv(path + 'droped_fetures_by_5.csv')\n",
        "#pd.Series(temp).to_csv(path + 'droped_fetures_by_6.csv')"
      ],
      "execution_count": 0,
      "outputs": []
    },
    {
      "cell_type": "markdown",
      "metadata": {
        "id": "-4fdnIx6cN7v",
        "colab_type": "text"
      },
      "source": [
        "1. оставить которые я выше отобрал и изних дропать\n",
        "2. у величиваем количество (.20 -<4>-, .30 -<7> .40 -<9>- .50 -<12>- .70 -<16>-\n",
        "3. объединим и опять пойдем\n",
        "\n",
        "\n",
        "in Table_features.ipynb [Tables](https://colab.research.google.com/drive/1uQVuim4D6smFqnd2NddwQOk9pd6qCWI_#scrollTo=_kyzXHjVlFue)\n",
        "\n"
      ]
    }
  ]
}